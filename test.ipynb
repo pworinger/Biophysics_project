{
 "cells": [
  {
   "cell_type": "code",
   "execution_count": 1,
   "metadata": {},
   "outputs": [],
   "source": [
    "from model import Model\n",
    "\n",
    "temp = Model()\n",
    "m = Model(perturbed_gene=temp.graph.node['SWI5']['index'])\n",
    "del temp"
   ]
  },
  {
   "cell_type": "code",
   "execution_count": 6,
   "metadata": {},
   "outputs": [],
   "source": [
    "sum_ = m.alpha.T @ (m.y - 1) + m.y * (m.beta.T @ m.y) - m.beta.T @ np.ones(len(m.y))"
   ]
  },
  {
   "cell_type": "code",
   "execution_count": 12,
   "metadata": {},
   "outputs": [
    {
     "output_type": "execute_result",
     "data": {
      "text/plain": [
       "4362"
      ]
     },
     "metadata": {},
     "execution_count": 12
    }
   ],
   "source": [
    "np.argmax(m.y)"
   ]
  },
  {
   "cell_type": "code",
   "execution_count": 24,
   "metadata": {},
   "outputs": [
    {
     "output_type": "execute_result",
     "data": {
      "text/plain": [
       "matrix([[2.91034949e-06]])"
      ]
     },
     "metadata": {},
     "execution_count": 24
    }
   ],
   "source": [
    "test = m.alpha[:,4362].todense()\n",
    "max(test)"
   ]
  },
  {
   "cell_type": "code",
   "execution_count": 14,
   "metadata": {},
   "outputs": [
    {
     "output_type": "execute_result",
     "data": {
      "text/plain": [
       "0.0"
      ]
     },
     "metadata": {},
     "execution_count": 14
    }
   ],
   "source": [
    "max(m.alpha.T @ (m.y - 1))"
   ]
  },
  {
   "cell_type": "code",
   "execution_count": null,
   "metadata": {},
   "outputs": [],
   "source": []
  },
  {
   "cell_type": "code",
   "execution_count": null,
   "metadata": {},
   "outputs": [],
   "source": [
    "print(model.alpha)"
   ]
  },
  {
   "cell_type": "code",
   "execution_count": 27,
   "metadata": {},
   "outputs": [
    {
     "name": "stdout",
     "output_type": "stream",
     "text": [
      "-6.96347005769e-05\n"
     ]
    }
   ],
   "source": [
    "print(model.alpha[0,350]) # this corresponds to the edge going from node zero to node 350"
   ]
  },
  {
   "cell_type": "code",
   "execution_count": 13,
   "metadata": {},
   "outputs": [],
   "source": [
    "import numpy as np\n",
    "prout = np.array([0,1,2,3])"
   ]
  },
  {
   "cell_type": "code",
   "execution_count": 39,
   "metadata": {},
   "outputs": [
    {
     "data": {
      "text/plain": [
       "array([[1.],\n",
       "       [1.],\n",
       "       [1.]])"
      ]
     },
     "execution_count": 39,
     "metadata": {},
     "output_type": "execute_result"
    }
   ],
   "source": [
    "np.ones((1,3)).T"
   ]
  },
  {
   "cell_type": "code",
   "execution_count": 51,
   "metadata": {},
   "outputs": [
    {
     "data": {
      "text/plain": [
       "array([[3.]])"
      ]
     },
     "execution_count": 51,
     "metadata": {},
     "output_type": "execute_result"
    }
   ],
   "source": [
    "np.ones((1,3)) @ np.ones((1,3)).T"
   ]
  },
  {
   "cell_type": "code",
   "execution_count": 42,
   "metadata": {},
   "outputs": [
    {
     "ename": "SyntaxError",
     "evalue": "invalid syntax (<ipython-input-42-a781510039f2>, line 1)",
     "output_type": "error",
     "traceback": [
      "\u001b[1;36m  File \u001b[1;32m\"<ipython-input-42-a781510039f2>\"\u001b[1;36m, line \u001b[1;32m1\u001b[0m\n\u001b[1;33m    (m.alpha[0:3,0].T).*(np.ones((1,3)).T)\u001b[0m\n\u001b[1;37m                       ^\u001b[0m\n\u001b[1;31mSyntaxError\u001b[0m\u001b[1;31m:\u001b[0m invalid syntax\n"
     ]
    }
   ],
   "source": [
    "(model.alpha[0:3,0].T).*(np.ones((1,3)).T)"
   ]
  },
  {
   "cell_type": "code",
   "execution_count": 19,
   "metadata": {},
   "outputs": [
    {
     "data": {
      "text/plain": [
       "array([0, 1, 2, 3])"
      ]
     },
     "execution_count": 19,
     "metadata": {},
     "output_type": "execute_result"
    }
   ],
   "source": [
    "prout[0:]"
   ]
  },
  {
   "cell_type": "code",
   "execution_count": 70,
   "metadata": {},
   "outputs": [
    {
     "data": {
      "text/plain": [
       "(517,)"
      ]
     },
     "execution_count": 70,
     "metadata": {},
     "output_type": "execute_result"
    }
   ],
   "source": [
    "(m.alpha.T @ m.y).shape"
   ]
  },
  {
   "cell_type": "code",
   "execution_count": 80,
   "metadata": {},
   "outputs": [
    {
     "data": {
      "text/plain": [
       "array([5.43244561e-04, 0.00000000e+00, 1.35656340e-01, 5.14295763e-02,\n",
       "       3.06223835e-02, 5.05326990e-04, 8.76711144e-05, 8.83902467e-05,\n",
       "       6.72430575e-04, 1.09665885e-03, 0.00000000e+00, 2.82915171e-03,\n",
       "       9.93965057e-08, 1.49212600e-03, 4.63680553e-04, 1.42430101e-02,\n",
       "       3.02281817e-04, 1.44698399e-03, 9.59284502e-04, 2.19766746e-02,\n",
       "       1.72668150e+00, 4.84880768e-03, 1.83384819e-03, 2.28351138e-03,\n",
       "       0.00000000e+00, 1.22826925e-03, 0.00000000e+00, 2.26681532e-03,\n",
       "       1.74633915e-03, 2.17783019e-03, 0.00000000e+00, 0.00000000e+00,\n",
       "       6.43576366e-04, 1.62827614e-07, 3.46555916e-05, 8.93018048e-04,\n",
       "       0.00000000e+00, 2.69176049e-03, 1.10249668e-01, 0.00000000e+00,\n",
       "       0.00000000e+00, 0.00000000e+00, 7.17381288e-03, 3.72647341e-03,\n",
       "       4.42317135e-03, 0.00000000e+00, 1.48620940e-05, 6.55364591e-03,\n",
       "       9.58164103e-04, 0.00000000e+00, 1.03805320e-02, 0.00000000e+00,\n",
       "       6.72600953e-04, 2.42386232e-02, 0.00000000e+00, 5.58413388e-04,\n",
       "       2.77558157e-01, 2.15871961e-04, 2.23172538e-03, 1.94749044e-04,\n",
       "       1.40591942e-03, 1.98369658e-03, 6.08164853e-03, 5.97290725e-04,\n",
       "       5.24131745e-05, 6.28734953e-05, 1.34519549e-03, 0.00000000e+00,\n",
       "       1.14140048e-05, 0.00000000e+00, 4.85220847e-01, 2.25493157e-03,\n",
       "       0.00000000e+00, 2.17588153e-03, 1.56013337e-03, 0.00000000e+00,\n",
       "       5.21100674e-02, 2.20142392e-04, 4.63059307e-03, 1.57334137e-01,\n",
       "       8.00202200e-03, 0.00000000e+00, 2.30700537e-02, 4.37669253e-03,\n",
       "       6.21551983e-03, 1.25661232e-02, 6.49556990e-01, 8.79558116e-04,\n",
       "       3.12523562e-04, 5.80372063e-04, 1.67409217e-04, 0.00000000e+00,\n",
       "       5.94710146e-05, 2.19385866e-04, 3.06756829e-03, 7.61285094e-04,\n",
       "       3.16964333e-03, 1.87768495e-03, 1.42582262e-02, 2.09795034e-02,\n",
       "       2.71218366e-05, 2.52700823e-03, 7.70520118e-04, 1.89611156e-03,\n",
       "       1.46026524e-03, 1.48460452e-02, 1.16313659e-03, 2.83147437e-06,\n",
       "       2.12579452e-04, 5.78308807e-03, 3.85698683e-04, 1.99334832e-02,\n",
       "       4.73908419e-10, 0.00000000e+00, 0.00000000e+00, 0.00000000e+00,\n",
       "       7.67798505e-04, 8.11215115e-04, 1.44984963e-03, 6.16323256e-08,\n",
       "       2.37613368e-02, 1.76676263e-02, 3.25791790e-03, 2.66795720e-03,\n",
       "       5.60604906e-03, 7.63719773e-04, 0.00000000e+00, 4.39207743e-06,\n",
       "       4.54483091e+00, 3.48042252e-04, 6.42188367e-04, 1.88940735e-04,\n",
       "       3.12839299e-03, 6.40159517e-04, 1.65631979e-03, 1.22435424e-03,\n",
       "       1.41489404e-02, 1.71217948e-03, 0.00000000e+00, 7.60877809e-03,\n",
       "       0.00000000e+00, 9.71624275e-03, 2.05133069e-03, 0.00000000e+00,\n",
       "       6.22926069e-03, 1.59579036e-03, 6.01061907e-03, 1.29178218e-04,\n",
       "       9.76470907e-03, 8.96539330e-04, 4.89359082e-03, 2.87729207e-03,\n",
       "       3.12450476e-02, 9.06604606e-03, 5.65578754e-07, 0.00000000e+00,\n",
       "       9.11941656e-04, 1.64639846e-04, 0.00000000e+00, 5.18943468e-05,\n",
       "       4.62579963e-08, 8.95094594e-04, 4.87575219e-03, 3.82489091e-03,\n",
       "       5.11268860e-04, 2.27308926e-03, 1.91093569e-03, 6.08436006e-01,\n",
       "       1.37070681e-03, 3.12755060e-04, 9.65511695e-04, 0.00000000e+00,\n",
       "       1.21609242e-03, 7.45967333e-04, 3.29680133e-03, 6.95308173e-06,\n",
       "       1.36350899e-03, 2.00277572e-03, 1.33752570e-04, 2.14596856e-03,\n",
       "       0.00000000e+00, 1.44566848e-02, 2.98478652e-04, 1.25238421e-04,\n",
       "       4.06547345e-04, 2.73861314e-03, 6.11899865e-01, 1.14796426e-02,\n",
       "       2.59572657e-03, 3.10316292e-10, 0.00000000e+00, 6.47221946e-03,\n",
       "       1.63781085e+00, 1.70072577e-03, 5.36093209e-04, 6.06052518e-04,\n",
       "       1.19387254e-02, 0.00000000e+00, 1.93342234e-03, 1.74943682e-02,\n",
       "       1.67290471e-02, 2.48061414e-04, 3.44693422e-03, 0.00000000e+00,\n",
       "       9.94931009e-05, 2.40036773e-04, 1.90582013e-03, 6.54021515e-03,\n",
       "       1.18863479e-03, 3.42915030e-04, 4.90593477e-04, 9.60105017e-04,\n",
       "       0.00000000e+00, 1.13449115e-01, 1.30985714e-02, 4.32926425e-04,\n",
       "       2.72509517e-03, 3.98241687e-02, 1.00379625e-02, 0.00000000e+00,\n",
       "       1.25866190e-04, 7.34823464e-03, 6.29418445e-04, 1.09016799e-02,\n",
       "       1.10863583e-04, 2.16446932e-02, 9.56907382e-07, 1.06331022e-04,\n",
       "       0.00000000e+00, 0.00000000e+00, 1.04745916e-01, 1.28181462e-04,\n",
       "       1.83974757e-04, 5.55742949e-04, 4.78073234e-04, 1.21092731e-03,\n",
       "       1.73519932e-04, 3.96501631e-03, 4.90809126e-03, 6.07033732e-03,\n",
       "       3.77692600e-03, 6.58953002e-03, 2.12909079e-04, 1.02866812e-05,\n",
       "       8.28657759e-03, 5.78931695e-03, 2.47345157e-04, 3.95624939e-03,\n",
       "       3.88277229e-04, 3.24757638e-03, 7.47956126e-03, 0.00000000e+00,\n",
       "       0.00000000e+00, 1.20931414e-05, 0.00000000e+00, 1.22748742e-03,\n",
       "       2.49259628e-03, 6.61442042e-02, 8.85290173e-03, 0.00000000e+00,\n",
       "       2.04258944e-04, 8.59416157e-02, 5.21562844e-02, 7.27748978e-03,\n",
       "       0.00000000e+00, 6.72448530e-03, 5.90173656e-04, 5.35402957e-04,\n",
       "       9.53196966e-04, 3.28797505e-03, 0.00000000e+00, 4.37947463e-05,\n",
       "       2.00099817e-03, 0.00000000e+00, 1.76241047e-03, 6.83085205e-03,\n",
       "       1.79792263e-03, 3.68716032e-04, 0.00000000e+00, 1.15844838e-03,\n",
       "       7.81983448e-05, 8.47662028e-04, 5.16712171e-03, 9.35759859e-03,\n",
       "       3.11340040e-02, 5.59146982e-05, 1.69763222e-02, 1.46727276e-01,\n",
       "       1.84916868e-03, 1.22726079e-05, 1.09558242e-02, 2.80097161e-02,\n",
       "       4.30142095e-03, 1.37166797e-03, 8.74956486e-05, 6.28958433e-02,\n",
       "       8.00493581e-05, 5.54540101e-03, 1.43523854e-03, 4.34981288e-04,\n",
       "       1.05083417e+00, 1.01884753e-04, 4.45577261e+01, 1.00365759e-02,\n",
       "       1.78807916e-08, 3.34482866e-08, 2.49825268e-06, 3.17699782e-02,\n",
       "       4.74830723e-04, 1.53098019e-02, 5.11032412e+00, 8.59806672e-05,\n",
       "       1.14958283e-03, 1.12682401e-04, 1.57669889e-03, 7.57862662e-04,\n",
       "       7.00344067e-04, 9.19112579e-04, 2.27236867e+00, 8.08793970e-04,\n",
       "       0.00000000e+00, 1.68936700e-03, 4.47362547e-03, 2.05098659e-02,\n",
       "       3.72505970e-03, 1.51127373e-03, 4.37453426e-02, 1.42983922e-05,\n",
       "       1.31308625e-03, 3.66807083e-04, 0.00000000e+00, 4.86591515e-03,\n",
       "       8.17707291e-04, 0.00000000e+00, 1.01171419e-03, 1.19749039e-03,\n",
       "       2.17755008e-01, 1.03719623e-03, 5.22697742e-03, 2.54306643e-06,\n",
       "       0.00000000e+00, 1.21131733e-03, 1.18701823e-03, 1.50598825e-02,\n",
       "       9.37132133e-04, 6.88077137e-04, 3.06277358e-01, 4.52918794e-03,\n",
       "       8.18032928e-04, 2.82505293e-03, 1.59563256e-02, 7.32808108e-04,\n",
       "       8.67991266e-05, 3.21653753e-04, 1.30956758e-03, 6.41995102e-04,\n",
       "       5.50953942e-03, 4.30939363e-04, 5.54323493e-04, 1.08112851e-01,\n",
       "       0.00000000e+00, 9.13838753e-04, 1.48497711e-06, 1.08621073e-07,\n",
       "       1.15575726e-01, 1.81690291e-03, 1.25543118e-04, 5.82543716e-03,\n",
       "       0.00000000e+00, 8.16410929e-02, 2.25425661e-03, 3.76066420e-03,\n",
       "       0.00000000e+00, 1.65661071e-01, 0.00000000e+00, 0.00000000e+00,\n",
       "       3.34202621e-03, 2.28338344e-05, 8.20697456e-05, 1.93065928e-03,\n",
       "       2.86149290e-02, 1.90312092e-04, 0.00000000e+00, 4.79723224e-04,\n",
       "       0.00000000e+00, 3.37152524e-03, 2.33431293e-02, 6.66954182e-04,\n",
       "       0.00000000e+00, 0.00000000e+00, 3.54145735e-03, 2.01847084e-04,\n",
       "       1.74122484e-02, 1.17828606e-04, 2.28659800e-05, 1.46568957e+00,\n",
       "       1.72613323e-03, 0.00000000e+00, 3.86411452e-04, 1.55817734e-03,\n",
       "       2.34575976e-03, 3.19237781e-04, 9.40563543e-04, 1.63767460e-03,\n",
       "       5.77556917e-03, 9.36340927e-04, 4.63083358e-03, 7.49045509e-06,\n",
       "       1.14448547e-04, 8.23038419e-04, 4.53239336e-03, 2.58794640e-03,\n",
       "       1.51321289e-02, 4.44912246e-04, 3.69699852e-03, 7.12731706e-03,\n",
       "       1.42899079e-01, 0.00000000e+00, 2.16943968e-05, 2.18886658e-04,\n",
       "       0.00000000e+00, 1.53675284e+00, 0.00000000e+00, 4.20185705e-03,\n",
       "       3.37377547e-03, 6.62749252e-04, 1.13111711e-01, 8.24494179e-04,\n",
       "       0.00000000e+00, 3.01122067e-05, 6.11007672e-04, 1.73856537e-03,\n",
       "       2.10995958e-03, 2.71315901e-02, 1.35056759e-03, 1.37740516e-03,\n",
       "       3.28601013e-04, 2.28957750e-02, 1.18550883e-02, 1.40447507e-03,\n",
       "       3.41139869e-03, 0.00000000e+00, 8.15365208e-01, 4.41963453e-07,\n",
       "       7.00381801e-04, 3.10088456e-04, 1.66721445e-04, 2.27322201e-04,\n",
       "       5.82826947e-04, 4.35976892e-06, 8.39702400e-03, 3.22275409e-03,\n",
       "       1.90641213e-03, 0.00000000e+00, 1.54485233e-03, 0.00000000e+00,\n",
       "       4.55820162e-01, 6.08727790e-02, 2.77383249e-03, 9.43869651e-03,\n",
       "       2.60055910e-04, 2.95361642e-03, 1.72995809e-02, 4.38429340e-02,\n",
       "       1.36738585e-05, 4.75311979e-04, 1.33417385e-02, 4.10110904e-03,\n",
       "       6.58369351e-06, 2.31002216e-02, 1.01617076e-04, 1.86611381e-02,\n",
       "       0.00000000e+00, 6.04872411e-04, 3.49910692e-04, 0.00000000e+00,\n",
       "       4.90017237e-03, 0.00000000e+00, 7.03902887e-02, 1.03045036e-03,\n",
       "       8.86281963e-03, 2.82832943e-01, 4.77655974e-03, 7.02879849e-04,\n",
       "       0.00000000e+00, 0.00000000e+00, 4.65467049e-04, 2.28014737e-04,\n",
       "       5.71790486e-04, 1.34384960e-02, 2.16284462e-03, 1.34703928e-04,\n",
       "       5.70366590e-05, 1.80486609e+00, 4.32754166e-05, 0.00000000e+00,\n",
       "       0.00000000e+00, 5.80069221e-04, 1.91223586e-03, 1.97337080e-03,\n",
       "       2.26820460e-05, 6.53183128e-04, 0.00000000e+00, 0.00000000e+00,\n",
       "       3.60051876e-03, 7.10432225e-03, 6.37700104e-05, 2.78032375e-02,\n",
       "       2.13647414e-02, 1.30155726e-04, 1.24287823e-03, 2.23607641e-03,\n",
       "       2.97941762e-01, 0.00000000e+00, 1.73030400e-03, 2.12750533e-02,\n",
       "       2.84787234e-05])"
      ]
     },
     "execution_count": 80,
     "metadata": {},
     "output_type": "execute_result"
    }
   ],
   "source": [
    "(model.y * (model.beta.T @ (model.y - 1))) / model.y "
   ]
  },
  {
   "cell_type": "code",
   "execution_count": 95,
   "metadata": {},
   "outputs": [],
   "source": [
    "import math\n",
    "def evolve(model, dt):\n",
    "  # want to multiply all edges going to zero with y\n",
    "  # those edges correspond to alpha[:,0]\n",
    "  # therefor we can transpose alpha and multiply it with y\n",
    "  sum_ = model.alpha.T @ (model.y - 1) + model.y * (model.beta.T @ model.y) - model.beta.T @ np.ones(len(model.y))\n",
    "  print(sum_.shape)\n",
    "  # model.y = math.exp( dt*sum_/model.y) * model.y\n",
    "  return np.exp( dt*sum_/model.y) * model.y\n"
   ]
  },
  {
   "cell_type": "code",
   "execution_count": 2,
   "metadata": {},
   "outputs": [],
   "source": [
    "import math\n",
    "import numpy as np\n",
    "def evolve(model, dt):\n",
    "  temp = np.copy(model.y)\n",
    "  for i in range(len(model.y)):\n",
    "    sum_ = sum(model.alpha[:,i].T*(temp-1) + model.beta[:,i].T*(temp[i]*temp-1))\n",
    "    model.y[i] = np.exp(dt*sum_/temp[i] + math.log(temp[i]))"
   ]
  },
  {
   "cell_type": "code",
   "execution_count": 3,
   "metadata": {},
   "outputs": [],
   "source": [
    "evolve(model, 10)"
   ]
  },
  {
   "cell_type": "code",
   "execution_count": 3,
   "metadata": {},
   "outputs": [
    {
     "name": "stdout",
     "output_type": "stream",
     "text": [
      "[[0.5488135  0.48720055]\n",
      " [0.71518937 0.71518411]\n",
      " [0.60276338 0.53332842]\n",
      " [0.54488318 0.54675829]\n",
      " [0.4236548  0.32179184]\n",
      " [0.64589411 0.64450627]\n",
      " [0.43758721 0.38609535]\n",
      " [0.891773   0.89017651]\n",
      " [0.96366276 0.97164417]\n",
      " [0.38344152 0.37091466]]\n"
     ]
    }
   ],
   "source": [
    "import numpy as np\n",
    "temp = np.copy(model.y)\n",
    "model.evolve(10)\n",
    "print(np.concatenate((temp.reshape(len(temp),1), model.y.reshape(len(model.y),1)), axis=1)[0:10,:])\n",
    "\n",
    "\n"
   ]
  },
  {
   "cell_type": "code",
   "execution_count": 26,
   "metadata": {},
   "outputs": [
    {
     "data": {
      "text/plain": [
       "array([0.69557474, 0.67228518, 0.94891216, 0.00370051, 0.64754946,\n",
       "       0.60079184, 0.58915087, 0.96280755, 0.0178548 , 0.69678595])"
      ]
     },
     "execution_count": 26,
     "metadata": {},
     "output_type": "execute_result"
    }
   ],
   "source": [
    "np.random.uniform(1e-3, 1, 10)"
   ]
  },
  {
   "cell_type": "code",
   "execution_count": 27,
   "metadata": {},
   "outputs": [
    {
     "data": {
      "text/plain": [
       "array([1., 1., 1., 1., 1., 1., 1., 1., 1., 1.])"
      ]
     },
     "execution_count": 27,
     "metadata": {},
     "output_type": "execute_result"
    }
   ],
   "source": [
    "np.ones(10)"
   ]
  },
  {
   "cell_type": "code",
   "execution_count": 2,
   "metadata": {},
   "outputs": [
    {
     "data": {
      "text/plain": [
       "1000.0"
      ]
     },
     "execution_count": 2,
     "metadata": {},
     "output_type": "execute_result"
    }
   ],
   "source": [
    "0.01*1e5"
   ]
  },
  {
   "cell_type": "code",
   "execution_count": 3,
   "metadata": {},
   "outputs": [
    {
     "data": {
      "text/plain": [
       "5400"
      ]
     },
     "execution_count": 3,
     "metadata": {},
     "output_type": "execute_result"
    }
   ],
   "source": [
    "90*60"
   ]
  },
  {
   "cell_type": "code",
   "execution_count": 8,
   "metadata": {},
   "outputs": [
    {
     "data": {
      "text/plain": [
       "array([0., 1., 2., 3., 4., 5., 6., 7., 8., 9.])"
      ]
     },
     "execution_count": 8,
     "metadata": {},
     "output_type": "execute_result"
    }
   ],
   "source": [
    "import numpy as np\n",
    "np.linspace(0, 10*1-1, 10)"
   ]
  },
  {
   "cell_type": "code",
   "execution_count": 9,
   "metadata": {},
   "outputs": [
    {
     "data": {
      "image/png": "[encoded data removed]",
      "image/svg+xml": [
       "<?xml version=\"1.0\" encoding=\"utf-8\" standalone=\"no\"?>\r\n",
       "<!DOCTYPE svg PUBLIC \"-//W3C//DTD SVG 1.1//EN\"\r\n",
       "  \"http://www.w3.org/Graphics/SVG/1.1/DTD/svg11.dtd\">\r\n",
       "<!-- Created with matplotlib (https://matplotlib.org/) -->\r\n",
       "<svg height=\"248.518125pt\" version=\"1.1\" viewBox=\"0 0 385.78125 248.518125\" width=\"385.78125pt\" xmlns=\"http://www.w3.org/2000/svg\" xmlns:xlink=\"http://www.w3.org/1999/xlink\">\r\n",
       " <metadata>\r\n",
       "  <rdf:RDF xmlns:cc=\"http://creativecommons.org/ns#\" xmlns:dc=\"http://purl.org/dc/elements/1.1/\" xmlns:rdf=\"http://www.w3.org/1999/02/22-rdf-syntax-ns#\">\r\n",
       "   <cc:Work>\r\n",
       "    <dc:type rdf:resource=\"http://purl.org/dc/dcmitype/StillImage\"/>\r\n",
       "    <dc:date>2021-01-06T19:42:53.740468</dc:date>\r\n",
       "    <dc:format>image/svg+xml</dc:format>\r\n",
       "    <dc:creator>\r\n",
       "     <cc:Agent>\r\n",
       "      <dc:title>Matplotlib v3.3.2, https://matplotlib.org/</dc:title>\r\n",
       "     </cc:Agent>\r\n",
       "    </dc:creator>\r\n",
       "   </cc:Work>\r\n",
       "  </rdf:RDF>\r\n",
       " </metadata>\r\n",
       " <defs>\r\n",
       "  <style type=\"text/css\">*{stroke-linecap:butt;stroke-linejoin:round;}</style>\r\n",
       " </defs>\r\n",
       " <g id=\"figure_1\">\r\n",
       "  <g id=\"patch_1\">\r\n",
       "   <path d=\"M 0 248.518125 \r\n",
       "L 385.78125 248.518125 \r\n",
       "L 385.78125 0 \r\n",
       "L 0 0 \r\n",
       "z\r\n",
       "\" style=\"fill:none;\"/>\r\n",
       "  </g>\r\n",
       "  <g id=\"axes_1\">\r\n",
       "   <g id=\"patch_2\">\r\n",
       "    <path d=\"M 43.78125 224.64 \r\n",
       "L 378.58125 224.64 \r\n",
       "L 378.58125 7.2 \r\n",
       "L 43.78125 7.2 \r\n",
       "z\r\n",
       "\" style=\"fill:#ffffff;\"/>\r\n",
       "   </g>\r\n",
       "   <g id=\"matplotlib.axis_1\">\r\n",
       "    <g id=\"xtick_1\">\r\n",
       "     <g id=\"line2d_1\">\r\n",
       "      <defs>\r\n",
       "       <path d=\"M 0 0 \r\n",
       "L 0 3.5 \r\n",
       "\" id=\"m0108478086\" style=\"stroke:#000000;stroke-width:0.8;\"/>\r\n",
       "      </defs>\r\n",
       "      <g>\r\n",
       "       <use style=\"stroke:#000000;stroke-width:0.8;\" x=\"58.999432\" xlink:href=\"#m0108478086\" y=\"224.64\"/>\r\n",
       "      </g>\r\n",
       "     </g>\r\n",
       "     <g id=\"text_1\">\r\n",
       "      <!-- 0.0 -->\r\n",
       "      <g transform=\"translate(51.047869 239.238437)scale(0.1 -0.1)\">\r\n",
       "       <defs>\r\n",
       "        <path d=\"M 31.78125 66.40625 \r\n",
       "Q 24.171875 66.40625 20.328125 58.90625 \r\n",
       "Q 16.5 51.421875 16.5 36.375 \r\n",
       "Q 16.5 21.390625 20.328125 13.890625 \r\n",
       "Q 24.171875 6.390625 31.78125 6.390625 \r\n",
       "Q 39.453125 6.390625 43.28125 13.890625 \r\n",
       "Q 47.125 21.390625 47.125 36.375 \r\n",
       "Q 47.125 51.421875 43.28125 58.90625 \r\n",
       "Q 39.453125 66.40625 31.78125 66.40625 \r\n",
       "z\r\n",
       "M 31.78125 74.21875 \r\n",
       "Q 44.046875 74.21875 50.515625 64.515625 \r\n",
       "Q 56.984375 54.828125 56.984375 36.375 \r\n",
       "Q 56.984375 17.96875 50.515625 8.265625 \r\n",
       "Q 44.046875 -1.421875 31.78125 -1.421875 \r\n",
       "Q 19.53125 -1.421875 13.0625 8.265625 \r\n",
       "Q 6.59375 17.96875 6.59375 36.375 \r\n",
       "Q 6.59375 54.828125 13.0625 64.515625 \r\n",
       "Q 19.53125 74.21875 31.78125 74.21875 \r\n",
       "z\r\n",
       "\" id=\"DejaVuSans-48\"/>\r\n",
       "        <path d=\"M 10.6875 12.40625 \r\n",
       "L 21 12.40625 \r\n",
       "L 21 0 \r\n",
       "L 10.6875 0 \r\n",
       "z\r\n",
       "\" id=\"DejaVuSans-46\"/>\r\n",
       "       </defs>\r\n",
       "       <use xlink:href=\"#DejaVuSans-48\"/>\r\n",
       "       <use x=\"63.623047\" xlink:href=\"#DejaVuSans-46\"/>\r\n",
       "       <use x=\"95.410156\" xlink:href=\"#DejaVuSans-48\"/>\r\n",
       "      </g>\r\n",
       "     </g>\r\n",
       "    </g>\r\n",
       "    <g id=\"xtick_2\">\r\n",
       "     <g id=\"line2d_2\">\r\n",
       "      <g>\r\n",
       "       <use style=\"stroke:#000000;stroke-width:0.8;\" x=\"109.726705\" xlink:href=\"#m0108478086\" y=\"224.64\"/>\r\n",
       "      </g>\r\n",
       "     </g>\r\n",
       "     <g id=\"text_2\">\r\n",
       "      <!-- 0.5 -->\r\n",
       "      <g transform=\"translate(101.775142 239.238437)scale(0.1 -0.1)\">\r\n",
       "       <defs>\r\n",
       "        <path d=\"M 10.796875 72.90625 \r\n",
       "L 49.515625 72.90625 \r\n",
       "L 49.515625 64.59375 \r\n",
       "L 19.828125 64.59375 \r\n",
       "L 19.828125 46.734375 \r\n",
       "Q 21.96875 47.46875 24.109375 47.828125 \r\n",
       "Q 26.265625 48.1875 28.421875 48.1875 \r\n",
       "Q 40.625 48.1875 47.75 41.5 \r\n",
       "Q 54.890625 34.8125 54.890625 23.390625 \r\n",
       "Q 54.890625 11.625 47.5625 5.09375 \r\n",
       "Q 40.234375 -1.421875 26.90625 -1.421875 \r\n",
       "Q 22.3125 -1.421875 17.546875 -0.640625 \r\n",
       "Q 12.796875 0.140625 7.71875 1.703125 \r\n",
       "L 7.71875 11.625 \r\n",
       "Q 12.109375 9.234375 16.796875 8.0625 \r\n",
       "Q 21.484375 6.890625 26.703125 6.890625 \r\n",
       "Q 35.15625 6.890625 40.078125 11.328125 \r\n",
       "Q 45.015625 15.765625 45.015625 23.390625 \r\n",
       "Q 45.015625 31 40.078125 35.4375 \r\n",
       "Q 35.15625 39.890625 26.703125 39.890625 \r\n",
       "Q 22.75 39.890625 18.8125 39.015625 \r\n",
       "Q 14.890625 38.140625 10.796875 36.28125 \r\n",
       "z\r\n",
       "\" id=\"DejaVuSans-53\"/>\r\n",
       "       </defs>\r\n",
       "       <use xlink:href=\"#DejaVuSans-48\"/>\r\n",
       "       <use x=\"63.623047\" xlink:href=\"#DejaVuSans-46\"/>\r\n",
       "       <use x=\"95.410156\" xlink:href=\"#DejaVuSans-53\"/>\r\n",
       "      </g>\r\n",
       "     </g>\r\n",
       "    </g>\r\n",
       "    <g id=\"xtick_3\">\r\n",
       "     <g id=\"line2d_3\">\r\n",
       "      <g>\r\n",
       "       <use style=\"stroke:#000000;stroke-width:0.8;\" x=\"160.453977\" xlink:href=\"#m0108478086\" y=\"224.64\"/>\r\n",
       "      </g>\r\n",
       "     </g>\r\n",
       "     <g id=\"text_3\">\r\n",
       "      <!-- 1.0 -->\r\n",
       "      <g transform=\"translate(152.502415 239.238437)scale(0.1 -0.1)\">\r\n",
       "       <defs>\r\n",
       "        <path d=\"M 12.40625 8.296875 \r\n",
       "L 28.515625 8.296875 \r\n",
       "L 28.515625 63.921875 \r\n",
       "L 10.984375 60.40625 \r\n",
       "L 10.984375 69.390625 \r\n",
       "L 28.421875 72.90625 \r\n",
       "L 38.28125 72.90625 \r\n",
       "L 38.28125 8.296875 \r\n",
       "L 54.390625 8.296875 \r\n",
       "L 54.390625 0 \r\n",
       "L 12.40625 0 \r\n",
       "z\r\n",
       "\" id=\"DejaVuSans-49\"/>\r\n",
       "       </defs>\r\n",
       "       <use xlink:href=\"#DejaVuSans-49\"/>\r\n",
       "       <use x=\"63.623047\" xlink:href=\"#DejaVuSans-46\"/>\r\n",
       "       <use x=\"95.410156\" xlink:href=\"#DejaVuSans-48\"/>\r\n",
       "      </g>\r\n",
       "     </g>\r\n",
       "    </g>\r\n",
       "    <g id=\"xtick_4\">\r\n",
       "     <g id=\"line2d_4\">\r\n",
       "      <g>\r\n",
       "       <use style=\"stroke:#000000;stroke-width:0.8;\" x=\"211.18125\" xlink:href=\"#m0108478086\" y=\"224.64\"/>\r\n",
       "      </g>\r\n",
       "     </g>\r\n",
       "     <g id=\"text_4\">\r\n",
       "      <!-- 1.5 -->\r\n",
       "      <g transform=\"translate(203.229688 239.238437)scale(0.1 -0.1)\">\r\n",
       "       <use xlink:href=\"#DejaVuSans-49\"/>\r\n",
       "       <use x=\"63.623047\" xlink:href=\"#DejaVuSans-46\"/>\r\n",
       "       <use x=\"95.410156\" xlink:href=\"#DejaVuSans-53\"/>\r\n",
       "      </g>\r\n",
       "     </g>\r\n",
       "    </g>\r\n",
       "    <g id=\"xtick_5\">\r\n",
       "     <g id=\"line2d_5\">\r\n",
       "      <g>\r\n",
       "       <use style=\"stroke:#000000;stroke-width:0.8;\" x=\"261.908523\" xlink:href=\"#m0108478086\" y=\"224.64\"/>\r\n",
       "      </g>\r\n",
       "     </g>\r\n",
       "     <g id=\"text_5\">\r\n",
       "      <!-- 2.0 -->\r\n",
       "      <g transform=\"translate(253.95696 239.238437)scale(0.1 -0.1)\">\r\n",
       "       <defs>\r\n",
       "        <path d=\"M 19.1875 8.296875 \r\n",
       "L 53.609375 8.296875 \r\n",
       "L 53.609375 0 \r\n",
       "L 7.328125 0 \r\n",
       "L 7.328125 8.296875 \r\n",
       "Q 12.9375 14.109375 22.625 23.890625 \r\n",
       "Q 32.328125 33.6875 34.8125 36.53125 \r\n",
       "Q 39.546875 41.84375 41.421875 45.53125 \r\n",
       "Q 43.3125 49.21875 43.3125 52.78125 \r\n",
       "Q 43.3125 58.59375 39.234375 62.25 \r\n",
       "Q 35.15625 65.921875 28.609375 65.921875 \r\n",
       "Q 23.96875 65.921875 18.8125 64.3125 \r\n",
       "Q 13.671875 62.703125 7.8125 59.421875 \r\n",
       "L 7.8125 69.390625 \r\n",
       "Q 13.765625 71.78125 18.9375 73 \r\n",
       "Q 24.125 74.21875 28.421875 74.21875 \r\n",
       "Q 39.75 74.21875 46.484375 68.546875 \r\n",
       "Q 53.21875 62.890625 53.21875 53.421875 \r\n",
       "Q 53.21875 48.921875 51.53125 44.890625 \r\n",
       "Q 49.859375 40.875 45.40625 35.40625 \r\n",
       "Q 44.1875 33.984375 37.640625 27.21875 \r\n",
       "Q 31.109375 20.453125 19.1875 8.296875 \r\n",
       "z\r\n",
       "\" id=\"DejaVuSans-50\"/>\r\n",
       "       </defs>\r\n",
       "       <use xlink:href=\"#DejaVuSans-50\"/>\r\n",
       "       <use x=\"63.623047\" xlink:href=\"#DejaVuSans-46\"/>\r\n",
       "       <use x=\"95.410156\" xlink:href=\"#DejaVuSans-48\"/>\r\n",
       "      </g>\r\n",
       "     </g>\r\n",
       "    </g>\r\n",
       "    <g id=\"xtick_6\">\r\n",
       "     <g id=\"line2d_6\">\r\n",
       "      <g>\r\n",
       "       <use style=\"stroke:#000000;stroke-width:0.8;\" x=\"312.635795\" xlink:href=\"#m0108478086\" y=\"224.64\"/>\r\n",
       "      </g>\r\n",
       "     </g>\r\n",
       "     <g id=\"text_6\">\r\n",
       "      <!-- 2.5 -->\r\n",
       "      <g transform=\"translate(304.684233 239.238437)scale(0.1 -0.1)\">\r\n",
       "       <use xlink:href=\"#DejaVuSans-50\"/>\r\n",
       "       <use x=\"63.623047\" xlink:href=\"#DejaVuSans-46\"/>\r\n",
       "       <use x=\"95.410156\" xlink:href=\"#DejaVuSans-53\"/>\r\n",
       "      </g>\r\n",
       "     </g>\r\n",
       "    </g>\r\n",
       "    <g id=\"xtick_7\">\r\n",
       "     <g id=\"line2d_7\">\r\n",
       "      <g>\r\n",
       "       <use style=\"stroke:#000000;stroke-width:0.8;\" x=\"363.363068\" xlink:href=\"#m0108478086\" y=\"224.64\"/>\r\n",
       "      </g>\r\n",
       "     </g>\r\n",
       "     <g id=\"text_7\">\r\n",
       "      <!-- 3.0 -->\r\n",
       "      <g transform=\"translate(355.411506 239.238437)scale(0.1 -0.1)\">\r\n",
       "       <defs>\r\n",
       "        <path d=\"M 40.578125 39.3125 \r\n",
       "Q 47.65625 37.796875 51.625 33 \r\n",
       "Q 55.609375 28.21875 55.609375 21.1875 \r\n",
       "Q 55.609375 10.40625 48.1875 4.484375 \r\n",
       "Q 40.765625 -1.421875 27.09375 -1.421875 \r\n",
       "Q 22.515625 -1.421875 17.65625 -0.515625 \r\n",
       "Q 12.796875 0.390625 7.625 2.203125 \r\n",
       "L 7.625 11.71875 \r\n",
       "Q 11.71875 9.328125 16.59375 8.109375 \r\n",
       "Q 21.484375 6.890625 26.8125 6.890625 \r\n",
       "Q 36.078125 6.890625 40.9375 10.546875 \r\n",
       "Q 45.796875 14.203125 45.796875 21.1875 \r\n",
       "Q 45.796875 27.640625 41.28125 31.265625 \r\n",
       "Q 36.765625 34.90625 28.71875 34.90625 \r\n",
       "L 20.21875 34.90625 \r\n",
       "L 20.21875 43.015625 \r\n",
       "L 29.109375 43.015625 \r\n",
       "Q 36.375 43.015625 40.234375 45.921875 \r\n",
       "Q 44.09375 48.828125 44.09375 54.296875 \r\n",
       "Q 44.09375 59.90625 40.109375 62.90625 \r\n",
       "Q 36.140625 65.921875 28.71875 65.921875 \r\n",
       "Q 24.65625 65.921875 20.015625 65.03125 \r\n",
       "Q 15.375 64.15625 9.8125 62.3125 \r\n",
       "L 9.8125 71.09375 \r\n",
       "Q 15.4375 72.65625 20.34375 73.4375 \r\n",
       "Q 25.25 74.21875 29.59375 74.21875 \r\n",
       "Q 40.828125 74.21875 47.359375 69.109375 \r\n",
       "Q 53.90625 64.015625 53.90625 55.328125 \r\n",
       "Q 53.90625 49.265625 50.4375 45.09375 \r\n",
       "Q 46.96875 40.921875 40.578125 39.3125 \r\n",
       "z\r\n",
       "\" id=\"DejaVuSans-51\"/>\r\n",
       "       </defs>\r\n",
       "       <use xlink:href=\"#DejaVuSans-51\"/>\r\n",
       "       <use x=\"63.623047\" xlink:href=\"#DejaVuSans-46\"/>\r\n",
       "       <use x=\"95.410156\" xlink:href=\"#DejaVuSans-48\"/>\r\n",
       "      </g>\r\n",
       "     </g>\r\n",
       "    </g>\r\n",
       "   </g>\r\n",
       "   <g id=\"matplotlib.axis_2\">\r\n",
       "    <g id=\"ytick_1\">\r\n",
       "     <g id=\"line2d_8\">\r\n",
       "      <defs>\r\n",
       "       <path d=\"M 0 0 \r\n",
       "L -3.5 0 \r\n",
       "\" id=\"mfa7f10b574\" style=\"stroke:#000000;stroke-width:0.8;\"/>\r\n",
       "      </defs>\r\n",
       "      <g>\r\n",
       "       <use style=\"stroke:#000000;stroke-width:0.8;\" x=\"43.78125\" xlink:href=\"#mfa7f10b574\" y=\"214.756364\"/>\r\n",
       "      </g>\r\n",
       "     </g>\r\n",
       "     <g id=\"text_8\">\r\n",
       "      <!-- 1.0 -->\r\n",
       "      <g transform=\"translate(20.878125 218.555582)scale(0.1 -0.1)\">\r\n",
       "       <use xlink:href=\"#DejaVuSans-49\"/>\r\n",
       "       <use x=\"63.623047\" xlink:href=\"#DejaVuSans-46\"/>\r\n",
       "       <use x=\"95.410156\" xlink:href=\"#DejaVuSans-48\"/>\r\n",
       "      </g>\r\n",
       "     </g>\r\n",
       "    </g>\r\n",
       "    <g id=\"ytick_2\">\r\n",
       "     <g id=\"line2d_9\">\r\n",
       "      <g>\r\n",
       "       <use style=\"stroke:#000000;stroke-width:0.8;\" x=\"43.78125\" xlink:href=\"#mfa7f10b574\" y=\"181.810909\"/>\r\n",
       "      </g>\r\n",
       "     </g>\r\n",
       "     <g id=\"text_9\">\r\n",
       "      <!-- 1.5 -->\r\n",
       "      <g transform=\"translate(20.878125 185.610128)scale(0.1 -0.1)\">\r\n",
       "       <use xlink:href=\"#DejaVuSans-49\"/>\r\n",
       "       <use x=\"63.623047\" xlink:href=\"#DejaVuSans-46\"/>\r\n",
       "       <use x=\"95.410156\" xlink:href=\"#DejaVuSans-53\"/>\r\n",
       "      </g>\r\n",
       "     </g>\r\n",
       "    </g>\r\n",
       "    <g id=\"ytick_3\">\r\n",
       "     <g id=\"line2d_10\">\r\n",
       "      <g>\r\n",
       "       <use style=\"stroke:#000000;stroke-width:0.8;\" x=\"43.78125\" xlink:href=\"#mfa7f10b574\" y=\"148.865455\"/>\r\n",
       "      </g>\r\n",
       "     </g>\r\n",
       "     <g id=\"text_10\">\r\n",
       "      <!-- 2.0 -->\r\n",
       "      <g transform=\"translate(20.878125 152.664673)scale(0.1 -0.1)\">\r\n",
       "       <use xlink:href=\"#DejaVuSans-50\"/>\r\n",
       "       <use x=\"63.623047\" xlink:href=\"#DejaVuSans-46\"/>\r\n",
       "       <use x=\"95.410156\" xlink:href=\"#DejaVuSans-48\"/>\r\n",
       "      </g>\r\n",
       "     </g>\r\n",
       "    </g>\r\n",
       "    <g id=\"ytick_4\">\r\n",
       "     <g id=\"line2d_11\">\r\n",
       "      <g>\r\n",
       "       <use style=\"stroke:#000000;stroke-width:0.8;\" x=\"43.78125\" xlink:href=\"#mfa7f10b574\" y=\"115.92\"/>\r\n",
       "      </g>\r\n",
       "     </g>\r\n",
       "     <g id=\"text_11\">\r\n",
       "      <!-- 2.5 -->\r\n",
       "      <g transform=\"translate(20.878125 119.719219)scale(0.1 -0.1)\">\r\n",
       "       <use xlink:href=\"#DejaVuSans-50\"/>\r\n",
       "       <use x=\"63.623047\" xlink:href=\"#DejaVuSans-46\"/>\r\n",
       "       <use x=\"95.410156\" xlink:href=\"#DejaVuSans-53\"/>\r\n",
       "      </g>\r\n",
       "     </g>\r\n",
       "    </g>\r\n",
       "    <g id=\"ytick_5\">\r\n",
       "     <g id=\"line2d_12\">\r\n",
       "      <g>\r\n",
       "       <use style=\"stroke:#000000;stroke-width:0.8;\" x=\"43.78125\" xlink:href=\"#mfa7f10b574\" y=\"82.974545\"/>\r\n",
       "      </g>\r\n",
       "     </g>\r\n",
       "     <g id=\"text_12\">\r\n",
       "      <!-- 3.0 -->\r\n",
       "      <g transform=\"translate(20.878125 86.773764)scale(0.1 -0.1)\">\r\n",
       "       <use xlink:href=\"#DejaVuSans-51\"/>\r\n",
       "       <use x=\"63.623047\" xlink:href=\"#DejaVuSans-46\"/>\r\n",
       "       <use x=\"95.410156\" xlink:href=\"#DejaVuSans-48\"/>\r\n",
       "      </g>\r\n",
       "     </g>\r\n",
       "    </g>\r\n",
       "    <g id=\"ytick_6\">\r\n",
       "     <g id=\"line2d_13\">\r\n",
       "      <g>\r\n",
       "       <use style=\"stroke:#000000;stroke-width:0.8;\" x=\"43.78125\" xlink:href=\"#mfa7f10b574\" y=\"50.029091\"/>\r\n",
       "      </g>\r\n",
       "     </g>\r\n",
       "     <g id=\"text_13\">\r\n",
       "      <!-- 3.5 -->\r\n",
       "      <g transform=\"translate(20.878125 53.82831)scale(0.1 -0.1)\">\r\n",
       "       <use xlink:href=\"#DejaVuSans-51\"/>\r\n",
       "       <use x=\"63.623047\" xlink:href=\"#DejaVuSans-46\"/>\r\n",
       "       <use x=\"95.410156\" xlink:href=\"#DejaVuSans-53\"/>\r\n",
       "      </g>\r\n",
       "     </g>\r\n",
       "    </g>\r\n",
       "    <g id=\"ytick_7\">\r\n",
       "     <g id=\"line2d_14\">\r\n",
       "      <g>\r\n",
       "       <use style=\"stroke:#000000;stroke-width:0.8;\" x=\"43.78125\" xlink:href=\"#mfa7f10b574\" y=\"17.083636\"/>\r\n",
       "      </g>\r\n",
       "     </g>\r\n",
       "     <g id=\"text_14\">\r\n",
       "      <!-- 4.0 -->\r\n",
       "      <g transform=\"translate(20.878125 20.882855)scale(0.1 -0.1)\">\r\n",
       "       <defs>\r\n",
       "        <path d=\"M 37.796875 64.3125 \r\n",
       "L 12.890625 25.390625 \r\n",
       "L 37.796875 25.390625 \r\n",
       "z\r\n",
       "M 35.203125 72.90625 \r\n",
       "L 47.609375 72.90625 \r\n",
       "L 47.609375 25.390625 \r\n",
       "L 58.015625 25.390625 \r\n",
       "L 58.015625 17.1875 \r\n",
       "L 47.609375 17.1875 \r\n",
       "L 47.609375 0 \r\n",
       "L 37.796875 0 \r\n",
       "L 37.796875 17.1875 \r\n",
       "L 4.890625 17.1875 \r\n",
       "L 4.890625 26.703125 \r\n",
       "z\r\n",
       "\" id=\"DejaVuSans-52\"/>\r\n",
       "       </defs>\r\n",
       "       <use xlink:href=\"#DejaVuSans-52\"/>\r\n",
       "       <use x=\"63.623047\" xlink:href=\"#DejaVuSans-46\"/>\r\n",
       "       <use x=\"95.410156\" xlink:href=\"#DejaVuSans-48\"/>\r\n",
       "      </g>\r\n",
       "     </g>\r\n",
       "    </g>\r\n",
       "    <g id=\"text_15\">\r\n",
       "     <!-- some numbers -->\r\n",
       "     <g transform=\"translate(14.798438 153.23875)rotate(-90)scale(0.1 -0.1)\">\r\n",
       "      <defs>\r\n",
       "       <path d=\"M 44.28125 53.078125 \r\n",
       "L 44.28125 44.578125 \r\n",
       "Q 40.484375 46.53125 36.375 47.5 \r\n",
       "Q 32.28125 48.484375 27.875 48.484375 \r\n",
       "Q 21.1875 48.484375 17.84375 46.4375 \r\n",
       "Q 14.5 44.390625 14.5 40.28125 \r\n",
       "Q 14.5 37.15625 16.890625 35.375 \r\n",
       "Q 19.28125 33.59375 26.515625 31.984375 \r\n",
       "L 29.59375 31.296875 \r\n",
       "Q 39.15625 29.25 43.1875 25.515625 \r\n",
       "Q 47.21875 21.78125 47.21875 15.09375 \r\n",
       "Q 47.21875 7.46875 41.1875 3.015625 \r\n",
       "Q 35.15625 -1.421875 24.609375 -1.421875 \r\n",
       "Q 20.21875 -1.421875 15.453125 -0.5625 \r\n",
       "Q 10.6875 0.296875 5.421875 2 \r\n",
       "L 5.421875 11.28125 \r\n",
       "Q 10.40625 8.6875 15.234375 7.390625 \r\n",
       "Q 20.0625 6.109375 24.8125 6.109375 \r\n",
       "Q 31.15625 6.109375 34.5625 8.28125 \r\n",
       "Q 37.984375 10.453125 37.984375 14.40625 \r\n",
       "Q 37.984375 18.0625 35.515625 20.015625 \r\n",
       "Q 33.0625 21.96875 24.703125 23.78125 \r\n",
       "L 21.578125 24.515625 \r\n",
       "Q 13.234375 26.265625 9.515625 29.90625 \r\n",
       "Q 5.8125 33.546875 5.8125 39.890625 \r\n",
       "Q 5.8125 47.609375 11.28125 51.796875 \r\n",
       "Q 16.75 56 26.8125 56 \r\n",
       "Q 31.78125 56 36.171875 55.265625 \r\n",
       "Q 40.578125 54.546875 44.28125 53.078125 \r\n",
       "z\r\n",
       "\" id=\"DejaVuSans-115\"/>\r\n",
       "       <path d=\"M 30.609375 48.390625 \r\n",
       "Q 23.390625 48.390625 19.1875 42.75 \r\n",
       "Q 14.984375 37.109375 14.984375 27.296875 \r\n",
       "Q 14.984375 17.484375 19.15625 11.84375 \r\n",
       "Q 23.34375 6.203125 30.609375 6.203125 \r\n",
       "Q 37.796875 6.203125 41.984375 11.859375 \r\n",
       "Q 46.1875 17.53125 46.1875 27.296875 \r\n",
       "Q 46.1875 37.015625 41.984375 42.703125 \r\n",
       "Q 37.796875 48.390625 30.609375 48.390625 \r\n",
       "z\r\n",
       "M 30.609375 56 \r\n",
       "Q 42.328125 56 49.015625 48.375 \r\n",
       "Q 55.71875 40.765625 55.71875 27.296875 \r\n",
       "Q 55.71875 13.875 49.015625 6.21875 \r\n",
       "Q 42.328125 -1.421875 30.609375 -1.421875 \r\n",
       "Q 18.84375 -1.421875 12.171875 6.21875 \r\n",
       "Q 5.515625 13.875 5.515625 27.296875 \r\n",
       "Q 5.515625 40.765625 12.171875 48.375 \r\n",
       "Q 18.84375 56 30.609375 56 \r\n",
       "z\r\n",
       "\" id=\"DejaVuSans-111\"/>\r\n",
       "       <path d=\"M 52 44.1875 \r\n",
       "Q 55.375 50.25 60.0625 53.125 \r\n",
       "Q 64.75 56 71.09375 56 \r\n",
       "Q 79.640625 56 84.28125 50.015625 \r\n",
       "Q 88.921875 44.046875 88.921875 33.015625 \r\n",
       "L 88.921875 0 \r\n",
       "L 79.890625 0 \r\n",
       "L 79.890625 32.71875 \r\n",
       "Q 79.890625 40.578125 77.09375 44.375 \r\n",
       "Q 74.3125 48.1875 68.609375 48.1875 \r\n",
       "Q 61.625 48.1875 57.5625 43.546875 \r\n",
       "Q 53.515625 38.921875 53.515625 30.90625 \r\n",
       "L 53.515625 0 \r\n",
       "L 44.484375 0 \r\n",
       "L 44.484375 32.71875 \r\n",
       "Q 44.484375 40.625 41.703125 44.40625 \r\n",
       "Q 38.921875 48.1875 33.109375 48.1875 \r\n",
       "Q 26.21875 48.1875 22.15625 43.53125 \r\n",
       "Q 18.109375 38.875 18.109375 30.90625 \r\n",
       "L 18.109375 0 \r\n",
       "L 9.078125 0 \r\n",
       "L 9.078125 54.6875 \r\n",
       "L 18.109375 54.6875 \r\n",
       "L 18.109375 46.1875 \r\n",
       "Q 21.1875 51.21875 25.484375 53.609375 \r\n",
       "Q 29.78125 56 35.6875 56 \r\n",
       "Q 41.65625 56 45.828125 52.96875 \r\n",
       "Q 50 49.953125 52 44.1875 \r\n",
       "z\r\n",
       "\" id=\"DejaVuSans-109\"/>\r\n",
       "       <path d=\"M 56.203125 29.59375 \r\n",
       "L 56.203125 25.203125 \r\n",
       "L 14.890625 25.203125 \r\n",
       "Q 15.484375 15.921875 20.484375 11.0625 \r\n",
       "Q 25.484375 6.203125 34.421875 6.203125 \r\n",
       "Q 39.59375 6.203125 44.453125 7.46875 \r\n",
       "Q 49.3125 8.734375 54.109375 11.28125 \r\n",
       "L 54.109375 2.78125 \r\n",
       "Q 49.265625 0.734375 44.1875 -0.34375 \r\n",
       "Q 39.109375 -1.421875 33.890625 -1.421875 \r\n",
       "Q 20.796875 -1.421875 13.15625 6.1875 \r\n",
       "Q 5.515625 13.8125 5.515625 26.8125 \r\n",
       "Q 5.515625 40.234375 12.765625 48.109375 \r\n",
       "Q 20.015625 56 32.328125 56 \r\n",
       "Q 43.359375 56 49.78125 48.890625 \r\n",
       "Q 56.203125 41.796875 56.203125 29.59375 \r\n",
       "z\r\n",
       "M 47.21875 32.234375 \r\n",
       "Q 47.125 39.59375 43.09375 43.984375 \r\n",
       "Q 39.0625 48.390625 32.421875 48.390625 \r\n",
       "Q 24.90625 48.390625 20.390625 44.140625 \r\n",
       "Q 15.875 39.890625 15.1875 32.171875 \r\n",
       "z\r\n",
       "\" id=\"DejaVuSans-101\"/>\r\n",
       "       <path id=\"DejaVuSans-32\"/>\r\n",
       "       <path d=\"M 54.890625 33.015625 \r\n",
       "L 54.890625 0 \r\n",
       "L 45.90625 0 \r\n",
       "L 45.90625 32.71875 \r\n",
       "Q 45.90625 40.484375 42.875 44.328125 \r\n",
       "Q 39.84375 48.1875 33.796875 48.1875 \r\n",
       "Q 26.515625 48.1875 22.3125 43.546875 \r\n",
       "Q 18.109375 38.921875 18.109375 30.90625 \r\n",
       "L 18.109375 0 \r\n",
       "L 9.078125 0 \r\n",
       "L 9.078125 54.6875 \r\n",
       "L 18.109375 54.6875 \r\n",
       "L 18.109375 46.1875 \r\n",
       "Q 21.34375 51.125 25.703125 53.5625 \r\n",
       "Q 30.078125 56 35.796875 56 \r\n",
       "Q 45.21875 56 50.046875 50.171875 \r\n",
       "Q 54.890625 44.34375 54.890625 33.015625 \r\n",
       "z\r\n",
       "\" id=\"DejaVuSans-110\"/>\r\n",
       "       <path d=\"M 8.5 21.578125 \r\n",
       "L 8.5 54.6875 \r\n",
       "L 17.484375 54.6875 \r\n",
       "L 17.484375 21.921875 \r\n",
       "Q 17.484375 14.15625 20.5 10.265625 \r\n",
       "Q 23.53125 6.390625 29.59375 6.390625 \r\n",
       "Q 36.859375 6.390625 41.078125 11.03125 \r\n",
       "Q 45.3125 15.671875 45.3125 23.6875 \r\n",
       "L 45.3125 54.6875 \r\n",
       "L 54.296875 54.6875 \r\n",
       "L 54.296875 0 \r\n",
       "L 45.3125 0 \r\n",
       "L 45.3125 8.40625 \r\n",
       "Q 42.046875 3.421875 37.71875 1 \r\n",
       "Q 33.40625 -1.421875 27.6875 -1.421875 \r\n",
       "Q 18.265625 -1.421875 13.375 4.4375 \r\n",
       "Q 8.5 10.296875 8.5 21.578125 \r\n",
       "z\r\n",
       "M 31.109375 56 \r\n",
       "z\r\n",
       "\" id=\"DejaVuSans-117\"/>\r\n",
       "       <path d=\"M 48.6875 27.296875 \r\n",
       "Q 48.6875 37.203125 44.609375 42.84375 \r\n",
       "Q 40.53125 48.484375 33.40625 48.484375 \r\n",
       "Q 26.265625 48.484375 22.1875 42.84375 \r\n",
       "Q 18.109375 37.203125 18.109375 27.296875 \r\n",
       "Q 18.109375 17.390625 22.1875 11.75 \r\n",
       "Q 26.265625 6.109375 33.40625 6.109375 \r\n",
       "Q 40.53125 6.109375 44.609375 11.75 \r\n",
       "Q 48.6875 17.390625 48.6875 27.296875 \r\n",
       "z\r\n",
       "M 18.109375 46.390625 \r\n",
       "Q 20.953125 51.265625 25.265625 53.625 \r\n",
       "Q 29.59375 56 35.59375 56 \r\n",
       "Q 45.5625 56 51.78125 48.09375 \r\n",
       "Q 58.015625 40.1875 58.015625 27.296875 \r\n",
       "Q 58.015625 14.40625 51.78125 6.484375 \r\n",
       "Q 45.5625 -1.421875 35.59375 -1.421875 \r\n",
       "Q 29.59375 -1.421875 25.265625 0.953125 \r\n",
       "Q 20.953125 3.328125 18.109375 8.203125 \r\n",
       "L 18.109375 0 \r\n",
       "L 9.078125 0 \r\n",
       "L 9.078125 75.984375 \r\n",
       "L 18.109375 75.984375 \r\n",
       "z\r\n",
       "\" id=\"DejaVuSans-98\"/>\r\n",
       "       <path d=\"M 41.109375 46.296875 \r\n",
       "Q 39.59375 47.171875 37.8125 47.578125 \r\n",
       "Q 36.03125 48 33.890625 48 \r\n",
       "Q 26.265625 48 22.1875 43.046875 \r\n",
       "Q 18.109375 38.09375 18.109375 28.8125 \r\n",
       "L 18.109375 0 \r\n",
       "L 9.078125 0 \r\n",
       "L 9.078125 54.6875 \r\n",
       "L 18.109375 54.6875 \r\n",
       "L 18.109375 46.1875 \r\n",
       "Q 20.953125 51.171875 25.484375 53.578125 \r\n",
       "Q 30.03125 56 36.53125 56 \r\n",
       "Q 37.453125 56 38.578125 55.875 \r\n",
       "Q 39.703125 55.765625 41.0625 55.515625 \r\n",
       "z\r\n",
       "\" id=\"DejaVuSans-114\"/>\r\n",
       "      </defs>\r\n",
       "      <use xlink:href=\"#DejaVuSans-115\"/>\r\n",
       "      <use x=\"52.099609\" xlink:href=\"#DejaVuSans-111\"/>\r\n",
       "      <use x=\"113.28125\" xlink:href=\"#DejaVuSans-109\"/>\r\n",
       "      <use x=\"210.693359\" xlink:href=\"#DejaVuSans-101\"/>\r\n",
       "      <use x=\"272.216797\" xlink:href=\"#DejaVuSans-32\"/>\r\n",
       "      <use x=\"304.003906\" xlink:href=\"#DejaVuSans-110\"/>\r\n",
       "      <use x=\"367.382812\" xlink:href=\"#DejaVuSans-117\"/>\r\n",
       "      <use x=\"430.761719\" xlink:href=\"#DejaVuSans-109\"/>\r\n",
       "      <use x=\"528.173828\" xlink:href=\"#DejaVuSans-98\"/>\r\n",
       "      <use x=\"591.650391\" xlink:href=\"#DejaVuSans-101\"/>\r\n",
       "      <use x=\"653.173828\" xlink:href=\"#DejaVuSans-114\"/>\r\n",
       "      <use x=\"694.287109\" xlink:href=\"#DejaVuSans-115\"/>\r\n",
       "     </g>\r\n",
       "    </g>\r\n",
       "   </g>\r\n",
       "   <g id=\"line2d_15\">\r\n",
       "    <path clip-path=\"url(#pbfd295f678)\" d=\"M 58.999432 214.756364 \r\n",
       "L 160.453977 148.865455 \r\n",
       "L 261.908523 82.974545 \r\n",
       "L 363.363068 17.083636 \r\n",
       "\" style=\"fill:none;stroke:#1f77b4;stroke-linecap:square;stroke-width:1.5;\"/>\r\n",
       "   </g>\r\n",
       "   <g id=\"patch_3\">\r\n",
       "    <path d=\"M 43.78125 224.64 \r\n",
       "L 43.78125 7.2 \r\n",
       "\" style=\"fill:none;stroke:#000000;stroke-linecap:square;stroke-linejoin:miter;stroke-width:0.8;\"/>\r\n",
       "   </g>\r\n",
       "   <g id=\"patch_4\">\r\n",
       "    <path d=\"M 378.58125 224.64 \r\n",
       "L 378.58125 7.2 \r\n",
       "\" style=\"fill:none;stroke:#000000;stroke-linecap:square;stroke-linejoin:miter;stroke-width:0.8;\"/>\r\n",
       "   </g>\r\n",
       "   <g id=\"patch_5\">\r\n",
       "    <path d=\"M 43.78125 224.64 \r\n",
       "L 378.58125 224.64 \r\n",
       "\" style=\"fill:none;stroke:#000000;stroke-linecap:square;stroke-linejoin:miter;stroke-width:0.8;\"/>\r\n",
       "   </g>\r\n",
       "   <g id=\"patch_6\">\r\n",
       "    <path d=\"M 43.78125 7.2 \r\n",
       "L 378.58125 7.2 \r\n",
       "\" style=\"fill:none;stroke:#000000;stroke-linecap:square;stroke-linejoin:miter;stroke-width:0.8;\"/>\r\n",
       "   </g>\r\n",
       "  </g>\r\n",
       " </g>\r\n",
       " <defs>\r\n",
       "  <clipPath id=\"pbfd295f678\">\r\n",
       "   <rect height=\"217.44\" width=\"334.8\" x=\"43.78125\" y=\"7.2\"/>\r\n",
       "  </clipPath>\r\n",
       " </defs>\r\n",
       "</svg>\r\n"
      ],
      "text/plain": [
       "<Figure size 432x288 with 1 Axes>"
      ]
     },
     "metadata": {
      "needs_background": "light"
     },
     "output_type": "display_data"
    }
   ],
   "source": [
    "import matplotlib.pyplot as plt\n",
    "plt.plot([1, 2, 3, 4])\n",
    "plt.ylabel('some numbers')\n",
    "plt.show()"
   ]
  },
  {
   "cell_type": "code",
   "execution_count": 6,
   "metadata": {},
   "outputs": [],
   "source": [
    "import numpy as np\n",
    "import networkx as nx\n",
    "import time\n",
    "from model import Model\n",
    "from network_visualisation import draw\n",
    "import pickle\n",
    "import pandas as pd\n",
    "m = Model(perturbed_gene=10)"
   ]
  },
  {
   "cell_type": "code",
   "execution_count": 7,
   "metadata": {},
   "outputs": [],
   "source": [
    "with open(\"cycles3.pkl\", \"rb\") as f:\n",
    "    cycles3 = pickle.load(f)"
   ]
  },
  {
   "cell_type": "code",
   "execution_count": 8,
   "metadata": {},
   "outputs": [],
   "source": [
    "with open(\"cycles4.pkl\", \"rb\") as f:\n",
    "    cycles4 = pickle.load(f)"
   ]
  },
  {
   "cell_type": "code",
   "execution_count": 4,
   "metadata": {},
   "outputs": [],
   "source": [
    "with open(\"cycles5.pkl\", \"rb\") as f:\n",
    "    cycles5 = pickle.load(f)"
   ]
  },
  {
   "cell_type": "code",
   "execution_count": 9,
   "metadata": {
    "tags": []
   },
   "outputs": [],
   "source": [
    "def rank_cycles(loops):\n",
    "    flat_list = [item for sublist in loops for item in sublist]\n",
    "    scores = []\n",
    "    normalization = np.mean(list(nx.get_edge_attributes(m.graph, \"alpha\").values()))\n",
    "    for idx, sublist in enumerate(flat_list):\n",
    "        # score measures the strength of the loop\n",
    "        score = 1\n",
    "        previous = sublist[-1]\n",
    "        for node in sublist:\n",
    "            score = score * m.graph.get_edge_data(previous, node, default = 0)['alpha'] / normalization\n",
    "            previous = node\n",
    "        scores.append([score, idx])\n",
    "    scores.sort(reverse=True, key= lambda x: abs(x[0]))\n",
    "    return scores"
   ]
  },
  {
   "cell_type": "code",
   "execution_count": 96,
   "metadata": {
    "tags": []
   },
   "outputs": [],
   "source": [
    "rank3 = rank_cycles(cycles3)"
   ]
  },
  {
   "cell_type": "code",
   "execution_count": 97,
   "metadata": {},
   "outputs": [
    {
     "data": {
      "text/plain": [
       "3915"
      ]
     },
     "execution_count": 97,
     "metadata": {},
     "output_type": "execute_result"
    }
   ],
   "source": [
    "rank3[0][1]"
   ]
  },
  {
   "cell_type": "code",
   "execution_count": 98,
   "metadata": {},
   "outputs": [
    {
     "name": "stdout",
     "output_type": "stream",
     "text": [
      "['PIR1', 'HO', 'PCL5', 'SWI5']\n",
      "['PIR1', 'REE1', 'PCL5', 'SWI5']\n",
      "['HXT2', 'CPA2', 'PCL5', 'SWI5']\n",
      "['PST1', 'REE1', 'PCL5', 'SWI5']\n",
      "['AIM44', 'REE1', 'PCL5', 'SWI5']\n",
      "['FRE1', 'REE1', 'PCL5', 'SWI5']\n",
      "['ASH1', 'HBN1', 'PCL5', 'SWI5']\n",
      "['CTR1', 'REE1', 'PCL5', 'SWI5']\n",
      "['YJL218W', 'REE1', 'PCL5', 'SWI5']\n",
      "['HXT2', 'YGL117W', 'PCL5', 'SWI5']\n"
     ]
    }
   ],
   "source": [
    "flat_list_3 = [item for sublist in cycles3 for item in sublist]\n",
    "for i in rank3[0:10]:\n",
    "    print(flat_list_3[i[1]])"
   ]
  },
  {
   "cell_type": "code",
   "execution_count": 11,
   "metadata": {},
   "outputs": [
    {
     "data": {
      "text/plain": [
       "[[4.691895794191784e-10, 71834],\n",
       " [-9.669176613631822e-11, 21161],\n",
       " [-2.5552121046951807e-11, 207600],\n",
       " [5.319783595359249e-12, 139419],\n",
       " [-4.315539243022384e-12, 42960],\n",
       " [-4.119647714203483e-12, 19500],\n",
       " [3.389715926747615e-12, 229271],\n",
       " [-3.209131093353295e-12, 45436],\n",
       " [1.922472521939989e-12, 6263],\n",
       " [1.6250887036304129e-12, 215940]]"
      ]
     },
     "execution_count": 11,
     "metadata": {}
    }
   ],
   "source": [
    "rank4 = rank_cycles(cycles4)\n",
    "rank4[0:10]"
   ]
  },
  {
   "cell_type": "code",
   "execution_count": 13,
   "metadata": {},
   "outputs": [],
   "source": [
    "flat_list_4 = [item for sublist in cycles4 for item in sublist]"
   ]
  },
  {
   "cell_type": "code",
   "execution_count": 15,
   "metadata": {},
   "outputs": [
    {
     "output_type": "stream",
     "name": "stdout",
     "text": [
      "['DAL5', 'SWI5']\n['ASH1', 'PCL5', 'SWI5']\n['REE1', 'PCL5', 'SWI5']\n['HO', 'PCL5', 'SWI5']\n['CPA2', 'PCL5', 'SWI5']\n['ASH1', 'DAL5', 'SWI5']\n['SNZ1', 'CBF1', 'SWI5']\n['CRC1', 'PCL5', 'SWI5']\n['ALT1', 'PCL5', 'SWI5']\n['RME1', 'PCL5', 'SWI5']\n['IDH1', 'PCL5', 'SWI5']\n['PIR1', 'HO', 'PCL5', 'SWI5']\n['ANB1', 'PCL5', 'SWI5']\n['OSW2', 'PCL5', 'SWI5']\n['YLL053C', 'PCL5', 'SWI5']\n"
     ]
    }
   ],
   "source": [
    "for i in rank4[0:15]:\n",
    "    print(flat_list_4[i[1]])"
   ]
  },
  {
   "cell_type": "code",
   "execution_count": 100,
   "metadata": {},
   "outputs": [
    {
     "data": {
      "text/plain": [
       "[-131399664.56540495,\n",
       " -15022126.84445149,\n",
       " -6284290.813254106,\n",
       " -5306008.752251154,\n",
       " 4804171.391524613,\n",
       " -3852955.734485752,\n",
       " 3086157.993008291,\n",
       " -2655720.5916856807,\n",
       " 1701694.1025713908,\n",
       " -1408774.1185956497,\n",
       " -1355244.4518262395,\n",
       " -1230216.103220594,\n",
       " 1166191.0891492355,\n",
       " -1117674.4854349003,\n",
       " 1080710.979976803,\n",
       " -984489.7589308594,\n",
       " -851739.0977014304,\n",
       " 795147.250287567,\n",
       " -792324.2967366601,\n",
       " -766871.6651253647,\n",
       " 712519.0154073008,\n",
       " -699446.4597090073,\n",
       " -697913.1816277396,\n",
       " 640808.0706329179,\n",
       " -549822.1662193675,\n",
       " -546717.1703076344,\n",
       " 539843.3935902895,\n",
       " -449402.80875665677,\n",
       " -428299.43165599974,\n",
       " 413722.61389973474]"
      ]
     },
     "execution_count": 100,
     "metadata": {},
     "output_type": "execute_result"
    }
   ],
   "source": [
    "histogram_ = [item[0] for item in rank4]\n",
    "histogram_[0:30]"
   ]
  },
  {
   "cell_type": "code",
   "execution_count": 101,
   "metadata": {},
   "outputs": [
    {
     "data": {
      "image/png": "[encoded data removed]",
      "text/plain": [
       "<Figure size 432x288 with 1 Axes>"
      ]
     },
     "metadata": {
      "needs_background": "light"
     },
     "output_type": "display_data"
    }
   ],
   "source": [
    "histogram_ = [item[0] for item in rank4]\n",
    "histogram_[0:30]\n",
    "\n",
    "import matplotlib.pyplot as plt\n",
    "plt.hist(histogram_)\n",
    "plt.yscale('log')\n",
    "plt.show()"
   ]
  },
  {
   "cell_type": "code",
   "execution_count": 61,
   "metadata": {},
   "outputs": [],
   "source": [
    "rank5 = rank_cycles(cycles5)"
   ]
  },
  {
   "cell_type": "code",
   "execution_count": 64,
   "metadata": {},
   "outputs": [],
   "source": [
    "flat_list_5 = [item for sublist in cycles5 for item in sublist]\n"
   ]
  },
  {
   "cell_type": "code",
   "execution_count": 65,
   "metadata": {},
   "outputs": [
    {
     "name": "stdout",
     "output_type": "stream",
     "text": [
      "['SWI5', 'DAL5']\n['SWI5', 'ASH1', 'PCL5']\n['SWI5', 'REE1', 'PCL5']\n['SWI5', 'HO', 'PCL5']\n['SWI5', 'CPA2', 'PCL5']\n['SWI5', 'ASH1', 'DAL5']\n['SWI5', 'SNZ1', 'CBF1']\n['SWI5', 'CRC1', 'PCL5']\n['SWI5', 'ALT1', 'PCL5']\n['SWI5', 'RME1', 'PCL5']\n['SWI5', 'IDH1', 'PCL5']\n['SWI5', 'PIR1', 'HO', 'PCL5']\n['SWI5', 'ANB1', 'PCL5']\n['SWI5', 'OSW2', 'PCL5']\n['SWI5', 'YLL053C', 'PCL5']\n['SWI5', 'PIR1', 'REE1', 'PCL5']\n['SWI5', 'HBN1', 'PCL5']\n['SWI5', 'FRE1', 'PCL5']\n['SWI5', 'RME1', 'ECM22']\n['SWI5', 'PBI1', 'ECM22']\n['SWI5', 'FUS1', 'PCL5']\n['SWI5', 'PBI1', 'FKH1']\n['SWI5', 'HXT2', 'CPA2', 'PCL5']\n['SWI5', 'GDH2', 'PCL5']\n['SWI5', 'REG2', 'PCL5']\n['SWI5', 'DAL80', 'PCL5']\n['SWI5', 'DUR1,2', 'PCL5']\n['SWI5', 'SAG1', 'PCL5']\n['SWI5', 'MET31', 'PCL5']\n['SWI5', 'CWP1', 'PCL5']\n"
     ]
    }
   ],
   "source": [
    "for i in rank5[0:30]:\n",
    "    print(flat_list_5[i[1]])"
   ]
  },
  {
   "cell_type": "code",
   "execution_count": 1,
   "metadata": {},
   "outputs": [
    {
     "output_type": "stream",
     "name": "stdout",
     "text": [
      "10.0% are done\n",
      "20.0% are done\n",
      "30.0% are done\n",
      "40.0% are done\n",
      "50.0% are done\n",
      "60.0% are done\n",
      "70.0% are done\n",
      "80.0% are done\n",
      "90.0% are done\n",
      "100.0% are done\n"
     ]
    }
   ],
   "source": [
    "from model import Model\n",
    "\n",
    "temp = Model()\n",
    "m = Model(perturbed_gene=temp.graph.node['SWI5']['index'])\n",
    "del temp\n",
    "\n",
    "\n",
    "lst = ['CLN3', 'SWI5', 'CLN1', 'CLN2', 'CDH1', 'CDC20', 'CLB5', 'CLB6', 'SIC1', 'CLB1', 'CLB2', 'MCM1']\n",
    "lst_index = [m.graph.node[element]['index'] for element in lst]\n",
    "lst_index\n",
    "\n",
    "\n",
    "m.cycle(dt= 0.1, track = lst_index, num_step = int(5e4))"
   ]
  },
  {
   "cell_type": "code",
   "execution_count": 3,
   "metadata": {},
   "outputs": [
    {
     "output_type": "execute_result",
     "data": {
      "text/plain": [
       "{'index': 4362}"
      ]
     },
     "metadata": {},
     "execution_count": 3
    }
   ],
   "source": [
    "m.graph.node['SWI5']"
   ]
  },
  {
   "cell_type": "code",
   "execution_count": 4,
   "metadata": {},
   "outputs": [
    {
     "output_type": "execute_result",
     "data": {
      "text/plain": [
       "10.0"
      ]
     },
     "metadata": {},
     "execution_count": 4
    }
   ],
   "source": [
    "m.y[4362]"
   ]
  },
  {
   "cell_type": "code",
   "execution_count": 2,
   "metadata": {},
   "outputs": [
    {
     "output_type": "display_data",
     "data": {
      "text/plain": "<Figure size 432x288 with 1 Axes>",
      "image/svg+xml": "<?xml version=\"1.0\" encoding=\"utf-8\" standalone=\"no\"?>\r\n<!DOCTYPE svg PUBLIC \"-//W3C//DTD SVG 1.1//EN\"\r\n  \"http://www.w3.org/Graphics/SVG/1.1/DTD/svg11.dtd\">\r\n<!-- Created with matplotlib (https://matplotlib.org/) -->\r\n<svg height=\"265.995469pt\" version=\"1.1\" viewBox=\"0 0 397.778125 265.995469\" width=\"397.778125pt\" xmlns=\"http://www.w3.org/2000/svg\" xmlns:xlink=\"http://www.w3.org/1999/xlink\">\r\n <metadata>\r\n  <rdf:RDF xmlns:cc=\"http://creativecommons.org/ns#\" xmlns:dc=\"http://purl.org/dc/elements/1.1/\" xmlns:rdf=\"http://www.w3.org/1999/02/22-rdf-syntax-ns#\">\r\n   <cc:Work>\r\n    <dc:type rdf:resource=\"http://purl.org/dc/dcmitype/StillImage\"/>\r\n    <dc:date>2021-01-12T21:43:26.302436</dc:date>\r\n    <dc:format>image/svg+xml</dc:format>\r\n    <dc:creator>\r\n     <cc:Agent>\r\n      <dc:title>Matplotlib v3.3.2, https://matplotlib.org/</dc:title>\r\n     </cc:Agent>\r\n    </dc:creator>\r\n   </cc:Work>\r\n  </rdf:RDF>\r\n </metadata>\r\n <defs>\r\n  <style type=\"text/css\">*{stroke-linecap:butt;stroke-linejoin:round;}</style>\r\n </defs>\r\n <g id=\"figure_1\">\r\n  <g id=\"patch_1\">\r\n   <path d=\"M 0 265.995469 \r\nL 397.778125 265.995469 \r\nL 397.778125 0 \r\nL 0 0 \r\nz\r\n\" style=\"fill:none;\"/>\r\n  </g>\r\n  <g id=\"axes_1\">\r\n   <g id=\"patch_2\">\r\n    <path d=\"M 55.778125 228.439219 \r\nL 390.578125 228.439219 \r\nL 390.578125 10.999219 \r\nL 55.778125 10.999219 \r\nz\r\n\" style=\"fill:#ffffff;\"/>\r\n   </g>\r\n   <g id=\"matplotlib.axis_1\">\r\n    <g id=\"xtick_1\">\r\n     <g id=\"line2d_1\">\r\n      <defs>\r\n       <path d=\"M 0 0 \r\nL 0 3.5 \r\n\" id=\"mb4372717cf\" style=\"stroke:#000000;stroke-width:0.8;\"/>\r\n      </defs>\r\n      <g>\r\n       <use style=\"stroke:#000000;stroke-width:0.8;\" x=\"55.778125\" xlink:href=\"#mb4372717cf\" y=\"228.439219\"/>\r\n      </g>\r\n     </g>\r\n     <g id=\"text_1\">\r\n      <!-- 0 -->\r\n      <g transform=\"translate(52.596875 243.037656)scale(0.1 -0.1)\">\r\n       <defs>\r\n        <path d=\"M 31.78125 66.40625 \r\nQ 24.171875 66.40625 20.328125 58.90625 \r\nQ 16.5 51.421875 16.5 36.375 \r\nQ 16.5 21.390625 20.328125 13.890625 \r\nQ 24.171875 6.390625 31.78125 6.390625 \r\nQ 39.453125 6.390625 43.28125 13.890625 \r\nQ 47.125 21.390625 47.125 36.375 \r\nQ 47.125 51.421875 43.28125 58.90625 \r\nQ 39.453125 66.40625 31.78125 66.40625 \r\nz\r\nM 31.78125 74.21875 \r\nQ 44.046875 74.21875 50.515625 64.515625 \r\nQ 56.984375 54.828125 56.984375 36.375 \r\nQ 56.984375 17.96875 50.515625 8.265625 \r\nQ 44.046875 -1.421875 31.78125 -1.421875 \r\nQ 19.53125 -1.421875 13.0625 8.265625 \r\nQ 6.59375 17.96875 6.59375 36.375 \r\nQ 6.59375 54.828125 13.0625 64.515625 \r\nQ 19.53125 74.21875 31.78125 74.21875 \r\nz\r\n\" id=\"DejaVuSans-48\"/>\r\n       </defs>\r\n       <use xlink:href=\"#DejaVuSans-48\"/>\r\n      </g>\r\n     </g>\r\n    </g>\r\n    <g id=\"xtick_2\">\r\n     <g id=\"line2d_2\">\r\n      <g>\r\n       <use style=\"stroke:#000000;stroke-width:0.8;\" x=\"101.021368\" xlink:href=\"#mb4372717cf\" y=\"228.439219\"/>\r\n      </g>\r\n     </g>\r\n     <g id=\"text_2\">\r\n      <!-- 250 -->\r\n      <g transform=\"translate(91.477618 243.037656)scale(0.1 -0.1)\">\r\n       <defs>\r\n        <path d=\"M 19.1875 8.296875 \r\nL 53.609375 8.296875 \r\nL 53.609375 0 \r\nL 7.328125 0 \r\nL 7.328125 8.296875 \r\nQ 12.9375 14.109375 22.625 23.890625 \r\nQ 32.328125 33.6875 34.8125 36.53125 \r\nQ 39.546875 41.84375 41.421875 45.53125 \r\nQ 43.3125 49.21875 43.3125 52.78125 \r\nQ 43.3125 58.59375 39.234375 62.25 \r\nQ 35.15625 65.921875 28.609375 65.921875 \r\nQ 23.96875 65.921875 18.8125 64.3125 \r\nQ 13.671875 62.703125 7.8125 59.421875 \r\nL 7.8125 69.390625 \r\nQ 13.765625 71.78125 18.9375 73 \r\nQ 24.125 74.21875 28.421875 74.21875 \r\nQ 39.75 74.21875 46.484375 68.546875 \r\nQ 53.21875 62.890625 53.21875 53.421875 \r\nQ 53.21875 48.921875 51.53125 44.890625 \r\nQ 49.859375 40.875 45.40625 35.40625 \r\nQ 44.1875 33.984375 37.640625 27.21875 \r\nQ 31.109375 20.453125 19.1875 8.296875 \r\nz\r\n\" id=\"DejaVuSans-50\"/>\r\n        <path d=\"M 10.796875 72.90625 \r\nL 49.515625 72.90625 \r\nL 49.515625 64.59375 \r\nL 19.828125 64.59375 \r\nL 19.828125 46.734375 \r\nQ 21.96875 47.46875 24.109375 47.828125 \r\nQ 26.265625 48.1875 28.421875 48.1875 \r\nQ 40.625 48.1875 47.75 41.5 \r\nQ 54.890625 34.8125 54.890625 23.390625 \r\nQ 54.890625 11.625 47.5625 5.09375 \r\nQ 40.234375 -1.421875 26.90625 -1.421875 \r\nQ 22.3125 -1.421875 17.546875 -0.640625 \r\nQ 12.796875 0.140625 7.71875 1.703125 \r\nL 7.71875 11.625 \r\nQ 12.109375 9.234375 16.796875 8.0625 \r\nQ 21.484375 6.890625 26.703125 6.890625 \r\nQ 35.15625 6.890625 40.078125 11.328125 \r\nQ 45.015625 15.765625 45.015625 23.390625 \r\nQ 45.015625 31 40.078125 35.4375 \r\nQ 35.15625 39.890625 26.703125 39.890625 \r\nQ 22.75 39.890625 18.8125 39.015625 \r\nQ 14.890625 38.140625 10.796875 36.28125 \r\nz\r\n\" id=\"DejaVuSans-53\"/>\r\n       </defs>\r\n       <use xlink:href=\"#DejaVuSans-50\"/>\r\n       <use x=\"63.623047\" xlink:href=\"#DejaVuSans-53\"/>\r\n       <use x=\"127.246094\" xlink:href=\"#DejaVuSans-48\"/>\r\n      </g>\r\n     </g>\r\n    </g>\r\n    <g id=\"xtick_3\">\r\n     <g id=\"line2d_3\">\r\n      <g>\r\n       <use style=\"stroke:#000000;stroke-width:0.8;\" x=\"146.264611\" xlink:href=\"#mb4372717cf\" y=\"228.439219\"/>\r\n      </g>\r\n     </g>\r\n     <g id=\"text_3\">\r\n      <!-- 500 -->\r\n      <g transform=\"translate(136.720861 243.037656)scale(0.1 -0.1)\">\r\n       <use xlink:href=\"#DejaVuSans-53\"/>\r\n       <use x=\"63.623047\" xlink:href=\"#DejaVuSans-48\"/>\r\n       <use x=\"127.246094\" xlink:href=\"#DejaVuSans-48\"/>\r\n      </g>\r\n     </g>\r\n    </g>\r\n    <g id=\"xtick_4\">\r\n     <g id=\"line2d_4\">\r\n      <g>\r\n       <use style=\"stroke:#000000;stroke-width:0.8;\" x=\"191.507855\" xlink:href=\"#mb4372717cf\" y=\"228.439219\"/>\r\n      </g>\r\n     </g>\r\n     <g id=\"text_4\">\r\n      <!-- 750 -->\r\n      <g transform=\"translate(181.964105 243.037656)scale(0.1 -0.1)\">\r\n       <defs>\r\n        <path d=\"M 8.203125 72.90625 \r\nL 55.078125 72.90625 \r\nL 55.078125 68.703125 \r\nL 28.609375 0 \r\nL 18.3125 0 \r\nL 43.21875 64.59375 \r\nL 8.203125 64.59375 \r\nz\r\n\" id=\"DejaVuSans-55\"/>\r\n       </defs>\r\n       <use xlink:href=\"#DejaVuSans-55\"/>\r\n       <use x=\"63.623047\" xlink:href=\"#DejaVuSans-53\"/>\r\n       <use x=\"127.246094\" xlink:href=\"#DejaVuSans-48\"/>\r\n      </g>\r\n     </g>\r\n    </g>\r\n    <g id=\"xtick_5\">\r\n     <g id=\"line2d_5\">\r\n      <g>\r\n       <use style=\"stroke:#000000;stroke-width:0.8;\" x=\"236.751098\" xlink:href=\"#mb4372717cf\" y=\"228.439219\"/>\r\n      </g>\r\n     </g>\r\n     <g id=\"text_5\">\r\n      <!-- 1000 -->\r\n      <g transform=\"translate(224.026098 243.037656)scale(0.1 -0.1)\">\r\n       <defs>\r\n        <path d=\"M 12.40625 8.296875 \r\nL 28.515625 8.296875 \r\nL 28.515625 63.921875 \r\nL 10.984375 60.40625 \r\nL 10.984375 69.390625 \r\nL 28.421875 72.90625 \r\nL 38.28125 72.90625 \r\nL 38.28125 8.296875 \r\nL 54.390625 8.296875 \r\nL 54.390625 0 \r\nL 12.40625 0 \r\nz\r\n\" id=\"DejaVuSans-49\"/>\r\n       </defs>\r\n       <use xlink:href=\"#DejaVuSans-49\"/>\r\n       <use x=\"63.623047\" xlink:href=\"#DejaVuSans-48\"/>\r\n       <use x=\"127.246094\" xlink:href=\"#DejaVuSans-48\"/>\r\n       <use x=\"190.869141\" xlink:href=\"#DejaVuSans-48\"/>\r\n      </g>\r\n     </g>\r\n    </g>\r\n    <g id=\"xtick_6\">\r\n     <g id=\"line2d_6\">\r\n      <g>\r\n       <use style=\"stroke:#000000;stroke-width:0.8;\" x=\"281.994341\" xlink:href=\"#mb4372717cf\" y=\"228.439219\"/>\r\n      </g>\r\n     </g>\r\n     <g id=\"text_6\">\r\n      <!-- 1250 -->\r\n      <g transform=\"translate(269.269341 243.037656)scale(0.1 -0.1)\">\r\n       <use xlink:href=\"#DejaVuSans-49\"/>\r\n       <use x=\"63.623047\" xlink:href=\"#DejaVuSans-50\"/>\r\n       <use x=\"127.246094\" xlink:href=\"#DejaVuSans-53\"/>\r\n       <use x=\"190.869141\" xlink:href=\"#DejaVuSans-48\"/>\r\n      </g>\r\n     </g>\r\n    </g>\r\n    <g id=\"xtick_7\">\r\n     <g id=\"line2d_7\">\r\n      <g>\r\n       <use style=\"stroke:#000000;stroke-width:0.8;\" x=\"327.237584\" xlink:href=\"#mb4372717cf\" y=\"228.439219\"/>\r\n      </g>\r\n     </g>\r\n     <g id=\"text_7\">\r\n      <!-- 1500 -->\r\n      <g transform=\"translate(314.512584 243.037656)scale(0.1 -0.1)\">\r\n       <use xlink:href=\"#DejaVuSans-49\"/>\r\n       <use x=\"63.623047\" xlink:href=\"#DejaVuSans-53\"/>\r\n       <use x=\"127.246094\" xlink:href=\"#DejaVuSans-48\"/>\r\n       <use x=\"190.869141\" xlink:href=\"#DejaVuSans-48\"/>\r\n      </g>\r\n     </g>\r\n    </g>\r\n    <g id=\"xtick_8\">\r\n     <g id=\"line2d_8\">\r\n      <g>\r\n       <use style=\"stroke:#000000;stroke-width:0.8;\" x=\"372.480828\" xlink:href=\"#mb4372717cf\" y=\"228.439219\"/>\r\n      </g>\r\n     </g>\r\n     <g id=\"text_8\">\r\n      <!-- 1750 -->\r\n      <g transform=\"translate(359.755828 243.037656)scale(0.1 -0.1)\">\r\n       <use xlink:href=\"#DejaVuSans-49\"/>\r\n       <use x=\"63.623047\" xlink:href=\"#DejaVuSans-55\"/>\r\n       <use x=\"127.246094\" xlink:href=\"#DejaVuSans-53\"/>\r\n       <use x=\"190.869141\" xlink:href=\"#DejaVuSans-48\"/>\r\n      </g>\r\n     </g>\r\n    </g>\r\n    <g id=\"text_9\">\r\n     <!-- time [s] -->\r\n     <g transform=\"translate(203.786719 256.715781)scale(0.1 -0.1)\">\r\n      <defs>\r\n       <path d=\"M 18.3125 70.21875 \r\nL 18.3125 54.6875 \r\nL 36.8125 54.6875 \r\nL 36.8125 47.703125 \r\nL 18.3125 47.703125 \r\nL 18.3125 18.015625 \r\nQ 18.3125 11.328125 20.140625 9.421875 \r\nQ 21.96875 7.515625 27.59375 7.515625 \r\nL 36.8125 7.515625 \r\nL 36.8125 0 \r\nL 27.59375 0 \r\nQ 17.1875 0 13.234375 3.875 \r\nQ 9.28125 7.765625 9.28125 18.015625 \r\nL 9.28125 47.703125 \r\nL 2.6875 47.703125 \r\nL 2.6875 54.6875 \r\nL 9.28125 54.6875 \r\nL 9.28125 70.21875 \r\nz\r\n\" id=\"DejaVuSans-116\"/>\r\n       <path d=\"M 9.421875 54.6875 \r\nL 18.40625 54.6875 \r\nL 18.40625 0 \r\nL 9.421875 0 \r\nz\r\nM 9.421875 75.984375 \r\nL 18.40625 75.984375 \r\nL 18.40625 64.59375 \r\nL 9.421875 64.59375 \r\nz\r\n\" id=\"DejaVuSans-105\"/>\r\n       <path d=\"M 52 44.1875 \r\nQ 55.375 50.25 60.0625 53.125 \r\nQ 64.75 56 71.09375 56 \r\nQ 79.640625 56 84.28125 50.015625 \r\nQ 88.921875 44.046875 88.921875 33.015625 \r\nL 88.921875 0 \r\nL 79.890625 0 \r\nL 79.890625 32.71875 \r\nQ 79.890625 40.578125 77.09375 44.375 \r\nQ 74.3125 48.1875 68.609375 48.1875 \r\nQ 61.625 48.1875 57.5625 43.546875 \r\nQ 53.515625 38.921875 53.515625 30.90625 \r\nL 53.515625 0 \r\nL 44.484375 0 \r\nL 44.484375 32.71875 \r\nQ 44.484375 40.625 41.703125 44.40625 \r\nQ 38.921875 48.1875 33.109375 48.1875 \r\nQ 26.21875 48.1875 22.15625 43.53125 \r\nQ 18.109375 38.875 18.109375 30.90625 \r\nL 18.109375 0 \r\nL 9.078125 0 \r\nL 9.078125 54.6875 \r\nL 18.109375 54.6875 \r\nL 18.109375 46.1875 \r\nQ 21.1875 51.21875 25.484375 53.609375 \r\nQ 29.78125 56 35.6875 56 \r\nQ 41.65625 56 45.828125 52.96875 \r\nQ 50 49.953125 52 44.1875 \r\nz\r\n\" id=\"DejaVuSans-109\"/>\r\n       <path d=\"M 56.203125 29.59375 \r\nL 56.203125 25.203125 \r\nL 14.890625 25.203125 \r\nQ 15.484375 15.921875 20.484375 11.0625 \r\nQ 25.484375 6.203125 34.421875 6.203125 \r\nQ 39.59375 6.203125 44.453125 7.46875 \r\nQ 49.3125 8.734375 54.109375 11.28125 \r\nL 54.109375 2.78125 \r\nQ 49.265625 0.734375 44.1875 -0.34375 \r\nQ 39.109375 -1.421875 33.890625 -1.421875 \r\nQ 20.796875 -1.421875 13.15625 6.1875 \r\nQ 5.515625 13.8125 5.515625 26.8125 \r\nQ 5.515625 40.234375 12.765625 48.109375 \r\nQ 20.015625 56 32.328125 56 \r\nQ 43.359375 56 49.78125 48.890625 \r\nQ 56.203125 41.796875 56.203125 29.59375 \r\nz\r\nM 47.21875 32.234375 \r\nQ 47.125 39.59375 43.09375 43.984375 \r\nQ 39.0625 48.390625 32.421875 48.390625 \r\nQ 24.90625 48.390625 20.390625 44.140625 \r\nQ 15.875 39.890625 15.1875 32.171875 \r\nz\r\n\" id=\"DejaVuSans-101\"/>\r\n       <path id=\"DejaVuSans-32\"/>\r\n       <path d=\"M 8.59375 75.984375 \r\nL 29.296875 75.984375 \r\nL 29.296875 69 \r\nL 17.578125 69 \r\nL 17.578125 -6.203125 \r\nL 29.296875 -6.203125 \r\nL 29.296875 -13.1875 \r\nL 8.59375 -13.1875 \r\nz\r\n\" id=\"DejaVuSans-91\"/>\r\n       <path d=\"M 44.28125 53.078125 \r\nL 44.28125 44.578125 \r\nQ 40.484375 46.53125 36.375 47.5 \r\nQ 32.28125 48.484375 27.875 48.484375 \r\nQ 21.1875 48.484375 17.84375 46.4375 \r\nQ 14.5 44.390625 14.5 40.28125 \r\nQ 14.5 37.15625 16.890625 35.375 \r\nQ 19.28125 33.59375 26.515625 31.984375 \r\nL 29.59375 31.296875 \r\nQ 39.15625 29.25 43.1875 25.515625 \r\nQ 47.21875 21.78125 47.21875 15.09375 \r\nQ 47.21875 7.46875 41.1875 3.015625 \r\nQ 35.15625 -1.421875 24.609375 -1.421875 \r\nQ 20.21875 -1.421875 15.453125 -0.5625 \r\nQ 10.6875 0.296875 5.421875 2 \r\nL 5.421875 11.28125 \r\nQ 10.40625 8.6875 15.234375 7.390625 \r\nQ 20.0625 6.109375 24.8125 6.109375 \r\nQ 31.15625 6.109375 34.5625 8.28125 \r\nQ 37.984375 10.453125 37.984375 14.40625 \r\nQ 37.984375 18.0625 35.515625 20.015625 \r\nQ 33.0625 21.96875 24.703125 23.78125 \r\nL 21.578125 24.515625 \r\nQ 13.234375 26.265625 9.515625 29.90625 \r\nQ 5.8125 33.546875 5.8125 39.890625 \r\nQ 5.8125 47.609375 11.28125 51.796875 \r\nQ 16.75 56 26.8125 56 \r\nQ 31.78125 56 36.171875 55.265625 \r\nQ 40.578125 54.546875 44.28125 53.078125 \r\nz\r\n\" id=\"DejaVuSans-115\"/>\r\n       <path d=\"M 30.421875 75.984375 \r\nL 30.421875 -13.1875 \r\nL 9.71875 -13.1875 \r\nL 9.71875 -6.203125 \r\nL 21.390625 -6.203125 \r\nL 21.390625 69 \r\nL 9.71875 69 \r\nL 9.71875 75.984375 \r\nz\r\n\" id=\"DejaVuSans-93\"/>\r\n      </defs>\r\n      <use xlink:href=\"#DejaVuSans-116\"/>\r\n      <use x=\"39.208984\" xlink:href=\"#DejaVuSans-105\"/>\r\n      <use x=\"66.992188\" xlink:href=\"#DejaVuSans-109\"/>\r\n      <use x=\"164.404297\" xlink:href=\"#DejaVuSans-101\"/>\r\n      <use x=\"225.927734\" xlink:href=\"#DejaVuSans-32\"/>\r\n      <use x=\"257.714844\" xlink:href=\"#DejaVuSans-91\"/>\r\n      <use x=\"296.728516\" xlink:href=\"#DejaVuSans-115\"/>\r\n      <use x=\"348.828125\" xlink:href=\"#DejaVuSans-93\"/>\r\n     </g>\r\n    </g>\r\n   </g>\r\n   <g id=\"matplotlib.axis_2\">\r\n    <g id=\"ytick_1\">\r\n     <g id=\"line2d_9\">\r\n      <defs>\r\n       <path d=\"M 0 0 \r\nL -3.5 0 \r\n\" id=\"mcc273101b0\" style=\"stroke:#000000;stroke-width:0.8;\"/>\r\n      </defs>\r\n      <g>\r\n       <use style=\"stroke:#000000;stroke-width:0.8;\" x=\"55.778125\" xlink:href=\"#mcc273101b0\" y=\"228.439219\"/>\r\n      </g>\r\n     </g>\r\n     <g id=\"text_10\">\r\n      <!-- $\\mathdefault{10^{-13}}$ -->\r\n      <g transform=\"translate(20.878125 232.238437)scale(0.1 -0.1)\">\r\n       <defs>\r\n        <path d=\"M 10.59375 35.5 \r\nL 73.1875 35.5 \r\nL 73.1875 27.203125 \r\nL 10.59375 27.203125 \r\nz\r\n\" id=\"DejaVuSans-8722\"/>\r\n        <path d=\"M 40.578125 39.3125 \r\nQ 47.65625 37.796875 51.625 33 \r\nQ 55.609375 28.21875 55.609375 21.1875 \r\nQ 55.609375 10.40625 48.1875 4.484375 \r\nQ 40.765625 -1.421875 27.09375 -1.421875 \r\nQ 22.515625 -1.421875 17.65625 -0.515625 \r\nQ 12.796875 0.390625 7.625 2.203125 \r\nL 7.625 11.71875 \r\nQ 11.71875 9.328125 16.59375 8.109375 \r\nQ 21.484375 6.890625 26.8125 6.890625 \r\nQ 36.078125 6.890625 40.9375 10.546875 \r\nQ 45.796875 14.203125 45.796875 21.1875 \r\nQ 45.796875 27.640625 41.28125 31.265625 \r\nQ 36.765625 34.90625 28.71875 34.90625 \r\nL 20.21875 34.90625 \r\nL 20.21875 43.015625 \r\nL 29.109375 43.015625 \r\nQ 36.375 43.015625 40.234375 45.921875 \r\nQ 44.09375 48.828125 44.09375 54.296875 \r\nQ 44.09375 59.90625 40.109375 62.90625 \r\nQ 36.140625 65.921875 28.71875 65.921875 \r\nQ 24.65625 65.921875 20.015625 65.03125 \r\nQ 15.375 64.15625 9.8125 62.3125 \r\nL 9.8125 71.09375 \r\nQ 15.4375 72.65625 20.34375 73.4375 \r\nQ 25.25 74.21875 29.59375 74.21875 \r\nQ 40.828125 74.21875 47.359375 69.109375 \r\nQ 53.90625 64.015625 53.90625 55.328125 \r\nQ 53.90625 49.265625 50.4375 45.09375 \r\nQ 46.96875 40.921875 40.578125 39.3125 \r\nz\r\n\" id=\"DejaVuSans-51\"/>\r\n       </defs>\r\n       <use transform=\"translate(0 0.765625)\" xlink:href=\"#DejaVuSans-49\"/>\r\n       <use transform=\"translate(63.623047 0.765625)\" xlink:href=\"#DejaVuSans-48\"/>\r\n       <use transform=\"translate(128.203125 39.046875)scale(0.7)\" xlink:href=\"#DejaVuSans-8722\"/>\r\n       <use transform=\"translate(186.855469 39.046875)scale(0.7)\" xlink:href=\"#DejaVuSans-49\"/>\r\n       <use transform=\"translate(231.391602 39.046875)scale(0.7)\" xlink:href=\"#DejaVuSans-51\"/>\r\n      </g>\r\n     </g>\r\n    </g>\r\n    <g id=\"ytick_2\">\r\n     <g id=\"line2d_10\">\r\n      <g>\r\n       <use style=\"stroke:#000000;stroke-width:0.8;\" x=\"55.778125\" xlink:href=\"#mcc273101b0\" y=\"197.376362\"/>\r\n      </g>\r\n     </g>\r\n     <g id=\"text_11\">\r\n      <!-- $\\mathdefault{10^{-11}}$ -->\r\n      <g transform=\"translate(20.878125 201.17558)scale(0.1 -0.1)\">\r\n       <use transform=\"translate(0 0.684375)\" xlink:href=\"#DejaVuSans-49\"/>\r\n       <use transform=\"translate(63.623047 0.684375)\" xlink:href=\"#DejaVuSans-48\"/>\r\n       <use transform=\"translate(128.203125 38.965625)scale(0.7)\" xlink:href=\"#DejaVuSans-8722\"/>\r\n       <use transform=\"translate(186.855469 38.965625)scale(0.7)\" xlink:href=\"#DejaVuSans-49\"/>\r\n       <use transform=\"translate(231.391602 38.965625)scale(0.7)\" xlink:href=\"#DejaVuSans-49\"/>\r\n      </g>\r\n     </g>\r\n    </g>\r\n    <g id=\"ytick_3\">\r\n     <g id=\"line2d_11\">\r\n      <g>\r\n       <use style=\"stroke:#000000;stroke-width:0.8;\" x=\"55.778125\" xlink:href=\"#mcc273101b0\" y=\"166.313504\"/>\r\n      </g>\r\n     </g>\r\n     <g id=\"text_12\">\r\n      <!-- $\\mathdefault{10^{-9}}$ -->\r\n      <g transform=\"translate(25.278125 170.112723)scale(0.1 -0.1)\">\r\n       <defs>\r\n        <path d=\"M 10.984375 1.515625 \r\nL 10.984375 10.5 \r\nQ 14.703125 8.734375 18.5 7.8125 \r\nQ 22.3125 6.890625 25.984375 6.890625 \r\nQ 35.75 6.890625 40.890625 13.453125 \r\nQ 46.046875 20.015625 46.78125 33.40625 \r\nQ 43.953125 29.203125 39.59375 26.953125 \r\nQ 35.25 24.703125 29.984375 24.703125 \r\nQ 19.046875 24.703125 12.671875 31.3125 \r\nQ 6.296875 37.9375 6.296875 49.421875 \r\nQ 6.296875 60.640625 12.9375 67.421875 \r\nQ 19.578125 74.21875 30.609375 74.21875 \r\nQ 43.265625 74.21875 49.921875 64.515625 \r\nQ 56.59375 54.828125 56.59375 36.375 \r\nQ 56.59375 19.140625 48.40625 8.859375 \r\nQ 40.234375 -1.421875 26.421875 -1.421875 \r\nQ 22.703125 -1.421875 18.890625 -0.6875 \r\nQ 15.09375 0.046875 10.984375 1.515625 \r\nz\r\nM 30.609375 32.421875 \r\nQ 37.25 32.421875 41.125 36.953125 \r\nQ 45.015625 41.5 45.015625 49.421875 \r\nQ 45.015625 57.28125 41.125 61.84375 \r\nQ 37.25 66.40625 30.609375 66.40625 \r\nQ 23.96875 66.40625 20.09375 61.84375 \r\nQ 16.21875 57.28125 16.21875 49.421875 \r\nQ 16.21875 41.5 20.09375 36.953125 \r\nQ 23.96875 32.421875 30.609375 32.421875 \r\nz\r\n\" id=\"DejaVuSans-57\"/>\r\n       </defs>\r\n       <use transform=\"translate(0 0.765625)\" xlink:href=\"#DejaVuSans-49\"/>\r\n       <use transform=\"translate(63.623047 0.765625)\" xlink:href=\"#DejaVuSans-48\"/>\r\n       <use transform=\"translate(128.203125 39.046875)scale(0.7)\" xlink:href=\"#DejaVuSans-8722\"/>\r\n       <use transform=\"translate(186.855469 39.046875)scale(0.7)\" xlink:href=\"#DejaVuSans-57\"/>\r\n      </g>\r\n     </g>\r\n    </g>\r\n    <g id=\"ytick_4\">\r\n     <g id=\"line2d_12\">\r\n      <g>\r\n       <use style=\"stroke:#000000;stroke-width:0.8;\" x=\"55.778125\" xlink:href=\"#mcc273101b0\" y=\"135.250647\"/>\r\n      </g>\r\n     </g>\r\n     <g id=\"text_13\">\r\n      <!-- $\\mathdefault{10^{-7}}$ -->\r\n      <g transform=\"translate(25.278125 139.049866)scale(0.1 -0.1)\">\r\n       <use transform=\"translate(0 0.684375)\" xlink:href=\"#DejaVuSans-49\"/>\r\n       <use transform=\"translate(63.623047 0.684375)\" xlink:href=\"#DejaVuSans-48\"/>\r\n       <use transform=\"translate(128.203125 38.965625)scale(0.7)\" xlink:href=\"#DejaVuSans-8722\"/>\r\n       <use transform=\"translate(186.855469 38.965625)scale(0.7)\" xlink:href=\"#DejaVuSans-55\"/>\r\n      </g>\r\n     </g>\r\n    </g>\r\n    <g id=\"ytick_5\">\r\n     <g id=\"line2d_13\">\r\n      <g>\r\n       <use style=\"stroke:#000000;stroke-width:0.8;\" x=\"55.778125\" xlink:href=\"#mcc273101b0\" y=\"104.18779\"/>\r\n      </g>\r\n     </g>\r\n     <g id=\"text_14\">\r\n      <!-- $\\mathdefault{10^{-5}}$ -->\r\n      <g transform=\"translate(25.278125 107.987009)scale(0.1 -0.1)\">\r\n       <use transform=\"translate(0 0.684375)\" xlink:href=\"#DejaVuSans-49\"/>\r\n       <use transform=\"translate(63.623047 0.684375)\" xlink:href=\"#DejaVuSans-48\"/>\r\n       <use transform=\"translate(128.203125 38.965625)scale(0.7)\" xlink:href=\"#DejaVuSans-8722\"/>\r\n       <use transform=\"translate(186.855469 38.965625)scale(0.7)\" xlink:href=\"#DejaVuSans-53\"/>\r\n      </g>\r\n     </g>\r\n    </g>\r\n    <g id=\"ytick_6\">\r\n     <g id=\"line2d_14\">\r\n      <g>\r\n       <use style=\"stroke:#000000;stroke-width:0.8;\" x=\"55.778125\" xlink:href=\"#mcc273101b0\" y=\"73.124933\"/>\r\n      </g>\r\n     </g>\r\n     <g id=\"text_15\">\r\n      <!-- $\\mathdefault{10^{-3}}$ -->\r\n      <g transform=\"translate(25.278125 76.924152)scale(0.1 -0.1)\">\r\n       <use transform=\"translate(0 0.765625)\" xlink:href=\"#DejaVuSans-49\"/>\r\n       <use transform=\"translate(63.623047 0.765625)\" xlink:href=\"#DejaVuSans-48\"/>\r\n       <use transform=\"translate(128.203125 39.046875)scale(0.7)\" xlink:href=\"#DejaVuSans-8722\"/>\r\n       <use transform=\"translate(186.855469 39.046875)scale(0.7)\" xlink:href=\"#DejaVuSans-51\"/>\r\n      </g>\r\n     </g>\r\n    </g>\r\n    <g id=\"ytick_7\">\r\n     <g id=\"line2d_15\">\r\n      <g>\r\n       <use style=\"stroke:#000000;stroke-width:0.8;\" x=\"55.778125\" xlink:href=\"#mcc273101b0\" y=\"42.062076\"/>\r\n      </g>\r\n     </g>\r\n     <g id=\"text_16\">\r\n      <!-- $\\mathdefault{10^{-1}}$ -->\r\n      <g transform=\"translate(25.278125 45.861295)scale(0.1 -0.1)\">\r\n       <use transform=\"translate(0 0.684375)\" xlink:href=\"#DejaVuSans-49\"/>\r\n       <use transform=\"translate(63.623047 0.684375)\" xlink:href=\"#DejaVuSans-48\"/>\r\n       <use transform=\"translate(128.203125 38.965625)scale(0.7)\" xlink:href=\"#DejaVuSans-8722\"/>\r\n       <use transform=\"translate(186.855469 38.965625)scale(0.7)\" xlink:href=\"#DejaVuSans-49\"/>\r\n      </g>\r\n     </g>\r\n    </g>\r\n    <g id=\"ytick_8\">\r\n     <g id=\"line2d_16\">\r\n      <g>\r\n       <use style=\"stroke:#000000;stroke-width:0.8;\" x=\"55.778125\" xlink:href=\"#mcc273101b0\" y=\"10.999219\"/>\r\n      </g>\r\n     </g>\r\n     <g id=\"text_17\">\r\n      <!-- $\\mathdefault{10^{1}}$ -->\r\n      <g transform=\"translate(31.178125 14.798437)scale(0.1 -0.1)\">\r\n       <use transform=\"translate(0 0.684375)\" xlink:href=\"#DejaVuSans-49\"/>\r\n       <use transform=\"translate(63.623047 0.684375)\" xlink:href=\"#DejaVuSans-48\"/>\r\n       <use transform=\"translate(128.203125 38.965625)scale(0.7)\" xlink:href=\"#DejaVuSans-49\"/>\r\n      </g>\r\n     </g>\r\n    </g>\r\n    <g id=\"text_18\">\r\n     <!-- log relative expresssion [] -->\r\n     <g transform=\"translate(14.798438 184.441875)rotate(-90)scale(0.1 -0.1)\">\r\n      <defs>\r\n       <path d=\"M 9.421875 75.984375 \r\nL 18.40625 75.984375 \r\nL 18.40625 0 \r\nL 9.421875 0 \r\nz\r\n\" id=\"DejaVuSans-108\"/>\r\n       <path d=\"M 30.609375 48.390625 \r\nQ 23.390625 48.390625 19.1875 42.75 \r\nQ 14.984375 37.109375 14.984375 27.296875 \r\nQ 14.984375 17.484375 19.15625 11.84375 \r\nQ 23.34375 6.203125 30.609375 6.203125 \r\nQ 37.796875 6.203125 41.984375 11.859375 \r\nQ 46.1875 17.53125 46.1875 27.296875 \r\nQ 46.1875 37.015625 41.984375 42.703125 \r\nQ 37.796875 48.390625 30.609375 48.390625 \r\nz\r\nM 30.609375 56 \r\nQ 42.328125 56 49.015625 48.375 \r\nQ 55.71875 40.765625 55.71875 27.296875 \r\nQ 55.71875 13.875 49.015625 6.21875 \r\nQ 42.328125 -1.421875 30.609375 -1.421875 \r\nQ 18.84375 -1.421875 12.171875 6.21875 \r\nQ 5.515625 13.875 5.515625 27.296875 \r\nQ 5.515625 40.765625 12.171875 48.375 \r\nQ 18.84375 56 30.609375 56 \r\nz\r\n\" id=\"DejaVuSans-111\"/>\r\n       <path d=\"M 45.40625 27.984375 \r\nQ 45.40625 37.75 41.375 43.109375 \r\nQ 37.359375 48.484375 30.078125 48.484375 \r\nQ 22.859375 48.484375 18.828125 43.109375 \r\nQ 14.796875 37.75 14.796875 27.984375 \r\nQ 14.796875 18.265625 18.828125 12.890625 \r\nQ 22.859375 7.515625 30.078125 7.515625 \r\nQ 37.359375 7.515625 41.375 12.890625 \r\nQ 45.40625 18.265625 45.40625 27.984375 \r\nz\r\nM 54.390625 6.78125 \r\nQ 54.390625 -7.171875 48.1875 -13.984375 \r\nQ 42 -20.796875 29.203125 -20.796875 \r\nQ 24.46875 -20.796875 20.265625 -20.09375 \r\nQ 16.0625 -19.390625 12.109375 -17.921875 \r\nL 12.109375 -9.1875 \r\nQ 16.0625 -11.328125 19.921875 -12.34375 \r\nQ 23.78125 -13.375 27.78125 -13.375 \r\nQ 36.625 -13.375 41.015625 -8.765625 \r\nQ 45.40625 -4.15625 45.40625 5.171875 \r\nL 45.40625 9.625 \r\nQ 42.625 4.78125 38.28125 2.390625 \r\nQ 33.9375 0 27.875 0 \r\nQ 17.828125 0 11.671875 7.65625 \r\nQ 5.515625 15.328125 5.515625 27.984375 \r\nQ 5.515625 40.671875 11.671875 48.328125 \r\nQ 17.828125 56 27.875 56 \r\nQ 33.9375 56 38.28125 53.609375 \r\nQ 42.625 51.21875 45.40625 46.390625 \r\nL 45.40625 54.6875 \r\nL 54.390625 54.6875 \r\nz\r\n\" id=\"DejaVuSans-103\"/>\r\n       <path d=\"M 41.109375 46.296875 \r\nQ 39.59375 47.171875 37.8125 47.578125 \r\nQ 36.03125 48 33.890625 48 \r\nQ 26.265625 48 22.1875 43.046875 \r\nQ 18.109375 38.09375 18.109375 28.8125 \r\nL 18.109375 0 \r\nL 9.078125 0 \r\nL 9.078125 54.6875 \r\nL 18.109375 54.6875 \r\nL 18.109375 46.1875 \r\nQ 20.953125 51.171875 25.484375 53.578125 \r\nQ 30.03125 56 36.53125 56 \r\nQ 37.453125 56 38.578125 55.875 \r\nQ 39.703125 55.765625 41.0625 55.515625 \r\nz\r\n\" id=\"DejaVuSans-114\"/>\r\n       <path d=\"M 34.28125 27.484375 \r\nQ 23.390625 27.484375 19.1875 25 \r\nQ 14.984375 22.515625 14.984375 16.5 \r\nQ 14.984375 11.71875 18.140625 8.90625 \r\nQ 21.296875 6.109375 26.703125 6.109375 \r\nQ 34.1875 6.109375 38.703125 11.40625 \r\nQ 43.21875 16.703125 43.21875 25.484375 \r\nL 43.21875 27.484375 \r\nz\r\nM 52.203125 31.203125 \r\nL 52.203125 0 \r\nL 43.21875 0 \r\nL 43.21875 8.296875 \r\nQ 40.140625 3.328125 35.546875 0.953125 \r\nQ 30.953125 -1.421875 24.3125 -1.421875 \r\nQ 15.921875 -1.421875 10.953125 3.296875 \r\nQ 6 8.015625 6 15.921875 \r\nQ 6 25.140625 12.171875 29.828125 \r\nQ 18.359375 34.515625 30.609375 34.515625 \r\nL 43.21875 34.515625 \r\nL 43.21875 35.40625 \r\nQ 43.21875 41.609375 39.140625 45 \r\nQ 35.0625 48.390625 27.6875 48.390625 \r\nQ 23 48.390625 18.546875 47.265625 \r\nQ 14.109375 46.140625 10.015625 43.890625 \r\nL 10.015625 52.203125 \r\nQ 14.9375 54.109375 19.578125 55.046875 \r\nQ 24.21875 56 28.609375 56 \r\nQ 40.484375 56 46.34375 49.84375 \r\nQ 52.203125 43.703125 52.203125 31.203125 \r\nz\r\n\" id=\"DejaVuSans-97\"/>\r\n       <path d=\"M 2.984375 54.6875 \r\nL 12.5 54.6875 \r\nL 29.59375 8.796875 \r\nL 46.6875 54.6875 \r\nL 56.203125 54.6875 \r\nL 35.6875 0 \r\nL 23.484375 0 \r\nz\r\n\" id=\"DejaVuSans-118\"/>\r\n       <path d=\"M 54.890625 54.6875 \r\nL 35.109375 28.078125 \r\nL 55.90625 0 \r\nL 45.3125 0 \r\nL 29.390625 21.484375 \r\nL 13.484375 0 \r\nL 2.875 0 \r\nL 24.125 28.609375 \r\nL 4.6875 54.6875 \r\nL 15.28125 54.6875 \r\nL 29.78125 35.203125 \r\nL 44.28125 54.6875 \r\nz\r\n\" id=\"DejaVuSans-120\"/>\r\n       <path d=\"M 18.109375 8.203125 \r\nL 18.109375 -20.796875 \r\nL 9.078125 -20.796875 \r\nL 9.078125 54.6875 \r\nL 18.109375 54.6875 \r\nL 18.109375 46.390625 \r\nQ 20.953125 51.265625 25.265625 53.625 \r\nQ 29.59375 56 35.59375 56 \r\nQ 45.5625 56 51.78125 48.09375 \r\nQ 58.015625 40.1875 58.015625 27.296875 \r\nQ 58.015625 14.40625 51.78125 6.484375 \r\nQ 45.5625 -1.421875 35.59375 -1.421875 \r\nQ 29.59375 -1.421875 25.265625 0.953125 \r\nQ 20.953125 3.328125 18.109375 8.203125 \r\nz\r\nM 48.6875 27.296875 \r\nQ 48.6875 37.203125 44.609375 42.84375 \r\nQ 40.53125 48.484375 33.40625 48.484375 \r\nQ 26.265625 48.484375 22.1875 42.84375 \r\nQ 18.109375 37.203125 18.109375 27.296875 \r\nQ 18.109375 17.390625 22.1875 11.75 \r\nQ 26.265625 6.109375 33.40625 6.109375 \r\nQ 40.53125 6.109375 44.609375 11.75 \r\nQ 48.6875 17.390625 48.6875 27.296875 \r\nz\r\n\" id=\"DejaVuSans-112\"/>\r\n       <path d=\"M 54.890625 33.015625 \r\nL 54.890625 0 \r\nL 45.90625 0 \r\nL 45.90625 32.71875 \r\nQ 45.90625 40.484375 42.875 44.328125 \r\nQ 39.84375 48.1875 33.796875 48.1875 \r\nQ 26.515625 48.1875 22.3125 43.546875 \r\nQ 18.109375 38.921875 18.109375 30.90625 \r\nL 18.109375 0 \r\nL 9.078125 0 \r\nL 9.078125 54.6875 \r\nL 18.109375 54.6875 \r\nL 18.109375 46.1875 \r\nQ 21.34375 51.125 25.703125 53.5625 \r\nQ 30.078125 56 35.796875 56 \r\nQ 45.21875 56 50.046875 50.171875 \r\nQ 54.890625 44.34375 54.890625 33.015625 \r\nz\r\n\" id=\"DejaVuSans-110\"/>\r\n      </defs>\r\n      <use xlink:href=\"#DejaVuSans-108\"/>\r\n      <use x=\"27.783203\" xlink:href=\"#DejaVuSans-111\"/>\r\n      <use x=\"88.964844\" xlink:href=\"#DejaVuSans-103\"/>\r\n      <use x=\"152.441406\" xlink:href=\"#DejaVuSans-32\"/>\r\n      <use x=\"184.228516\" xlink:href=\"#DejaVuSans-114\"/>\r\n      <use x=\"223.091797\" xlink:href=\"#DejaVuSans-101\"/>\r\n      <use x=\"284.615234\" xlink:href=\"#DejaVuSans-108\"/>\r\n      <use x=\"312.398438\" xlink:href=\"#DejaVuSans-97\"/>\r\n      <use x=\"373.677734\" xlink:href=\"#DejaVuSans-116\"/>\r\n      <use x=\"412.886719\" xlink:href=\"#DejaVuSans-105\"/>\r\n      <use x=\"440.669922\" xlink:href=\"#DejaVuSans-118\"/>\r\n      <use x=\"499.849609\" xlink:href=\"#DejaVuSans-101\"/>\r\n      <use x=\"561.373047\" xlink:href=\"#DejaVuSans-32\"/>\r\n      <use x=\"593.160156\" xlink:href=\"#DejaVuSans-101\"/>\r\n      <use x=\"652.933594\" xlink:href=\"#DejaVuSans-120\"/>\r\n      <use x=\"712.113281\" xlink:href=\"#DejaVuSans-112\"/>\r\n      <use x=\"775.589844\" xlink:href=\"#DejaVuSans-114\"/>\r\n      <use x=\"814.453125\" xlink:href=\"#DejaVuSans-101\"/>\r\n      <use x=\"875.976562\" xlink:href=\"#DejaVuSans-115\"/>\r\n      <use x=\"928.076172\" xlink:href=\"#DejaVuSans-115\"/>\r\n      <use x=\"980.175781\" xlink:href=\"#DejaVuSans-115\"/>\r\n      <use x=\"1032.275391\" xlink:href=\"#DejaVuSans-105\"/>\r\n      <use x=\"1060.058594\" xlink:href=\"#DejaVuSans-111\"/>\r\n      <use x=\"1121.240234\" xlink:href=\"#DejaVuSans-110\"/>\r\n      <use x=\"1184.619141\" xlink:href=\"#DejaVuSans-32\"/>\r\n      <use x=\"1216.40625\" xlink:href=\"#DejaVuSans-91\"/>\r\n      <use x=\"1255.419922\" xlink:href=\"#DejaVuSans-93\"/>\r\n     </g>\r\n    </g>\r\n   </g>\r\n   <g id=\"line2d_17\">\r\n    <path clip-path=\"url(#pb6cf366337)\" d=\"M 0 0 \r\n\" style=\"fill:none;stroke:#ff0000;stroke-linecap:square;stroke-width:1.5;\"/>\r\n   </g>\r\n   <g id=\"line2d_18\">\r\n    <path clip-path=\"url(#pb6cf366337)\" d=\"M 55.778125 20.90492 \r\nL 390.596222 20.90492 \r\nL 390.596222 20.90492 \r\n\" style=\"fill:none;stroke:#ff8200;stroke-linecap:square;stroke-width:1.5;\"/>\r\n   </g>\r\n   <g id=\"line2d_19\">\r\n    <path clip-path=\"url(#pb6cf366337)\" d=\"M 262.449095 266.995469 \r\nL 262.557844 102.156145 \r\nL 262.793109 94.639153 \r\nL 263.136957 90.216955 \r\nL 263.571293 87.269383 \r\nL 264.078017 85.263336 \r\nL 264.584741 84.078904 \r\nL 265.055271 83.493097 \r\nL 265.435314 83.338122 \r\nL 265.761066 83.439115 \r\nL 266.086817 83.788321 \r\nL 266.430666 84.499736 \r\nL 266.792611 85.805663 \r\nL 267.118363 87.836453 \r\nL 267.40792 91.171908 \r\nL 267.60699 96.027746 \r\nL 267.733671 105.043696 \r\nL 267.769866 117.348475 \r\nL 267.770041 266.995469 \r\nM 285.269754 266.995469 \r\nL 285.378536 82.472528 \r\nL 285.631898 74.729226 \r\nL 286.011941 69.845155 \r\nL 286.518666 66.167579 \r\nL 287.170168 63.059877 \r\nL 288.020741 60.094976 \r\nL 289.559011 55.694097 \r\nL 291.04299 51.177316 \r\nL 292.219314 46.844961 \r\nL 293.468028 41.35087 \r\nL 294.825325 34.332913 \r\nL 296.255011 25.746613 \r\nL 297.214168 18.795029 \r\nL 297.684698 13.735934 \r\nL 297.811379 12.560962 \r\nL 297.865671 12.604778 \r\nL 297.956157 12.607394 \r\nL 298.010449 8.622152 \r\nL 298.010449 8.622152 \r\n\" style=\"fill:none;stroke:#f4ff00;stroke-linecap:square;stroke-width:1.5;\"/>\r\n   </g>\r\n   <g id=\"line2d_20\">\r\n    <path clip-path=\"url(#pb6cf366337)\" d=\"M 184.323133 266.995469 \r\nL 184.431811 169.088322 \r\nL 184.685174 161.241753 \r\nL 185.065217 156.37305 \r\nL 185.553844 152.880317 \r\nL 186.169152 150.067243 \r\nL 186.874947 147.85171 \r\nL 187.65313 146.108747 \r\nL 188.467509 144.801503 \r\nL 189.281887 143.896381 \r\nL 190.041974 143.367238 \r\nL 190.729671 143.144752 \r\nL 191.363076 143.170209 \r\nL 191.94219 143.415847 \r\nL 192.503206 143.902856 \r\nL 193.046125 144.682343 \r\nL 193.570947 145.85213 \r\nL 194.041476 147.459359 \r\nL 194.457714 149.687494 \r\nL 194.801563 152.766574 \r\nL 195.054925 156.995313 \r\nL 195.217801 163.066831 \r\nL 195.308287 175.360276 \r\nL 195.308395 266.995469 \r\nM 210.003176 266.995469 \r\nL 210.111876 151.584562 \r\nL 210.365239 143.753844 \r\nL 210.745282 138.800092 \r\nL 211.252006 135.071774 \r\nL 211.885411 132.047238 \r\nL 212.627401 129.55677 \r\nL 213.477974 127.461706 \r\nL 214.400936 125.767598 \r\nL 215.341995 124.488242 \r\nL 216.264957 123.593255 \r\nL 217.133628 123.049358 \r\nL 217.929909 122.807313 \r\nL 218.635703 122.81628 \r\nL 219.287206 123.040622 \r\nL 219.902514 123.485734 \r\nL 220.499725 124.199998 \r\nL 221.060741 125.225768 \r\nL 221.585563 126.662849 \r\nL 222.056093 128.625315 \r\nL 222.454233 131.27521 \r\nL 222.761887 134.810138 \r\nL 222.979055 139.72926 \r\nL 223.105736 146.826364 \r\nL 223.160028 158.189517 \r\nL 223.160156 266.995469 \r\nM 236.968124 266.995469 \r\nL 237.076849 132.900918 \r\nL 237.330211 125.322148 \r\nL 237.710255 120.416211 \r\nL 238.216979 116.691817 \r\nL 238.850384 113.653104 \r\nL 239.610471 111.085711 \r\nL 240.461044 108.970893 \r\nL 241.384006 107.246494 \r\nL 242.343163 105.907417 \r\nL 243.284222 104.958802 \r\nL 244.17099 104.365973 \r\nL 244.985368 104.078874 \r\nL 245.727357 104.049054 \r\nL 246.396957 104.240303 \r\nL 247.030363 104.652873 \r\nL 247.645671 105.332139 \r\nL 248.224784 106.319287 \r\nL 248.767703 107.709584 \r\nL 249.25633 109.612669 \r\nL 249.672568 112.185744 \r\nL 249.99832 115.632744 \r\nL 250.233584 120.506543 \r\nL 250.378363 128.18668 \r\nL 250.432655 139.481957 \r\nL 250.432804 266.995469 \r\nM 264.077868 266.995469 \r\nL 264.186601 115.239694 \r\nL 264.439963 107.076332 \r\nL 264.820006 102.022743 \r\nL 265.32673 98.229704 \r\nL 265.960136 95.145497 \r\nL 266.720222 92.540154 \r\nL 267.588893 90.35125 \r\nL 268.529952 88.573862 \r\nL 269.489109 87.219001 \r\nL 270.430168 86.25516 \r\nL 271.316936 85.648707 \r\nL 272.131314 85.349183 \r\nL 272.873303 85.306652 \r\nL 273.561001 85.490815 \r\nL 274.212503 85.904352 \r\nL 274.827811 86.567773 \r\nL 275.406925 87.523023 \r\nL 275.949844 88.850631 \r\nL 276.456568 90.71372 \r\nL 276.890903 93.224818 \r\nL 277.234752 96.584135 \r\nL 277.488114 101.358207 \r\nL 277.65099 109.250643 \r\nL 277.705282 118.765437 \r\nL 277.705456 266.995469 \r\nM 291.006625 266.995469 \r\nL 291.115379 96.190328 \r\nL 291.368741 87.917031 \r\nL 291.748784 82.707709 \r\nL 292.273606 78.575685 \r\nL 292.943206 75.047505 \r\nL 293.793779 71.750012 \r\nL 294.879617 68.440936 \r\nL 297.503725 60.866572 \r\nL 297.666601 59.19439 \r\nL 297.992352 53.134046 \r\nL 297.992602 266.995469 \r\nM 298.046644 5.673324 \r\nL 298.063732 -1 \r\nL 298.063732 -1 \r\n\" style=\"fill:none;stroke:#6cff00;stroke-linecap:square;stroke-width:1.5;\"/>\r\n   </g>\r\n   <g id=\"line2d_21\">\r\n    <path clip-path=\"url(#pb6cf366337)\" d=\"M 0 0 \r\n\" style=\"fill:none;stroke:#00ff1b;stroke-linecap:square;stroke-width:1.5;\"/>\r\n   </g>\r\n   <g id=\"line2d_22\">\r\n    <path clip-path=\"url(#pb6cf366337)\" d=\"M 62.068173 266.995469 \r\nL 62.220763 254.121364 \r\nL 62.51032 247.676235 \r\nL 62.90846 243.540715 \r\nL 63.433282 240.352897 \r\nL 64.066687 237.82551 \r\nL 64.211466 236.977716 \r\nL 64.808676 234.154823 \r\nL 66.147876 229.444538 \r\nL 69.097736 221.304388 \r\nL 70.798882 217.68219 \r\nL 72.210471 215.093715 \r\nL 73.803033 212.582656 \r\nL 75.721347 210.054466 \r\nL 77.259617 208.392409 \r\nL 78.834082 207.012958 \r\nL 80.408547 205.954811 \r\nL 81.874428 205.259911 \r\nL 83.19553 204.883582 \r\nL 84.371855 204.75983 \r\nL 85.493887 204.840871 \r\nL 86.706406 205.164674 \r\nL 87.792244 205.679992 \r\nL 88.859984 206.410648 \r\nL 90.054406 207.494108 \r\nL 91.628871 209.289164 \r\nL 93.185239 211.003129 \r\nL 93.818644 211.415231 \r\nL 94.343466 211.511956 \r\nL 94.795898 211.373347 \r\nL 95.32072 210.936828 \r\nL 95.91793 210.109634 \r\nL 96.714211 208.594796 \r\nL 98.542039 204.43397 \r\nL 100.387963 200.498521 \r\nL 101.871941 197.838299 \r\nL 103.301628 195.7212 \r\nL 104.640828 194.118996 \r\nL 105.907639 192.932909 \r\nL 107.083963 192.121055 \r\nL 108.169801 191.631821 \r\nL 109.147055 191.425883 \r\nL 110.033822 191.45807 \r\nL 110.848201 191.704688 \r\nL 111.608287 192.166147 \r\nL 112.332179 192.873722 \r\nL 113.001779 193.846874 \r\nL 113.617087 195.135452 \r\nL 114.178103 196.835626 \r\nL 114.66673 199.042516 \r\nL 115.082968 202.027866 \r\nL 115.390622 205.880952 \r\nL 115.60779 211.475522 \r\nL 115.734471 221.382852 \r\nL 115.770666 243.976041 \r\nL 115.770693 266.995469 \r\nM 127.009049 266.995469 \r\nL 127.117671 207.078907 \r\nL 127.371033 198.83818 \r\nL 127.751076 193.726364 \r\nL 128.257801 189.866967 \r\nL 128.891206 186.704864 \r\nL 129.651293 184.008693 \r\nL 130.53806 181.674256 \r\nL 131.497217 179.757478 \r\nL 132.510666 178.215157 \r\nL 133.524114 177.066762 \r\nL 134.483271 176.301311 \r\nL 135.370039 175.864469 \r\nL 136.184417 175.70488 \r\nL 136.926406 175.785898 \r\nL 137.614103 176.09036 \r\nL 138.247509 176.615687 \r\nL 138.862817 177.425917 \r\nL 139.44193 178.576257 \r\nL 139.966752 180.130979 \r\nL 140.437282 182.259355 \r\nL 140.817325 185.015998 \r\nL 141.124979 188.966596 \r\nL 141.324049 194.26547 \r\nL 141.45073 204.634792 \r\nL 141.468828 209.714862 \r\nL 141.468895 266.995469 \r\nM 154.878848 266.995469 \r\nL 154.987509 186.989647 \r\nL 155.240871 179.243741 \r\nL 155.620914 174.291328 \r\nL 156.127639 170.542638 \r\nL 156.761044 167.485737 \r\nL 157.52113 164.90165 \r\nL 158.389801 162.731211 \r\nL 159.33086 160.96979 \r\nL 160.290017 159.627374 \r\nL 161.231076 158.671662 \r\nL 162.117844 158.068844 \r\nL 162.932222 157.769278 \r\nL 163.674211 157.724472 \r\nL 164.361909 157.90583 \r\nL 164.995314 158.303066 \r\nL 165.610622 158.961222 \r\nL 166.189736 159.918715 \r\nL 166.732655 161.264158 \r\nL 167.221282 163.094358 \r\nL 167.63752 165.537102 \r\nL 167.981368 168.963529 \r\nL 168.23473 173.963172 \r\nL 168.379509 181.156045 \r\nL 168.433801 189.97193 \r\nL 168.45197 266.995469 \r\nM 182.11526 266.995469 \r\nL 182.223941 168.455401 \r\nL 182.477303 160.663017 \r\nL 182.857347 155.703088 \r\nL 183.364071 151.955393 \r\nL 183.997476 148.903136 \r\nL 184.757563 146.325977 \r\nL 185.608136 144.203115 \r\nL 186.531098 142.471174 \r\nL 187.490255 141.124422 \r\nL 188.431314 140.167706 \r\nL 189.318082 139.566119 \r\nL 190.13246 139.269406 \r\nL 190.874449 139.228827 \r\nL 191.562147 139.415923 \r\nL 192.195552 139.820709 \r\nL 192.81086 140.48954 \r\nL 193.389974 141.462387 \r\nL 193.932893 142.831527 \r\nL 194.42152 144.700795 \r\nL 194.837757 147.21384 \r\nL 195.163509 150.540008 \r\nL 195.416871 155.645709 \r\nL 195.561649 163.239402 \r\nL 195.615941 174.010488 \r\nL 195.616051 266.995469 \r\nM 209.279288 266.995469 \r\nL 209.387984 150.342557 \r\nL 209.641347 142.272015 \r\nL 210.02139 137.24617 \r\nL 210.528114 133.471666 \r\nL 211.16152 130.405091 \r\nL 211.921606 127.818644 \r\nL 212.772179 125.688935 \r\nL 213.695141 123.951189 \r\nL 214.654298 122.599017 \r\nL 215.595357 121.636956 \r\nL 216.482125 121.029856 \r\nL 217.296503 120.727247 \r\nL 218.038493 120.680112 \r\nL 218.72619 120.859486 \r\nL 219.359595 121.254862 \r\nL 219.974903 121.910949 \r\nL 220.554017 122.86589 \r\nL 221.096936 124.207706 \r\nL 221.585563 126.032144 \r\nL 222.001801 128.464672 \r\nL 222.345649 131.869174 \r\nL 222.599011 136.8089 \r\nL 222.74379 143.788239 \r\nL 222.816179 161.535619 \r\nL 222.816303 266.995469 \r\nM 236.461397 266.995469 \r\nL 236.570125 131.111359 \r\nL 236.823487 123.517002 \r\nL 237.20353 118.604244 \r\nL 237.710255 114.873853 \r\nL 238.34366 111.828616 \r\nL 239.103747 109.253691 \r\nL 239.972417 107.091356 \r\nL 240.913476 105.337605 \r\nL 241.872633 104.002687 \r\nL 242.813693 103.054569 \r\nL 243.70046 102.459563 \r\nL 244.514839 102.168145 \r\nL 245.256828 102.132013 \r\nL 245.944525 102.323013 \r\nL 246.57793 102.731223 \r\nL 247.193239 103.403145 \r\nL 247.772352 104.378492 \r\nL 248.315271 105.74916 \r\nL 248.803898 107.61811 \r\nL 249.220136 110.127162 \r\nL 249.545887 113.441386 \r\nL 249.799249 118.507387 \r\nL 249.944028 125.941329 \r\nL 249.99832 135.844736 \r\nL 249.998473 266.995469 \r\nM 263.60733 266.995469 \r\nL 263.716071 113.2162 \r\nL 263.969433 105.177724 \r\nL 264.349476 100.151623 \r\nL 264.856201 96.368275 \r\nL 265.489606 93.287695 \r\nL 266.249693 90.683077 \r\nL 267.118363 88.493098 \r\nL 268.059422 86.713347 \r\nL 269.018579 85.355184 \r\nL 269.959639 84.387332 \r\nL 270.846406 83.776369 \r\nL 271.660784 83.471952 \r\nL 272.402774 83.424125 \r\nL 273.090471 83.602333 \r\nL 273.741974 84.008767 \r\nL 274.357282 84.66327 \r\nL 274.954493 85.642557 \r\nL 275.497411 86.969935 \r\nL 276.004136 88.832346 \r\nL 276.438471 91.341729 \r\nL 276.78232 94.696827 \r\nL 277.035682 99.458901 \r\nL 277.198557 107.297461 \r\nL 277.252849 116.574211 \r\nL 277.271085 266.995469 \r\nM 290.572279 266.995469 \r\nL 290.681044 94.079383 \r\nL 290.934406 86.02412 \r\nL 291.314449 80.868422 \r\nL 291.839271 76.762501 \r\nL 292.508871 73.253036 \r\nL 293.359444 69.974731 \r\nL 294.445282 66.693517 \r\nL 296.055941 62.609715 \r\nL 297.159876 59.605911 \r\nL 297.503725 58.078716 \r\nL 297.684698 56.189304 \r\nL 298.010449 51.843428 \r\nL 298.028547 51.829868 \r\nL 298.064741 4.970466 \r\nL 298.064741 4.970466 \r\n\" style=\"fill:none;stroke:#00ffa3;stroke-linecap:square;stroke-width:1.5;\"/>\r\n   </g>\r\n   <g id=\"line2d_23\">\r\n    <path clip-path=\"url(#pb6cf366337)\" d=\"M 0 0 \r\n\" style=\"fill:none;stroke:#00d9ff;stroke-linecap:square;stroke-width:1.5;\"/>\r\n   </g>\r\n   <g id=\"line2d_24\">\r\n    <path clip-path=\"url(#pb6cf366337)\" d=\"M 55.814295 266.995469 \r\nL 55.922903 216.23259 \r\nL 56.194363 194.953983 \r\nL 56.574406 182.07139 \r\nL 57.063033 172.705976 \r\nL 57.660244 165.362015 \r\nL 58.366039 159.354978 \r\nL 59.180417 154.306499 \r\nL 60.085282 150.056663 \r\nL 61.09873 146.34205 \r\nL 62.220763 143.06395 \r\nL 63.451379 140.147067 \r\nL 64.808676 137.500352 \r\nL 66.292655 135.092462 \r\nL 67.921411 132.871776 \r\nL 69.713044 130.80317 \r\nL 71.703747 128.845422 \r\nL 73.911617 126.987494 \r\nL 76.372849 125.208399 \r\nL 79.141736 123.484864 \r\nL 82.254471 121.813681 \r\nL 85.765347 120.186086 \r\nL 89.728655 118.598901 \r\nL 94.198687 117.052316 \r\nL 99.284028 115.532922 \r\nL 105.057066 114.044621 \r\nL 111.572093 112.598144 \r\nL 118.811011 111.222126 \r\nL 127.153866 109.870522 \r\nL 137.541714 108.420282 \r\nL 145.812179 107.472772 \r\nL 169.519639 105.223247 \r\nL 172.650471 105.219952 \r\nL 175.835595 105.445619 \r\nL 181.681022 105.919392 \r\nL 183.526947 105.78766 \r\nL 185.24619 105.440176 \r\nL 187.146406 104.819584 \r\nL 193.589044 102.494939 \r\nL 194.946341 102.366252 \r\nL 196.104568 102.47237 \r\nL 197.136114 102.786199 \r\nL 198.077174 103.307548 \r\nL 198.927747 104.03494 \r\nL 199.70593 104.992849 \r\nL 200.429822 106.245725 \r\nL 201.081325 107.83359 \r\nL 201.660439 109.864867 \r\nL 202.149066 112.443676 \r\nL 202.529109 115.660466 \r\nL 202.818666 120.064347 \r\nL 202.999639 126.009608 \r\nL 203.090125 134.43908 \r\nL 203.108222 139.107599 \r\nL 203.126415 266.995469 \r\nM 214.03884 266.995469 \r\nL 214.147574 121.16098 \r\nL 214.400936 113.175486 \r\nL 214.780979 108.155326 \r\nL 215.287703 104.371302 \r\nL 215.921109 101.292481 \r\nL 216.663098 98.750252 \r\nL 217.513671 96.607714 \r\nL 218.436633 94.874853 \r\nL 219.377693 93.569699 \r\nL 220.282557 92.67894 \r\nL 221.115033 92.152717 \r\nL 221.87512 91.923422 \r\nL 222.562817 91.94406 \r\nL 223.196222 92.188464 \r\nL 223.793433 92.665651 \r\nL 224.354449 93.403239 \r\nL 224.897368 94.499349 \r\nL 225.404093 96.059085 \r\nL 225.838428 98.132788 \r\nL 226.200374 100.940963 \r\nL 226.48993 105.01747 \r\nL 226.689001 111.348035 \r\nL 226.779487 120.267957 \r\nL 226.797584 125.772324 \r\nL 226.79775 266.995469 \r\nM 242.053429 266.995469 \r\nL 242.16219 100.897123 \r\nL 242.415552 93.213665 \r\nL 242.795595 88.326025 \r\nL 243.30232 84.659709 \r\nL 243.917628 81.777176 \r\nL 244.64152 79.403658 \r\nL 245.455898 77.462961 \r\nL 246.324568 75.942062 \r\nL 247.211336 74.822934 \r\nL 248.061909 74.096992 \r\nL 248.840093 73.715408 \r\nL 249.545887 73.612801 \r\nL 250.179293 73.742199 \r\nL 250.776503 74.093633 \r\nL 251.355617 74.705202 \r\nL 251.898536 75.609816 \r\nL 252.423357 76.941323 \r\nL 252.893887 78.775949 \r\nL 253.292028 81.243397 \r\nL 253.617779 84.719805 \r\nL 253.853044 89.750086 \r\nL 253.997822 98.231364 \r\nL 254.052114 121.186723 \r\nL 254.052285 266.995469 \r\nM 269.01838 266.995469 \r\nL 269.127163 82.274644 \r\nL 269.380525 74.547593 \r\nL 269.760568 69.625302 \r\nL 270.267293 65.920292 \r\nL 270.900698 62.925373 \r\nL 271.642687 60.480174 \r\nL 272.457066 58.531638 \r\nL 273.325736 57.008521 \r\nL 274.194406 55.918751 \r\nL 275.008784 55.233932 \r\nL 275.768871 54.87357 \r\nL 276.456568 54.785835 \r\nL 277.089974 54.924502 \r\nL 277.705282 55.293412 \r\nL 278.302493 55.924865 \r\nL 278.881606 56.881578 \r\nL 279.424525 58.231653 \r\nL 279.913152 60.065123 \r\nL 280.32939 62.500518 \r\nL 280.673239 65.889708 \r\nL 280.926601 70.758677 \r\nL 281.071379 77.4651 \r\nL 281.143768 91.208773 \r\nL 281.143974 266.995469 \r\nM 297.974255 14.084518 \r\n\" style=\"fill:none;stroke:#0051ff;stroke-linecap:square;stroke-width:1.5;\"/>\r\n   </g>\r\n   <g id=\"line2d_25\">\r\n    <path clip-path=\"url(#pb6cf366337)\" d=\"M 0 0 \r\n\" style=\"fill:none;stroke:#3700ff;stroke-linecap:square;stroke-width:1.5;\"/>\r\n   </g>\r\n   <g id=\"line2d_26\">\r\n    <path clip-path=\"url(#pb6cf366337)\" d=\"M 56.765665 266.995469 \r\nL 56.918255 254.121364 \r\nL 57.262103 245.67121 \r\nL 57.805022 236.71725 \r\nL 58.510817 228.429639 \r\nL 59.433779 220.46442 \r\nL 60.338644 214.46534 \r\nL 61.424482 208.721624 \r\nL 62.600806 203.691724 \r\nL 63.84952 199.303472 \r\nL 65.18872 195.398916 \r\nL 66.564114 192.054046 \r\nL 67.975703 189.187621 \r\nL 69.387293 186.808448 \r\nL 70.762687 184.908294 \r\nL 72.08379 183.449248 \r\nL 73.314406 182.410652 \r\nL 74.436439 181.74612 \r\nL 75.43179 181.404666 \r\nL 76.318557 181.326283 \r\nL 77.114839 181.472594 \r\nL 77.856828 181.838465 \r\nL 78.544525 182.434735 \r\nL 79.17793 183.284373 \r\nL 79.775141 184.472897 \r\nL 80.31806 186.075659 \r\nL 80.78859 188.184442 \r\nL 81.18673 191.051753 \r\nL 81.494384 195.00258 \r\nL 81.711552 201.076245 \r\nL 81.820136 210.539489 \r\nL 81.838233 215.453119 \r\nL 81.838294 266.995469 \r\nM 96.985601 266.995469 \r\nL 97.094255 193.293894 \r\nL 97.347617 185.671667 \r\nL 97.72766 180.828211 \r\nL 98.234384 177.213571 \r\nL 98.849693 174.393887 \r\nL 99.573584 172.098065 \r\nL 100.369866 170.287245 \r\nL 101.202341 168.919895 \r\nL 102.034817 167.961472 \r\nL 102.813001 167.387156 \r\nL 103.518795 167.128322 \r\nL 104.152201 167.122678 \r\nL 104.749411 167.342806 \r\nL 105.310428 167.793655 \r\nL 105.853347 168.525485 \r\nL 106.378168 169.627199 \r\nL 106.866795 171.206048 \r\nL 107.30113 173.424671 \r\nL 107.663076 176.553154 \r\nL 107.934536 181.055269 \r\nL 108.097411 187.32272 \r\nL 108.187898 201.648043 \r\nL 108.187975 266.995469 \r\nM 123.045689 266.995469 \r\nL 123.154363 175.185223 \r\nL 123.407725 167.452623 \r\nL 123.787768 162.523886 \r\nL 124.294493 158.80692 \r\nL 124.927898 155.789361 \r\nL 125.669887 153.303859 \r\nL 126.52046 151.21259 \r\nL 127.443422 149.521182 \r\nL 128.384482 148.243316 \r\nL 129.307444 147.348492 \r\nL 130.176114 146.803299 \r\nL 130.972395 146.558375 \r\nL 131.696287 146.565932 \r\nL 132.365887 146.799419 \r\nL 132.999293 147.266915 \r\nL 133.596503 147.99548 \r\nL 134.15752 149.038284 \r\nL 134.682341 150.49799 \r\nL 135.152871 152.494071 \r\nL 135.551011 155.201622 \r\nL 135.858666 158.853042 \r\nL 136.075833 164.080239 \r\nL 136.202514 172.408565 \r\nL 136.238709 180.722981 \r\nL 136.23881 266.995469 \r\nM 149.902061 266.995469 \r\nL 150.010752 157.343683 \r\nL 150.264114 149.38489 \r\nL 150.644157 144.383165 \r\nL 151.150882 140.616193 \r\nL 151.784287 137.551186 \r\nL 152.544374 134.963155 \r\nL 153.413044 132.790567 \r\nL 154.354103 131.027571 \r\nL 155.31326 129.68343 \r\nL 156.272417 128.710178 \r\nL 157.177282 128.10061 \r\nL 157.99166 127.807756 \r\nL 158.733649 127.768457 \r\nL 159.421347 127.954469 \r\nL 160.054752 128.355612 \r\nL 160.67006 129.01715 \r\nL 161.249174 129.977284 \r\nL 161.792093 131.324338 \r\nL 162.28072 133.154404 \r\nL 162.696957 135.593774 \r\nL 163.040806 139.009202 \r\nL 163.294168 143.974062 \r\nL 163.438947 151.036836 \r\nL 163.493239 159.339654 \r\nL 163.511336 170.688467 \r\nL 163.511449 266.995469 \r\nM 177.084176 266.995469 \r\nL 177.192893 138.606664 \r\nL 177.446255 130.801574 \r\nL 177.826298 125.835904 \r\nL 178.333022 122.082902 \r\nL 178.966428 119.024674 \r\nL 179.726514 116.440443 \r\nL 180.595184 114.270256 \r\nL 181.536244 112.509018 \r\nL 182.495401 111.166395 \r\nL 183.454557 110.194709 \r\nL 184.341325 109.596142 \r\nL 185.155703 109.299731 \r\nL 185.897693 109.257176 \r\nL 186.58539 109.439994 \r\nL 187.218795 109.837851 \r\nL 187.834103 110.495588 \r\nL 188.413217 111.451094 \r\nL 188.956136 112.791902 \r\nL 189.444763 114.61268 \r\nL 189.861001 117.03654 \r\nL 190.204849 120.420078 \r\nL 190.458211 125.30039 \r\nL 190.60299 132.07341 \r\nL 190.675379 146.634449 \r\nL 190.67552 266.995469 \r\nM 204.266303 266.995469 \r\nL 204.375033 120.496655 \r\nL 204.628395 112.404602 \r\nL 205.008439 107.372161 \r\nL 205.515163 103.593185 \r\nL 206.148568 100.52233 \r\nL 206.908655 97.931183 \r\nL 207.759228 95.79622 \r\nL 208.700287 94.022913 \r\nL 209.659444 92.671473 \r\nL 210.618601 91.692734 \r\nL 211.523466 91.07903 \r\nL 212.337844 90.783056 \r\nL 213.079833 90.741302 \r\nL 213.76753 90.92533 \r\nL 214.400936 91.324896 \r\nL 215.016244 91.985178 \r\nL 215.595357 92.944492 \r\nL 216.138276 94.291341 \r\nL 216.626903 96.122237 \r\nL 217.043141 98.56437 \r\nL 217.38699 101.987227 \r\nL 217.640352 106.974198 \r\nL 217.78513 114.117961 \r\nL 217.839422 122.733498 \r\nL 217.85752 136.427073 \r\nL 217.857673 266.995469 \r\nM 231.448424 266.995469 \r\nL 231.557174 102.04571 \r\nL 231.810536 93.902138 \r\nL 232.190579 88.858178 \r\nL 232.697303 85.074833 \r\nL 233.330709 82.001882 \r\nL 234.090795 79.409525 \r\nL 234.941368 77.273708 \r\nL 235.882428 75.499599 \r\nL 236.841584 74.147313 \r\nL 237.800741 73.167649 \r\nL 238.705606 72.553015 \r\nL 239.519984 72.256211 \r\nL 240.261974 72.213786 \r\nL 240.949671 72.397366 \r\nL 241.583076 72.796801 \r\nL 242.198384 73.457416 \r\nL 242.777498 74.417797 \r\nL 243.320417 75.766959 \r\nL 243.809044 77.602382 \r\nL 244.225282 80.053346 \r\nL 244.56913 83.495961 \r\nL 244.822493 88.538052 \r\nL 244.967271 95.884746 \r\nL 245.021563 105.370083 \r\nL 245.021752 266.995469 \r\nM 258.630544 266.995469 \r\nL 258.739314 83.581594 \r\nL 258.992676 75.426267 \r\nL 259.37272 70.380093 \r\nL 259.879444 66.595774 \r\nL 260.512849 63.521272 \r\nL 261.272936 60.92552 \r\nL 262.141606 58.744019 \r\nL 263.082666 56.969203 \r\nL 264.05992 55.587958 \r\nL 265.019076 54.602782 \r\nL 265.923941 53.979149 \r\nL 266.73832 53.672488 \r\nL 267.480309 53.620994 \r\nL 268.168006 53.7976 \r\nL 268.801411 54.19365 \r\nL 269.398622 54.83215 \r\nL 269.977736 55.791095 \r\nL 270.520655 57.148076 \r\nL 271.009282 59.007269 \r\nL 271.42552 61.512055 \r\nL 271.751271 64.830563 \r\nL 272.004633 69.92359 \r\nL 272.149411 77.476768 \r\nL 272.203703 88.022915 \r\nL 272.203913 266.995469 \r\nM 285.848872 266.995469 \r\nL 285.957649 65.839507 \r\nL 286.211011 57.585687 \r\nL 286.591055 52.522395 \r\nL 287.097779 48.727779 \r\nL 287.731184 45.629317 \r\nL 288.509368 42.922229 \r\nL 289.43233 40.513548 \r\nL 290.500071 38.339655 \r\nL 291.748784 36.297179 \r\nL 293.287055 34.217964 \r\nL 296.39979 30.148498 \r\nL 297.033195 28.812118 \r\nL 297.485628 27.325563 \r\nL 297.702795 26.509784 \r\nL 297.73899 26.588209 \r\nL 297.793282 27.807377 \r\nL 297.829476 32.294315 \r\nL 297.847574 44.775582 \r\nL 297.847833 266.995469 \r\nM 298.046644 7.323498 \r\nL 298.068639 -1 \r\nL 298.068639 -1 \r\n\" style=\"fill:none;stroke:#bf00ff;stroke-linecap:square;stroke-width:1.5;\"/>\r\n   </g>\r\n   <g id=\"line2d_27\">\r\n    <path clip-path=\"url(#pb6cf366337)\" d=\"M 56.240843 266.995469 \r\nL 56.393433 254.121364 \r\nL 57.135422 231.644933 \r\nL 57.786925 221.064283 \r\nL 58.510817 212.826801 \r\nL 59.379487 205.482355 \r\nL 60.338644 199.223627 \r\nL 61.424482 193.587612 \r\nL 62.618903 188.546043 \r\nL 63.940006 183.928768 \r\nL 65.369693 179.73033 \r\nL 66.92606 175.842283 \r\nL 68.609109 172.231234 \r\nL 70.418839 168.868896 \r\nL 72.373347 165.703842 \r\nL 74.472633 162.725325 \r\nL 76.734795 159.900818 \r\nL 79.17793 157.206998 \r\nL 81.820136 154.626008 \r\nL 84.697606 152.127779 \r\nL 87.864633 149.675967 \r\nL 91.357411 147.256081 \r\nL 95.212136 144.858455 \r\nL 99.374514 142.53292 \r\nL 103.717866 140.361085 \r\nL 108.260287 138.340334 \r\nL 113.39992 136.305477 \r\nL 122.321887 133.066195 \r\nL 132.945001 129.363249 \r\nL 138.211314 127.798044 \r\nL 146.427487 125.394356 \r\nL 149.829779 124.113295 \r\nL 154.17313 122.212042 \r\nL 159.204179 120.062349 \r\nL 162.244525 119.014669 \r\nL 165.35726 118.184365 \r\nL 171.510341 116.620777 \r\nL 173.482947 115.817347 \r\nL 175.40126 114.790137 \r\nL 177.627228 113.330103 \r\nL 185.24619 108.098567 \r\nL 187.273087 107.109698 \r\nL 189.155206 106.436233 \r\nL 191.00113 106.01051 \r\nL 192.991833 105.783901 \r\nL 198.384828 105.329128 \r\nL 199.615444 104.876423 \r\nL 200.791768 104.203692 \r\nL 202.058579 103.215729 \r\nL 203.633044 101.68386 \r\nL 206.818168 98.174588 \r\nL 209.243206 95.690201 \r\nL 211.107228 94.088716 \r\nL 212.772179 92.942327 \r\nL 214.310449 92.147307 \r\nL 215.740136 91.652473 \r\nL 217.097433 91.413073 \r\nL 218.418536 91.405618 \r\nL 219.721541 91.621448 \r\nL 221.078839 92.074689 \r\nL 222.725693 92.874745 \r\nL 224.95166 93.947247 \r\nL 225.802233 94.103239 \r\nL 226.508028 94.012437 \r\nL 227.177628 93.698189 \r\nL 227.883422 93.112973 \r\nL 228.715898 92.117353 \r\nL 229.83793 90.39467 \r\nL 235.339509 81.426419 \r\nL 236.932071 79.488981 \r\nL 238.416049 78.023582 \r\nL 239.809541 76.950763 \r\nL 241.112547 76.221197 \r\nL 242.325066 75.792461 \r\nL 243.447098 75.627607 \r\nL 244.496741 75.696478 \r\nL 245.473995 75.97993 \r\nL 246.415055 76.484688 \r\nL 247.31992 77.225686 \r\nL 248.18859 78.227482 \r\nL 249.021066 79.529285 \r\nL 249.817347 81.194671 \r\nL 250.559336 83.273304 \r\nL 251.228936 85.818681 \r\nL 251.826147 88.9989 \r\nL 252.314774 92.844467 \r\nL 252.694817 97.692875 \r\nL 252.948179 103.870418 \r\nL 253.092957 113.351381 \r\nL 253.129152 121.926922 \r\nL 253.129322 266.995469 \r\nM 255.119685 266.995469 \r\nL 255.228439 105.971352 \r\nL 255.481801 97.389896 \r\nL 255.879941 91.21698 \r\nL 256.440957 85.986193 \r\nL 257.146752 81.47792 \r\nL 257.997325 77.465427 \r\nL 258.974579 73.904002 \r\nL 260.078514 70.708694 \r\nL 261.272936 67.917225 \r\nL 262.539747 65.507839 \r\nL 263.842752 63.495326 \r\nL 265.145757 61.882485 \r\nL 266.394471 60.677481 \r\nL 267.570795 59.837766 \r\nL 268.656633 59.323063 \r\nL 269.651984 59.086418 \r\nL 270.574947 59.090374 \r\nL 271.42552 59.312635 \r\nL 272.239898 59.759074 \r\nL 272.999984 60.430517 \r\nL 273.723876 61.36651 \r\nL 274.411574 62.62506 \r\nL 275.044979 64.259837 \r\nL 275.605995 66.337208 \r\nL 276.076525 68.931568 \r\nL 276.456568 72.270664 \r\nL 276.746125 76.881625 \r\nL 276.927098 83.344521 \r\nL 277.017584 94.349822 \r\nL 277.035682 106.008578 \r\nL 277.03587 266.995469 \r\nM 285.215474 266.995469 \r\nL 285.324244 78.625644 \r\nL 285.577606 70.266197 \r\nL 285.957649 64.998627 \r\nL 286.482471 60.814992 \r\nL 287.152071 57.25393 \r\nL 287.984547 54.02559 \r\nL 288.979898 51.044861 \r\nL 290.17432 48.173717 \r\nL 291.567811 45.404706 \r\nL 293.268957 42.529645 \r\nL 296.707444 36.886767 \r\nL 297.250363 35.417841 \r\nL 297.594211 33.872872 \r\nL 297.775184 32.841592 \r\nL 297.793282 32.971774 \r\nL 297.865671 35.906815 \r\nL 297.974255 45.397848 \r\nL 297.974513 266.995469 \r\nM 298.010176 266.995469 \r\nL 298.046644 1.204391 \r\nL 298.046644 1.204391 \r\n\" style=\"fill:none;stroke:#ff00b7;stroke-linecap:square;stroke-width:1.5;\"/>\r\n   </g>\r\n   <g id=\"line2d_28\">\r\n    <path clip-path=\"url(#pb6cf366337)\" d=\"M 0 0 \r\n\" style=\"fill:none;stroke:#ff0035;stroke-linecap:square;stroke-width:1.5;\"/>\r\n   </g>\r\n   <g id=\"patch_3\">\r\n    <path d=\"M 55.778125 228.439219 \r\nL 55.778125 10.999219 \r\n\" style=\"fill:none;stroke:#000000;stroke-linecap:square;stroke-linejoin:miter;stroke-width:0.8;\"/>\r\n   </g>\r\n   <g id=\"patch_4\">\r\n    <path d=\"M 390.578125 228.439219 \r\nL 390.578125 10.999219 \r\n\" style=\"fill:none;stroke:#000000;stroke-linecap:square;stroke-linejoin:miter;stroke-width:0.8;\"/>\r\n   </g>\r\n   <g id=\"patch_5\">\r\n    <path d=\"M 55.778125 228.439219 \r\nL 390.578125 228.439219 \r\n\" style=\"fill:none;stroke:#000000;stroke-linecap:square;stroke-linejoin:miter;stroke-width:0.8;\"/>\r\n   </g>\r\n   <g id=\"patch_6\">\r\n    <path d=\"M 55.778125 10.999219 \r\nL 390.578125 10.999219 \r\n\" style=\"fill:none;stroke:#000000;stroke-linecap:square;stroke-linejoin:miter;stroke-width:0.8;\"/>\r\n   </g>\r\n   <g id=\"legend_1\">\r\n    <g id=\"patch_7\">\r\n     <path d=\"M 317.1875 223.439219 \r\nL 383.578125 223.439219 \r\nQ 385.578125 223.439219 385.578125 221.439219 \r\nL 385.578125 46.301719 \r\nQ 385.578125 44.301719 383.578125 44.301719 \r\nL 317.1875 44.301719 \r\nQ 315.1875 44.301719 315.1875 46.301719 \r\nL 315.1875 221.439219 \r\nQ 315.1875 223.439219 317.1875 223.439219 \r\nz\r\n\" style=\"fill:#ffffff;opacity:0.8;stroke:#cccccc;stroke-linejoin:miter;\"/>\r\n    </g>\r\n    <g id=\"line2d_29\">\r\n     <path d=\"M 319.1875 52.400156 \r\nL 339.1875 52.400156 \r\n\" style=\"fill:none;stroke:#ff0000;stroke-linecap:square;stroke-width:1.5;\"/>\r\n    </g>\r\n    <g id=\"line2d_30\"/>\r\n    <g id=\"text_19\">\r\n     <!-- CLN3 -->\r\n     <g transform=\"translate(347.1875 55.900156)scale(0.1 -0.1)\">\r\n      <defs>\r\n       <path d=\"M 64.40625 67.28125 \r\nL 64.40625 56.890625 \r\nQ 59.421875 61.53125 53.78125 63.8125 \r\nQ 48.140625 66.109375 41.796875 66.109375 \r\nQ 29.296875 66.109375 22.65625 58.46875 \r\nQ 16.015625 50.828125 16.015625 36.375 \r\nQ 16.015625 21.96875 22.65625 14.328125 \r\nQ 29.296875 6.6875 41.796875 6.6875 \r\nQ 48.140625 6.6875 53.78125 8.984375 \r\nQ 59.421875 11.28125 64.40625 15.921875 \r\nL 64.40625 5.609375 \r\nQ 59.234375 2.09375 53.4375 0.328125 \r\nQ 47.65625 -1.421875 41.21875 -1.421875 \r\nQ 24.65625 -1.421875 15.125 8.703125 \r\nQ 5.609375 18.84375 5.609375 36.375 \r\nQ 5.609375 53.953125 15.125 64.078125 \r\nQ 24.65625 74.21875 41.21875 74.21875 \r\nQ 47.75 74.21875 53.53125 72.484375 \r\nQ 59.328125 70.75 64.40625 67.28125 \r\nz\r\n\" id=\"DejaVuSans-67\"/>\r\n       <path d=\"M 9.8125 72.90625 \r\nL 19.671875 72.90625 \r\nL 19.671875 8.296875 \r\nL 55.171875 8.296875 \r\nL 55.171875 0 \r\nL 9.8125 0 \r\nz\r\n\" id=\"DejaVuSans-76\"/>\r\n       <path d=\"M 9.8125 72.90625 \r\nL 23.09375 72.90625 \r\nL 55.421875 11.921875 \r\nL 55.421875 72.90625 \r\nL 64.984375 72.90625 \r\nL 64.984375 0 \r\nL 51.703125 0 \r\nL 19.390625 60.984375 \r\nL 19.390625 0 \r\nL 9.8125 0 \r\nz\r\n\" id=\"DejaVuSans-78\"/>\r\n      </defs>\r\n      <use xlink:href=\"#DejaVuSans-67\"/>\r\n      <use x=\"69.824219\" xlink:href=\"#DejaVuSans-76\"/>\r\n      <use x=\"125.537109\" xlink:href=\"#DejaVuSans-78\"/>\r\n      <use x=\"200.341797\" xlink:href=\"#DejaVuSans-51\"/>\r\n     </g>\r\n    </g>\r\n    <g id=\"line2d_31\">\r\n     <path d=\"M 319.1875 67.078281 \r\nL 339.1875 67.078281 \r\n\" style=\"fill:none;stroke:#ff8200;stroke-linecap:square;stroke-width:1.5;\"/>\r\n    </g>\r\n    <g id=\"line2d_32\"/>\r\n    <g id=\"text_20\">\r\n     <!-- SWI5 -->\r\n     <g transform=\"translate(347.1875 70.578281)scale(0.1 -0.1)\">\r\n      <defs>\r\n       <path d=\"M 53.515625 70.515625 \r\nL 53.515625 60.890625 \r\nQ 47.90625 63.578125 42.921875 64.890625 \r\nQ 37.9375 66.21875 33.296875 66.21875 \r\nQ 25.25 66.21875 20.875 63.09375 \r\nQ 16.5 59.96875 16.5 54.203125 \r\nQ 16.5 49.359375 19.40625 46.890625 \r\nQ 22.3125 44.4375 30.421875 42.921875 \r\nL 36.375 41.703125 \r\nQ 47.40625 39.59375 52.65625 34.296875 \r\nQ 57.90625 29 57.90625 20.125 \r\nQ 57.90625 9.515625 50.796875 4.046875 \r\nQ 43.703125 -1.421875 29.984375 -1.421875 \r\nQ 24.8125 -1.421875 18.96875 -0.25 \r\nQ 13.140625 0.921875 6.890625 3.21875 \r\nL 6.890625 13.375 \r\nQ 12.890625 10.015625 18.65625 8.296875 \r\nQ 24.421875 6.59375 29.984375 6.59375 \r\nQ 38.421875 6.59375 43.015625 9.90625 \r\nQ 47.609375 13.234375 47.609375 19.390625 \r\nQ 47.609375 24.75 44.3125 27.78125 \r\nQ 41.015625 30.8125 33.5 32.328125 \r\nL 27.484375 33.5 \r\nQ 16.453125 35.6875 11.515625 40.375 \r\nQ 6.59375 45.0625 6.59375 53.421875 \r\nQ 6.59375 63.09375 13.40625 68.65625 \r\nQ 20.21875 74.21875 32.171875 74.21875 \r\nQ 37.3125 74.21875 42.625 73.28125 \r\nQ 47.953125 72.359375 53.515625 70.515625 \r\nz\r\n\" id=\"DejaVuSans-83\"/>\r\n       <path d=\"M 3.328125 72.90625 \r\nL 13.28125 72.90625 \r\nL 28.609375 11.28125 \r\nL 43.890625 72.90625 \r\nL 54.984375 72.90625 \r\nL 70.3125 11.28125 \r\nL 85.59375 72.90625 \r\nL 95.609375 72.90625 \r\nL 77.296875 0 \r\nL 64.890625 0 \r\nL 49.515625 63.28125 \r\nL 33.984375 0 \r\nL 21.578125 0 \r\nz\r\n\" id=\"DejaVuSans-87\"/>\r\n       <path d=\"M 9.8125 72.90625 \r\nL 19.671875 72.90625 \r\nL 19.671875 0 \r\nL 9.8125 0 \r\nz\r\n\" id=\"DejaVuSans-73\"/>\r\n      </defs>\r\n      <use xlink:href=\"#DejaVuSans-83\"/>\r\n      <use x=\"63.476562\" xlink:href=\"#DejaVuSans-87\"/>\r\n      <use x=\"162.353516\" xlink:href=\"#DejaVuSans-73\"/>\r\n      <use x=\"191.845703\" xlink:href=\"#DejaVuSans-53\"/>\r\n     </g>\r\n    </g>\r\n    <g id=\"line2d_33\">\r\n     <path d=\"M 319.1875 81.756406 \r\nL 339.1875 81.756406 \r\n\" style=\"fill:none;stroke:#f4ff00;stroke-linecap:square;stroke-width:1.5;\"/>\r\n    </g>\r\n    <g id=\"line2d_34\"/>\r\n    <g id=\"text_21\">\r\n     <!-- CLN1 -->\r\n     <g transform=\"translate(347.1875 85.256406)scale(0.1 -0.1)\">\r\n      <use xlink:href=\"#DejaVuSans-67\"/>\r\n      <use x=\"69.824219\" xlink:href=\"#DejaVuSans-76\"/>\r\n      <use x=\"125.537109\" xlink:href=\"#DejaVuSans-78\"/>\r\n      <use x=\"200.341797\" xlink:href=\"#DejaVuSans-49\"/>\r\n     </g>\r\n    </g>\r\n    <g id=\"line2d_35\">\r\n     <path d=\"M 319.1875 96.434531 \r\nL 339.1875 96.434531 \r\n\" style=\"fill:none;stroke:#6cff00;stroke-linecap:square;stroke-width:1.5;\"/>\r\n    </g>\r\n    <g id=\"line2d_36\"/>\r\n    <g id=\"text_22\">\r\n     <!-- CLN2 -->\r\n     <g transform=\"translate(347.1875 99.934531)scale(0.1 -0.1)\">\r\n      <use xlink:href=\"#DejaVuSans-67\"/>\r\n      <use x=\"69.824219\" xlink:href=\"#DejaVuSans-76\"/>\r\n      <use x=\"125.537109\" xlink:href=\"#DejaVuSans-78\"/>\r\n      <use x=\"200.341797\" xlink:href=\"#DejaVuSans-50\"/>\r\n     </g>\r\n    </g>\r\n    <g id=\"line2d_37\">\r\n     <path d=\"M 319.1875 111.112656 \r\nL 339.1875 111.112656 \r\n\" style=\"fill:none;stroke:#00ff1b;stroke-linecap:square;stroke-width:1.5;\"/>\r\n    </g>\r\n    <g id=\"line2d_38\"/>\r\n    <g id=\"text_23\">\r\n     <!-- CDH1 -->\r\n     <g transform=\"translate(347.1875 114.612656)scale(0.1 -0.1)\">\r\n      <defs>\r\n       <path d=\"M 19.671875 64.796875 \r\nL 19.671875 8.109375 \r\nL 31.59375 8.109375 \r\nQ 46.6875 8.109375 53.6875 14.9375 \r\nQ 60.6875 21.78125 60.6875 36.53125 \r\nQ 60.6875 51.171875 53.6875 57.984375 \r\nQ 46.6875 64.796875 31.59375 64.796875 \r\nz\r\nM 9.8125 72.90625 \r\nL 30.078125 72.90625 \r\nQ 51.265625 72.90625 61.171875 64.09375 \r\nQ 71.09375 55.28125 71.09375 36.53125 \r\nQ 71.09375 17.671875 61.125 8.828125 \r\nQ 51.171875 0 30.078125 0 \r\nL 9.8125 0 \r\nz\r\n\" id=\"DejaVuSans-68\"/>\r\n       <path d=\"M 9.8125 72.90625 \r\nL 19.671875 72.90625 \r\nL 19.671875 43.015625 \r\nL 55.515625 43.015625 \r\nL 55.515625 72.90625 \r\nL 65.375 72.90625 \r\nL 65.375 0 \r\nL 55.515625 0 \r\nL 55.515625 34.71875 \r\nL 19.671875 34.71875 \r\nL 19.671875 0 \r\nL 9.8125 0 \r\nz\r\n\" id=\"DejaVuSans-72\"/>\r\n      </defs>\r\n      <use xlink:href=\"#DejaVuSans-67\"/>\r\n      <use x=\"69.824219\" xlink:href=\"#DejaVuSans-68\"/>\r\n      <use x=\"146.826172\" xlink:href=\"#DejaVuSans-72\"/>\r\n      <use x=\"222.021484\" xlink:href=\"#DejaVuSans-49\"/>\r\n     </g>\r\n    </g>\r\n    <g id=\"line2d_39\">\r\n     <path d=\"M 319.1875 125.790781 \r\nL 339.1875 125.790781 \r\n\" style=\"fill:none;stroke:#00ffa3;stroke-linecap:square;stroke-width:1.5;\"/>\r\n    </g>\r\n    <g id=\"line2d_40\"/>\r\n    <g id=\"text_24\">\r\n     <!-- CDC20 -->\r\n     <g transform=\"translate(347.1875 129.290781)scale(0.1 -0.1)\">\r\n      <use xlink:href=\"#DejaVuSans-67\"/>\r\n      <use x=\"69.824219\" xlink:href=\"#DejaVuSans-68\"/>\r\n      <use x=\"146.826172\" xlink:href=\"#DejaVuSans-67\"/>\r\n      <use x=\"216.650391\" xlink:href=\"#DejaVuSans-50\"/>\r\n      <use x=\"280.273438\" xlink:href=\"#DejaVuSans-48\"/>\r\n     </g>\r\n    </g>\r\n    <g id=\"line2d_41\">\r\n     <path d=\"M 319.1875 140.468906 \r\nL 339.1875 140.468906 \r\n\" style=\"fill:none;stroke:#00d9ff;stroke-linecap:square;stroke-width:1.5;\"/>\r\n    </g>\r\n    <g id=\"line2d_42\"/>\r\n    <g id=\"text_25\">\r\n     <!-- CLB5 -->\r\n     <g transform=\"translate(347.1875 143.968906)scale(0.1 -0.1)\">\r\n      <defs>\r\n       <path d=\"M 19.671875 34.8125 \r\nL 19.671875 8.109375 \r\nL 35.5 8.109375 \r\nQ 43.453125 8.109375 47.28125 11.40625 \r\nQ 51.125 14.703125 51.125 21.484375 \r\nQ 51.125 28.328125 47.28125 31.5625 \r\nQ 43.453125 34.8125 35.5 34.8125 \r\nz\r\nM 19.671875 64.796875 \r\nL 19.671875 42.828125 \r\nL 34.28125 42.828125 \r\nQ 41.5 42.828125 45.03125 45.53125 \r\nQ 48.578125 48.25 48.578125 53.8125 \r\nQ 48.578125 59.328125 45.03125 62.0625 \r\nQ 41.5 64.796875 34.28125 64.796875 \r\nz\r\nM 9.8125 72.90625 \r\nL 35.015625 72.90625 \r\nQ 46.296875 72.90625 52.390625 68.21875 \r\nQ 58.5 63.53125 58.5 54.890625 \r\nQ 58.5 48.1875 55.375 44.234375 \r\nQ 52.25 40.28125 46.1875 39.3125 \r\nQ 53.46875 37.75 57.5 32.78125 \r\nQ 61.53125 27.828125 61.53125 20.40625 \r\nQ 61.53125 10.640625 54.890625 5.3125 \r\nQ 48.25 0 35.984375 0 \r\nL 9.8125 0 \r\nz\r\n\" id=\"DejaVuSans-66\"/>\r\n      </defs>\r\n      <use xlink:href=\"#DejaVuSans-67\"/>\r\n      <use x=\"69.824219\" xlink:href=\"#DejaVuSans-76\"/>\r\n      <use x=\"125.537109\" xlink:href=\"#DejaVuSans-66\"/>\r\n      <use x=\"194.140625\" xlink:href=\"#DejaVuSans-53\"/>\r\n     </g>\r\n    </g>\r\n    <g id=\"line2d_43\">\r\n     <path d=\"M 319.1875 155.147031 \r\nL 339.1875 155.147031 \r\n\" style=\"fill:none;stroke:#0051ff;stroke-linecap:square;stroke-width:1.5;\"/>\r\n    </g>\r\n    <g id=\"line2d_44\"/>\r\n    <g id=\"text_26\">\r\n     <!-- CLB6 -->\r\n     <g transform=\"translate(347.1875 158.647031)scale(0.1 -0.1)\">\r\n      <defs>\r\n       <path d=\"M 33.015625 40.375 \r\nQ 26.375 40.375 22.484375 35.828125 \r\nQ 18.609375 31.296875 18.609375 23.390625 \r\nQ 18.609375 15.53125 22.484375 10.953125 \r\nQ 26.375 6.390625 33.015625 6.390625 \r\nQ 39.65625 6.390625 43.53125 10.953125 \r\nQ 47.40625 15.53125 47.40625 23.390625 \r\nQ 47.40625 31.296875 43.53125 35.828125 \r\nQ 39.65625 40.375 33.015625 40.375 \r\nz\r\nM 52.59375 71.296875 \r\nL 52.59375 62.3125 \r\nQ 48.875 64.0625 45.09375 64.984375 \r\nQ 41.3125 65.921875 37.59375 65.921875 \r\nQ 27.828125 65.921875 22.671875 59.328125 \r\nQ 17.53125 52.734375 16.796875 39.40625 \r\nQ 19.671875 43.65625 24.015625 45.921875 \r\nQ 28.375 48.1875 33.59375 48.1875 \r\nQ 44.578125 48.1875 50.953125 41.515625 \r\nQ 57.328125 34.859375 57.328125 23.390625 \r\nQ 57.328125 12.15625 50.6875 5.359375 \r\nQ 44.046875 -1.421875 33.015625 -1.421875 \r\nQ 20.359375 -1.421875 13.671875 8.265625 \r\nQ 6.984375 17.96875 6.984375 36.375 \r\nQ 6.984375 53.65625 15.1875 63.9375 \r\nQ 23.390625 74.21875 37.203125 74.21875 \r\nQ 40.921875 74.21875 44.703125 73.484375 \r\nQ 48.484375 72.75 52.59375 71.296875 \r\nz\r\n\" id=\"DejaVuSans-54\"/>\r\n      </defs>\r\n      <use xlink:href=\"#DejaVuSans-67\"/>\r\n      <use x=\"69.824219\" xlink:href=\"#DejaVuSans-76\"/>\r\n      <use x=\"125.537109\" xlink:href=\"#DejaVuSans-66\"/>\r\n      <use x=\"194.140625\" xlink:href=\"#DejaVuSans-54\"/>\r\n     </g>\r\n    </g>\r\n    <g id=\"line2d_45\">\r\n     <path d=\"M 319.1875 169.825156 \r\nL 339.1875 169.825156 \r\n\" style=\"fill:none;stroke:#3700ff;stroke-linecap:square;stroke-width:1.5;\"/>\r\n    </g>\r\n    <g id=\"line2d_46\"/>\r\n    <g id=\"text_27\">\r\n     <!-- SIC1 -->\r\n     <g transform=\"translate(347.1875 173.325156)scale(0.1 -0.1)\">\r\n      <use xlink:href=\"#DejaVuSans-83\"/>\r\n      <use x=\"63.476562\" xlink:href=\"#DejaVuSans-73\"/>\r\n      <use x=\"92.96875\" xlink:href=\"#DejaVuSans-67\"/>\r\n      <use x=\"162.792969\" xlink:href=\"#DejaVuSans-49\"/>\r\n     </g>\r\n    </g>\r\n    <g id=\"line2d_47\">\r\n     <path d=\"M 319.1875 184.503281 \r\nL 339.1875 184.503281 \r\n\" style=\"fill:none;stroke:#bf00ff;stroke-linecap:square;stroke-width:1.5;\"/>\r\n    </g>\r\n    <g id=\"line2d_48\"/>\r\n    <g id=\"text_28\">\r\n     <!-- CLB1 -->\r\n     <g transform=\"translate(347.1875 188.003281)scale(0.1 -0.1)\">\r\n      <use xlink:href=\"#DejaVuSans-67\"/>\r\n      <use x=\"69.824219\" xlink:href=\"#DejaVuSans-76\"/>\r\n      <use x=\"125.537109\" xlink:href=\"#DejaVuSans-66\"/>\r\n      <use x=\"194.140625\" xlink:href=\"#DejaVuSans-49\"/>\r\n     </g>\r\n    </g>\r\n    <g id=\"line2d_49\">\r\n     <path d=\"M 319.1875 199.181406 \r\nL 339.1875 199.181406 \r\n\" style=\"fill:none;stroke:#ff00b7;stroke-linecap:square;stroke-width:1.5;\"/>\r\n    </g>\r\n    <g id=\"line2d_50\"/>\r\n    <g id=\"text_29\">\r\n     <!-- CLB2 -->\r\n     <g transform=\"translate(347.1875 202.681406)scale(0.1 -0.1)\">\r\n      <use xlink:href=\"#DejaVuSans-67\"/>\r\n      <use x=\"69.824219\" xlink:href=\"#DejaVuSans-76\"/>\r\n      <use x=\"125.537109\" xlink:href=\"#DejaVuSans-66\"/>\r\n      <use x=\"194.140625\" xlink:href=\"#DejaVuSans-50\"/>\r\n     </g>\r\n    </g>\r\n    <g id=\"line2d_51\">\r\n     <path d=\"M 319.1875 213.859531 \r\nL 339.1875 213.859531 \r\n\" style=\"fill:none;stroke:#ff0035;stroke-linecap:square;stroke-width:1.5;\"/>\r\n    </g>\r\n    <g id=\"line2d_52\"/>\r\n    <g id=\"text_30\">\r\n     <!-- MCM1 -->\r\n     <g transform=\"translate(347.1875 217.359531)scale(0.1 -0.1)\">\r\n      <defs>\r\n       <path d=\"M 9.8125 72.90625 \r\nL 24.515625 72.90625 \r\nL 43.109375 23.296875 \r\nL 61.8125 72.90625 \r\nL 76.515625 72.90625 \r\nL 76.515625 0 \r\nL 66.890625 0 \r\nL 66.890625 64.015625 \r\nL 48.09375 14.015625 \r\nL 38.1875 14.015625 \r\nL 19.390625 64.015625 \r\nL 19.390625 0 \r\nL 9.8125 0 \r\nz\r\n\" id=\"DejaVuSans-77\"/>\r\n      </defs>\r\n      <use xlink:href=\"#DejaVuSans-77\"/>\r\n      <use x=\"86.279297\" xlink:href=\"#DejaVuSans-67\"/>\r\n      <use x=\"156.103516\" xlink:href=\"#DejaVuSans-77\"/>\r\n      <use x=\"242.382812\" xlink:href=\"#DejaVuSans-49\"/>\r\n     </g>\r\n    </g>\r\n   </g>\r\n  </g>\r\n </g>\r\n <defs>\r\n  <clipPath id=\"pb6cf366337\">\r\n   <rect height=\"217.44\" width=\"334.8\" x=\"55.778125\" y=\"10.999219\"/>\r\n  </clipPath>\r\n </defs>\r\n</svg>\r\n",
      "image/png": "[encoded data removed]"
     },
     "metadata": {
      "needs_background": "light"
     }
    }
   ],
   "source": [
    "m.visualize(lst)"
   ]
  },
  {
   "cell_type": "code",
   "execution_count": 3,
   "metadata": {},
   "outputs": [
    {
     "output_type": "execute_result",
     "data": {
      "text/plain": [
       "[698, 4362, 696, 697, 632, 600, 690, 691, 3979, 686, 687, 2162]"
      ]
     },
     "metadata": {},
     "execution_count": 3
    }
   ],
   "source": [
    "lst = ['CLN3', 'SWI5', 'CLN1', 'CLN2', 'CDH1', 'CDC20', 'CLB5', 'CLB6', 'SIC1', 'CLB1', 'CLB2', 'MCM1']\n",
    "# lst = ['CLN3', 'CLN1', 'CLN2', 'CDH1', 'CDC20', 'CLB5', 'CLB6', 'SIC1', 'CLB1', 'CLB2', 'MCM1']\n",
    "lst_index = [m.graph.node[element]['index'] for element in lst]\n",
    "lst_index"
   ]
  },
  {
   "cell_type": "code",
   "execution_count": 3,
   "metadata": {},
   "outputs": [
    {
     "output_type": "execute_result",
     "data": {
      "text/plain": [
       "1.5271796258079011"
      ]
     },
     "metadata": {},
     "execution_count": 3
    }
   ],
   "source": [
    "import numpy as np\n",
    "np.log(np.log(100))"
   ]
  },
  {
   "cell_type": "code",
   "execution_count": 4,
   "metadata": {},
   "outputs": [
    {
     "name": "stdout",
     "output_type": "stream",
     "text": [
      "['SWI5', 'PRP9', 'CTR1', 'REE1', 'FRE1', 'PCL5']\n",
      "['SWI5', 'FRE1', 'PRP9', 'CTR1', 'REE1', 'PCL5']\n",
      "['SWI5', 'PIR1', 'FRE1', 'CTR1', 'REE1', 'PCL5']\n",
      "['SWI5', 'ASH1', 'GND1', 'YEF1', 'YJR061W', 'PCL5']\n",
      "['SWI5', 'PRP9', 'CTR1', 'REE1', 'CUP9', 'PCL5']\n",
      "['SWI5', 'PRP9', 'CTR1', 'HMX1', 'CPA2', 'PCL5']\n",
      "['SWI5', 'HXT2', 'FRE1', 'CTR1', 'REE1', 'PCL5']\n",
      "['SWI5', 'FUS1', 'FIG2', 'SAG1', 'CPA2', 'PCL5']\n",
      "['SWI5', 'PRP9', 'CTR1', 'REE1', 'LPX1', 'FKH1']\n",
      "['SWI5', 'PIR1', 'SUR2', 'IDH1', 'CPA2', 'PCL5']\n",
      "['SWI5', 'ASH1', 'HXT2', 'YGL117W', 'CPA2', 'PCL5']\n",
      "['SWI5', 'YNL046W', 'CTR1', 'REE1', 'FRE1', 'PCL5']\n",
      "['SWI5', 'PRP9', 'CTR1', 'HXT6', 'CPA2', 'PCL5']\n",
      "['SWI5', 'PIR1', 'SUR2', 'RNR3', 'CPA2', 'PCL5']\n",
      "['SWI5', 'REE1', 'PRP9', 'CTR1', 'LPX1', 'FKH1']\n",
      "['SWI5', 'PIR1', 'SUR2', 'CTR1', 'REE1', 'PCL5']\n",
      "['SWI5', 'ASH1', 'DUR3', 'DUR1,2', 'CPA2', 'PCL5']\n",
      "['SWI5', 'PIR1', 'REE1', 'CUP9', 'CPA2', 'PCL5']\n",
      "['SWI5', 'PRP9', 'CTR1', 'REE1', 'PCL5']\n",
      "['SWI5', 'PRP9', 'CTR1', 'REE1', 'CUP9', 'DSE1']\n",
      "['SWI5', 'REE1', 'PRP9', 'CTR1', 'HMX1', 'PCL5']\n",
      "['SWI5', 'PRP9', 'CTR1', 'REE1', 'LPX1', 'SWI6']\n",
      "['SWI5', 'PRP9', 'CTR1', 'REE1', 'CIN5', 'PCL5']\n",
      "['SWI5', 'REE1', 'PRP9', 'CTR1', 'PBI1', 'ECM22']\n",
      "['SWI5', 'REE1', 'PRP9', 'CTR1', 'CPA2', 'PCL5']\n",
      "['SWI5', 'PRP9', 'CTR1', 'PTR2', 'CPA2', 'PCL5']\n",
      "['SWI5', 'REE1', 'PRP9', 'CTR1', 'CIT1', 'PCL5']\n",
      "['SWI5', 'ASH1', 'UGA1', 'NRK1', 'CPA2', 'PCL5']\n",
      "['SWI5', 'YJL218W', 'CTR1', 'REE1', 'FRE1', 'PCL5']\n",
      "['SWI5', 'PRP9', 'CTR1', 'FET3', 'CPA2', 'PCL5']\n"
     ]
    }
   ],
   "source": [
    "for i in rank5[0:30]:\n",
    "    print(flat_list_5[i[1]])"
   ]
  },
  {
   "cell_type": "code",
   "execution_count": 109,
   "metadata": {},
   "outputs": [
    {
     "data": {
      "image/png": "[encoded data removed]",
      "text/plain": [
       "<Figure size 1080x360 with 1 Axes>"
      ]
     },
     "metadata": {
      "needs_background": "light"
     },
     "output_type": "display_data"
    }
   ],
   "source": [
    "import math\n",
    "import matplotlib.pyplot as plt\n",
    "\n",
    "data = [item[0] for item in rank5]\n",
    "data_neg = []\n",
    "data_pos = []\n",
    "for score in data:\n",
    "    if score > 0:\n",
    "        data_pos.append(score)\n",
    "    if score < 0:\n",
    "        data_neg.append(abs(score))\n",
    "\n",
    "plt.figure(figsize=(15,5))\n",
    "hist, bins = np.histogram(data_pos+data_neg, bins=100)\n",
    "logbins = np.logspace(np.log10(bins[0]),np.log10(bins[-1]),len(bins))\n",
    "plt.hist(data_pos, bins=logbins, alpha=0.8)\n",
    "plt.hist(data_neg, bins=logbins, alpha=0.6)\n",
    "plt.legend([\"positive feedback\", \"negative feedback\"])\n",
    "plt.yscale('log')\n",
    "plt.xscale('log')\n",
    "plt.title(\"Histogram of the scores of feedback loops affecting node SWI5 \\n(with cutoff length of 6)\")\n",
    "plt.savefig(\"histogram.png\", dpi=300)\n",
    "plt.show()"
   ]
  },
  {
   "cell_type": "code",
   "execution_count": 108,
   "metadata": {},
   "outputs": [
    {
     "data": {
      "image/png": "[encoded data removed]",
      "text/plain": [
       "<Figure size 1080x360 with 1 Axes>"
      ]
     },
     "metadata": {
      "needs_background": "light"
     },
     "output_type": "display_data"
    }
   ],
   "source": [
    "import math\n",
    "import matplotlib.pyplot as plt\n",
    "\n",
    "data = [item[0] for item in rank5]\n",
    "data_neg = []\n",
    "data_pos = []\n",
    "for score in data:\n",
    "    if score > 0:\n",
    "        data_pos.append(score)\n",
    "    if score < 0:\n",
    "        data_neg.append(abs(score))\n",
    "\n",
    "plt.figure(figsize=(15,5))\n",
    "hist, bins = np.histogram(data_pos+data_neg, bins=100)\n",
    "logbins = np.logspace(np.log10(bins[0]),np.log10(bins[-1]),len(bins))\n",
    "plt.hist(data_pos, bins=logbins, alpha=0.8)\n",
    "plt.hist(data_neg, bins=logbins, alpha=0.6)\n",
    "plt.legend([\"positive feedback\", \"negative feedback\"])\n",
    "plt.yscale('log')\n",
    "plt.xscale('log')\n",
    "plt.title(\"Histogram of the scores of feedback loops affecting node SWI5 \\n(with cutoff length of 6)\")\n",
    "plt.savefig(\"histogram.png\", dpi=300)\n",
    "plt.show()"
   ]
  },
  {
   "cell_type": "code",
   "execution_count": 12,
   "metadata": {},
   "outputs": [
    {
     "name": "stdout",
     "output_type": "stream",
     "text": [
      "10.0% are done\n",
      "20.0% are done\n",
      "30.0% are done\n",
      "40.0% are done\n",
      "50.0% are done\n",
      "60.0% are done\n",
      "70.0% are done\n",
      "80.0% are done\n",
      "90.0% are done\n",
      "100.0% are done\n"
     ]
    }
   ],
   "source": [
    "m.cycle(dt= 1, track = lst_index, num_step = int(1e4))"
   ]
  },
  {
   "cell_type": "code",
   "execution_count": 2,
   "metadata": {},
   "outputs": [
    {
     "output_type": "display_data",
     "data": {
      "text/plain": "<Figure size 432x288 with 1 Axes>",
      "image/svg+xml": "<?xml version=\"1.0\" encoding=\"utf-8\" standalone=\"no\"?>\r\n<!DOCTYPE svg PUBLIC \"-//W3C//DTD SVG 1.1//EN\"\r\n  \"http://www.w3.org/Graphics/SVG/1.1/DTD/svg11.dtd\">\r\n<!-- Created with matplotlib (https://matplotlib.org/) -->\r\n<svg height=\"265.995469pt\" version=\"1.1\" viewBox=\"0 0 410.378125 265.995469\" width=\"410.378125pt\" xmlns=\"http://www.w3.org/2000/svg\" xmlns:xlink=\"http://www.w3.org/1999/xlink\">\r\n <metadata>\r\n  <rdf:RDF xmlns:cc=\"http://creativecommons.org/ns#\" xmlns:dc=\"http://purl.org/dc/elements/1.1/\" xmlns:rdf=\"http://www.w3.org/1999/02/22-rdf-syntax-ns#\">\r\n   <cc:Work>\r\n    <dc:type rdf:resource=\"http://purl.org/dc/dcmitype/StillImage\"/>\r\n    <dc:date>2021-01-12T20:11:23.823269</dc:date>\r\n    <dc:format>image/svg+xml</dc:format>\r\n    <dc:creator>\r\n     <cc:Agent>\r\n      <dc:title>Matplotlib v3.3.2, https://matplotlib.org/</dc:title>\r\n     </cc:Agent>\r\n    </dc:creator>\r\n   </cc:Work>\r\n  </rdf:RDF>\r\n </metadata>\r\n <defs>\r\n  <style type=\"text/css\">*{stroke-linecap:butt;stroke-linejoin:round;}</style>\r\n </defs>\r\n <g id=\"figure_1\">\r\n  <g id=\"patch_1\">\r\n   <path d=\"M 0 265.995469 \r\nL 410.378125 265.995469 \r\nL 410.378125 0 \r\nL 0 0 \r\nz\r\n\" style=\"fill:none;\"/>\r\n  </g>\r\n  <g id=\"axes_1\">\r\n   <g id=\"patch_2\">\r\n    <path d=\"M 68.378125 228.439219 \r\nL 403.178125 228.439219 \r\nL 403.178125 10.999219 \r\nL 68.378125 10.999219 \r\nz\r\n\" style=\"fill:#ffffff;\"/>\r\n   </g>\r\n   <g id=\"matplotlib.axis_1\">\r\n    <g id=\"xtick_1\">\r\n     <g id=\"line2d_1\">\r\n      <defs>\r\n       <path d=\"M 0 0 \r\nL 0 3.5 \r\n\" id=\"m0442a27ccc\" style=\"stroke:#000000;stroke-width:0.8;\"/>\r\n      </defs>\r\n      <g>\r\n       <use style=\"stroke:#000000;stroke-width:0.8;\" x=\"68.378125\" xlink:href=\"#m0442a27ccc\" y=\"228.439219\"/>\r\n      </g>\r\n     </g>\r\n     <g id=\"text_1\">\r\n      <!-- 0 -->\r\n      <g transform=\"translate(65.196875 243.037656)scale(0.1 -0.1)\">\r\n       <defs>\r\n        <path d=\"M 31.78125 66.40625 \r\nQ 24.171875 66.40625 20.328125 58.90625 \r\nQ 16.5 51.421875 16.5 36.375 \r\nQ 16.5 21.390625 20.328125 13.890625 \r\nQ 24.171875 6.390625 31.78125 6.390625 \r\nQ 39.453125 6.390625 43.28125 13.890625 \r\nQ 47.125 21.390625 47.125 36.375 \r\nQ 47.125 51.421875 43.28125 58.90625 \r\nQ 39.453125 66.40625 31.78125 66.40625 \r\nz\r\nM 31.78125 74.21875 \r\nQ 44.046875 74.21875 50.515625 64.515625 \r\nQ 56.984375 54.828125 56.984375 36.375 \r\nQ 56.984375 17.96875 50.515625 8.265625 \r\nQ 44.046875 -1.421875 31.78125 -1.421875 \r\nQ 19.53125 -1.421875 13.0625 8.265625 \r\nQ 6.59375 17.96875 6.59375 36.375 \r\nQ 6.59375 54.828125 13.0625 64.515625 \r\nQ 19.53125 74.21875 31.78125 74.21875 \r\nz\r\n\" id=\"DejaVuSans-48\"/>\r\n       </defs>\r\n       <use xlink:href=\"#DejaVuSans-48\"/>\r\n      </g>\r\n     </g>\r\n    </g>\r\n    <g id=\"xtick_2\">\r\n     <g id=\"line2d_2\">\r\n      <g>\r\n       <use style=\"stroke:#000000;stroke-width:0.8;\" x=\"113.621368\" xlink:href=\"#m0442a27ccc\" y=\"228.439219\"/>\r\n      </g>\r\n     </g>\r\n     <g id=\"text_2\">\r\n      <!-- 250 -->\r\n      <g transform=\"translate(104.077618 243.037656)scale(0.1 -0.1)\">\r\n       <defs>\r\n        <path d=\"M 19.1875 8.296875 \r\nL 53.609375 8.296875 \r\nL 53.609375 0 \r\nL 7.328125 0 \r\nL 7.328125 8.296875 \r\nQ 12.9375 14.109375 22.625 23.890625 \r\nQ 32.328125 33.6875 34.8125 36.53125 \r\nQ 39.546875 41.84375 41.421875 45.53125 \r\nQ 43.3125 49.21875 43.3125 52.78125 \r\nQ 43.3125 58.59375 39.234375 62.25 \r\nQ 35.15625 65.921875 28.609375 65.921875 \r\nQ 23.96875 65.921875 18.8125 64.3125 \r\nQ 13.671875 62.703125 7.8125 59.421875 \r\nL 7.8125 69.390625 \r\nQ 13.765625 71.78125 18.9375 73 \r\nQ 24.125 74.21875 28.421875 74.21875 \r\nQ 39.75 74.21875 46.484375 68.546875 \r\nQ 53.21875 62.890625 53.21875 53.421875 \r\nQ 53.21875 48.921875 51.53125 44.890625 \r\nQ 49.859375 40.875 45.40625 35.40625 \r\nQ 44.1875 33.984375 37.640625 27.21875 \r\nQ 31.109375 20.453125 19.1875 8.296875 \r\nz\r\n\" id=\"DejaVuSans-50\"/>\r\n        <path d=\"M 10.796875 72.90625 \r\nL 49.515625 72.90625 \r\nL 49.515625 64.59375 \r\nL 19.828125 64.59375 \r\nL 19.828125 46.734375 \r\nQ 21.96875 47.46875 24.109375 47.828125 \r\nQ 26.265625 48.1875 28.421875 48.1875 \r\nQ 40.625 48.1875 47.75 41.5 \r\nQ 54.890625 34.8125 54.890625 23.390625 \r\nQ 54.890625 11.625 47.5625 5.09375 \r\nQ 40.234375 -1.421875 26.90625 -1.421875 \r\nQ 22.3125 -1.421875 17.546875 -0.640625 \r\nQ 12.796875 0.140625 7.71875 1.703125 \r\nL 7.71875 11.625 \r\nQ 12.109375 9.234375 16.796875 8.0625 \r\nQ 21.484375 6.890625 26.703125 6.890625 \r\nQ 35.15625 6.890625 40.078125 11.328125 \r\nQ 45.015625 15.765625 45.015625 23.390625 \r\nQ 45.015625 31 40.078125 35.4375 \r\nQ 35.15625 39.890625 26.703125 39.890625 \r\nQ 22.75 39.890625 18.8125 39.015625 \r\nQ 14.890625 38.140625 10.796875 36.28125 \r\nz\r\n\" id=\"DejaVuSans-53\"/>\r\n       </defs>\r\n       <use xlink:href=\"#DejaVuSans-50\"/>\r\n       <use x=\"63.623047\" xlink:href=\"#DejaVuSans-53\"/>\r\n       <use x=\"127.246094\" xlink:href=\"#DejaVuSans-48\"/>\r\n      </g>\r\n     </g>\r\n    </g>\r\n    <g id=\"xtick_3\">\r\n     <g id=\"line2d_3\">\r\n      <g>\r\n       <use style=\"stroke:#000000;stroke-width:0.8;\" x=\"158.864611\" xlink:href=\"#m0442a27ccc\" y=\"228.439219\"/>\r\n      </g>\r\n     </g>\r\n     <g id=\"text_3\">\r\n      <!-- 500 -->\r\n      <g transform=\"translate(149.320861 243.037656)scale(0.1 -0.1)\">\r\n       <use xlink:href=\"#DejaVuSans-53\"/>\r\n       <use x=\"63.623047\" xlink:href=\"#DejaVuSans-48\"/>\r\n       <use x=\"127.246094\" xlink:href=\"#DejaVuSans-48\"/>\r\n      </g>\r\n     </g>\r\n    </g>\r\n    <g id=\"xtick_4\">\r\n     <g id=\"line2d_4\">\r\n      <g>\r\n       <use style=\"stroke:#000000;stroke-width:0.8;\" x=\"204.107855\" xlink:href=\"#m0442a27ccc\" y=\"228.439219\"/>\r\n      </g>\r\n     </g>\r\n     <g id=\"text_4\">\r\n      <!-- 750 -->\r\n      <g transform=\"translate(194.564105 243.037656)scale(0.1 -0.1)\">\r\n       <defs>\r\n        <path d=\"M 8.203125 72.90625 \r\nL 55.078125 72.90625 \r\nL 55.078125 68.703125 \r\nL 28.609375 0 \r\nL 18.3125 0 \r\nL 43.21875 64.59375 \r\nL 8.203125 64.59375 \r\nz\r\n\" id=\"DejaVuSans-55\"/>\r\n       </defs>\r\n       <use xlink:href=\"#DejaVuSans-55\"/>\r\n       <use x=\"63.623047\" xlink:href=\"#DejaVuSans-53\"/>\r\n       <use x=\"127.246094\" xlink:href=\"#DejaVuSans-48\"/>\r\n      </g>\r\n     </g>\r\n    </g>\r\n    <g id=\"xtick_5\">\r\n     <g id=\"line2d_5\">\r\n      <g>\r\n       <use style=\"stroke:#000000;stroke-width:0.8;\" x=\"249.351098\" xlink:href=\"#m0442a27ccc\" y=\"228.439219\"/>\r\n      </g>\r\n     </g>\r\n     <g id=\"text_5\">\r\n      <!-- 1000 -->\r\n      <g transform=\"translate(236.626098 243.037656)scale(0.1 -0.1)\">\r\n       <defs>\r\n        <path d=\"M 12.40625 8.296875 \r\nL 28.515625 8.296875 \r\nL 28.515625 63.921875 \r\nL 10.984375 60.40625 \r\nL 10.984375 69.390625 \r\nL 28.421875 72.90625 \r\nL 38.28125 72.90625 \r\nL 38.28125 8.296875 \r\nL 54.390625 8.296875 \r\nL 54.390625 0 \r\nL 12.40625 0 \r\nz\r\n\" id=\"DejaVuSans-49\"/>\r\n       </defs>\r\n       <use xlink:href=\"#DejaVuSans-49\"/>\r\n       <use x=\"63.623047\" xlink:href=\"#DejaVuSans-48\"/>\r\n       <use x=\"127.246094\" xlink:href=\"#DejaVuSans-48\"/>\r\n       <use x=\"190.869141\" xlink:href=\"#DejaVuSans-48\"/>\r\n      </g>\r\n     </g>\r\n    </g>\r\n    <g id=\"xtick_6\">\r\n     <g id=\"line2d_6\">\r\n      <g>\r\n       <use style=\"stroke:#000000;stroke-width:0.8;\" x=\"294.594341\" xlink:href=\"#m0442a27ccc\" y=\"228.439219\"/>\r\n      </g>\r\n     </g>\r\n     <g id=\"text_6\">\r\n      <!-- 1250 -->\r\n      <g transform=\"translate(281.869341 243.037656)scale(0.1 -0.1)\">\r\n       <use xlink:href=\"#DejaVuSans-49\"/>\r\n       <use x=\"63.623047\" xlink:href=\"#DejaVuSans-50\"/>\r\n       <use x=\"127.246094\" xlink:href=\"#DejaVuSans-53\"/>\r\n       <use x=\"190.869141\" xlink:href=\"#DejaVuSans-48\"/>\r\n      </g>\r\n     </g>\r\n    </g>\r\n    <g id=\"xtick_7\">\r\n     <g id=\"line2d_7\">\r\n      <g>\r\n       <use style=\"stroke:#000000;stroke-width:0.8;\" x=\"339.837584\" xlink:href=\"#m0442a27ccc\" y=\"228.439219\"/>\r\n      </g>\r\n     </g>\r\n     <g id=\"text_7\">\r\n      <!-- 1500 -->\r\n      <g transform=\"translate(327.112584 243.037656)scale(0.1 -0.1)\">\r\n       <use xlink:href=\"#DejaVuSans-49\"/>\r\n       <use x=\"63.623047\" xlink:href=\"#DejaVuSans-53\"/>\r\n       <use x=\"127.246094\" xlink:href=\"#DejaVuSans-48\"/>\r\n       <use x=\"190.869141\" xlink:href=\"#DejaVuSans-48\"/>\r\n      </g>\r\n     </g>\r\n    </g>\r\n    <g id=\"xtick_8\">\r\n     <g id=\"line2d_8\">\r\n      <g>\r\n       <use style=\"stroke:#000000;stroke-width:0.8;\" x=\"385.080828\" xlink:href=\"#m0442a27ccc\" y=\"228.439219\"/>\r\n      </g>\r\n     </g>\r\n     <g id=\"text_8\">\r\n      <!-- 1750 -->\r\n      <g transform=\"translate(372.355828 243.037656)scale(0.1 -0.1)\">\r\n       <use xlink:href=\"#DejaVuSans-49\"/>\r\n       <use x=\"63.623047\" xlink:href=\"#DejaVuSans-55\"/>\r\n       <use x=\"127.246094\" xlink:href=\"#DejaVuSans-53\"/>\r\n       <use x=\"190.869141\" xlink:href=\"#DejaVuSans-48\"/>\r\n      </g>\r\n     </g>\r\n    </g>\r\n    <g id=\"text_9\">\r\n     <!-- time [s] -->\r\n     <g transform=\"translate(216.386719 256.715781)scale(0.1 -0.1)\">\r\n      <defs>\r\n       <path d=\"M 18.3125 70.21875 \r\nL 18.3125 54.6875 \r\nL 36.8125 54.6875 \r\nL 36.8125 47.703125 \r\nL 18.3125 47.703125 \r\nL 18.3125 18.015625 \r\nQ 18.3125 11.328125 20.140625 9.421875 \r\nQ 21.96875 7.515625 27.59375 7.515625 \r\nL 36.8125 7.515625 \r\nL 36.8125 0 \r\nL 27.59375 0 \r\nQ 17.1875 0 13.234375 3.875 \r\nQ 9.28125 7.765625 9.28125 18.015625 \r\nL 9.28125 47.703125 \r\nL 2.6875 47.703125 \r\nL 2.6875 54.6875 \r\nL 9.28125 54.6875 \r\nL 9.28125 70.21875 \r\nz\r\n\" id=\"DejaVuSans-116\"/>\r\n       <path d=\"M 9.421875 54.6875 \r\nL 18.40625 54.6875 \r\nL 18.40625 0 \r\nL 9.421875 0 \r\nz\r\nM 9.421875 75.984375 \r\nL 18.40625 75.984375 \r\nL 18.40625 64.59375 \r\nL 9.421875 64.59375 \r\nz\r\n\" id=\"DejaVuSans-105\"/>\r\n       <path d=\"M 52 44.1875 \r\nQ 55.375 50.25 60.0625 53.125 \r\nQ 64.75 56 71.09375 56 \r\nQ 79.640625 56 84.28125 50.015625 \r\nQ 88.921875 44.046875 88.921875 33.015625 \r\nL 88.921875 0 \r\nL 79.890625 0 \r\nL 79.890625 32.71875 \r\nQ 79.890625 40.578125 77.09375 44.375 \r\nQ 74.3125 48.1875 68.609375 48.1875 \r\nQ 61.625 48.1875 57.5625 43.546875 \r\nQ 53.515625 38.921875 53.515625 30.90625 \r\nL 53.515625 0 \r\nL 44.484375 0 \r\nL 44.484375 32.71875 \r\nQ 44.484375 40.625 41.703125 44.40625 \r\nQ 38.921875 48.1875 33.109375 48.1875 \r\nQ 26.21875 48.1875 22.15625 43.53125 \r\nQ 18.109375 38.875 18.109375 30.90625 \r\nL 18.109375 0 \r\nL 9.078125 0 \r\nL 9.078125 54.6875 \r\nL 18.109375 54.6875 \r\nL 18.109375 46.1875 \r\nQ 21.1875 51.21875 25.484375 53.609375 \r\nQ 29.78125 56 35.6875 56 \r\nQ 41.65625 56 45.828125 52.96875 \r\nQ 50 49.953125 52 44.1875 \r\nz\r\n\" id=\"DejaVuSans-109\"/>\r\n       <path d=\"M 56.203125 29.59375 \r\nL 56.203125 25.203125 \r\nL 14.890625 25.203125 \r\nQ 15.484375 15.921875 20.484375 11.0625 \r\nQ 25.484375 6.203125 34.421875 6.203125 \r\nQ 39.59375 6.203125 44.453125 7.46875 \r\nQ 49.3125 8.734375 54.109375 11.28125 \r\nL 54.109375 2.78125 \r\nQ 49.265625 0.734375 44.1875 -0.34375 \r\nQ 39.109375 -1.421875 33.890625 -1.421875 \r\nQ 20.796875 -1.421875 13.15625 6.1875 \r\nQ 5.515625 13.8125 5.515625 26.8125 \r\nQ 5.515625 40.234375 12.765625 48.109375 \r\nQ 20.015625 56 32.328125 56 \r\nQ 43.359375 56 49.78125 48.890625 \r\nQ 56.203125 41.796875 56.203125 29.59375 \r\nz\r\nM 47.21875 32.234375 \r\nQ 47.125 39.59375 43.09375 43.984375 \r\nQ 39.0625 48.390625 32.421875 48.390625 \r\nQ 24.90625 48.390625 20.390625 44.140625 \r\nQ 15.875 39.890625 15.1875 32.171875 \r\nz\r\n\" id=\"DejaVuSans-101\"/>\r\n       <path id=\"DejaVuSans-32\"/>\r\n       <path d=\"M 8.59375 75.984375 \r\nL 29.296875 75.984375 \r\nL 29.296875 69 \r\nL 17.578125 69 \r\nL 17.578125 -6.203125 \r\nL 29.296875 -6.203125 \r\nL 29.296875 -13.1875 \r\nL 8.59375 -13.1875 \r\nz\r\n\" id=\"DejaVuSans-91\"/>\r\n       <path d=\"M 44.28125 53.078125 \r\nL 44.28125 44.578125 \r\nQ 40.484375 46.53125 36.375 47.5 \r\nQ 32.28125 48.484375 27.875 48.484375 \r\nQ 21.1875 48.484375 17.84375 46.4375 \r\nQ 14.5 44.390625 14.5 40.28125 \r\nQ 14.5 37.15625 16.890625 35.375 \r\nQ 19.28125 33.59375 26.515625 31.984375 \r\nL 29.59375 31.296875 \r\nQ 39.15625 29.25 43.1875 25.515625 \r\nQ 47.21875 21.78125 47.21875 15.09375 \r\nQ 47.21875 7.46875 41.1875 3.015625 \r\nQ 35.15625 -1.421875 24.609375 -1.421875 \r\nQ 20.21875 -1.421875 15.453125 -0.5625 \r\nQ 10.6875 0.296875 5.421875 2 \r\nL 5.421875 11.28125 \r\nQ 10.40625 8.6875 15.234375 7.390625 \r\nQ 20.0625 6.109375 24.8125 6.109375 \r\nQ 31.15625 6.109375 34.5625 8.28125 \r\nQ 37.984375 10.453125 37.984375 14.40625 \r\nQ 37.984375 18.0625 35.515625 20.015625 \r\nQ 33.0625 21.96875 24.703125 23.78125 \r\nL 21.578125 24.515625 \r\nQ 13.234375 26.265625 9.515625 29.90625 \r\nQ 5.8125 33.546875 5.8125 39.890625 \r\nQ 5.8125 47.609375 11.28125 51.796875 \r\nQ 16.75 56 26.8125 56 \r\nQ 31.78125 56 36.171875 55.265625 \r\nQ 40.578125 54.546875 44.28125 53.078125 \r\nz\r\n\" id=\"DejaVuSans-115\"/>\r\n       <path d=\"M 30.421875 75.984375 \r\nL 30.421875 -13.1875 \r\nL 9.71875 -13.1875 \r\nL 9.71875 -6.203125 \r\nL 21.390625 -6.203125 \r\nL 21.390625 69 \r\nL 9.71875 69 \r\nL 9.71875 75.984375 \r\nz\r\n\" id=\"DejaVuSans-93\"/>\r\n      </defs>\r\n      <use xlink:href=\"#DejaVuSans-116\"/>\r\n      <use x=\"39.208984\" xlink:href=\"#DejaVuSans-105\"/>\r\n      <use x=\"66.992188\" xlink:href=\"#DejaVuSans-109\"/>\r\n      <use x=\"164.404297\" xlink:href=\"#DejaVuSans-101\"/>\r\n      <use x=\"225.927734\" xlink:href=\"#DejaVuSans-32\"/>\r\n      <use x=\"257.714844\" xlink:href=\"#DejaVuSans-91\"/>\r\n      <use x=\"296.728516\" xlink:href=\"#DejaVuSans-115\"/>\r\n      <use x=\"348.828125\" xlink:href=\"#DejaVuSans-93\"/>\r\n     </g>\r\n    </g>\r\n   </g>\r\n   <g id=\"matplotlib.axis_2\">\r\n    <g id=\"ytick_1\">\r\n     <g id=\"line2d_9\">\r\n      <defs>\r\n       <path d=\"M 0 0 \r\nL -3.5 0 \r\n\" id=\"m0ba72bcf55\" style=\"stroke:#000000;stroke-width:0.8;\"/>\r\n      </defs>\r\n      <g>\r\n       <use style=\"stroke:#000000;stroke-width:0.8;\" x=\"68.378125\" xlink:href=\"#m0ba72bcf55\" y=\"119.719219\"/>\r\n      </g>\r\n     </g>\r\n     <g id=\"text_10\">\r\n      <!-- $\\mathdefault{10^{0}}$ -->\r\n      <g transform=\"translate(43.778125 123.518437)scale(0.1 -0.1)\">\r\n       <use transform=\"translate(0 0.765625)\" xlink:href=\"#DejaVuSans-49\"/>\r\n       <use transform=\"translate(63.623047 0.765625)\" xlink:href=\"#DejaVuSans-48\"/>\r\n       <use transform=\"translate(128.203125 39.046875)scale(0.7)\" xlink:href=\"#DejaVuSans-48\"/>\r\n      </g>\r\n     </g>\r\n    </g>\r\n    <g id=\"ytick_2\">\r\n     <g id=\"line2d_10\">\r\n      <defs>\r\n       <path d=\"M 0 0 \r\nL -2 0 \r\n\" id=\"mee7841e90a\" style=\"stroke:#000000;stroke-width:0.6;\"/>\r\n      </defs>\r\n      <g>\r\n       <use style=\"stroke:#000000;stroke-width:0.6;\" x=\"68.378125\" xlink:href=\"#mee7841e90a\" y=\"228.439219\"/>\r\n      </g>\r\n     </g>\r\n    </g>\r\n    <g id=\"ytick_3\">\r\n     <g id=\"line2d_11\">\r\n      <g>\r\n       <use style=\"stroke:#000000;stroke-width:0.6;\" x=\"68.378125\" xlink:href=\"#mee7841e90a\" y=\"199.842118\"/>\r\n      </g>\r\n     </g>\r\n     <g id=\"text_11\">\r\n      <!-- $\\mathdefault{6\\times10^{-1}}$ -->\r\n      <g transform=\"translate(20.878125 203.641337)scale(0.1 -0.1)\">\r\n       <defs>\r\n        <path d=\"M 33.015625 40.375 \r\nQ 26.375 40.375 22.484375 35.828125 \r\nQ 18.609375 31.296875 18.609375 23.390625 \r\nQ 18.609375 15.53125 22.484375 10.953125 \r\nQ 26.375 6.390625 33.015625 6.390625 \r\nQ 39.65625 6.390625 43.53125 10.953125 \r\nQ 47.40625 15.53125 47.40625 23.390625 \r\nQ 47.40625 31.296875 43.53125 35.828125 \r\nQ 39.65625 40.375 33.015625 40.375 \r\nz\r\nM 52.59375 71.296875 \r\nL 52.59375 62.3125 \r\nQ 48.875 64.0625 45.09375 64.984375 \r\nQ 41.3125 65.921875 37.59375 65.921875 \r\nQ 27.828125 65.921875 22.671875 59.328125 \r\nQ 17.53125 52.734375 16.796875 39.40625 \r\nQ 19.671875 43.65625 24.015625 45.921875 \r\nQ 28.375 48.1875 33.59375 48.1875 \r\nQ 44.578125 48.1875 50.953125 41.515625 \r\nQ 57.328125 34.859375 57.328125 23.390625 \r\nQ 57.328125 12.15625 50.6875 5.359375 \r\nQ 44.046875 -1.421875 33.015625 -1.421875 \r\nQ 20.359375 -1.421875 13.671875 8.265625 \r\nQ 6.984375 17.96875 6.984375 36.375 \r\nQ 6.984375 53.65625 15.1875 63.9375 \r\nQ 23.390625 74.21875 37.203125 74.21875 \r\nQ 40.921875 74.21875 44.703125 73.484375 \r\nQ 48.484375 72.75 52.59375 71.296875 \r\nz\r\n\" id=\"DejaVuSans-54\"/>\r\n        <path d=\"M 70.125 53.71875 \r\nL 47.796875 31.296875 \r\nL 70.125 8.984375 \r\nL 64.3125 3.078125 \r\nL 41.890625 25.484375 \r\nL 19.484375 3.078125 \r\nL 13.71875 8.984375 \r\nL 35.984375 31.296875 \r\nL 13.71875 53.71875 \r\nL 19.484375 59.625 \r\nL 41.890625 37.203125 \r\nL 64.3125 59.625 \r\nz\r\n\" id=\"DejaVuSans-215\"/>\r\n        <path d=\"M 10.59375 35.5 \r\nL 73.1875 35.5 \r\nL 73.1875 27.203125 \r\nL 10.59375 27.203125 \r\nz\r\n\" id=\"DejaVuSans-8722\"/>\r\n       </defs>\r\n       <use transform=\"translate(0 0.684375)\" xlink:href=\"#DejaVuSans-54\"/>\r\n       <use transform=\"translate(83.105469 0.684375)\" xlink:href=\"#DejaVuSans-215\"/>\r\n       <use transform=\"translate(186.376953 0.684375)\" xlink:href=\"#DejaVuSans-49\"/>\r\n       <use transform=\"translate(250 0.684375)\" xlink:href=\"#DejaVuSans-48\"/>\r\n       <use transform=\"translate(314.580078 38.965625)scale(0.7)\" xlink:href=\"#DejaVuSans-8722\"/>\r\n       <use transform=\"translate(373.232422 38.965625)scale(0.7)\" xlink:href=\"#DejaVuSans-49\"/>\r\n      </g>\r\n     </g>\r\n    </g>\r\n    <g id=\"ytick_4\">\r\n     <g id=\"line2d_12\">\r\n      <g>\r\n       <use style=\"stroke:#000000;stroke-width:0.6;\" x=\"68.378125\" xlink:href=\"#mee7841e90a\" y=\"175.663614\"/>\r\n      </g>\r\n     </g>\r\n    </g>\r\n    <g id=\"ytick_5\">\r\n     <g id=\"line2d_13\">\r\n      <g>\r\n       <use style=\"stroke:#000000;stroke-width:0.6;\" x=\"68.378125\" xlink:href=\"#mee7841e90a\" y=\"154.719241\"/>\r\n      </g>\r\n     </g>\r\n    </g>\r\n    <g id=\"ytick_6\">\r\n     <g id=\"line2d_14\">\r\n      <g>\r\n       <use style=\"stroke:#000000;stroke-width:0.6;\" x=\"68.378125\" xlink:href=\"#mee7841e90a\" y=\"136.244995\"/>\r\n      </g>\r\n     </g>\r\n    </g>\r\n    <g id=\"ytick_7\">\r\n     <g id=\"line2d_15\">\r\n      <g>\r\n       <use style=\"stroke:#000000;stroke-width:0.6;\" x=\"68.378125\" xlink:href=\"#mee7841e90a\" y=\"10.999219\"/>\r\n      </g>\r\n     </g>\r\n     <g id=\"text_12\">\r\n      <!-- $\\mathdefault{2\\times10^{0}}$ -->\r\n      <g transform=\"translate(26.778125 14.798437)scale(0.1 -0.1)\">\r\n       <use transform=\"translate(0 0.765625)\" xlink:href=\"#DejaVuSans-50\"/>\r\n       <use transform=\"translate(83.105469 0.765625)\" xlink:href=\"#DejaVuSans-215\"/>\r\n       <use transform=\"translate(186.376953 0.765625)\" xlink:href=\"#DejaVuSans-49\"/>\r\n       <use transform=\"translate(250 0.765625)\" xlink:href=\"#DejaVuSans-48\"/>\r\n       <use transform=\"translate(314.580078 39.046875)scale(0.7)\" xlink:href=\"#DejaVuSans-48\"/>\r\n      </g>\r\n     </g>\r\n    </g>\r\n    <g id=\"text_13\">\r\n     <!-- log relative expresssion [] -->\r\n     <g transform=\"translate(14.798438 184.441875)rotate(-90)scale(0.1 -0.1)\">\r\n      <defs>\r\n       <path d=\"M 9.421875 75.984375 \r\nL 18.40625 75.984375 \r\nL 18.40625 0 \r\nL 9.421875 0 \r\nz\r\n\" id=\"DejaVuSans-108\"/>\r\n       <path d=\"M 30.609375 48.390625 \r\nQ 23.390625 48.390625 19.1875 42.75 \r\nQ 14.984375 37.109375 14.984375 27.296875 \r\nQ 14.984375 17.484375 19.15625 11.84375 \r\nQ 23.34375 6.203125 30.609375 6.203125 \r\nQ 37.796875 6.203125 41.984375 11.859375 \r\nQ 46.1875 17.53125 46.1875 27.296875 \r\nQ 46.1875 37.015625 41.984375 42.703125 \r\nQ 37.796875 48.390625 30.609375 48.390625 \r\nz\r\nM 30.609375 56 \r\nQ 42.328125 56 49.015625 48.375 \r\nQ 55.71875 40.765625 55.71875 27.296875 \r\nQ 55.71875 13.875 49.015625 6.21875 \r\nQ 42.328125 -1.421875 30.609375 -1.421875 \r\nQ 18.84375 -1.421875 12.171875 6.21875 \r\nQ 5.515625 13.875 5.515625 27.296875 \r\nQ 5.515625 40.765625 12.171875 48.375 \r\nQ 18.84375 56 30.609375 56 \r\nz\r\n\" id=\"DejaVuSans-111\"/>\r\n       <path d=\"M 45.40625 27.984375 \r\nQ 45.40625 37.75 41.375 43.109375 \r\nQ 37.359375 48.484375 30.078125 48.484375 \r\nQ 22.859375 48.484375 18.828125 43.109375 \r\nQ 14.796875 37.75 14.796875 27.984375 \r\nQ 14.796875 18.265625 18.828125 12.890625 \r\nQ 22.859375 7.515625 30.078125 7.515625 \r\nQ 37.359375 7.515625 41.375 12.890625 \r\nQ 45.40625 18.265625 45.40625 27.984375 \r\nz\r\nM 54.390625 6.78125 \r\nQ 54.390625 -7.171875 48.1875 -13.984375 \r\nQ 42 -20.796875 29.203125 -20.796875 \r\nQ 24.46875 -20.796875 20.265625 -20.09375 \r\nQ 16.0625 -19.390625 12.109375 -17.921875 \r\nL 12.109375 -9.1875 \r\nQ 16.0625 -11.328125 19.921875 -12.34375 \r\nQ 23.78125 -13.375 27.78125 -13.375 \r\nQ 36.625 -13.375 41.015625 -8.765625 \r\nQ 45.40625 -4.15625 45.40625 5.171875 \r\nL 45.40625 9.625 \r\nQ 42.625 4.78125 38.28125 2.390625 \r\nQ 33.9375 0 27.875 0 \r\nQ 17.828125 0 11.671875 7.65625 \r\nQ 5.515625 15.328125 5.515625 27.984375 \r\nQ 5.515625 40.671875 11.671875 48.328125 \r\nQ 17.828125 56 27.875 56 \r\nQ 33.9375 56 38.28125 53.609375 \r\nQ 42.625 51.21875 45.40625 46.390625 \r\nL 45.40625 54.6875 \r\nL 54.390625 54.6875 \r\nz\r\n\" id=\"DejaVuSans-103\"/>\r\n       <path d=\"M 41.109375 46.296875 \r\nQ 39.59375 47.171875 37.8125 47.578125 \r\nQ 36.03125 48 33.890625 48 \r\nQ 26.265625 48 22.1875 43.046875 \r\nQ 18.109375 38.09375 18.109375 28.8125 \r\nL 18.109375 0 \r\nL 9.078125 0 \r\nL 9.078125 54.6875 \r\nL 18.109375 54.6875 \r\nL 18.109375 46.1875 \r\nQ 20.953125 51.171875 25.484375 53.578125 \r\nQ 30.03125 56 36.53125 56 \r\nQ 37.453125 56 38.578125 55.875 \r\nQ 39.703125 55.765625 41.0625 55.515625 \r\nz\r\n\" id=\"DejaVuSans-114\"/>\r\n       <path d=\"M 34.28125 27.484375 \r\nQ 23.390625 27.484375 19.1875 25 \r\nQ 14.984375 22.515625 14.984375 16.5 \r\nQ 14.984375 11.71875 18.140625 8.90625 \r\nQ 21.296875 6.109375 26.703125 6.109375 \r\nQ 34.1875 6.109375 38.703125 11.40625 \r\nQ 43.21875 16.703125 43.21875 25.484375 \r\nL 43.21875 27.484375 \r\nz\r\nM 52.203125 31.203125 \r\nL 52.203125 0 \r\nL 43.21875 0 \r\nL 43.21875 8.296875 \r\nQ 40.140625 3.328125 35.546875 0.953125 \r\nQ 30.953125 -1.421875 24.3125 -1.421875 \r\nQ 15.921875 -1.421875 10.953125 3.296875 \r\nQ 6 8.015625 6 15.921875 \r\nQ 6 25.140625 12.171875 29.828125 \r\nQ 18.359375 34.515625 30.609375 34.515625 \r\nL 43.21875 34.515625 \r\nL 43.21875 35.40625 \r\nQ 43.21875 41.609375 39.140625 45 \r\nQ 35.0625 48.390625 27.6875 48.390625 \r\nQ 23 48.390625 18.546875 47.265625 \r\nQ 14.109375 46.140625 10.015625 43.890625 \r\nL 10.015625 52.203125 \r\nQ 14.9375 54.109375 19.578125 55.046875 \r\nQ 24.21875 56 28.609375 56 \r\nQ 40.484375 56 46.34375 49.84375 \r\nQ 52.203125 43.703125 52.203125 31.203125 \r\nz\r\n\" id=\"DejaVuSans-97\"/>\r\n       <path d=\"M 2.984375 54.6875 \r\nL 12.5 54.6875 \r\nL 29.59375 8.796875 \r\nL 46.6875 54.6875 \r\nL 56.203125 54.6875 \r\nL 35.6875 0 \r\nL 23.484375 0 \r\nz\r\n\" id=\"DejaVuSans-118\"/>\r\n       <path d=\"M 54.890625 54.6875 \r\nL 35.109375 28.078125 \r\nL 55.90625 0 \r\nL 45.3125 0 \r\nL 29.390625 21.484375 \r\nL 13.484375 0 \r\nL 2.875 0 \r\nL 24.125 28.609375 \r\nL 4.6875 54.6875 \r\nL 15.28125 54.6875 \r\nL 29.78125 35.203125 \r\nL 44.28125 54.6875 \r\nz\r\n\" id=\"DejaVuSans-120\"/>\r\n       <path d=\"M 18.109375 8.203125 \r\nL 18.109375 -20.796875 \r\nL 9.078125 -20.796875 \r\nL 9.078125 54.6875 \r\nL 18.109375 54.6875 \r\nL 18.109375 46.390625 \r\nQ 20.953125 51.265625 25.265625 53.625 \r\nQ 29.59375 56 35.59375 56 \r\nQ 45.5625 56 51.78125 48.09375 \r\nQ 58.015625 40.1875 58.015625 27.296875 \r\nQ 58.015625 14.40625 51.78125 6.484375 \r\nQ 45.5625 -1.421875 35.59375 -1.421875 \r\nQ 29.59375 -1.421875 25.265625 0.953125 \r\nQ 20.953125 3.328125 18.109375 8.203125 \r\nz\r\nM 48.6875 27.296875 \r\nQ 48.6875 37.203125 44.609375 42.84375 \r\nQ 40.53125 48.484375 33.40625 48.484375 \r\nQ 26.265625 48.484375 22.1875 42.84375 \r\nQ 18.109375 37.203125 18.109375 27.296875 \r\nQ 18.109375 17.390625 22.1875 11.75 \r\nQ 26.265625 6.109375 33.40625 6.109375 \r\nQ 40.53125 6.109375 44.609375 11.75 \r\nQ 48.6875 17.390625 48.6875 27.296875 \r\nz\r\n\" id=\"DejaVuSans-112\"/>\r\n       <path d=\"M 54.890625 33.015625 \r\nL 54.890625 0 \r\nL 45.90625 0 \r\nL 45.90625 32.71875 \r\nQ 45.90625 40.484375 42.875 44.328125 \r\nQ 39.84375 48.1875 33.796875 48.1875 \r\nQ 26.515625 48.1875 22.3125 43.546875 \r\nQ 18.109375 38.921875 18.109375 30.90625 \r\nL 18.109375 0 \r\nL 9.078125 0 \r\nL 9.078125 54.6875 \r\nL 18.109375 54.6875 \r\nL 18.109375 46.1875 \r\nQ 21.34375 51.125 25.703125 53.5625 \r\nQ 30.078125 56 35.796875 56 \r\nQ 45.21875 56 50.046875 50.171875 \r\nQ 54.890625 44.34375 54.890625 33.015625 \r\nz\r\n\" id=\"DejaVuSans-110\"/>\r\n      </defs>\r\n      <use xlink:href=\"#DejaVuSans-108\"/>\r\n      <use x=\"27.783203\" xlink:href=\"#DejaVuSans-111\"/>\r\n      <use x=\"88.964844\" xlink:href=\"#DejaVuSans-103\"/>\r\n      <use x=\"152.441406\" xlink:href=\"#DejaVuSans-32\"/>\r\n      <use x=\"184.228516\" xlink:href=\"#DejaVuSans-114\"/>\r\n      <use x=\"223.091797\" xlink:href=\"#DejaVuSans-101\"/>\r\n      <use x=\"284.615234\" xlink:href=\"#DejaVuSans-108\"/>\r\n      <use x=\"312.398438\" xlink:href=\"#DejaVuSans-97\"/>\r\n      <use x=\"373.677734\" xlink:href=\"#DejaVuSans-116\"/>\r\n      <use x=\"412.886719\" xlink:href=\"#DejaVuSans-105\"/>\r\n      <use x=\"440.669922\" xlink:href=\"#DejaVuSans-118\"/>\r\n      <use x=\"499.849609\" xlink:href=\"#DejaVuSans-101\"/>\r\n      <use x=\"561.373047\" xlink:href=\"#DejaVuSans-32\"/>\r\n      <use x=\"593.160156\" xlink:href=\"#DejaVuSans-101\"/>\r\n      <use x=\"652.933594\" xlink:href=\"#DejaVuSans-120\"/>\r\n      <use x=\"712.113281\" xlink:href=\"#DejaVuSans-112\"/>\r\n      <use x=\"775.589844\" xlink:href=\"#DejaVuSans-114\"/>\r\n      <use x=\"814.453125\" xlink:href=\"#DejaVuSans-101\"/>\r\n      <use x=\"875.976562\" xlink:href=\"#DejaVuSans-115\"/>\r\n      <use x=\"928.076172\" xlink:href=\"#DejaVuSans-115\"/>\r\n      <use x=\"980.175781\" xlink:href=\"#DejaVuSans-115\"/>\r\n      <use x=\"1032.275391\" xlink:href=\"#DejaVuSans-105\"/>\r\n      <use x=\"1060.058594\" xlink:href=\"#DejaVuSans-111\"/>\r\n      <use x=\"1121.240234\" xlink:href=\"#DejaVuSans-110\"/>\r\n      <use x=\"1184.619141\" xlink:href=\"#DejaVuSans-32\"/>\r\n      <use x=\"1216.40625\" xlink:href=\"#DejaVuSans-91\"/>\r\n      <use x=\"1255.419922\" xlink:href=\"#DejaVuSans-93\"/>\r\n     </g>\r\n    </g>\r\n   </g>\r\n   <g id=\"line2d_16\">\r\n    <path clip-path=\"url(#pb6165cfcca)\" d=\"M 0 0 \r\n\" style=\"fill:none;stroke:#ff0000;stroke-linecap:square;stroke-width:1.5;\"/>\r\n   </g>\r\n   <g id=\"line2d_17\">\r\n    <path clip-path=\"url(#pb6165cfcca)\" d=\"M 0 0 \r\n\" style=\"fill:none;stroke:#ff8200;stroke-linecap:square;stroke-width:1.5;\"/>\r\n   </g>\r\n   <g id=\"line2d_18\">\r\n    <path clip-path=\"url(#pb6165cfcca)\" d=\"M 280.814106 266.995469 \r\nL 281.383314 123.968004 \r\nL 281.826316 -1 \r\nL 281.826316 -1 \r\n\" style=\"fill:none;stroke:#f4ff00;stroke-linecap:square;stroke-width:1.5;\"/>\r\n   </g>\r\n   <g id=\"line2d_19\">\r\n    <path clip-path=\"url(#pb6165cfcca)\" d=\"M 0 0 \r\n\" style=\"fill:none;stroke:#6cff00;stroke-linecap:square;stroke-width:1.5;\"/>\r\n   </g>\r\n   <g id=\"line2d_20\">\r\n    <path clip-path=\"url(#pb6165cfcca)\" d=\"M 0 0 \r\n\" style=\"fill:none;stroke:#00ff1b;stroke-linecap:square;stroke-width:1.5;\"/>\r\n   </g>\r\n   <g id=\"line2d_21\">\r\n    <path clip-path=\"url(#pb6165cfcca)\" d=\"M 282.846801 266.995469 \r\nL 282.96401 -1 \r\nL 282.96401 -1 \r\n\" style=\"fill:none;stroke:#00ffa3;stroke-linecap:square;stroke-width:1.5;\"/>\r\n   </g>\r\n   <g id=\"line2d_22\">\r\n    <path clip-path=\"url(#pb6165cfcca)\" d=\"M 0 0 \r\n\" style=\"fill:none;stroke:#00d9ff;stroke-linecap:square;stroke-width:1.5;\"/>\r\n   </g>\r\n   <g id=\"line2d_23\">\r\n    <path clip-path=\"url(#pb6165cfcca)\" d=\"M 0 0 \r\n\" style=\"fill:none;stroke:#0051ff;stroke-linecap:square;stroke-width:1.5;\"/>\r\n   </g>\r\n   <g id=\"line2d_24\">\r\n    <path clip-path=\"url(#pb6165cfcca)\" d=\"M 0 0 \r\n\" style=\"fill:none;stroke:#3700ff;stroke-linecap:square;stroke-width:1.5;\"/>\r\n   </g>\r\n   <g id=\"line2d_25\">\r\n    <path clip-path=\"url(#pb6165cfcca)\" d=\"M 279.675567 266.995469 \r\nL 281.021368 192.485735 \r\nL 281.564287 152.481677 \r\nL 281.926233 116.137729 \r\nL 282.288179 60.444424 \r\nL 282.512894 -1 \r\nL 282.512894 -1 \r\n\" style=\"fill:none;stroke:#bf00ff;stroke-linecap:square;stroke-width:1.5;\"/>\r\n   </g>\r\n   <g id=\"line2d_26\">\r\n    <path clip-path=\"url(#pb6165cfcca)\" d=\"M 282.141008 266.995469 \r\nL 282.469152 169.802938 \r\nL 282.723985 -1 \r\nL 282.723985 -1 \r\n\" style=\"fill:none;stroke:#ff00b7;stroke-linecap:square;stroke-width:1.5;\"/>\r\n   </g>\r\n   <g id=\"line2d_27\">\r\n    <path clip-path=\"url(#pb6165cfcca)\" d=\"M 0 0 \r\n\" style=\"fill:none;stroke:#ff0035;stroke-linecap:square;stroke-width:1.5;\"/>\r\n   </g>\r\n   <g id=\"patch_3\">\r\n    <path d=\"M 68.378125 228.439219 \r\nL 68.378125 10.999219 \r\n\" style=\"fill:none;stroke:#000000;stroke-linecap:square;stroke-linejoin:miter;stroke-width:0.8;\"/>\r\n   </g>\r\n   <g id=\"patch_4\">\r\n    <path d=\"M 403.178125 228.439219 \r\nL 403.178125 10.999219 \r\n\" style=\"fill:none;stroke:#000000;stroke-linecap:square;stroke-linejoin:miter;stroke-width:0.8;\"/>\r\n   </g>\r\n   <g id=\"patch_5\">\r\n    <path d=\"M 68.378125 228.439219 \r\nL 403.178125 228.439219 \r\n\" style=\"fill:none;stroke:#000000;stroke-linecap:square;stroke-linejoin:miter;stroke-width:0.8;\"/>\r\n   </g>\r\n   <g id=\"patch_6\">\r\n    <path d=\"M 68.378125 10.999219 \r\nL 403.178125 10.999219 \r\n\" style=\"fill:none;stroke:#000000;stroke-linecap:square;stroke-linejoin:miter;stroke-width:0.8;\"/>\r\n   </g>\r\n   <g id=\"legend_1\">\r\n    <g id=\"patch_7\">\r\n     <path d=\"M 329.7875 195.136719 \r\nL 396.178125 195.136719 \r\nQ 398.178125 195.136719 398.178125 193.136719 \r\nL 398.178125 17.999219 \r\nQ 398.178125 15.999219 396.178125 15.999219 \r\nL 329.7875 15.999219 \r\nQ 327.7875 15.999219 327.7875 17.999219 \r\nL 327.7875 193.136719 \r\nQ 327.7875 195.136719 329.7875 195.136719 \r\nz\r\n\" style=\"fill:#ffffff;opacity:0.8;stroke:#cccccc;stroke-linejoin:miter;\"/>\r\n    </g>\r\n    <g id=\"line2d_28\">\r\n     <path d=\"M 331.7875 24.097656 \r\nL 351.7875 24.097656 \r\n\" style=\"fill:none;stroke:#ff0000;stroke-linecap:square;stroke-width:1.5;\"/>\r\n    </g>\r\n    <g id=\"line2d_29\"/>\r\n    <g id=\"text_14\">\r\n     <!-- CLN3 -->\r\n     <g transform=\"translate(359.7875 27.597656)scale(0.1 -0.1)\">\r\n      <defs>\r\n       <path d=\"M 64.40625 67.28125 \r\nL 64.40625 56.890625 \r\nQ 59.421875 61.53125 53.78125 63.8125 \r\nQ 48.140625 66.109375 41.796875 66.109375 \r\nQ 29.296875 66.109375 22.65625 58.46875 \r\nQ 16.015625 50.828125 16.015625 36.375 \r\nQ 16.015625 21.96875 22.65625 14.328125 \r\nQ 29.296875 6.6875 41.796875 6.6875 \r\nQ 48.140625 6.6875 53.78125 8.984375 \r\nQ 59.421875 11.28125 64.40625 15.921875 \r\nL 64.40625 5.609375 \r\nQ 59.234375 2.09375 53.4375 0.328125 \r\nQ 47.65625 -1.421875 41.21875 -1.421875 \r\nQ 24.65625 -1.421875 15.125 8.703125 \r\nQ 5.609375 18.84375 5.609375 36.375 \r\nQ 5.609375 53.953125 15.125 64.078125 \r\nQ 24.65625 74.21875 41.21875 74.21875 \r\nQ 47.75 74.21875 53.53125 72.484375 \r\nQ 59.328125 70.75 64.40625 67.28125 \r\nz\r\n\" id=\"DejaVuSans-67\"/>\r\n       <path d=\"M 9.8125 72.90625 \r\nL 19.671875 72.90625 \r\nL 19.671875 8.296875 \r\nL 55.171875 8.296875 \r\nL 55.171875 0 \r\nL 9.8125 0 \r\nz\r\n\" id=\"DejaVuSans-76\"/>\r\n       <path d=\"M 9.8125 72.90625 \r\nL 23.09375 72.90625 \r\nL 55.421875 11.921875 \r\nL 55.421875 72.90625 \r\nL 64.984375 72.90625 \r\nL 64.984375 0 \r\nL 51.703125 0 \r\nL 19.390625 60.984375 \r\nL 19.390625 0 \r\nL 9.8125 0 \r\nz\r\n\" id=\"DejaVuSans-78\"/>\r\n       <path d=\"M 40.578125 39.3125 \r\nQ 47.65625 37.796875 51.625 33 \r\nQ 55.609375 28.21875 55.609375 21.1875 \r\nQ 55.609375 10.40625 48.1875 4.484375 \r\nQ 40.765625 -1.421875 27.09375 -1.421875 \r\nQ 22.515625 -1.421875 17.65625 -0.515625 \r\nQ 12.796875 0.390625 7.625 2.203125 \r\nL 7.625 11.71875 \r\nQ 11.71875 9.328125 16.59375 8.109375 \r\nQ 21.484375 6.890625 26.8125 6.890625 \r\nQ 36.078125 6.890625 40.9375 10.546875 \r\nQ 45.796875 14.203125 45.796875 21.1875 \r\nQ 45.796875 27.640625 41.28125 31.265625 \r\nQ 36.765625 34.90625 28.71875 34.90625 \r\nL 20.21875 34.90625 \r\nL 20.21875 43.015625 \r\nL 29.109375 43.015625 \r\nQ 36.375 43.015625 40.234375 45.921875 \r\nQ 44.09375 48.828125 44.09375 54.296875 \r\nQ 44.09375 59.90625 40.109375 62.90625 \r\nQ 36.140625 65.921875 28.71875 65.921875 \r\nQ 24.65625 65.921875 20.015625 65.03125 \r\nQ 15.375 64.15625 9.8125 62.3125 \r\nL 9.8125 71.09375 \r\nQ 15.4375 72.65625 20.34375 73.4375 \r\nQ 25.25 74.21875 29.59375 74.21875 \r\nQ 40.828125 74.21875 47.359375 69.109375 \r\nQ 53.90625 64.015625 53.90625 55.328125 \r\nQ 53.90625 49.265625 50.4375 45.09375 \r\nQ 46.96875 40.921875 40.578125 39.3125 \r\nz\r\n\" id=\"DejaVuSans-51\"/>\r\n      </defs>\r\n      <use xlink:href=\"#DejaVuSans-67\"/>\r\n      <use x=\"69.824219\" xlink:href=\"#DejaVuSans-76\"/>\r\n      <use x=\"125.537109\" xlink:href=\"#DejaVuSans-78\"/>\r\n      <use x=\"200.341797\" xlink:href=\"#DejaVuSans-51\"/>\r\n     </g>\r\n    </g>\r\n    <g id=\"line2d_30\">\r\n     <path d=\"M 331.7875 38.775781 \r\nL 351.7875 38.775781 \r\n\" style=\"fill:none;stroke:#ff8200;stroke-linecap:square;stroke-width:1.5;\"/>\r\n    </g>\r\n    <g id=\"line2d_31\"/>\r\n    <g id=\"text_15\">\r\n     <!-- SWI5 -->\r\n     <g transform=\"translate(359.7875 42.275781)scale(0.1 -0.1)\">\r\n      <defs>\r\n       <path d=\"M 53.515625 70.515625 \r\nL 53.515625 60.890625 \r\nQ 47.90625 63.578125 42.921875 64.890625 \r\nQ 37.9375 66.21875 33.296875 66.21875 \r\nQ 25.25 66.21875 20.875 63.09375 \r\nQ 16.5 59.96875 16.5 54.203125 \r\nQ 16.5 49.359375 19.40625 46.890625 \r\nQ 22.3125 44.4375 30.421875 42.921875 \r\nL 36.375 41.703125 \r\nQ 47.40625 39.59375 52.65625 34.296875 \r\nQ 57.90625 29 57.90625 20.125 \r\nQ 57.90625 9.515625 50.796875 4.046875 \r\nQ 43.703125 -1.421875 29.984375 -1.421875 \r\nQ 24.8125 -1.421875 18.96875 -0.25 \r\nQ 13.140625 0.921875 6.890625 3.21875 \r\nL 6.890625 13.375 \r\nQ 12.890625 10.015625 18.65625 8.296875 \r\nQ 24.421875 6.59375 29.984375 6.59375 \r\nQ 38.421875 6.59375 43.015625 9.90625 \r\nQ 47.609375 13.234375 47.609375 19.390625 \r\nQ 47.609375 24.75 44.3125 27.78125 \r\nQ 41.015625 30.8125 33.5 32.328125 \r\nL 27.484375 33.5 \r\nQ 16.453125 35.6875 11.515625 40.375 \r\nQ 6.59375 45.0625 6.59375 53.421875 \r\nQ 6.59375 63.09375 13.40625 68.65625 \r\nQ 20.21875 74.21875 32.171875 74.21875 \r\nQ 37.3125 74.21875 42.625 73.28125 \r\nQ 47.953125 72.359375 53.515625 70.515625 \r\nz\r\n\" id=\"DejaVuSans-83\"/>\r\n       <path d=\"M 3.328125 72.90625 \r\nL 13.28125 72.90625 \r\nL 28.609375 11.28125 \r\nL 43.890625 72.90625 \r\nL 54.984375 72.90625 \r\nL 70.3125 11.28125 \r\nL 85.59375 72.90625 \r\nL 95.609375 72.90625 \r\nL 77.296875 0 \r\nL 64.890625 0 \r\nL 49.515625 63.28125 \r\nL 33.984375 0 \r\nL 21.578125 0 \r\nz\r\n\" id=\"DejaVuSans-87\"/>\r\n       <path d=\"M 9.8125 72.90625 \r\nL 19.671875 72.90625 \r\nL 19.671875 0 \r\nL 9.8125 0 \r\nz\r\n\" id=\"DejaVuSans-73\"/>\r\n      </defs>\r\n      <use xlink:href=\"#DejaVuSans-83\"/>\r\n      <use x=\"63.476562\" xlink:href=\"#DejaVuSans-87\"/>\r\n      <use x=\"162.353516\" xlink:href=\"#DejaVuSans-73\"/>\r\n      <use x=\"191.845703\" xlink:href=\"#DejaVuSans-53\"/>\r\n     </g>\r\n    </g>\r\n    <g id=\"line2d_32\">\r\n     <path d=\"M 331.7875 53.453906 \r\nL 351.7875 53.453906 \r\n\" style=\"fill:none;stroke:#f4ff00;stroke-linecap:square;stroke-width:1.5;\"/>\r\n    </g>\r\n    <g id=\"line2d_33\"/>\r\n    <g id=\"text_16\">\r\n     <!-- CLN1 -->\r\n     <g transform=\"translate(359.7875 56.953906)scale(0.1 -0.1)\">\r\n      <use xlink:href=\"#DejaVuSans-67\"/>\r\n      <use x=\"69.824219\" xlink:href=\"#DejaVuSans-76\"/>\r\n      <use x=\"125.537109\" xlink:href=\"#DejaVuSans-78\"/>\r\n      <use x=\"200.341797\" xlink:href=\"#DejaVuSans-49\"/>\r\n     </g>\r\n    </g>\r\n    <g id=\"line2d_34\">\r\n     <path d=\"M 331.7875 68.132031 \r\nL 351.7875 68.132031 \r\n\" style=\"fill:none;stroke:#6cff00;stroke-linecap:square;stroke-width:1.5;\"/>\r\n    </g>\r\n    <g id=\"line2d_35\"/>\r\n    <g id=\"text_17\">\r\n     <!-- CLN2 -->\r\n     <g transform=\"translate(359.7875 71.632031)scale(0.1 -0.1)\">\r\n      <use xlink:href=\"#DejaVuSans-67\"/>\r\n      <use x=\"69.824219\" xlink:href=\"#DejaVuSans-76\"/>\r\n      <use x=\"125.537109\" xlink:href=\"#DejaVuSans-78\"/>\r\n      <use x=\"200.341797\" xlink:href=\"#DejaVuSans-50\"/>\r\n     </g>\r\n    </g>\r\n    <g id=\"line2d_36\">\r\n     <path d=\"M 331.7875 82.810156 \r\nL 351.7875 82.810156 \r\n\" style=\"fill:none;stroke:#00ff1b;stroke-linecap:square;stroke-width:1.5;\"/>\r\n    </g>\r\n    <g id=\"line2d_37\"/>\r\n    <g id=\"text_18\">\r\n     <!-- CDH1 -->\r\n     <g transform=\"translate(359.7875 86.310156)scale(0.1 -0.1)\">\r\n      <defs>\r\n       <path d=\"M 19.671875 64.796875 \r\nL 19.671875 8.109375 \r\nL 31.59375 8.109375 \r\nQ 46.6875 8.109375 53.6875 14.9375 \r\nQ 60.6875 21.78125 60.6875 36.53125 \r\nQ 60.6875 51.171875 53.6875 57.984375 \r\nQ 46.6875 64.796875 31.59375 64.796875 \r\nz\r\nM 9.8125 72.90625 \r\nL 30.078125 72.90625 \r\nQ 51.265625 72.90625 61.171875 64.09375 \r\nQ 71.09375 55.28125 71.09375 36.53125 \r\nQ 71.09375 17.671875 61.125 8.828125 \r\nQ 51.171875 0 30.078125 0 \r\nL 9.8125 0 \r\nz\r\n\" id=\"DejaVuSans-68\"/>\r\n       <path d=\"M 9.8125 72.90625 \r\nL 19.671875 72.90625 \r\nL 19.671875 43.015625 \r\nL 55.515625 43.015625 \r\nL 55.515625 72.90625 \r\nL 65.375 72.90625 \r\nL 65.375 0 \r\nL 55.515625 0 \r\nL 55.515625 34.71875 \r\nL 19.671875 34.71875 \r\nL 19.671875 0 \r\nL 9.8125 0 \r\nz\r\n\" id=\"DejaVuSans-72\"/>\r\n      </defs>\r\n      <use xlink:href=\"#DejaVuSans-67\"/>\r\n      <use x=\"69.824219\" xlink:href=\"#DejaVuSans-68\"/>\r\n      <use x=\"146.826172\" xlink:href=\"#DejaVuSans-72\"/>\r\n      <use x=\"222.021484\" xlink:href=\"#DejaVuSans-49\"/>\r\n     </g>\r\n    </g>\r\n    <g id=\"line2d_38\">\r\n     <path d=\"M 331.7875 97.488281 \r\nL 351.7875 97.488281 \r\n\" style=\"fill:none;stroke:#00ffa3;stroke-linecap:square;stroke-width:1.5;\"/>\r\n    </g>\r\n    <g id=\"line2d_39\"/>\r\n    <g id=\"text_19\">\r\n     <!-- CDC20 -->\r\n     <g transform=\"translate(359.7875 100.988281)scale(0.1 -0.1)\">\r\n      <use xlink:href=\"#DejaVuSans-67\"/>\r\n      <use x=\"69.824219\" xlink:href=\"#DejaVuSans-68\"/>\r\n      <use x=\"146.826172\" xlink:href=\"#DejaVuSans-67\"/>\r\n      <use x=\"216.650391\" xlink:href=\"#DejaVuSans-50\"/>\r\n      <use x=\"280.273438\" xlink:href=\"#DejaVuSans-48\"/>\r\n     </g>\r\n    </g>\r\n    <g id=\"line2d_40\">\r\n     <path d=\"M 331.7875 112.166406 \r\nL 351.7875 112.166406 \r\n\" style=\"fill:none;stroke:#00d9ff;stroke-linecap:square;stroke-width:1.5;\"/>\r\n    </g>\r\n    <g id=\"line2d_41\"/>\r\n    <g id=\"text_20\">\r\n     <!-- CLB5 -->\r\n     <g transform=\"translate(359.7875 115.666406)scale(0.1 -0.1)\">\r\n      <defs>\r\n       <path d=\"M 19.671875 34.8125 \r\nL 19.671875 8.109375 \r\nL 35.5 8.109375 \r\nQ 43.453125 8.109375 47.28125 11.40625 \r\nQ 51.125 14.703125 51.125 21.484375 \r\nQ 51.125 28.328125 47.28125 31.5625 \r\nQ 43.453125 34.8125 35.5 34.8125 \r\nz\r\nM 19.671875 64.796875 \r\nL 19.671875 42.828125 \r\nL 34.28125 42.828125 \r\nQ 41.5 42.828125 45.03125 45.53125 \r\nQ 48.578125 48.25 48.578125 53.8125 \r\nQ 48.578125 59.328125 45.03125 62.0625 \r\nQ 41.5 64.796875 34.28125 64.796875 \r\nz\r\nM 9.8125 72.90625 \r\nL 35.015625 72.90625 \r\nQ 46.296875 72.90625 52.390625 68.21875 \r\nQ 58.5 63.53125 58.5 54.890625 \r\nQ 58.5 48.1875 55.375 44.234375 \r\nQ 52.25 40.28125 46.1875 39.3125 \r\nQ 53.46875 37.75 57.5 32.78125 \r\nQ 61.53125 27.828125 61.53125 20.40625 \r\nQ 61.53125 10.640625 54.890625 5.3125 \r\nQ 48.25 0 35.984375 0 \r\nL 9.8125 0 \r\nz\r\n\" id=\"DejaVuSans-66\"/>\r\n      </defs>\r\n      <use xlink:href=\"#DejaVuSans-67\"/>\r\n      <use x=\"69.824219\" xlink:href=\"#DejaVuSans-76\"/>\r\n      <use x=\"125.537109\" xlink:href=\"#DejaVuSans-66\"/>\r\n      <use x=\"194.140625\" xlink:href=\"#DejaVuSans-53\"/>\r\n     </g>\r\n    </g>\r\n    <g id=\"line2d_42\">\r\n     <path d=\"M 331.7875 126.844531 \r\nL 351.7875 126.844531 \r\n\" style=\"fill:none;stroke:#0051ff;stroke-linecap:square;stroke-width:1.5;\"/>\r\n    </g>\r\n    <g id=\"line2d_43\"/>\r\n    <g id=\"text_21\">\r\n     <!-- CLB6 -->\r\n     <g transform=\"translate(359.7875 130.344531)scale(0.1 -0.1)\">\r\n      <use xlink:href=\"#DejaVuSans-67\"/>\r\n      <use x=\"69.824219\" xlink:href=\"#DejaVuSans-76\"/>\r\n      <use x=\"125.537109\" xlink:href=\"#DejaVuSans-66\"/>\r\n      <use x=\"194.140625\" xlink:href=\"#DejaVuSans-54\"/>\r\n     </g>\r\n    </g>\r\n    <g id=\"line2d_44\">\r\n     <path d=\"M 331.7875 141.522656 \r\nL 351.7875 141.522656 \r\n\" style=\"fill:none;stroke:#3700ff;stroke-linecap:square;stroke-width:1.5;\"/>\r\n    </g>\r\n    <g id=\"line2d_45\"/>\r\n    <g id=\"text_22\">\r\n     <!-- SIC1 -->\r\n     <g transform=\"translate(359.7875 145.022656)scale(0.1 -0.1)\">\r\n      <use xlink:href=\"#DejaVuSans-83\"/>\r\n      <use x=\"63.476562\" xlink:href=\"#DejaVuSans-73\"/>\r\n      <use x=\"92.96875\" xlink:href=\"#DejaVuSans-67\"/>\r\n      <use x=\"162.792969\" xlink:href=\"#DejaVuSans-49\"/>\r\n     </g>\r\n    </g>\r\n    <g id=\"line2d_46\">\r\n     <path d=\"M 331.7875 156.200781 \r\nL 351.7875 156.200781 \r\n\" style=\"fill:none;stroke:#bf00ff;stroke-linecap:square;stroke-width:1.5;\"/>\r\n    </g>\r\n    <g id=\"line2d_47\"/>\r\n    <g id=\"text_23\">\r\n     <!-- CLB1 -->\r\n     <g transform=\"translate(359.7875 159.700781)scale(0.1 -0.1)\">\r\n      <use xlink:href=\"#DejaVuSans-67\"/>\r\n      <use x=\"69.824219\" xlink:href=\"#DejaVuSans-76\"/>\r\n      <use x=\"125.537109\" xlink:href=\"#DejaVuSans-66\"/>\r\n      <use x=\"194.140625\" xlink:href=\"#DejaVuSans-49\"/>\r\n     </g>\r\n    </g>\r\n    <g id=\"line2d_48\">\r\n     <path d=\"M 331.7875 170.878906 \r\nL 351.7875 170.878906 \r\n\" style=\"fill:none;stroke:#ff00b7;stroke-linecap:square;stroke-width:1.5;\"/>\r\n    </g>\r\n    <g id=\"line2d_49\"/>\r\n    <g id=\"text_24\">\r\n     <!-- CLB2 -->\r\n     <g transform=\"translate(359.7875 174.378906)scale(0.1 -0.1)\">\r\n      <use xlink:href=\"#DejaVuSans-67\"/>\r\n      <use x=\"69.824219\" xlink:href=\"#DejaVuSans-76\"/>\r\n      <use x=\"125.537109\" xlink:href=\"#DejaVuSans-66\"/>\r\n      <use x=\"194.140625\" xlink:href=\"#DejaVuSans-50\"/>\r\n     </g>\r\n    </g>\r\n    <g id=\"line2d_50\">\r\n     <path d=\"M 331.7875 185.557031 \r\nL 351.7875 185.557031 \r\n\" style=\"fill:none;stroke:#ff0035;stroke-linecap:square;stroke-width:1.5;\"/>\r\n    </g>\r\n    <g id=\"line2d_51\"/>\r\n    <g id=\"text_25\">\r\n     <!-- MCM1 -->\r\n     <g transform=\"translate(359.7875 189.057031)scale(0.1 -0.1)\">\r\n      <defs>\r\n       <path d=\"M 9.8125 72.90625 \r\nL 24.515625 72.90625 \r\nL 43.109375 23.296875 \r\nL 61.8125 72.90625 \r\nL 76.515625 72.90625 \r\nL 76.515625 0 \r\nL 66.890625 0 \r\nL 66.890625 64.015625 \r\nL 48.09375 14.015625 \r\nL 38.1875 14.015625 \r\nL 19.390625 64.015625 \r\nL 19.390625 0 \r\nL 9.8125 0 \r\nz\r\n\" id=\"DejaVuSans-77\"/>\r\n      </defs>\r\n      <use xlink:href=\"#DejaVuSans-77\"/>\r\n      <use x=\"86.279297\" xlink:href=\"#DejaVuSans-67\"/>\r\n      <use x=\"156.103516\" xlink:href=\"#DejaVuSans-77\"/>\r\n      <use x=\"242.382812\" xlink:href=\"#DejaVuSans-49\"/>\r\n     </g>\r\n    </g>\r\n   </g>\r\n  </g>\r\n </g>\r\n <defs>\r\n  <clipPath id=\"pb6165cfcca\">\r\n   <rect height=\"217.44\" width=\"334.8\" x=\"68.378125\" y=\"10.999219\"/>\r\n  </clipPath>\r\n </defs>\r\n</svg>\r\n",
      "image/png": "[encoded data removed]"
     },
     "metadata": {
      "needs_background": "light"
     }
    }
   ],
   "source": [
    "m.visualize(lst)"
   ]
  },
  {
   "cell_type": "code",
   "execution_count": 48,
   "metadata": {},
   "outputs": [
    {
     "data": {
      "image/png": "[encoded data removed]",
      "text/plain": [
       "<Figure size 1080x360 with 1 Axes>"
      ]
     },
     "metadata": {
      "needs_background": "light"
     },
     "output_type": "display_data"
    }
   ],
   "source": [
    "import math\n",
    "import matplotlib.pyplot as plt\n",
    "\n",
    "data = [item[0] for item in rank5]\n",
    "data_neg = []\n",
    "data_pos = []\n",
    "for score in data:\n",
    "    if score > 0:\n",
    "        data_pos.append(score)\n",
    "    if score < 0:\n",
    "        data_neg.append(abs(score))\n",
    "\n",
    "plt.figure(figsize=(15,5))\n",
    "hist, bins = np.histogram(data_pos+data_neg, bins=100)\n",
    "logbins = np.logspace(np.log10(bins[0]),np.log10(bins[-1]),len(bins))\n",
    "plt.hist(data_pos, bins=logbins, alpha=0.8)\n",
    "plt.hist(data_neg, bins=logbins, alpha=0.6)\n",
    "plt.legend([\"positive feedback\", \"negative feedback\"])\n",
    "plt.yscale('log')\n",
    "plt.xscale('log')\n",
    "plt.title(\"Histogram of the scores of feedback loops affecting node SWI5 \\n(with cutoff length of 5)\")\n",
    "plt.savefig(\"hitogram.png\", dpi=300)\n",
    "plt.show()"
   ]
  },
  {
   "cell_type": "code",
   "execution_count": null,
   "metadata": {},
   "outputs": [],
   "source": []
  }
 ],
 "metadata": {
  "kernelspec": {
   "display_name": "Python 3",
   "language": "python",
   "name": "python3"
  },
  "language_info": {
   "codemirror_mode": {
    "name": "ipython",
    "version": 3
   },
   "file_extension": ".py",
   "mimetype": "text/x-python",
   "name": "python",
   "nbconvert_exporter": "python",
   "pygments_lexer": "ipython3",
   "version": "3.7.4-final"
  }
 },
 "nbformat": 4,
 "nbformat_minor": 2
}