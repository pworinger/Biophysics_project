{
 "cells": [
  {
   "cell_type": "code",
   "execution_count": 1,
   "metadata": {},
   "outputs": [],
   "source": [
    "from model import Model\n",
    "\n",
    "temp = Model()\n",
    "m = Model(perturbed_gene=temp.graph.node['SWI5']['index'])\n",
    "del temp"
   ]
  },
  {
   "cell_type": "code",
   "execution_count": 6,
   "metadata": {},
   "outputs": [],
   "source": [
    "sum_ = m.alpha.T @ (m.y - 1) + m.y * (m.beta.T @ m.y) - m.beta.T @ np.ones(len(m.y))"
   ]
  },
  {
   "cell_type": "code",
   "execution_count": 12,
   "metadata": {},
   "outputs": [
    {
     "output_type": "execute_result",
     "data": {
      "text/plain": [
       "4362"
      ]
     },
     "metadata": {},
     "execution_count": 12
    }
   ],
   "source": [
    "np.argmax(m.y)"
   ]
  },
  {
   "cell_type": "code",
   "execution_count": 24,
   "metadata": {},
   "outputs": [
    {
     "output_type": "execute_result",
     "data": {
      "text/plain": [
       "matrix([[2.91034949e-06]])"
      ]
     },
     "metadata": {},
     "execution_count": 24
    }
   ],
   "source": [
    "test = m.alpha[:,4362].todense()\n",
    "max(test)"
   ]
  },
  {
   "cell_type": "code",
   "execution_count": 14,
   "metadata": {},
   "outputs": [
    {
     "output_type": "execute_result",
     "data": {
      "text/plain": [
       "0.0"
      ]
     },
     "metadata": {},
     "execution_count": 14
    }
   ],
   "source": [
    "max(m.alpha.T @ (m.y - 1))"
   ]
  },
  {
   "cell_type": "code",
   "execution_count": null,
   "metadata": {},
   "outputs": [],
   "source": []
  },
  {
   "cell_type": "code",
   "execution_count": null,
   "metadata": {},
   "outputs": [],
   "source": [
    "print(model.alpha)"
   ]
  },
  {
   "cell_type": "code",
   "execution_count": 27,
   "metadata": {},
   "outputs": [
    {
     "name": "stdout",
     "output_type": "stream",
     "text": [
      "-6.96347005769e-05\n"
     ]
    }
   ],
   "source": [
    "print(model.alpha[0,350]) # this corresponds to the edge going from node zero to node 350"
   ]
  },
  {
   "cell_type": "code",
   "execution_count": 13,
   "metadata": {},
   "outputs": [],
   "source": [
    "import numpy as np\n",
    "prout = np.array([0,1,2,3])"
   ]
  },
  {
   "cell_type": "code",
   "execution_count": 39,
   "metadata": {},
   "outputs": [
    {
     "data": {
      "text/plain": [
       "array([[1.],\n",
       "       [1.],\n",
       "       [1.]])"
      ]
     },
     "execution_count": 39,
     "metadata": {},
     "output_type": "execute_result"
    }
   ],
   "source": [
    "np.ones((1,3)).T"
   ]
  },
  {
   "cell_type": "code",
   "execution_count": 51,
   "metadata": {},
   "outputs": [
    {
     "data": {
      "text/plain": [
       "array([[3.]])"
      ]
     },
     "execution_count": 51,
     "metadata": {},
     "output_type": "execute_result"
    }
   ],
   "source": [
    "np.ones((1,3)) @ np.ones((1,3)).T"
   ]
  },
  {
   "cell_type": "code",
   "execution_count": 42,
   "metadata": {},
   "outputs": [
    {
     "ename": "SyntaxError",
     "evalue": "invalid syntax (<ipython-input-42-a781510039f2>, line 1)",
     "output_type": "error",
     "traceback": [
      "\u001b[1;36m  File \u001b[1;32m\"<ipython-input-42-a781510039f2>\"\u001b[1;36m, line \u001b[1;32m1\u001b[0m\n\u001b[1;33m    (m.alpha[0:3,0].T).*(np.ones((1,3)).T)\u001b[0m\n\u001b[1;37m                       ^\u001b[0m\n\u001b[1;31mSyntaxError\u001b[0m\u001b[1;31m:\u001b[0m invalid syntax\n"
     ]
    }
   ],
   "source": [
    "(model.alpha[0:3,0].T).*(np.ones((1,3)).T)"
   ]
  },
  {
   "cell_type": "code",
   "execution_count": 19,
   "metadata": {},
   "outputs": [
    {
     "data": {
      "text/plain": [
       "array([0, 1, 2, 3])"
      ]
     },
     "execution_count": 19,
     "metadata": {},
     "output_type": "execute_result"
    }
   ],
   "source": [
    "prout[0:]"
   ]
  },
  {
   "cell_type": "code",
   "execution_count": 70,
   "metadata": {},
   "outputs": [
    {
     "data": {
      "text/plain": [
       "(517,)"
      ]
     },
     "execution_count": 70,
     "metadata": {},
     "output_type": "execute_result"
    }
   ],
   "source": [
    "(m.alpha.T @ m.y).shape"
   ]
  },
  {
   "cell_type": "code",
   "execution_count": 80,
   "metadata": {},
   "outputs": [
    {
     "data": {
      "text/plain": [
       "array([5.43244561e-04, 0.00000000e+00, 1.35656340e-01, 5.14295763e-02,\n",
       "       3.06223835e-02, 5.05326990e-04, 8.76711144e-05, 8.83902467e-05,\n",
       "       6.72430575e-04, 1.09665885e-03, 0.00000000e+00, 2.82915171e-03,\n",
       "       9.93965057e-08, 1.49212600e-03, 4.63680553e-04, 1.42430101e-02,\n",
       "       3.02281817e-04, 1.44698399e-03, 9.59284502e-04, 2.19766746e-02,\n",
       "       1.72668150e+00, 4.84880768e-03, 1.83384819e-03, 2.28351138e-03,\n",
       "       0.00000000e+00, 1.22826925e-03, 0.00000000e+00, 2.26681532e-03,\n",
       "       1.74633915e-03, 2.17783019e-03, 0.00000000e+00, 0.00000000e+00,\n",
       "       6.43576366e-04, 1.62827614e-07, 3.46555916e-05, 8.93018048e-04,\n",
       "       0.00000000e+00, 2.69176049e-03, 1.10249668e-01, 0.00000000e+00,\n",
       "       0.00000000e+00, 0.00000000e+00, 7.17381288e-03, 3.72647341e-03,\n",
       "       4.42317135e-03, 0.00000000e+00, 1.48620940e-05, 6.55364591e-03,\n",
       "       9.58164103e-04, 0.00000000e+00, 1.03805320e-02, 0.00000000e+00,\n",
       "       6.72600953e-04, 2.42386232e-02, 0.00000000e+00, 5.58413388e-04,\n",
       "       2.77558157e-01, 2.15871961e-04, 2.23172538e-03, 1.94749044e-04,\n",
       "       1.40591942e-03, 1.98369658e-03, 6.08164853e-03, 5.97290725e-04,\n",
       "       5.24131745e-05, 6.28734953e-05, 1.34519549e-03, 0.00000000e+00,\n",
       "       1.14140048e-05, 0.00000000e+00, 4.85220847e-01, 2.25493157e-03,\n",
       "       0.00000000e+00, 2.17588153e-03, 1.56013337e-03, 0.00000000e+00,\n",
       "       5.21100674e-02, 2.20142392e-04, 4.63059307e-03, 1.57334137e-01,\n",
       "       8.00202200e-03, 0.00000000e+00, 2.30700537e-02, 4.37669253e-03,\n",
       "       6.21551983e-03, 1.25661232e-02, 6.49556990e-01, 8.79558116e-04,\n",
       "       3.12523562e-04, 5.80372063e-04, 1.67409217e-04, 0.00000000e+00,\n",
       "       5.94710146e-05, 2.19385866e-04, 3.06756829e-03, 7.61285094e-04,\n",
       "       3.16964333e-03, 1.87768495e-03, 1.42582262e-02, 2.09795034e-02,\n",
       "       2.71218366e-05, 2.52700823e-03, 7.70520118e-04, 1.89611156e-03,\n",
       "       1.46026524e-03, 1.48460452e-02, 1.16313659e-03, 2.83147437e-06,\n",
       "       2.12579452e-04, 5.78308807e-03, 3.85698683e-04, 1.99334832e-02,\n",
       "       4.73908419e-10, 0.00000000e+00, 0.00000000e+00, 0.00000000e+00,\n",
       "       7.67798505e-04, 8.11215115e-04, 1.44984963e-03, 6.16323256e-08,\n",
       "       2.37613368e-02, 1.76676263e-02, 3.25791790e-03, 2.66795720e-03,\n",
       "       5.60604906e-03, 7.63719773e-04, 0.00000000e+00, 4.39207743e-06,\n",
       "       4.54483091e+00, 3.48042252e-04, 6.42188367e-04, 1.88940735e-04,\n",
       "       3.12839299e-03, 6.40159517e-04, 1.65631979e-03, 1.22435424e-03,\n",
       "       1.41489404e-02, 1.71217948e-03, 0.00000000e+00, 7.60877809e-03,\n",
       "       0.00000000e+00, 9.71624275e-03, 2.05133069e-03, 0.00000000e+00,\n",
       "       6.22926069e-03, 1.59579036e-03, 6.01061907e-03, 1.29178218e-04,\n",
       "       9.76470907e-03, 8.96539330e-04, 4.89359082e-03, 2.87729207e-03,\n",
       "       3.12450476e-02, 9.06604606e-03, 5.65578754e-07, 0.00000000e+00,\n",
       "       9.11941656e-04, 1.64639846e-04, 0.00000000e+00, 5.18943468e-05,\n",
       "       4.62579963e-08, 8.95094594e-04, 4.87575219e-03, 3.82489091e-03,\n",
       "       5.11268860e-04, 2.27308926e-03, 1.91093569e-03, 6.08436006e-01,\n",
       "       1.37070681e-03, 3.12755060e-04, 9.65511695e-04, 0.00000000e+00,\n",
       "       1.21609242e-03, 7.45967333e-04, 3.29680133e-03, 6.95308173e-06,\n",
       "       1.36350899e-03, 2.00277572e-03, 1.33752570e-04, 2.14596856e-03,\n",
       "       0.00000000e+00, 1.44566848e-02, 2.98478652e-04, 1.25238421e-04,\n",
       "       4.06547345e-04, 2.73861314e-03, 6.11899865e-01, 1.14796426e-02,\n",
       "       2.59572657e-03, 3.10316292e-10, 0.00000000e+00, 6.47221946e-03,\n",
       "       1.63781085e+00, 1.70072577e-03, 5.36093209e-04, 6.06052518e-04,\n",
       "       1.19387254e-02, 0.00000000e+00, 1.93342234e-03, 1.74943682e-02,\n",
       "       1.67290471e-02, 2.48061414e-04, 3.44693422e-03, 0.00000000e+00,\n",
       "       9.94931009e-05, 2.40036773e-04, 1.90582013e-03, 6.54021515e-03,\n",
       "       1.18863479e-03, 3.42915030e-04, 4.90593477e-04, 9.60105017e-04,\n",
       "       0.00000000e+00, 1.13449115e-01, 1.30985714e-02, 4.32926425e-04,\n",
       "       2.72509517e-03, 3.98241687e-02, 1.00379625e-02, 0.00000000e+00,\n",
       "       1.25866190e-04, 7.34823464e-03, 6.29418445e-04, 1.09016799e-02,\n",
       "       1.10863583e-04, 2.16446932e-02, 9.56907382e-07, 1.06331022e-04,\n",
       "       0.00000000e+00, 0.00000000e+00, 1.04745916e-01, 1.28181462e-04,\n",
       "       1.83974757e-04, 5.55742949e-04, 4.78073234e-04, 1.21092731e-03,\n",
       "       1.73519932e-04, 3.96501631e-03, 4.90809126e-03, 6.07033732e-03,\n",
       "       3.77692600e-03, 6.58953002e-03, 2.12909079e-04, 1.02866812e-05,\n",
       "       8.28657759e-03, 5.78931695e-03, 2.47345157e-04, 3.95624939e-03,\n",
       "       3.88277229e-04, 3.24757638e-03, 7.47956126e-03, 0.00000000e+00,\n",
       "       0.00000000e+00, 1.20931414e-05, 0.00000000e+00, 1.22748742e-03,\n",
       "       2.49259628e-03, 6.61442042e-02, 8.85290173e-03, 0.00000000e+00,\n",
       "       2.04258944e-04, 8.59416157e-02, 5.21562844e-02, 7.27748978e-03,\n",
       "       0.00000000e+00, 6.72448530e-03, 5.90173656e-04, 5.35402957e-04,\n",
       "       9.53196966e-04, 3.28797505e-03, 0.00000000e+00, 4.37947463e-05,\n",
       "       2.00099817e-03, 0.00000000e+00, 1.76241047e-03, 6.83085205e-03,\n",
       "       1.79792263e-03, 3.68716032e-04, 0.00000000e+00, 1.15844838e-03,\n",
       "       7.81983448e-05, 8.47662028e-04, 5.16712171e-03, 9.35759859e-03,\n",
       "       3.11340040e-02, 5.59146982e-05, 1.69763222e-02, 1.46727276e-01,\n",
       "       1.84916868e-03, 1.22726079e-05, 1.09558242e-02, 2.80097161e-02,\n",
       "       4.30142095e-03, 1.37166797e-03, 8.74956486e-05, 6.28958433e-02,\n",
       "       8.00493581e-05, 5.54540101e-03, 1.43523854e-03, 4.34981288e-04,\n",
       "       1.05083417e+00, 1.01884753e-04, 4.45577261e+01, 1.00365759e-02,\n",
       "       1.78807916e-08, 3.34482866e-08, 2.49825268e-06, 3.17699782e-02,\n",
       "       4.74830723e-04, 1.53098019e-02, 5.11032412e+00, 8.59806672e-05,\n",
       "       1.14958283e-03, 1.12682401e-04, 1.57669889e-03, 7.57862662e-04,\n",
       "       7.00344067e-04, 9.19112579e-04, 2.27236867e+00, 8.08793970e-04,\n",
       "       0.00000000e+00, 1.68936700e-03, 4.47362547e-03, 2.05098659e-02,\n",
       "       3.72505970e-03, 1.51127373e-03, 4.37453426e-02, 1.42983922e-05,\n",
       "       1.31308625e-03, 3.66807083e-04, 0.00000000e+00, 4.86591515e-03,\n",
       "       8.17707291e-04, 0.00000000e+00, 1.01171419e-03, 1.19749039e-03,\n",
       "       2.17755008e-01, 1.03719623e-03, 5.22697742e-03, 2.54306643e-06,\n",
       "       0.00000000e+00, 1.21131733e-03, 1.18701823e-03, 1.50598825e-02,\n",
       "       9.37132133e-04, 6.88077137e-04, 3.06277358e-01, 4.52918794e-03,\n",
       "       8.18032928e-04, 2.82505293e-03, 1.59563256e-02, 7.32808108e-04,\n",
       "       8.67991266e-05, 3.21653753e-04, 1.30956758e-03, 6.41995102e-04,\n",
       "       5.50953942e-03, 4.30939363e-04, 5.54323493e-04, 1.08112851e-01,\n",
       "       0.00000000e+00, 9.13838753e-04, 1.48497711e-06, 1.08621073e-07,\n",
       "       1.15575726e-01, 1.81690291e-03, 1.25543118e-04, 5.82543716e-03,\n",
       "       0.00000000e+00, 8.16410929e-02, 2.25425661e-03, 3.76066420e-03,\n",
       "       0.00000000e+00, 1.65661071e-01, 0.00000000e+00, 0.00000000e+00,\n",
       "       3.34202621e-03, 2.28338344e-05, 8.20697456e-05, 1.93065928e-03,\n",
       "       2.86149290e-02, 1.90312092e-04, 0.00000000e+00, 4.79723224e-04,\n",
       "       0.00000000e+00, 3.37152524e-03, 2.33431293e-02, 6.66954182e-04,\n",
       "       0.00000000e+00, 0.00000000e+00, 3.54145735e-03, 2.01847084e-04,\n",
       "       1.74122484e-02, 1.17828606e-04, 2.28659800e-05, 1.46568957e+00,\n",
       "       1.72613323e-03, 0.00000000e+00, 3.86411452e-04, 1.55817734e-03,\n",
       "       2.34575976e-03, 3.19237781e-04, 9.40563543e-04, 1.63767460e-03,\n",
       "       5.77556917e-03, 9.36340927e-04, 4.63083358e-03, 7.49045509e-06,\n",
       "       1.14448547e-04, 8.23038419e-04, 4.53239336e-03, 2.58794640e-03,\n",
       "       1.51321289e-02, 4.44912246e-04, 3.69699852e-03, 7.12731706e-03,\n",
       "       1.42899079e-01, 0.00000000e+00, 2.16943968e-05, 2.18886658e-04,\n",
       "       0.00000000e+00, 1.53675284e+00, 0.00000000e+00, 4.20185705e-03,\n",
       "       3.37377547e-03, 6.62749252e-04, 1.13111711e-01, 8.24494179e-04,\n",
       "       0.00000000e+00, 3.01122067e-05, 6.11007672e-04, 1.73856537e-03,\n",
       "       2.10995958e-03, 2.71315901e-02, 1.35056759e-03, 1.37740516e-03,\n",
       "       3.28601013e-04, 2.28957750e-02, 1.18550883e-02, 1.40447507e-03,\n",
       "       3.41139869e-03, 0.00000000e+00, 8.15365208e-01, 4.41963453e-07,\n",
       "       7.00381801e-04, 3.10088456e-04, 1.66721445e-04, 2.27322201e-04,\n",
       "       5.82826947e-04, 4.35976892e-06, 8.39702400e-03, 3.22275409e-03,\n",
       "       1.90641213e-03, 0.00000000e+00, 1.54485233e-03, 0.00000000e+00,\n",
       "       4.55820162e-01, 6.08727790e-02, 2.77383249e-03, 9.43869651e-03,\n",
       "       2.60055910e-04, 2.95361642e-03, 1.72995809e-02, 4.38429340e-02,\n",
       "       1.36738585e-05, 4.75311979e-04, 1.33417385e-02, 4.10110904e-03,\n",
       "       6.58369351e-06, 2.31002216e-02, 1.01617076e-04, 1.86611381e-02,\n",
       "       0.00000000e+00, 6.04872411e-04, 3.49910692e-04, 0.00000000e+00,\n",
       "       4.90017237e-03, 0.00000000e+00, 7.03902887e-02, 1.03045036e-03,\n",
       "       8.86281963e-03, 2.82832943e-01, 4.77655974e-03, 7.02879849e-04,\n",
       "       0.00000000e+00, 0.00000000e+00, 4.65467049e-04, 2.28014737e-04,\n",
       "       5.71790486e-04, 1.34384960e-02, 2.16284462e-03, 1.34703928e-04,\n",
       "       5.70366590e-05, 1.80486609e+00, 4.32754166e-05, 0.00000000e+00,\n",
       "       0.00000000e+00, 5.80069221e-04, 1.91223586e-03, 1.97337080e-03,\n",
       "       2.26820460e-05, 6.53183128e-04, 0.00000000e+00, 0.00000000e+00,\n",
       "       3.60051876e-03, 7.10432225e-03, 6.37700104e-05, 2.78032375e-02,\n",
       "       2.13647414e-02, 1.30155726e-04, 1.24287823e-03, 2.23607641e-03,\n",
       "       2.97941762e-01, 0.00000000e+00, 1.73030400e-03, 2.12750533e-02,\n",
       "       2.84787234e-05])"
      ]
     },
     "execution_count": 80,
     "metadata": {},
     "output_type": "execute_result"
    }
   ],
   "source": [
    "(model.y * (model.beta.T @ (model.y - 1))) / model.y "
   ]
  },
  {
   "cell_type": "code",
   "execution_count": 95,
   "metadata": {},
   "outputs": [],
   "source": [
    "import math\n",
    "def evolve(model, dt):\n",
    "  # want to multiply all edges going to zero with y\n",
    "  # those edges correspond to alpha[:,0]\n",
    "  # therefor we can transpose alpha and multiply it with y\n",
    "  sum_ = model.alpha.T @ (model.y - 1) + model.y * (model.beta.T @ model.y) - model.beta.T @ np.ones(len(model.y))\n",
    "  print(sum_.shape)\n",
    "  # model.y = math.exp( dt*sum_/model.y) * model.y\n",
    "  return np.exp( dt*sum_/model.y) * model.y\n"
   ]
  },
  {
   "cell_type": "code",
   "execution_count": 2,
   "metadata": {},
   "outputs": [],
   "source": [
    "import math\n",
    "import numpy as np\n",
    "def evolve(model, dt):\n",
    "  temp = np.copy(model.y)\n",
    "  for i in range(len(model.y)):\n",
    "    sum_ = sum(model.alpha[:,i].T*(temp-1) + model.beta[:,i].T*(temp[i]*temp-1))\n",
    "    model.y[i] = np.exp(dt*sum_/temp[i] + math.log(temp[i]))"
   ]
  },
  {
   "cell_type": "code",
   "execution_count": 3,
   "metadata": {},
   "outputs": [],
   "source": [
    "evolve(model, 10)"
   ]
  },
  {
   "cell_type": "code",
   "execution_count": 3,
   "metadata": {},
   "outputs": [
    {
     "name": "stdout",
     "output_type": "stream",
     "text": [
      "[[0.5488135  0.48720055]\n",
      " [0.71518937 0.71518411]\n",
      " [0.60276338 0.53332842]\n",
      " [0.54488318 0.54675829]\n",
      " [0.4236548  0.32179184]\n",
      " [0.64589411 0.64450627]\n",
      " [0.43758721 0.38609535]\n",
      " [0.891773   0.89017651]\n",
      " [0.96366276 0.97164417]\n",
      " [0.38344152 0.37091466]]\n"
     ]
    }
   ],
   "source": [
    "import numpy as np\n",
    "temp = np.copy(model.y)\n",
    "model.evolve(10)\n",
    "print(np.concatenate((temp.reshape(len(temp),1), model.y.reshape(len(model.y),1)), axis=1)[0:10,:])\n",
    "\n",
    "\n"
   ]
  },
  {
   "cell_type": "code",
   "execution_count": 26,
   "metadata": {},
   "outputs": [
    {
     "data": {
      "text/plain": [
       "array([0.69557474, 0.67228518, 0.94891216, 0.00370051, 0.64754946,\n",
       "       0.60079184, 0.58915087, 0.96280755, 0.0178548 , 0.69678595])"
      ]
     },
     "execution_count": 26,
     "metadata": {},
     "output_type": "execute_result"
    }
   ],
   "source": [
    "np.random.uniform(1e-3, 1, 10)"
   ]
  },
  {
   "cell_type": "code",
   "execution_count": 27,
   "metadata": {},
   "outputs": [
    {
     "data": {
      "text/plain": [
       "array([1., 1., 1., 1., 1., 1., 1., 1., 1., 1.])"
      ]
     },
     "execution_count": 27,
     "metadata": {},
     "output_type": "execute_result"
    }
   ],
   "source": [
    "np.ones(10)"
   ]
  },
  {
   "cell_type": "code",
   "execution_count": 2,
   "metadata": {},
   "outputs": [
    {
     "data": {
      "text/plain": [
       "1000.0"
      ]
     },
     "execution_count": 2,
     "metadata": {},
     "output_type": "execute_result"
    }
   ],
   "source": [
    "0.01*1e5"
   ]
  },
  {
   "cell_type": "code",
   "execution_count": 3,
   "metadata": {},
   "outputs": [
    {
     "data": {
      "text/plain": [
       "5400"
      ]
     },
     "execution_count": 3,
     "metadata": {},
     "output_type": "execute_result"
    }
   ],
   "source": [
    "90*60"
   ]
  },
  {
   "cell_type": "code",
   "execution_count": 8,
   "metadata": {},
   "outputs": [
    {
     "data": {
      "text/plain": [
       "array([0., 1., 2., 3., 4., 5., 6., 7., 8., 9.])"
      ]
     },
     "execution_count": 8,
     "metadata": {},
     "output_type": "execute_result"
    }
   ],
   "source": [
    "import numpy as np\n",
    "np.linspace(0, 10*1-1, 10)"
   ]
  },
  {
   "cell_type": "code",
   "execution_count": 9,
   "metadata": {},
   "outputs": [
    {
     "data": {
      "image/png": "[encoded data removed]",
      "image/svg+xml": [
       "<?xml version=\"1.0\" encoding=\"utf-8\" standalone=\"no\"?>\r\n",
       "<!DOCTYPE svg PUBLIC \"-//W3C//DTD SVG 1.1//EN\"\r\n",
       "  \"http://www.w3.org/Graphics/SVG/1.1/DTD/svg11.dtd\">\r\n",
       "<!-- Created with matplotlib (https://matplotlib.org/) -->\r\n",
       "<svg height=\"248.518125pt\" version=\"1.1\" viewBox=\"0 0 385.78125 248.518125\" width=\"385.78125pt\" xmlns=\"http://www.w3.org/2000/svg\" xmlns:xlink=\"http://www.w3.org/1999/xlink\">\r\n",
       " <metadata>\r\n",
       "  <rdf:RDF xmlns:cc=\"http://creativecommons.org/ns#\" xmlns:dc=\"http://purl.org/dc/elements/1.1/\" xmlns:rdf=\"http://www.w3.org/1999/02/22-rdf-syntax-ns#\">\r\n",
       "   <cc:Work>\r\n",
       "    <dc:type rdf:resource=\"http://purl.org/dc/dcmitype/StillImage\"/>\r\n",
       "    <dc:date>2021-01-06T19:42:53.740468</dc:date>\r\n",
       "    <dc:format>image/svg+xml</dc:format>\r\n",
       "    <dc:creator>\r\n",
       "     <cc:Agent>\r\n",
       "      <dc:title>Matplotlib v3.3.2, https://matplotlib.org/</dc:title>\r\n",
       "     </cc:Agent>\r\n",
       "    </dc:creator>\r\n",
       "   </cc:Work>\r\n",
       "  </rdf:RDF>\r\n",
       " </metadata>\r\n",
       " <defs>\r\n",
       "  <style type=\"text/css\">*{stroke-linecap:butt;stroke-linejoin:round;}</style>\r\n",
       " </defs>\r\n",
       " <g id=\"figure_1\">\r\n",
       "  <g id=\"patch_1\">\r\n",
       "   <path d=\"M 0 248.518125 \r\n",
       "L 385.78125 248.518125 \r\n",
       "L 385.78125 0 \r\n",
       "L 0 0 \r\n",
       "z\r\n",
       "\" style=\"fill:none;\"/>\r\n",
       "  </g>\r\n",
       "  <g id=\"axes_1\">\r\n",
       "   <g id=\"patch_2\">\r\n",
       "    <path d=\"M 43.78125 224.64 \r\n",
       "L 378.58125 224.64 \r\n",
       "L 378.58125 7.2 \r\n",
       "L 43.78125 7.2 \r\n",
       "z\r\n",
       "\" style=\"fill:#ffffff;\"/>\r\n",
       "   </g>\r\n",
       "   <g id=\"matplotlib.axis_1\">\r\n",
       "    <g id=\"xtick_1\">\r\n",
       "     <g id=\"line2d_1\">\r\n",
       "      <defs>\r\n",
       "       <path d=\"M 0 0 \r\n",
       "L 0 3.5 \r\n",
       "\" id=\"m0108478086\" style=\"stroke:#000000;stroke-width:0.8;\"/>\r\n",
       "      </defs>\r\n",
       "      <g>\r\n",
       "       <use style=\"stroke:#000000;stroke-width:0.8;\" x=\"58.999432\" xlink:href=\"#m0108478086\" y=\"224.64\"/>\r\n",
       "      </g>\r\n",
       "     </g>\r\n",
       "     <g id=\"text_1\">\r\n",
       "      <!-- 0.0 -->\r\n",
       "      <g transform=\"translate(51.047869 239.238437)scale(0.1 -0.1)\">\r\n",
       "       <defs>\r\n",
       "        <path d=\"M 31.78125 66.40625 \r\n",
       "Q 24.171875 66.40625 20.328125 58.90625 \r\n",
       "Q 16.5 51.421875 16.5 36.375 \r\n",
       "Q 16.5 21.390625 20.328125 13.890625 \r\n",
       "Q 24.171875 6.390625 31.78125 6.390625 \r\n",
       "Q 39.453125 6.390625 43.28125 13.890625 \r\n",
       "Q 47.125 21.390625 47.125 36.375 \r\n",
       "Q 47.125 51.421875 43.28125 58.90625 \r\n",
       "Q 39.453125 66.40625 31.78125 66.40625 \r\n",
       "z\r\n",
       "M 31.78125 74.21875 \r\n",
       "Q 44.046875 74.21875 50.515625 64.515625 \r\n",
       "Q 56.984375 54.828125 56.984375 36.375 \r\n",
       "Q 56.984375 17.96875 50.515625 8.265625 \r\n",
       "Q 44.046875 -1.421875 31.78125 -1.421875 \r\n",
       "Q 19.53125 -1.421875 13.0625 8.265625 \r\n",
       "Q 6.59375 17.96875 6.59375 36.375 \r\n",
       "Q 6.59375 54.828125 13.0625 64.515625 \r\n",
       "Q 19.53125 74.21875 31.78125 74.21875 \r\n",
       "z\r\n",
       "\" id=\"DejaVuSans-48\"/>\r\n",
       "        <path d=\"M 10.6875 12.40625 \r\n",
       "L 21 12.40625 \r\n",
       "L 21 0 \r\n",
       "L 10.6875 0 \r\n",
       "z\r\n",
       "\" id=\"DejaVuSans-46\"/>\r\n",
       "       </defs>\r\n",
       "       <use xlink:href=\"#DejaVuSans-48\"/>\r\n",
       "       <use x=\"63.623047\" xlink:href=\"#DejaVuSans-46\"/>\r\n",
       "       <use x=\"95.410156\" xlink:href=\"#DejaVuSans-48\"/>\r\n",
       "      </g>\r\n",
       "     </g>\r\n",
       "    </g>\r\n",
       "    <g id=\"xtick_2\">\r\n",
       "     <g id=\"line2d_2\">\r\n",
       "      <g>\r\n",
       "       <use style=\"stroke:#000000;stroke-width:0.8;\" x=\"109.726705\" xlink:href=\"#m0108478086\" y=\"224.64\"/>\r\n",
       "      </g>\r\n",
       "     </g>\r\n",
       "     <g id=\"text_2\">\r\n",
       "      <!-- 0.5 -->\r\n",
       "      <g transform=\"translate(101.775142 239.238437)scale(0.1 -0.1)\">\r\n",
       "       <defs>\r\n",
       "        <path d=\"M 10.796875 72.90625 \r\n",
       "L 49.515625 72.90625 \r\n",
       "L 49.515625 64.59375 \r\n",
       "L 19.828125 64.59375 \r\n",
       "L 19.828125 46.734375 \r\n",
       "Q 21.96875 47.46875 24.109375 47.828125 \r\n",
       "Q 26.265625 48.1875 28.421875 48.1875 \r\n",
       "Q 40.625 48.1875 47.75 41.5 \r\n",
       "Q 54.890625 34.8125 54.890625 23.390625 \r\n",
       "Q 54.890625 11.625 47.5625 5.09375 \r\n",
       "Q 40.234375 -1.421875 26.90625 -1.421875 \r\n",
       "Q 22.3125 -1.421875 17.546875 -0.640625 \r\n",
       "Q 12.796875 0.140625 7.71875 1.703125 \r\n",
       "L 7.71875 11.625 \r\n",
       "Q 12.109375 9.234375 16.796875 8.0625 \r\n",
       "Q 21.484375 6.890625 26.703125 6.890625 \r\n",
       "Q 35.15625 6.890625 40.078125 11.328125 \r\n",
       "Q 45.015625 15.765625 45.015625 23.390625 \r\n",
       "Q 45.015625 31 40.078125 35.4375 \r\n",
       "Q 35.15625 39.890625 26.703125 39.890625 \r\n",
       "Q 22.75 39.890625 18.8125 39.015625 \r\n",
       "Q 14.890625 38.140625 10.796875 36.28125 \r\n",
       "z\r\n",
       "\" id=\"DejaVuSans-53\"/>\r\n",
       "       </defs>\r\n",
       "       <use xlink:href=\"#DejaVuSans-48\"/>\r\n",
       "       <use x=\"63.623047\" xlink:href=\"#DejaVuSans-46\"/>\r\n",
       "       <use x=\"95.410156\" xlink:href=\"#DejaVuSans-53\"/>\r\n",
       "      </g>\r\n",
       "     </g>\r\n",
       "    </g>\r\n",
       "    <g id=\"xtick_3\">\r\n",
       "     <g id=\"line2d_3\">\r\n",
       "      <g>\r\n",
       "       <use style=\"stroke:#000000;stroke-width:0.8;\" x=\"160.453977\" xlink:href=\"#m0108478086\" y=\"224.64\"/>\r\n",
       "      </g>\r\n",
       "     </g>\r\n",
       "     <g id=\"text_3\">\r\n",
       "      <!-- 1.0 -->\r\n",
       "      <g transform=\"translate(152.502415 239.238437)scale(0.1 -0.1)\">\r\n",
       "       <defs>\r\n",
       "        <path d=\"M 12.40625 8.296875 \r\n",
       "L 28.515625 8.296875 \r\n",
       "L 28.515625 63.921875 \r\n",
       "L 10.984375 60.40625 \r\n",
       "L 10.984375 69.390625 \r\n",
       "L 28.421875 72.90625 \r\n",
       "L 38.28125 72.90625 \r\n",
       "L 38.28125 8.296875 \r\n",
       "L 54.390625 8.296875 \r\n",
       "L 54.390625 0 \r\n",
       "L 12.40625 0 \r\n",
       "z\r\n",
       "\" id=\"DejaVuSans-49\"/>\r\n",
       "       </defs>\r\n",
       "       <use xlink:href=\"#DejaVuSans-49\"/>\r\n",
       "       <use x=\"63.623047\" xlink:href=\"#DejaVuSans-46\"/>\r\n",
       "       <use x=\"95.410156\" xlink:href=\"#DejaVuSans-48\"/>\r\n",
       "      </g>\r\n",
       "     </g>\r\n",
       "    </g>\r\n",
       "    <g id=\"xtick_4\">\r\n",
       "     <g id=\"line2d_4\">\r\n",
       "      <g>\r\n",
       "       <use style=\"stroke:#000000;stroke-width:0.8;\" x=\"211.18125\" xlink:href=\"#m0108478086\" y=\"224.64\"/>\r\n",
       "      </g>\r\n",
       "     </g>\r\n",
       "     <g id=\"text_4\">\r\n",
       "      <!-- 1.5 -->\r\n",
       "      <g transform=\"translate(203.229688 239.238437)scale(0.1 -0.1)\">\r\n",
       "       <use xlink:href=\"#DejaVuSans-49\"/>\r\n",
       "       <use x=\"63.623047\" xlink:href=\"#DejaVuSans-46\"/>\r\n",
       "       <use x=\"95.410156\" xlink:href=\"#DejaVuSans-53\"/>\r\n",
       "      </g>\r\n",
       "     </g>\r\n",
       "    </g>\r\n",
       "    <g id=\"xtick_5\">\r\n",
       "     <g id=\"line2d_5\">\r\n",
       "      <g>\r\n",
       "       <use style=\"stroke:#000000;stroke-width:0.8;\" x=\"261.908523\" xlink:href=\"#m0108478086\" y=\"224.64\"/>\r\n",
       "      </g>\r\n",
       "     </g>\r\n",
       "     <g id=\"text_5\">\r\n",
       "      <!-- 2.0 -->\r\n",
       "      <g transform=\"translate(253.95696 239.238437)scale(0.1 -0.1)\">\r\n",
       "       <defs>\r\n",
       "        <path d=\"M 19.1875 8.296875 \r\n",
       "L 53.609375 8.296875 \r\n",
       "L 53.609375 0 \r\n",
       "L 7.328125 0 \r\n",
       "L 7.328125 8.296875 \r\n",
       "Q 12.9375 14.109375 22.625 23.890625 \r\n",
       "Q 32.328125 33.6875 34.8125 36.53125 \r\n",
       "Q 39.546875 41.84375 41.421875 45.53125 \r\n",
       "Q 43.3125 49.21875 43.3125 52.78125 \r\n",
       "Q 43.3125 58.59375 39.234375 62.25 \r\n",
       "Q 35.15625 65.921875 28.609375 65.921875 \r\n",
       "Q 23.96875 65.921875 18.8125 64.3125 \r\n",
       "Q 13.671875 62.703125 7.8125 59.421875 \r\n",
       "L 7.8125 69.390625 \r\n",
       "Q 13.765625 71.78125 18.9375 73 \r\n",
       "Q 24.125 74.21875 28.421875 74.21875 \r\n",
       "Q 39.75 74.21875 46.484375 68.546875 \r\n",
       "Q 53.21875 62.890625 53.21875 53.421875 \r\n",
       "Q 53.21875 48.921875 51.53125 44.890625 \r\n",
       "Q 49.859375 40.875 45.40625 35.40625 \r\n",
       "Q 44.1875 33.984375 37.640625 27.21875 \r\n",
       "Q 31.109375 20.453125 19.1875 8.296875 \r\n",
       "z\r\n",
       "\" id=\"DejaVuSans-50\"/>\r\n",
       "       </defs>\r\n",
       "       <use xlink:href=\"#DejaVuSans-50\"/>\r\n",
       "       <use x=\"63.623047\" xlink:href=\"#DejaVuSans-46\"/>\r\n",
       "       <use x=\"95.410156\" xlink:href=\"#DejaVuSans-48\"/>\r\n",
       "      </g>\r\n",
       "     </g>\r\n",
       "    </g>\r\n",
       "    <g id=\"xtick_6\">\r\n",
       "     <g id=\"line2d_6\">\r\n",
       "      <g>\r\n",
       "       <use style=\"stroke:#000000;stroke-width:0.8;\" x=\"312.635795\" xlink:href=\"#m0108478086\" y=\"224.64\"/>\r\n",
       "      </g>\r\n",
       "     </g>\r\n",
       "     <g id=\"text_6\">\r\n",
       "      <!-- 2.5 -->\r\n",
       "      <g transform=\"translate(304.684233 239.238437)scale(0.1 -0.1)\">\r\n",
       "       <use xlink:href=\"#DejaVuSans-50\"/>\r\n",
       "       <use x=\"63.623047\" xlink:href=\"#DejaVuSans-46\"/>\r\n",
       "       <use x=\"95.410156\" xlink:href=\"#DejaVuSans-53\"/>\r\n",
       "      </g>\r\n",
       "     </g>\r\n",
       "    </g>\r\n",
       "    <g id=\"xtick_7\">\r\n",
       "     <g id=\"line2d_7\">\r\n",
       "      <g>\r\n",
       "       <use style=\"stroke:#000000;stroke-width:0.8;\" x=\"363.363068\" xlink:href=\"#m0108478086\" y=\"224.64\"/>\r\n",
       "      </g>\r\n",
       "     </g>\r\n",
       "     <g id=\"text_7\">\r\n",
       "      <!-- 3.0 -->\r\n",
       "      <g transform=\"translate(355.411506 239.238437)scale(0.1 -0.1)\">\r\n",
       "       <defs>\r\n",
       "        <path d=\"M 40.578125 39.3125 \r\n",
       "Q 47.65625 37.796875 51.625 33 \r\n",
       "Q 55.609375 28.21875 55.609375 21.1875 \r\n",
       "Q 55.609375 10.40625 48.1875 4.484375 \r\n",
       "Q 40.765625 -1.421875 27.09375 -1.421875 \r\n",
       "Q 22.515625 -1.421875 17.65625 -0.515625 \r\n",
       "Q 12.796875 0.390625 7.625 2.203125 \r\n",
       "L 7.625 11.71875 \r\n",
       "Q 11.71875 9.328125 16.59375 8.109375 \r\n",
       "Q 21.484375 6.890625 26.8125 6.890625 \r\n",
       "Q 36.078125 6.890625 40.9375 10.546875 \r\n",
       "Q 45.796875 14.203125 45.796875 21.1875 \r\n",
       "Q 45.796875 27.640625 41.28125 31.265625 \r\n",
       "Q 36.765625 34.90625 28.71875 34.90625 \r\n",
       "L 20.21875 34.90625 \r\n",
       "L 20.21875 43.015625 \r\n",
       "L 29.109375 43.015625 \r\n",
       "Q 36.375 43.015625 40.234375 45.921875 \r\n",
       "Q 44.09375 48.828125 44.09375 54.296875 \r\n",
       "Q 44.09375 59.90625 40.109375 62.90625 \r\n",
       "Q 36.140625 65.921875 28.71875 65.921875 \r\n",
       "Q 24.65625 65.921875 20.015625 65.03125 \r\n",
       "Q 15.375 64.15625 9.8125 62.3125 \r\n",
       "L 9.8125 71.09375 \r\n",
       "Q 15.4375 72.65625 20.34375 73.4375 \r\n",
       "Q 25.25 74.21875 29.59375 74.21875 \r\n",
       "Q 40.828125 74.21875 47.359375 69.109375 \r\n",
       "Q 53.90625 64.015625 53.90625 55.328125 \r\n",
       "Q 53.90625 49.265625 50.4375 45.09375 \r\n",
       "Q 46.96875 40.921875 40.578125 39.3125 \r\n",
       "z\r\n",
       "\" id=\"DejaVuSans-51\"/>\r\n",
       "       </defs>\r\n",
       "       <use xlink:href=\"#DejaVuSans-51\"/>\r\n",
       "       <use x=\"63.623047\" xlink:href=\"#DejaVuSans-46\"/>\r\n",
       "       <use x=\"95.410156\" xlink:href=\"#DejaVuSans-48\"/>\r\n",
       "      </g>\r\n",
       "     </g>\r\n",
       "    </g>\r\n",
       "   </g>\r\n",
       "   <g id=\"matplotlib.axis_2\">\r\n",
       "    <g id=\"ytick_1\">\r\n",
       "     <g id=\"line2d_8\">\r\n",
       "      <defs>\r\n",
       "       <path d=\"M 0 0 \r\n",
       "L -3.5 0 \r\n",
       "\" id=\"mfa7f10b574\" style=\"stroke:#000000;stroke-width:0.8;\"/>\r\n",
       "      </defs>\r\n",
       "      <g>\r\n",
       "       <use style=\"stroke:#000000;stroke-width:0.8;\" x=\"43.78125\" xlink:href=\"#mfa7f10b574\" y=\"214.756364\"/>\r\n",
       "      </g>\r\n",
       "     </g>\r\n",
       "     <g id=\"text_8\">\r\n",
       "      <!-- 1.0 -->\r\n",
       "      <g transform=\"translate(20.878125 218.555582)scale(0.1 -0.1)\">\r\n",
       "       <use xlink:href=\"#DejaVuSans-49\"/>\r\n",
       "       <use x=\"63.623047\" xlink:href=\"#DejaVuSans-46\"/>\r\n",
       "       <use x=\"95.410156\" xlink:href=\"#DejaVuSans-48\"/>\r\n",
       "      </g>\r\n",
       "     </g>\r\n",
       "    </g>\r\n",
       "    <g id=\"ytick_2\">\r\n",
       "     <g id=\"line2d_9\">\r\n",
       "      <g>\r\n",
       "       <use style=\"stroke:#000000;stroke-width:0.8;\" x=\"43.78125\" xlink:href=\"#mfa7f10b574\" y=\"181.810909\"/>\r\n",
       "      </g>\r\n",
       "     </g>\r\n",
       "     <g id=\"text_9\">\r\n",
       "      <!-- 1.5 -->\r\n",
       "      <g transform=\"translate(20.878125 185.610128)scale(0.1 -0.1)\">\r\n",
       "       <use xlink:href=\"#DejaVuSans-49\"/>\r\n",
       "       <use x=\"63.623047\" xlink:href=\"#DejaVuSans-46\"/>\r\n",
       "       <use x=\"95.410156\" xlink:href=\"#DejaVuSans-53\"/>\r\n",
       "      </g>\r\n",
       "     </g>\r\n",
       "    </g>\r\n",
       "    <g id=\"ytick_3\">\r\n",
       "     <g id=\"line2d_10\">\r\n",
       "      <g>\r\n",
       "       <use style=\"stroke:#000000;stroke-width:0.8;\" x=\"43.78125\" xlink:href=\"#mfa7f10b574\" y=\"148.865455\"/>\r\n",
       "      </g>\r\n",
       "     </g>\r\n",
       "     <g id=\"text_10\">\r\n",
       "      <!-- 2.0 -->\r\n",
       "      <g transform=\"translate(20.878125 152.664673)scale(0.1 -0.1)\">\r\n",
       "       <use xlink:href=\"#DejaVuSans-50\"/>\r\n",
       "       <use x=\"63.623047\" xlink:href=\"#DejaVuSans-46\"/>\r\n",
       "       <use x=\"95.410156\" xlink:href=\"#DejaVuSans-48\"/>\r\n",
       "      </g>\r\n",
       "     </g>\r\n",
       "    </g>\r\n",
       "    <g id=\"ytick_4\">\r\n",
       "     <g id=\"line2d_11\">\r\n",
       "      <g>\r\n",
       "       <use style=\"stroke:#000000;stroke-width:0.8;\" x=\"43.78125\" xlink:href=\"#mfa7f10b574\" y=\"115.92\"/>\r\n",
       "      </g>\r\n",
       "     </g>\r\n",
       "     <g id=\"text_11\">\r\n",
       "      <!-- 2.5 -->\r\n",
       "      <g transform=\"translate(20.878125 119.719219)scale(0.1 -0.1)\">\r\n",
       "       <use xlink:href=\"#DejaVuSans-50\"/>\r\n",
       "       <use x=\"63.623047\" xlink:href=\"#DejaVuSans-46\"/>\r\n",
       "       <use x=\"95.410156\" xlink:href=\"#DejaVuSans-53\"/>\r\n",
       "      </g>\r\n",
       "     </g>\r\n",
       "    </g>\r\n",
       "    <g id=\"ytick_5\">\r\n",
       "     <g id=\"line2d_12\">\r\n",
       "      <g>\r\n",
       "       <use style=\"stroke:#000000;stroke-width:0.8;\" x=\"43.78125\" xlink:href=\"#mfa7f10b574\" y=\"82.974545\"/>\r\n",
       "      </g>\r\n",
       "     </g>\r\n",
       "     <g id=\"text_12\">\r\n",
       "      <!-- 3.0 -->\r\n",
       "      <g transform=\"translate(20.878125 86.773764)scale(0.1 -0.1)\">\r\n",
       "       <use xlink:href=\"#DejaVuSans-51\"/>\r\n",
       "       <use x=\"63.623047\" xlink:href=\"#DejaVuSans-46\"/>\r\n",
       "       <use x=\"95.410156\" xlink:href=\"#DejaVuSans-48\"/>\r\n",
       "      </g>\r\n",
       "     </g>\r\n",
       "    </g>\r\n",
       "    <g id=\"ytick_6\">\r\n",
       "     <g id=\"line2d_13\">\r\n",
       "      <g>\r\n",
       "       <use style=\"stroke:#000000;stroke-width:0.8;\" x=\"43.78125\" xlink:href=\"#mfa7f10b574\" y=\"50.029091\"/>\r\n",
       "      </g>\r\n",
       "     </g>\r\n",
       "     <g id=\"text_13\">\r\n",
       "      <!-- 3.5 -->\r\n",
       "      <g transform=\"translate(20.878125 53.82831)scale(0.1 -0.1)\">\r\n",
       "       <use xlink:href=\"#DejaVuSans-51\"/>\r\n",
       "       <use x=\"63.623047\" xlink:href=\"#DejaVuSans-46\"/>\r\n",
       "       <use x=\"95.410156\" xlink:href=\"#DejaVuSans-53\"/>\r\n",
       "      </g>\r\n",
       "     </g>\r\n",
       "    </g>\r\n",
       "    <g id=\"ytick_7\">\r\n",
       "     <g id=\"line2d_14\">\r\n",
       "      <g>\r\n",
       "       <use style=\"stroke:#000000;stroke-width:0.8;\" x=\"43.78125\" xlink:href=\"#mfa7f10b574\" y=\"17.083636\"/>\r\n",
       "      </g>\r\n",
       "     </g>\r\n",
       "     <g id=\"text_14\">\r\n",
       "      <!-- 4.0 -->\r\n",
       "      <g transform=\"translate(20.878125 20.882855)scale(0.1 -0.1)\">\r\n",
       "       <defs>\r\n",
       "        <path d=\"M 37.796875 64.3125 \r\n",
       "L 12.890625 25.390625 \r\n",
       "L 37.796875 25.390625 \r\n",
       "z\r\n",
       "M 35.203125 72.90625 \r\n",
       "L 47.609375 72.90625 \r\n",
       "L 47.609375 25.390625 \r\n",
       "L 58.015625 25.390625 \r\n",
       "L 58.015625 17.1875 \r\n",
       "L 47.609375 17.1875 \r\n",
       "L 47.609375 0 \r\n",
       "L 37.796875 0 \r\n",
       "L 37.796875 17.1875 \r\n",
       "L 4.890625 17.1875 \r\n",
       "L 4.890625 26.703125 \r\n",
       "z\r\n",
       "\" id=\"DejaVuSans-52\"/>\r\n",
       "       </defs>\r\n",
       "       <use xlink:href=\"#DejaVuSans-52\"/>\r\n",
       "       <use x=\"63.623047\" xlink:href=\"#DejaVuSans-46\"/>\r\n",
       "       <use x=\"95.410156\" xlink:href=\"#DejaVuSans-48\"/>\r\n",
       "      </g>\r\n",
       "     </g>\r\n",
       "    </g>\r\n",
       "    <g id=\"text_15\">\r\n",
       "     <!-- some numbers -->\r\n",
       "     <g transform=\"translate(14.798438 153.23875)rotate(-90)scale(0.1 -0.1)\">\r\n",
       "      <defs>\r\n",
       "       <path d=\"M 44.28125 53.078125 \r\n",
       "L 44.28125 44.578125 \r\n",
       "Q 40.484375 46.53125 36.375 47.5 \r\n",
       "Q 32.28125 48.484375 27.875 48.484375 \r\n",
       "Q 21.1875 48.484375 17.84375 46.4375 \r\n",
       "Q 14.5 44.390625 14.5 40.28125 \r\n",
       "Q 14.5 37.15625 16.890625 35.375 \r\n",
       "Q 19.28125 33.59375 26.515625 31.984375 \r\n",
       "L 29.59375 31.296875 \r\n",
       "Q 39.15625 29.25 43.1875 25.515625 \r\n",
       "Q 47.21875 21.78125 47.21875 15.09375 \r\n",
       "Q 47.21875 7.46875 41.1875 3.015625 \r\n",
       "Q 35.15625 -1.421875 24.609375 -1.421875 \r\n",
       "Q 20.21875 -1.421875 15.453125 -0.5625 \r\n",
       "Q 10.6875 0.296875 5.421875 2 \r\n",
       "L 5.421875 11.28125 \r\n",
       "Q 10.40625 8.6875 15.234375 7.390625 \r\n",
       "Q 20.0625 6.109375 24.8125 6.109375 \r\n",
       "Q 31.15625 6.109375 34.5625 8.28125 \r\n",
       "Q 37.984375 10.453125 37.984375 14.40625 \r\n",
       "Q 37.984375 18.0625 35.515625 20.015625 \r\n",
       "Q 33.0625 21.96875 24.703125 23.78125 \r\n",
       "L 21.578125 24.515625 \r\n",
       "Q 13.234375 26.265625 9.515625 29.90625 \r\n",
       "Q 5.8125 33.546875 5.8125 39.890625 \r\n",
       "Q 5.8125 47.609375 11.28125 51.796875 \r\n",
       "Q 16.75 56 26.8125 56 \r\n",
       "Q 31.78125 56 36.171875 55.265625 \r\n",
       "Q 40.578125 54.546875 44.28125 53.078125 \r\n",
       "z\r\n",
       "\" id=\"DejaVuSans-115\"/>\r\n",
       "       <path d=\"M 30.609375 48.390625 \r\n",
       "Q 23.390625 48.390625 19.1875 42.75 \r\n",
       "Q 14.984375 37.109375 14.984375 27.296875 \r\n",
       "Q 14.984375 17.484375 19.15625 11.84375 \r\n",
       "Q 23.34375 6.203125 30.609375 6.203125 \r\n",
       "Q 37.796875 6.203125 41.984375 11.859375 \r\n",
       "Q 46.1875 17.53125 46.1875 27.296875 \r\n",
       "Q 46.1875 37.015625 41.984375 42.703125 \r\n",
       "Q 37.796875 48.390625 30.609375 48.390625 \r\n",
       "z\r\n",
       "M 30.609375 56 \r\n",
       "Q 42.328125 56 49.015625 48.375 \r\n",
       "Q 55.71875 40.765625 55.71875 27.296875 \r\n",
       "Q 55.71875 13.875 49.015625 6.21875 \r\n",
       "Q 42.328125 -1.421875 30.609375 -1.421875 \r\n",
       "Q 18.84375 -1.421875 12.171875 6.21875 \r\n",
       "Q 5.515625 13.875 5.515625 27.296875 \r\n",
       "Q 5.515625 40.765625 12.171875 48.375 \r\n",
       "Q 18.84375 56 30.609375 56 \r\n",
       "z\r\n",
       "\" id=\"DejaVuSans-111\"/>\r\n",
       "       <path d=\"M 52 44.1875 \r\n",
       "Q 55.375 50.25 60.0625 53.125 \r\n",
       "Q 64.75 56 71.09375 56 \r\n",
       "Q 79.640625 56 84.28125 50.015625 \r\n",
       "Q 88.921875 44.046875 88.921875 33.015625 \r\n",
       "L 88.921875 0 \r\n",
       "L 79.890625 0 \r\n",
       "L 79.890625 32.71875 \r\n",
       "Q 79.890625 40.578125 77.09375 44.375 \r\n",
       "Q 74.3125 48.1875 68.609375 48.1875 \r\n",
       "Q 61.625 48.1875 57.5625 43.546875 \r\n",
       "Q 53.515625 38.921875 53.515625 30.90625 \r\n",
       "L 53.515625 0 \r\n",
       "L 44.484375 0 \r\n",
       "L 44.484375 32.71875 \r\n",
       "Q 44.484375 40.625 41.703125 44.40625 \r\n",
       "Q 38.921875 48.1875 33.109375 48.1875 \r\n",
       "Q 26.21875 48.1875 22.15625 43.53125 \r\n",
       "Q 18.109375 38.875 18.109375 30.90625 \r\n",
       "L 18.109375 0 \r\n",
       "L 9.078125 0 \r\n",
       "L 9.078125 54.6875 \r\n",
       "L 18.109375 54.6875 \r\n",
       "L 18.109375 46.1875 \r\n",
       "Q 21.1875 51.21875 25.484375 53.609375 \r\n",
       "Q 29.78125 56 35.6875 56 \r\n",
       "Q 41.65625 56 45.828125 52.96875 \r\n",
       "Q 50 49.953125 52 44.1875 \r\n",
       "z\r\n",
       "\" id=\"DejaVuSans-109\"/>\r\n",
       "       <path d=\"M 56.203125 29.59375 \r\n",
       "L 56.203125 25.203125 \r\n",
       "L 14.890625 25.203125 \r\n",
       "Q 15.484375 15.921875 20.484375 11.0625 \r\n",
       "Q 25.484375 6.203125 34.421875 6.203125 \r\n",
       "Q 39.59375 6.203125 44.453125 7.46875 \r\n",
       "Q 49.3125 8.734375 54.109375 11.28125 \r\n",
       "L 54.109375 2.78125 \r\n",
       "Q 49.265625 0.734375 44.1875 -0.34375 \r\n",
       "Q 39.109375 -1.421875 33.890625 -1.421875 \r\n",
       "Q 20.796875 -1.421875 13.15625 6.1875 \r\n",
       "Q 5.515625 13.8125 5.515625 26.8125 \r\n",
       "Q 5.515625 40.234375 12.765625 48.109375 \r\n",
       "Q 20.015625 56 32.328125 56 \r\n",
       "Q 43.359375 56 49.78125 48.890625 \r\n",
       "Q 56.203125 41.796875 56.203125 29.59375 \r\n",
       "z\r\n",
       "M 47.21875 32.234375 \r\n",
       "Q 47.125 39.59375 43.09375 43.984375 \r\n",
       "Q 39.0625 48.390625 32.421875 48.390625 \r\n",
       "Q 24.90625 48.390625 20.390625 44.140625 \r\n",
       "Q 15.875 39.890625 15.1875 32.171875 \r\n",
       "z\r\n",
       "\" id=\"DejaVuSans-101\"/>\r\n",
       "       <path id=\"DejaVuSans-32\"/>\r\n",
       "       <path d=\"M 54.890625 33.015625 \r\n",
       "L 54.890625 0 \r\n",
       "L 45.90625 0 \r\n",
       "L 45.90625 32.71875 \r\n",
       "Q 45.90625 40.484375 42.875 44.328125 \r\n",
       "Q 39.84375 48.1875 33.796875 48.1875 \r\n",
       "Q 26.515625 48.1875 22.3125 43.546875 \r\n",
       "Q 18.109375 38.921875 18.109375 30.90625 \r\n",
       "L 18.109375 0 \r\n",
       "L 9.078125 0 \r\n",
       "L 9.078125 54.6875 \r\n",
       "L 18.109375 54.6875 \r\n",
       "L 18.109375 46.1875 \r\n",
       "Q 21.34375 51.125 25.703125 53.5625 \r\n",
       "Q 30.078125 56 35.796875 56 \r\n",
       "Q 45.21875 56 50.046875 50.171875 \r\n",
       "Q 54.890625 44.34375 54.890625 33.015625 \r\n",
       "z\r\n",
       "\" id=\"DejaVuSans-110\"/>\r\n",
       "       <path d=\"M 8.5 21.578125 \r\n",
       "L 8.5 54.6875 \r\n",
       "L 17.484375 54.6875 \r\n",
       "L 17.484375 21.921875 \r\n",
       "Q 17.484375 14.15625 20.5 10.265625 \r\n",
       "Q 23.53125 6.390625 29.59375 6.390625 \r\n",
       "Q 36.859375 6.390625 41.078125 11.03125 \r\n",
       "Q 45.3125 15.671875 45.3125 23.6875 \r\n",
       "L 45.3125 54.6875 \r\n",
       "L 54.296875 54.6875 \r\n",
       "L 54.296875 0 \r\n",
       "L 45.3125 0 \r\n",
       "L 45.3125 8.40625 \r\n",
       "Q 42.046875 3.421875 37.71875 1 \r\n",
       "Q 33.40625 -1.421875 27.6875 -1.421875 \r\n",
       "Q 18.265625 -1.421875 13.375 4.4375 \r\n",
       "Q 8.5 10.296875 8.5 21.578125 \r\n",
       "z\r\n",
       "M 31.109375 56 \r\n",
       "z\r\n",
       "\" id=\"DejaVuSans-117\"/>\r\n",
       "       <path d=\"M 48.6875 27.296875 \r\n",
       "Q 48.6875 37.203125 44.609375 42.84375 \r\n",
       "Q 40.53125 48.484375 33.40625 48.484375 \r\n",
       "Q 26.265625 48.484375 22.1875 42.84375 \r\n",
       "Q 18.109375 37.203125 18.109375 27.296875 \r\n",
       "Q 18.109375 17.390625 22.1875 11.75 \r\n",
       "Q 26.265625 6.109375 33.40625 6.109375 \r\n",
       "Q 40.53125 6.109375 44.609375 11.75 \r\n",
       "Q 48.6875 17.390625 48.6875 27.296875 \r\n",
       "z\r\n",
       "M 18.109375 46.390625 \r\n",
       "Q 20.953125 51.265625 25.265625 53.625 \r\n",
       "Q 29.59375 56 35.59375 56 \r\n",
       "Q 45.5625 56 51.78125 48.09375 \r\n",
       "Q 58.015625 40.1875 58.015625 27.296875 \r\n",
       "Q 58.015625 14.40625 51.78125 6.484375 \r\n",
       "Q 45.5625 -1.421875 35.59375 -1.421875 \r\n",
       "Q 29.59375 -1.421875 25.265625 0.953125 \r\n",
       "Q 20.953125 3.328125 18.109375 8.203125 \r\n",
       "L 18.109375 0 \r\n",
       "L 9.078125 0 \r\n",
       "L 9.078125 75.984375 \r\n",
       "L 18.109375 75.984375 \r\n",
       "z\r\n",
       "\" id=\"DejaVuSans-98\"/>\r\n",
       "       <path d=\"M 41.109375 46.296875 \r\n",
       "Q 39.59375 47.171875 37.8125 47.578125 \r\n",
       "Q 36.03125 48 33.890625 48 \r\n",
       "Q 26.265625 48 22.1875 43.046875 \r\n",
       "Q 18.109375 38.09375 18.109375 28.8125 \r\n",
       "L 18.109375 0 \r\n",
       "L 9.078125 0 \r\n",
       "L 9.078125 54.6875 \r\n",
       "L 18.109375 54.6875 \r\n",
       "L 18.109375 46.1875 \r\n",
       "Q 20.953125 51.171875 25.484375 53.578125 \r\n",
       "Q 30.03125 56 36.53125 56 \r\n",
       "Q 37.453125 56 38.578125 55.875 \r\n",
       "Q 39.703125 55.765625 41.0625 55.515625 \r\n",
       "z\r\n",
       "\" id=\"DejaVuSans-114\"/>\r\n",
       "      </defs>\r\n",
       "      <use xlink:href=\"#DejaVuSans-115\"/>\r\n",
       "      <use x=\"52.099609\" xlink:href=\"#DejaVuSans-111\"/>\r\n",
       "      <use x=\"113.28125\" xlink:href=\"#DejaVuSans-109\"/>\r\n",
       "      <use x=\"210.693359\" xlink:href=\"#DejaVuSans-101\"/>\r\n",
       "      <use x=\"272.216797\" xlink:href=\"#DejaVuSans-32\"/>\r\n",
       "      <use x=\"304.003906\" xlink:href=\"#DejaVuSans-110\"/>\r\n",
       "      <use x=\"367.382812\" xlink:href=\"#DejaVuSans-117\"/>\r\n",
       "      <use x=\"430.761719\" xlink:href=\"#DejaVuSans-109\"/>\r\n",
       "      <use x=\"528.173828\" xlink:href=\"#DejaVuSans-98\"/>\r\n",
       "      <use x=\"591.650391\" xlink:href=\"#DejaVuSans-101\"/>\r\n",
       "      <use x=\"653.173828\" xlink:href=\"#DejaVuSans-114\"/>\r\n",
       "      <use x=\"694.287109\" xlink:href=\"#DejaVuSans-115\"/>\r\n",
       "     </g>\r\n",
       "    </g>\r\n",
       "   </g>\r\n",
       "   <g id=\"line2d_15\">\r\n",
       "    <path clip-path=\"url(#pbfd295f678)\" d=\"M 58.999432 214.756364 \r\n",
       "L 160.453977 148.865455 \r\n",
       "L 261.908523 82.974545 \r\n",
       "L 363.363068 17.083636 \r\n",
       "\" style=\"fill:none;stroke:#1f77b4;stroke-linecap:square;stroke-width:1.5;\"/>\r\n",
       "   </g>\r\n",
       "   <g id=\"patch_3\">\r\n",
       "    <path d=\"M 43.78125 224.64 \r\n",
       "L 43.78125 7.2 \r\n",
       "\" style=\"fill:none;stroke:#000000;stroke-linecap:square;stroke-linejoin:miter;stroke-width:0.8;\"/>\r\n",
       "   </g>\r\n",
       "   <g id=\"patch_4\">\r\n",
       "    <path d=\"M 378.58125 224.64 \r\n",
       "L 378.58125 7.2 \r\n",
       "\" style=\"fill:none;stroke:#000000;stroke-linecap:square;stroke-linejoin:miter;stroke-width:0.8;\"/>\r\n",
       "   </g>\r\n",
       "   <g id=\"patch_5\">\r\n",
       "    <path d=\"M 43.78125 224.64 \r\n",
       "L 378.58125 224.64 \r\n",
       "\" style=\"fill:none;stroke:#000000;stroke-linecap:square;stroke-linejoin:miter;stroke-width:0.8;\"/>\r\n",
       "   </g>\r\n",
       "   <g id=\"patch_6\">\r\n",
       "    <path d=\"M 43.78125 7.2 \r\n",
       "L 378.58125 7.2 \r\n",
       "\" style=\"fill:none;stroke:#000000;stroke-linecap:square;stroke-linejoin:miter;stroke-width:0.8;\"/>\r\n",
       "   </g>\r\n",
       "  </g>\r\n",
       " </g>\r\n",
       " <defs>\r\n",
       "  <clipPath id=\"pbfd295f678\">\r\n",
       "   <rect height=\"217.44\" width=\"334.8\" x=\"43.78125\" y=\"7.2\"/>\r\n",
       "  </clipPath>\r\n",
       " </defs>\r\n",
       "</svg>\r\n"
      ],
      "text/plain": [
       "<Figure size 432x288 with 1 Axes>"
      ]
     },
     "metadata": {
      "needs_background": "light"
     },
     "output_type": "display_data"
    }
   ],
   "source": [
    "import matplotlib.pyplot as plt\n",
    "plt.plot([1, 2, 3, 4])\n",
    "plt.ylabel('some numbers')\n",
    "plt.show()"
   ]
  },
  {
   "cell_type": "code",
   "execution_count": 6,
   "metadata": {},
   "outputs": [],
   "source": [
    "import numpy as np\n",
    "import networkx as nx\n",
    "import time\n",
    "from model import Model\n",
    "from network_visualisation import draw\n",
    "import pickle\n",
    "import pandas as pd\n",
    "m = Model(perturbed_gene=10)"
   ]
  },
  {
   "cell_type": "code",
   "execution_count": 7,
   "metadata": {},
   "outputs": [],
   "source": [
    "with open(\"cycles3.pkl\", \"rb\") as f:\n",
    "    cycles3 = pickle.load(f)"
   ]
  },
  {
   "cell_type": "code",
   "execution_count": 8,
   "metadata": {},
   "outputs": [],
   "source": [
    "with open(\"cycles4.pkl\", \"rb\") as f:\n",
    "    cycles4 = pickle.load(f)"
   ]
  },
  {
   "cell_type": "code",
   "execution_count": 4,
   "metadata": {},
   "outputs": [],
   "source": [
    "with open(\"cycles5.pkl\", \"rb\") as f:\n",
    "    cycles5 = pickle.load(f)"
   ]
  },
  {
   "cell_type": "code",
   "execution_count": 9,
   "metadata": {
    "tags": []
   },
   "outputs": [],
   "source": [
    "def rank_cycles(loops):\n",
    "    flat_list = [item for sublist in loops for item in sublist]\n",
    "    scores = []\n",
    "    normalization = np.mean(list(nx.get_edge_attributes(m.graph, \"alpha\").values()))\n",
    "    for idx, sublist in enumerate(flat_list):\n",
    "        # score measures the strength of the loop\n",
    "        score = 1\n",
    "        previous = sublist[-1]\n",
    "        for node in sublist:\n",
    "            score = score * m.graph.get_edge_data(previous, node, default = 0)['alpha'] / normalization\n",
    "            previous = node\n",
    "        scores.append([score, idx])\n",
    "    scores.sort(reverse=True, key= lambda x: abs(x[0]))\n",
    "    return scores"
   ]
  },
  {
   "cell_type": "code",
   "execution_count": 96,
   "metadata": {
    "tags": []
   },
   "outputs": [],
   "source": [
    "rank3 = rank_cycles(cycles3)"
   ]
  },
  {
   "cell_type": "code",
   "execution_count": 97,
   "metadata": {},
   "outputs": [
    {
     "data": {
      "text/plain": [
       "3915"
      ]
     },
     "execution_count": 97,
     "metadata": {},
     "output_type": "execute_result"
    }
   ],
   "source": [
    "rank3[0][1]"
   ]
  },
  {
   "cell_type": "code",
   "execution_count": 98,
   "metadata": {},
   "outputs": [
    {
     "name": "stdout",
     "output_type": "stream",
     "text": [
      "['PIR1', 'HO', 'PCL5', 'SWI5']\n",
      "['PIR1', 'REE1', 'PCL5', 'SWI5']\n",
      "['HXT2', 'CPA2', 'PCL5', 'SWI5']\n",
      "['PST1', 'REE1', 'PCL5', 'SWI5']\n",
      "['AIM44', 'REE1', 'PCL5', 'SWI5']\n",
      "['FRE1', 'REE1', 'PCL5', 'SWI5']\n",
      "['ASH1', 'HBN1', 'PCL5', 'SWI5']\n",
      "['CTR1', 'REE1', 'PCL5', 'SWI5']\n",
      "['YJL218W', 'REE1', 'PCL5', 'SWI5']\n",
      "['HXT2', 'YGL117W', 'PCL5', 'SWI5']\n"
     ]
    }
   ],
   "source": [
    "flat_list_3 = [item for sublist in cycles3 for item in sublist]\n",
    "for i in rank3[0:10]:\n",
    "    print(flat_list_3[i[1]])"
   ]
  },
  {
   "cell_type": "code",
   "execution_count": 11,
   "metadata": {},
   "outputs": [
    {
     "data": {
      "text/plain": [
       "[[4.691895794191784e-10, 71834],\n",
       " [-9.669176613631822e-11, 21161],\n",
       " [-2.5552121046951807e-11, 207600],\n",
       " [5.319783595359249e-12, 139419],\n",
       " [-4.315539243022384e-12, 42960],\n",
       " [-4.119647714203483e-12, 19500],\n",
       " [3.389715926747615e-12, 229271],\n",
       " [-3.209131093353295e-12, 45436],\n",
       " [1.922472521939989e-12, 6263],\n",
       " [1.6250887036304129e-12, 215940]]"
      ]
     },
     "execution_count": 99,
     "metadata": {},
     "execution_count": 11
    }
   ],
   "source": [
    "rank4 = rank_cycles(cycles4)\n",
    "rank4[0:10]"
   ]
  },
  {
   "cell_type": "code",
   "execution_count": 13,
   "metadata": {},
   "outputs": [],
   "source": [
    "flat_list_4 = [item for sublist in cycles4 for item in sublist]"
   ]
  },
  {
   "cell_type": "code",
   "execution_count": 15,
   "metadata": {},
   "outputs": [
    {
     "output_type": "stream",
     "name": "stdout",
     "text": [
      "['DAL5', 'SWI5']\n['ASH1', 'PCL5', 'SWI5']\n['REE1', 'PCL5', 'SWI5']\n['HO', 'PCL5', 'SWI5']\n['CPA2', 'PCL5', 'SWI5']\n['ASH1', 'DAL5', 'SWI5']\n['SNZ1', 'CBF1', 'SWI5']\n['CRC1', 'PCL5', 'SWI5']\n['ALT1', 'PCL5', 'SWI5']\n['RME1', 'PCL5', 'SWI5']\n['IDH1', 'PCL5', 'SWI5']\n['PIR1', 'HO', 'PCL5', 'SWI5']\n['ANB1', 'PCL5', 'SWI5']\n['OSW2', 'PCL5', 'SWI5']\n['YLL053C', 'PCL5', 'SWI5']\n"
     ]
    }
   ],
   "source": [
    "for i in rank4[0:15]:\n",
    "    print(flat_list_4[i[1]])"
   ]
  },
  {
   "cell_type": "code",
   "execution_count": 100,
   "metadata": {},
   "outputs": [
    {
     "data": {
      "text/plain": [
       "[-131399664.56540495,\n",
       " -15022126.84445149,\n",
       " -6284290.813254106,\n",
       " -5306008.752251154,\n",
       " 4804171.391524613,\n",
       " -3852955.734485752,\n",
       " 3086157.993008291,\n",
       " -2655720.5916856807,\n",
       " 1701694.1025713908,\n",
       " -1408774.1185956497,\n",
       " -1355244.4518262395,\n",
       " -1230216.103220594,\n",
       " 1166191.0891492355,\n",
       " -1117674.4854349003,\n",
       " 1080710.979976803,\n",
       " -984489.7589308594,\n",
       " -851739.0977014304,\n",
       " 795147.250287567,\n",
       " -792324.2967366601,\n",
       " -766871.6651253647,\n",
       " 712519.0154073008,\n",
       " -699446.4597090073,\n",
       " -697913.1816277396,\n",
       " 640808.0706329179,\n",
       " -549822.1662193675,\n",
       " -546717.1703076344,\n",
       " 539843.3935902895,\n",
       " -449402.80875665677,\n",
       " -428299.43165599974,\n",
       " 413722.61389973474]"
      ]
     },
     "execution_count": 100,
     "metadata": {},
     "output_type": "execute_result"
    }
   ],
   "source": [
    "histogram_ = [item[0] for item in rank4]\n",
    "histogram_[0:30]"
   ]
  },
  {
   "cell_type": "code",
   "execution_count": 101,
   "metadata": {},
   "outputs": [
    {
     "data": {
      "image/png": "[encoded data removed]",
      "text/plain": [
       "<Figure size 432x288 with 1 Axes>"
      ]
     },
     "metadata": {
      "needs_background": "light"
     },
     "output_type": "display_data"
    }
   ],
   "source": [
    "histogram_ = [item[0] for item in rank4]\n",
    "histogram_[0:30]\n",
    "\n",
    "import matplotlib.pyplot as plt\n",
    "plt.hist(histogram_)\n",
    "plt.yscale('log')\n",
    "plt.show()"
   ]
  },
  {
   "cell_type": "code",
   "execution_count": 61,
   "metadata": {},
   "outputs": [],
   "source": [
    "rank5 = rank_cycles(cycles5)"
   ]
  },
  {
   "cell_type": "code",
   "execution_count": 64,
   "metadata": {},
   "outputs": [],
   "source": [
    "flat_list_5 = [item for sublist in cycles5 for item in sublist]\n"
   ]
  },
  {
   "cell_type": "code",
   "execution_count": 65,
   "metadata": {},
   "outputs": [
    {
     "name": "stdout",
     "output_type": "stream",
     "text": [
      "['SWI5', 'DAL5']\n['SWI5', 'ASH1', 'PCL5']\n['SWI5', 'REE1', 'PCL5']\n['SWI5', 'HO', 'PCL5']\n['SWI5', 'CPA2', 'PCL5']\n['SWI5', 'ASH1', 'DAL5']\n['SWI5', 'SNZ1', 'CBF1']\n['SWI5', 'CRC1', 'PCL5']\n['SWI5', 'ALT1', 'PCL5']\n['SWI5', 'RME1', 'PCL5']\n['SWI5', 'IDH1', 'PCL5']\n['SWI5', 'PIR1', 'HO', 'PCL5']\n['SWI5', 'ANB1', 'PCL5']\n['SWI5', 'OSW2', 'PCL5']\n['SWI5', 'YLL053C', 'PCL5']\n['SWI5', 'PIR1', 'REE1', 'PCL5']\n['SWI5', 'HBN1', 'PCL5']\n['SWI5', 'FRE1', 'PCL5']\n['SWI5', 'RME1', 'ECM22']\n['SWI5', 'PBI1', 'ECM22']\n['SWI5', 'FUS1', 'PCL5']\n['SWI5', 'PBI1', 'FKH1']\n['SWI5', 'HXT2', 'CPA2', 'PCL5']\n['SWI5', 'GDH2', 'PCL5']\n['SWI5', 'REG2', 'PCL5']\n['SWI5', 'DAL80', 'PCL5']\n['SWI5', 'DUR1,2', 'PCL5']\n['SWI5', 'SAG1', 'PCL5']\n['SWI5', 'MET31', 'PCL5']\n['SWI5', 'CWP1', 'PCL5']\n"
     ]
    }
   ],
   "source": [
    "for i in rank5[0:30]:\n",
    "    print(flat_list_5[i[1]])"
   ]
  },
  {
   "cell_type": "code",
   "execution_count": 1,
   "metadata": {},
   "outputs": [
    {
     "output_type": "stream",
     "name": "stdout",
     "text": [
      "10.0% are done\n",
      "20.0% are done\n",
      "30.0% are done\n",
      "40.0% are done\n",
      "50.0% are done\n",
      "60.0% are done\n",
      "70.0% are done\n",
      "80.0% are done\n",
      "90.0% are done\n",
      "100.0% are done\n"
     ]
    }
   ],
   "source": [
    "from model import Model\n",
    "\n",
    "temp = Model()\n",
    "m = Model(perturbed_gene=temp.graph.node['SWI5']['index'])\n",
    "del temp\n",
    "\n",
    "\n",
    "lst = ['CLN3', 'SWI5', 'CLN1', 'CLN2', 'CDH1', 'CDC20', 'CLB5', 'CLB6', 'SIC1', 'CLB1', 'CLB2', 'MCM1']\n",
    "lst_index = [m.graph.node[element]['index'] for element in lst]\n",
    "lst_index\n",
    "\n",
    "\n",
    "m.cycle(dt= 1, track = lst_index, num_step = int(1e4))"
   ]
  },
  {
   "cell_type": "code",
   "execution_count": 2,
   "metadata": {},
   "outputs": [
    {
     "output_type": "display_data",
     "data": {
      "text/plain": "<Figure size 432x288 with 1 Axes>",
      "image/svg+xml": "<?xml version=\"1.0\" encoding=\"utf-8\" standalone=\"no\"?>\r\n<!DOCTYPE svg PUBLIC \"-//W3C//DTD SVG 1.1//EN\"\r\n  \"http://www.w3.org/Graphics/SVG/1.1/DTD/svg11.dtd\">\r\n<!-- Created with matplotlib (https://matplotlib.org/) -->\r\n<svg height=\"262.19625pt\" version=\"1.1\" viewBox=\"0 0 397.778125 262.19625\" width=\"397.778125pt\" xmlns=\"http://www.w3.org/2000/svg\" xmlns:xlink=\"http://www.w3.org/1999/xlink\">\r\n <metadata>\r\n  <rdf:RDF xmlns:cc=\"http://creativecommons.org/ns#\" xmlns:dc=\"http://purl.org/dc/elements/1.1/\" xmlns:rdf=\"http://www.w3.org/1999/02/22-rdf-syntax-ns#\">\r\n   <cc:Work>\r\n    <dc:type rdf:resource=\"http://purl.org/dc/dcmitype/StillImage\"/>\r\n    <dc:date>2021-01-12T20:13:00.675725</dc:date>\r\n    <dc:format>image/svg+xml</dc:format>\r\n    <dc:creator>\r\n     <cc:Agent>\r\n      <dc:title>Matplotlib v3.3.2, https://matplotlib.org/</dc:title>\r\n     </cc:Agent>\r\n    </dc:creator>\r\n   </cc:Work>\r\n  </rdf:RDF>\r\n </metadata>\r\n <defs>\r\n  <style type=\"text/css\">*{stroke-linecap:butt;stroke-linejoin:round;}</style>\r\n </defs>\r\n <g id=\"figure_1\">\r\n  <g id=\"patch_1\">\r\n   <path d=\"M 0 262.19625 \r\nL 397.778125 262.19625 \r\nL 397.778125 0 \r\nL 0 0 \r\nz\r\n\" style=\"fill:none;\"/>\r\n  </g>\r\n  <g id=\"axes_1\">\r\n   <g id=\"patch_2\">\r\n    <path d=\"M 55.778125 224.64 \r\nL 390.578125 224.64 \r\nL 390.578125 7.2 \r\nL 55.778125 7.2 \r\nz\r\n\" style=\"fill:#ffffff;\"/>\r\n   </g>\r\n   <g id=\"matplotlib.axis_1\">\r\n    <g id=\"xtick_1\">\r\n     <g id=\"line2d_1\">\r\n      <defs>\r\n       <path d=\"M 0 0 \r\nL 0 3.5 \r\n\" id=\"m4722dff219\" style=\"stroke:#000000;stroke-width:0.8;\"/>\r\n      </defs>\r\n      <g>\r\n       <use style=\"stroke:#000000;stroke-width:0.8;\" x=\"55.778125\" xlink:href=\"#m4722dff219\" y=\"224.64\"/>\r\n      </g>\r\n     </g>\r\n     <g id=\"text_1\">\r\n      <!-- 0 -->\r\n      <g transform=\"translate(52.596875 239.238437)scale(0.1 -0.1)\">\r\n       <defs>\r\n        <path d=\"M 31.78125 66.40625 \r\nQ 24.171875 66.40625 20.328125 58.90625 \r\nQ 16.5 51.421875 16.5 36.375 \r\nQ 16.5 21.390625 20.328125 13.890625 \r\nQ 24.171875 6.390625 31.78125 6.390625 \r\nQ 39.453125 6.390625 43.28125 13.890625 \r\nQ 47.125 21.390625 47.125 36.375 \r\nQ 47.125 51.421875 43.28125 58.90625 \r\nQ 39.453125 66.40625 31.78125 66.40625 \r\nz\r\nM 31.78125 74.21875 \r\nQ 44.046875 74.21875 50.515625 64.515625 \r\nQ 56.984375 54.828125 56.984375 36.375 \r\nQ 56.984375 17.96875 50.515625 8.265625 \r\nQ 44.046875 -1.421875 31.78125 -1.421875 \r\nQ 19.53125 -1.421875 13.0625 8.265625 \r\nQ 6.59375 17.96875 6.59375 36.375 \r\nQ 6.59375 54.828125 13.0625 64.515625 \r\nQ 19.53125 74.21875 31.78125 74.21875 \r\nz\r\n\" id=\"DejaVuSans-48\"/>\r\n       </defs>\r\n       <use xlink:href=\"#DejaVuSans-48\"/>\r\n      </g>\r\n     </g>\r\n    </g>\r\n    <g id=\"xtick_2\">\r\n     <g id=\"line2d_2\">\r\n      <g>\r\n       <use style=\"stroke:#000000;stroke-width:0.8;\" x=\"101.021368\" xlink:href=\"#m4722dff219\" y=\"224.64\"/>\r\n      </g>\r\n     </g>\r\n     <g id=\"text_2\">\r\n      <!-- 250 -->\r\n      <g transform=\"translate(91.477618 239.238437)scale(0.1 -0.1)\">\r\n       <defs>\r\n        <path d=\"M 19.1875 8.296875 \r\nL 53.609375 8.296875 \r\nL 53.609375 0 \r\nL 7.328125 0 \r\nL 7.328125 8.296875 \r\nQ 12.9375 14.109375 22.625 23.890625 \r\nQ 32.328125 33.6875 34.8125 36.53125 \r\nQ 39.546875 41.84375 41.421875 45.53125 \r\nQ 43.3125 49.21875 43.3125 52.78125 \r\nQ 43.3125 58.59375 39.234375 62.25 \r\nQ 35.15625 65.921875 28.609375 65.921875 \r\nQ 23.96875 65.921875 18.8125 64.3125 \r\nQ 13.671875 62.703125 7.8125 59.421875 \r\nL 7.8125 69.390625 \r\nQ 13.765625 71.78125 18.9375 73 \r\nQ 24.125 74.21875 28.421875 74.21875 \r\nQ 39.75 74.21875 46.484375 68.546875 \r\nQ 53.21875 62.890625 53.21875 53.421875 \r\nQ 53.21875 48.921875 51.53125 44.890625 \r\nQ 49.859375 40.875 45.40625 35.40625 \r\nQ 44.1875 33.984375 37.640625 27.21875 \r\nQ 31.109375 20.453125 19.1875 8.296875 \r\nz\r\n\" id=\"DejaVuSans-50\"/>\r\n        <path d=\"M 10.796875 72.90625 \r\nL 49.515625 72.90625 \r\nL 49.515625 64.59375 \r\nL 19.828125 64.59375 \r\nL 19.828125 46.734375 \r\nQ 21.96875 47.46875 24.109375 47.828125 \r\nQ 26.265625 48.1875 28.421875 48.1875 \r\nQ 40.625 48.1875 47.75 41.5 \r\nQ 54.890625 34.8125 54.890625 23.390625 \r\nQ 54.890625 11.625 47.5625 5.09375 \r\nQ 40.234375 -1.421875 26.90625 -1.421875 \r\nQ 22.3125 -1.421875 17.546875 -0.640625 \r\nQ 12.796875 0.140625 7.71875 1.703125 \r\nL 7.71875 11.625 \r\nQ 12.109375 9.234375 16.796875 8.0625 \r\nQ 21.484375 6.890625 26.703125 6.890625 \r\nQ 35.15625 6.890625 40.078125 11.328125 \r\nQ 45.015625 15.765625 45.015625 23.390625 \r\nQ 45.015625 31 40.078125 35.4375 \r\nQ 35.15625 39.890625 26.703125 39.890625 \r\nQ 22.75 39.890625 18.8125 39.015625 \r\nQ 14.890625 38.140625 10.796875 36.28125 \r\nz\r\n\" id=\"DejaVuSans-53\"/>\r\n       </defs>\r\n       <use xlink:href=\"#DejaVuSans-50\"/>\r\n       <use x=\"63.623047\" xlink:href=\"#DejaVuSans-53\"/>\r\n       <use x=\"127.246094\" xlink:href=\"#DejaVuSans-48\"/>\r\n      </g>\r\n     </g>\r\n    </g>\r\n    <g id=\"xtick_3\">\r\n     <g id=\"line2d_3\">\r\n      <g>\r\n       <use style=\"stroke:#000000;stroke-width:0.8;\" x=\"146.264611\" xlink:href=\"#m4722dff219\" y=\"224.64\"/>\r\n      </g>\r\n     </g>\r\n     <g id=\"text_3\">\r\n      <!-- 500 -->\r\n      <g transform=\"translate(136.720861 239.238437)scale(0.1 -0.1)\">\r\n       <use xlink:href=\"#DejaVuSans-53\"/>\r\n       <use x=\"63.623047\" xlink:href=\"#DejaVuSans-48\"/>\r\n       <use x=\"127.246094\" xlink:href=\"#DejaVuSans-48\"/>\r\n      </g>\r\n     </g>\r\n    </g>\r\n    <g id=\"xtick_4\">\r\n     <g id=\"line2d_4\">\r\n      <g>\r\n       <use style=\"stroke:#000000;stroke-width:0.8;\" x=\"191.507855\" xlink:href=\"#m4722dff219\" y=\"224.64\"/>\r\n      </g>\r\n     </g>\r\n     <g id=\"text_4\">\r\n      <!-- 750 -->\r\n      <g transform=\"translate(181.964105 239.238437)scale(0.1 -0.1)\">\r\n       <defs>\r\n        <path d=\"M 8.203125 72.90625 \r\nL 55.078125 72.90625 \r\nL 55.078125 68.703125 \r\nL 28.609375 0 \r\nL 18.3125 0 \r\nL 43.21875 64.59375 \r\nL 8.203125 64.59375 \r\nz\r\n\" id=\"DejaVuSans-55\"/>\r\n       </defs>\r\n       <use xlink:href=\"#DejaVuSans-55\"/>\r\n       <use x=\"63.623047\" xlink:href=\"#DejaVuSans-53\"/>\r\n       <use x=\"127.246094\" xlink:href=\"#DejaVuSans-48\"/>\r\n      </g>\r\n     </g>\r\n    </g>\r\n    <g id=\"xtick_5\">\r\n     <g id=\"line2d_5\">\r\n      <g>\r\n       <use style=\"stroke:#000000;stroke-width:0.8;\" x=\"236.751098\" xlink:href=\"#m4722dff219\" y=\"224.64\"/>\r\n      </g>\r\n     </g>\r\n     <g id=\"text_5\">\r\n      <!-- 1000 -->\r\n      <g transform=\"translate(224.026098 239.238437)scale(0.1 -0.1)\">\r\n       <defs>\r\n        <path d=\"M 12.40625 8.296875 \r\nL 28.515625 8.296875 \r\nL 28.515625 63.921875 \r\nL 10.984375 60.40625 \r\nL 10.984375 69.390625 \r\nL 28.421875 72.90625 \r\nL 38.28125 72.90625 \r\nL 38.28125 8.296875 \r\nL 54.390625 8.296875 \r\nL 54.390625 0 \r\nL 12.40625 0 \r\nz\r\n\" id=\"DejaVuSans-49\"/>\r\n       </defs>\r\n       <use xlink:href=\"#DejaVuSans-49\"/>\r\n       <use x=\"63.623047\" xlink:href=\"#DejaVuSans-48\"/>\r\n       <use x=\"127.246094\" xlink:href=\"#DejaVuSans-48\"/>\r\n       <use x=\"190.869141\" xlink:href=\"#DejaVuSans-48\"/>\r\n      </g>\r\n     </g>\r\n    </g>\r\n    <g id=\"xtick_6\">\r\n     <g id=\"line2d_6\">\r\n      <g>\r\n       <use style=\"stroke:#000000;stroke-width:0.8;\" x=\"281.994341\" xlink:href=\"#m4722dff219\" y=\"224.64\"/>\r\n      </g>\r\n     </g>\r\n     <g id=\"text_6\">\r\n      <!-- 1250 -->\r\n      <g transform=\"translate(269.269341 239.238437)scale(0.1 -0.1)\">\r\n       <use xlink:href=\"#DejaVuSans-49\"/>\r\n       <use x=\"63.623047\" xlink:href=\"#DejaVuSans-50\"/>\r\n       <use x=\"127.246094\" xlink:href=\"#DejaVuSans-53\"/>\r\n       <use x=\"190.869141\" xlink:href=\"#DejaVuSans-48\"/>\r\n      </g>\r\n     </g>\r\n    </g>\r\n    <g id=\"xtick_7\">\r\n     <g id=\"line2d_7\">\r\n      <g>\r\n       <use style=\"stroke:#000000;stroke-width:0.8;\" x=\"327.237584\" xlink:href=\"#m4722dff219\" y=\"224.64\"/>\r\n      </g>\r\n     </g>\r\n     <g id=\"text_7\">\r\n      <!-- 1500 -->\r\n      <g transform=\"translate(314.512584 239.238437)scale(0.1 -0.1)\">\r\n       <use xlink:href=\"#DejaVuSans-49\"/>\r\n       <use x=\"63.623047\" xlink:href=\"#DejaVuSans-53\"/>\r\n       <use x=\"127.246094\" xlink:href=\"#DejaVuSans-48\"/>\r\n       <use x=\"190.869141\" xlink:href=\"#DejaVuSans-48\"/>\r\n      </g>\r\n     </g>\r\n    </g>\r\n    <g id=\"xtick_8\">\r\n     <g id=\"line2d_8\">\r\n      <g>\r\n       <use style=\"stroke:#000000;stroke-width:0.8;\" x=\"372.480828\" xlink:href=\"#m4722dff219\" y=\"224.64\"/>\r\n      </g>\r\n     </g>\r\n     <g id=\"text_8\">\r\n      <!-- 1750 -->\r\n      <g transform=\"translate(359.755828 239.238437)scale(0.1 -0.1)\">\r\n       <use xlink:href=\"#DejaVuSans-49\"/>\r\n       <use x=\"63.623047\" xlink:href=\"#DejaVuSans-55\"/>\r\n       <use x=\"127.246094\" xlink:href=\"#DejaVuSans-53\"/>\r\n       <use x=\"190.869141\" xlink:href=\"#DejaVuSans-48\"/>\r\n      </g>\r\n     </g>\r\n    </g>\r\n    <g id=\"text_9\">\r\n     <!-- time [s] -->\r\n     <g transform=\"translate(203.786719 252.916562)scale(0.1 -0.1)\">\r\n      <defs>\r\n       <path d=\"M 18.3125 70.21875 \r\nL 18.3125 54.6875 \r\nL 36.8125 54.6875 \r\nL 36.8125 47.703125 \r\nL 18.3125 47.703125 \r\nL 18.3125 18.015625 \r\nQ 18.3125 11.328125 20.140625 9.421875 \r\nQ 21.96875 7.515625 27.59375 7.515625 \r\nL 36.8125 7.515625 \r\nL 36.8125 0 \r\nL 27.59375 0 \r\nQ 17.1875 0 13.234375 3.875 \r\nQ 9.28125 7.765625 9.28125 18.015625 \r\nL 9.28125 47.703125 \r\nL 2.6875 47.703125 \r\nL 2.6875 54.6875 \r\nL 9.28125 54.6875 \r\nL 9.28125 70.21875 \r\nz\r\n\" id=\"DejaVuSans-116\"/>\r\n       <path d=\"M 9.421875 54.6875 \r\nL 18.40625 54.6875 \r\nL 18.40625 0 \r\nL 9.421875 0 \r\nz\r\nM 9.421875 75.984375 \r\nL 18.40625 75.984375 \r\nL 18.40625 64.59375 \r\nL 9.421875 64.59375 \r\nz\r\n\" id=\"DejaVuSans-105\"/>\r\n       <path d=\"M 52 44.1875 \r\nQ 55.375 50.25 60.0625 53.125 \r\nQ 64.75 56 71.09375 56 \r\nQ 79.640625 56 84.28125 50.015625 \r\nQ 88.921875 44.046875 88.921875 33.015625 \r\nL 88.921875 0 \r\nL 79.890625 0 \r\nL 79.890625 32.71875 \r\nQ 79.890625 40.578125 77.09375 44.375 \r\nQ 74.3125 48.1875 68.609375 48.1875 \r\nQ 61.625 48.1875 57.5625 43.546875 \r\nQ 53.515625 38.921875 53.515625 30.90625 \r\nL 53.515625 0 \r\nL 44.484375 0 \r\nL 44.484375 32.71875 \r\nQ 44.484375 40.625 41.703125 44.40625 \r\nQ 38.921875 48.1875 33.109375 48.1875 \r\nQ 26.21875 48.1875 22.15625 43.53125 \r\nQ 18.109375 38.875 18.109375 30.90625 \r\nL 18.109375 0 \r\nL 9.078125 0 \r\nL 9.078125 54.6875 \r\nL 18.109375 54.6875 \r\nL 18.109375 46.1875 \r\nQ 21.1875 51.21875 25.484375 53.609375 \r\nQ 29.78125 56 35.6875 56 \r\nQ 41.65625 56 45.828125 52.96875 \r\nQ 50 49.953125 52 44.1875 \r\nz\r\n\" id=\"DejaVuSans-109\"/>\r\n       <path d=\"M 56.203125 29.59375 \r\nL 56.203125 25.203125 \r\nL 14.890625 25.203125 \r\nQ 15.484375 15.921875 20.484375 11.0625 \r\nQ 25.484375 6.203125 34.421875 6.203125 \r\nQ 39.59375 6.203125 44.453125 7.46875 \r\nQ 49.3125 8.734375 54.109375 11.28125 \r\nL 54.109375 2.78125 \r\nQ 49.265625 0.734375 44.1875 -0.34375 \r\nQ 39.109375 -1.421875 33.890625 -1.421875 \r\nQ 20.796875 -1.421875 13.15625 6.1875 \r\nQ 5.515625 13.8125 5.515625 26.8125 \r\nQ 5.515625 40.234375 12.765625 48.109375 \r\nQ 20.015625 56 32.328125 56 \r\nQ 43.359375 56 49.78125 48.890625 \r\nQ 56.203125 41.796875 56.203125 29.59375 \r\nz\r\nM 47.21875 32.234375 \r\nQ 47.125 39.59375 43.09375 43.984375 \r\nQ 39.0625 48.390625 32.421875 48.390625 \r\nQ 24.90625 48.390625 20.390625 44.140625 \r\nQ 15.875 39.890625 15.1875 32.171875 \r\nz\r\n\" id=\"DejaVuSans-101\"/>\r\n       <path id=\"DejaVuSans-32\"/>\r\n       <path d=\"M 8.59375 75.984375 \r\nL 29.296875 75.984375 \r\nL 29.296875 69 \r\nL 17.578125 69 \r\nL 17.578125 -6.203125 \r\nL 29.296875 -6.203125 \r\nL 29.296875 -13.1875 \r\nL 8.59375 -13.1875 \r\nz\r\n\" id=\"DejaVuSans-91\"/>\r\n       <path d=\"M 44.28125 53.078125 \r\nL 44.28125 44.578125 \r\nQ 40.484375 46.53125 36.375 47.5 \r\nQ 32.28125 48.484375 27.875 48.484375 \r\nQ 21.1875 48.484375 17.84375 46.4375 \r\nQ 14.5 44.390625 14.5 40.28125 \r\nQ 14.5 37.15625 16.890625 35.375 \r\nQ 19.28125 33.59375 26.515625 31.984375 \r\nL 29.59375 31.296875 \r\nQ 39.15625 29.25 43.1875 25.515625 \r\nQ 47.21875 21.78125 47.21875 15.09375 \r\nQ 47.21875 7.46875 41.1875 3.015625 \r\nQ 35.15625 -1.421875 24.609375 -1.421875 \r\nQ 20.21875 -1.421875 15.453125 -0.5625 \r\nQ 10.6875 0.296875 5.421875 2 \r\nL 5.421875 11.28125 \r\nQ 10.40625 8.6875 15.234375 7.390625 \r\nQ 20.0625 6.109375 24.8125 6.109375 \r\nQ 31.15625 6.109375 34.5625 8.28125 \r\nQ 37.984375 10.453125 37.984375 14.40625 \r\nQ 37.984375 18.0625 35.515625 20.015625 \r\nQ 33.0625 21.96875 24.703125 23.78125 \r\nL 21.578125 24.515625 \r\nQ 13.234375 26.265625 9.515625 29.90625 \r\nQ 5.8125 33.546875 5.8125 39.890625 \r\nQ 5.8125 47.609375 11.28125 51.796875 \r\nQ 16.75 56 26.8125 56 \r\nQ 31.78125 56 36.171875 55.265625 \r\nQ 40.578125 54.546875 44.28125 53.078125 \r\nz\r\n\" id=\"DejaVuSans-115\"/>\r\n       <path d=\"M 30.421875 75.984375 \r\nL 30.421875 -13.1875 \r\nL 9.71875 -13.1875 \r\nL 9.71875 -6.203125 \r\nL 21.390625 -6.203125 \r\nL 21.390625 69 \r\nL 9.71875 69 \r\nL 9.71875 75.984375 \r\nz\r\n\" id=\"DejaVuSans-93\"/>\r\n      </defs>\r\n      <use xlink:href=\"#DejaVuSans-116\"/>\r\n      <use x=\"39.208984\" xlink:href=\"#DejaVuSans-105\"/>\r\n      <use x=\"66.992188\" xlink:href=\"#DejaVuSans-109\"/>\r\n      <use x=\"164.404297\" xlink:href=\"#DejaVuSans-101\"/>\r\n      <use x=\"225.927734\" xlink:href=\"#DejaVuSans-32\"/>\r\n      <use x=\"257.714844\" xlink:href=\"#DejaVuSans-91\"/>\r\n      <use x=\"296.728516\" xlink:href=\"#DejaVuSans-115\"/>\r\n      <use x=\"348.828125\" xlink:href=\"#DejaVuSans-93\"/>\r\n     </g>\r\n    </g>\r\n   </g>\r\n   <g id=\"matplotlib.axis_2\">\r\n    <g id=\"ytick_1\">\r\n     <g id=\"line2d_9\">\r\n      <defs>\r\n       <path d=\"M 0 0 \r\nL -3.5 0 \r\n\" id=\"m5325158004\" style=\"stroke:#000000;stroke-width:0.8;\"/>\r\n      </defs>\r\n      <g>\r\n       <use style=\"stroke:#000000;stroke-width:0.8;\" x=\"55.778125\" xlink:href=\"#m5325158004\" y=\"224.64\"/>\r\n      </g>\r\n     </g>\r\n     <g id=\"text_10\">\r\n      <!-- $\\mathdefault{10^{-13}}$ -->\r\n      <g transform=\"translate(20.878125 228.439219)scale(0.1 -0.1)\">\r\n       <defs>\r\n        <path d=\"M 10.59375 35.5 \r\nL 73.1875 35.5 \r\nL 73.1875 27.203125 \r\nL 10.59375 27.203125 \r\nz\r\n\" id=\"DejaVuSans-8722\"/>\r\n        <path d=\"M 40.578125 39.3125 \r\nQ 47.65625 37.796875 51.625 33 \r\nQ 55.609375 28.21875 55.609375 21.1875 \r\nQ 55.609375 10.40625 48.1875 4.484375 \r\nQ 40.765625 -1.421875 27.09375 -1.421875 \r\nQ 22.515625 -1.421875 17.65625 -0.515625 \r\nQ 12.796875 0.390625 7.625 2.203125 \r\nL 7.625 11.71875 \r\nQ 11.71875 9.328125 16.59375 8.109375 \r\nQ 21.484375 6.890625 26.8125 6.890625 \r\nQ 36.078125 6.890625 40.9375 10.546875 \r\nQ 45.796875 14.203125 45.796875 21.1875 \r\nQ 45.796875 27.640625 41.28125 31.265625 \r\nQ 36.765625 34.90625 28.71875 34.90625 \r\nL 20.21875 34.90625 \r\nL 20.21875 43.015625 \r\nL 29.109375 43.015625 \r\nQ 36.375 43.015625 40.234375 45.921875 \r\nQ 44.09375 48.828125 44.09375 54.296875 \r\nQ 44.09375 59.90625 40.109375 62.90625 \r\nQ 36.140625 65.921875 28.71875 65.921875 \r\nQ 24.65625 65.921875 20.015625 65.03125 \r\nQ 15.375 64.15625 9.8125 62.3125 \r\nL 9.8125 71.09375 \r\nQ 15.4375 72.65625 20.34375 73.4375 \r\nQ 25.25 74.21875 29.59375 74.21875 \r\nQ 40.828125 74.21875 47.359375 69.109375 \r\nQ 53.90625 64.015625 53.90625 55.328125 \r\nQ 53.90625 49.265625 50.4375 45.09375 \r\nQ 46.96875 40.921875 40.578125 39.3125 \r\nz\r\n\" id=\"DejaVuSans-51\"/>\r\n       </defs>\r\n       <use transform=\"translate(0 0.765625)\" xlink:href=\"#DejaVuSans-49\"/>\r\n       <use transform=\"translate(63.623047 0.765625)\" xlink:href=\"#DejaVuSans-48\"/>\r\n       <use transform=\"translate(128.203125 39.046875)scale(0.7)\" xlink:href=\"#DejaVuSans-8722\"/>\r\n       <use transform=\"translate(186.855469 39.046875)scale(0.7)\" xlink:href=\"#DejaVuSans-49\"/>\r\n       <use transform=\"translate(231.391602 39.046875)scale(0.7)\" xlink:href=\"#DejaVuSans-51\"/>\r\n      </g>\r\n     </g>\r\n    </g>\r\n    <g id=\"ytick_2\">\r\n     <g id=\"line2d_10\">\r\n      <g>\r\n       <use style=\"stroke:#000000;stroke-width:0.8;\" x=\"55.778125\" xlink:href=\"#m5325158004\" y=\"195.648\"/>\r\n      </g>\r\n     </g>\r\n     <g id=\"text_11\">\r\n      <!-- $\\mathdefault{10^{-11}}$ -->\r\n      <g transform=\"translate(20.878125 199.447219)scale(0.1 -0.1)\">\r\n       <use transform=\"translate(0 0.684375)\" xlink:href=\"#DejaVuSans-49\"/>\r\n       <use transform=\"translate(63.623047 0.684375)\" xlink:href=\"#DejaVuSans-48\"/>\r\n       <use transform=\"translate(128.203125 38.965625)scale(0.7)\" xlink:href=\"#DejaVuSans-8722\"/>\r\n       <use transform=\"translate(186.855469 38.965625)scale(0.7)\" xlink:href=\"#DejaVuSans-49\"/>\r\n       <use transform=\"translate(231.391602 38.965625)scale(0.7)\" xlink:href=\"#DejaVuSans-49\"/>\r\n      </g>\r\n     </g>\r\n    </g>\r\n    <g id=\"ytick_3\">\r\n     <g id=\"line2d_11\">\r\n      <g>\r\n       <use style=\"stroke:#000000;stroke-width:0.8;\" x=\"55.778125\" xlink:href=\"#m5325158004\" y=\"166.656\"/>\r\n      </g>\r\n     </g>\r\n     <g id=\"text_12\">\r\n      <!-- $\\mathdefault{10^{-9}}$ -->\r\n      <g transform=\"translate(25.278125 170.455219)scale(0.1 -0.1)\">\r\n       <defs>\r\n        <path d=\"M 10.984375 1.515625 \r\nL 10.984375 10.5 \r\nQ 14.703125 8.734375 18.5 7.8125 \r\nQ 22.3125 6.890625 25.984375 6.890625 \r\nQ 35.75 6.890625 40.890625 13.453125 \r\nQ 46.046875 20.015625 46.78125 33.40625 \r\nQ 43.953125 29.203125 39.59375 26.953125 \r\nQ 35.25 24.703125 29.984375 24.703125 \r\nQ 19.046875 24.703125 12.671875 31.3125 \r\nQ 6.296875 37.9375 6.296875 49.421875 \r\nQ 6.296875 60.640625 12.9375 67.421875 \r\nQ 19.578125 74.21875 30.609375 74.21875 \r\nQ 43.265625 74.21875 49.921875 64.515625 \r\nQ 56.59375 54.828125 56.59375 36.375 \r\nQ 56.59375 19.140625 48.40625 8.859375 \r\nQ 40.234375 -1.421875 26.421875 -1.421875 \r\nQ 22.703125 -1.421875 18.890625 -0.6875 \r\nQ 15.09375 0.046875 10.984375 1.515625 \r\nz\r\nM 30.609375 32.421875 \r\nQ 37.25 32.421875 41.125 36.953125 \r\nQ 45.015625 41.5 45.015625 49.421875 \r\nQ 45.015625 57.28125 41.125 61.84375 \r\nQ 37.25 66.40625 30.609375 66.40625 \r\nQ 23.96875 66.40625 20.09375 61.84375 \r\nQ 16.21875 57.28125 16.21875 49.421875 \r\nQ 16.21875 41.5 20.09375 36.953125 \r\nQ 23.96875 32.421875 30.609375 32.421875 \r\nz\r\n\" id=\"DejaVuSans-57\"/>\r\n       </defs>\r\n       <use transform=\"translate(0 0.765625)\" xlink:href=\"#DejaVuSans-49\"/>\r\n       <use transform=\"translate(63.623047 0.765625)\" xlink:href=\"#DejaVuSans-48\"/>\r\n       <use transform=\"translate(128.203125 39.046875)scale(0.7)\" xlink:href=\"#DejaVuSans-8722\"/>\r\n       <use transform=\"translate(186.855469 39.046875)scale(0.7)\" xlink:href=\"#DejaVuSans-57\"/>\r\n      </g>\r\n     </g>\r\n    </g>\r\n    <g id=\"ytick_4\">\r\n     <g id=\"line2d_12\">\r\n      <g>\r\n       <use style=\"stroke:#000000;stroke-width:0.8;\" x=\"55.778125\" xlink:href=\"#m5325158004\" y=\"137.664\"/>\r\n      </g>\r\n     </g>\r\n     <g id=\"text_13\">\r\n      <!-- $\\mathdefault{10^{-7}}$ -->\r\n      <g transform=\"translate(25.278125 141.463219)scale(0.1 -0.1)\">\r\n       <use transform=\"translate(0 0.684375)\" xlink:href=\"#DejaVuSans-49\"/>\r\n       <use transform=\"translate(63.623047 0.684375)\" xlink:href=\"#DejaVuSans-48\"/>\r\n       <use transform=\"translate(128.203125 38.965625)scale(0.7)\" xlink:href=\"#DejaVuSans-8722\"/>\r\n       <use transform=\"translate(186.855469 38.965625)scale(0.7)\" xlink:href=\"#DejaVuSans-55\"/>\r\n      </g>\r\n     </g>\r\n    </g>\r\n    <g id=\"ytick_5\">\r\n     <g id=\"line2d_13\">\r\n      <g>\r\n       <use style=\"stroke:#000000;stroke-width:0.8;\" x=\"55.778125\" xlink:href=\"#m5325158004\" y=\"108.672\"/>\r\n      </g>\r\n     </g>\r\n     <g id=\"text_14\">\r\n      <!-- $\\mathdefault{10^{-5}}$ -->\r\n      <g transform=\"translate(25.278125 112.471219)scale(0.1 -0.1)\">\r\n       <use transform=\"translate(0 0.684375)\" xlink:href=\"#DejaVuSans-49\"/>\r\n       <use transform=\"translate(63.623047 0.684375)\" xlink:href=\"#DejaVuSans-48\"/>\r\n       <use transform=\"translate(128.203125 38.965625)scale(0.7)\" xlink:href=\"#DejaVuSans-8722\"/>\r\n       <use transform=\"translate(186.855469 38.965625)scale(0.7)\" xlink:href=\"#DejaVuSans-53\"/>\r\n      </g>\r\n     </g>\r\n    </g>\r\n    <g id=\"ytick_6\">\r\n     <g id=\"line2d_14\">\r\n      <g>\r\n       <use style=\"stroke:#000000;stroke-width:0.8;\" x=\"55.778125\" xlink:href=\"#m5325158004\" y=\"79.68\"/>\r\n      </g>\r\n     </g>\r\n     <g id=\"text_15\">\r\n      <!-- $\\mathdefault{10^{-3}}$ -->\r\n      <g transform=\"translate(25.278125 83.479219)scale(0.1 -0.1)\">\r\n       <use transform=\"translate(0 0.765625)\" xlink:href=\"#DejaVuSans-49\"/>\r\n       <use transform=\"translate(63.623047 0.765625)\" xlink:href=\"#DejaVuSans-48\"/>\r\n       <use transform=\"translate(128.203125 39.046875)scale(0.7)\" xlink:href=\"#DejaVuSans-8722\"/>\r\n       <use transform=\"translate(186.855469 39.046875)scale(0.7)\" xlink:href=\"#DejaVuSans-51\"/>\r\n      </g>\r\n     </g>\r\n    </g>\r\n    <g id=\"ytick_7\">\r\n     <g id=\"line2d_15\">\r\n      <g>\r\n       <use style=\"stroke:#000000;stroke-width:0.8;\" x=\"55.778125\" xlink:href=\"#m5325158004\" y=\"50.688\"/>\r\n      </g>\r\n     </g>\r\n     <g id=\"text_16\">\r\n      <!-- $\\mathdefault{10^{-1}}$ -->\r\n      <g transform=\"translate(25.278125 54.487219)scale(0.1 -0.1)\">\r\n       <use transform=\"translate(0 0.684375)\" xlink:href=\"#DejaVuSans-49\"/>\r\n       <use transform=\"translate(63.623047 0.684375)\" xlink:href=\"#DejaVuSans-48\"/>\r\n       <use transform=\"translate(128.203125 38.965625)scale(0.7)\" xlink:href=\"#DejaVuSans-8722\"/>\r\n       <use transform=\"translate(186.855469 38.965625)scale(0.7)\" xlink:href=\"#DejaVuSans-49\"/>\r\n      </g>\r\n     </g>\r\n    </g>\r\n    <g id=\"ytick_8\">\r\n     <g id=\"line2d_16\">\r\n      <g>\r\n       <use style=\"stroke:#000000;stroke-width:0.8;\" x=\"55.778125\" xlink:href=\"#m5325158004\" y=\"21.696\"/>\r\n      </g>\r\n     </g>\r\n     <g id=\"text_17\">\r\n      <!-- $\\mathdefault{10^{1}}$ -->\r\n      <g transform=\"translate(31.178125 25.495219)scale(0.1 -0.1)\">\r\n       <use transform=\"translate(0 0.684375)\" xlink:href=\"#DejaVuSans-49\"/>\r\n       <use transform=\"translate(63.623047 0.684375)\" xlink:href=\"#DejaVuSans-48\"/>\r\n       <use transform=\"translate(128.203125 38.965625)scale(0.7)\" xlink:href=\"#DejaVuSans-49\"/>\r\n      </g>\r\n     </g>\r\n    </g>\r\n    <g id=\"text_18\">\r\n     <!-- log relative expresssion [] -->\r\n     <g transform=\"translate(14.798438 180.642656)rotate(-90)scale(0.1 -0.1)\">\r\n      <defs>\r\n       <path d=\"M 9.421875 75.984375 \r\nL 18.40625 75.984375 \r\nL 18.40625 0 \r\nL 9.421875 0 \r\nz\r\n\" id=\"DejaVuSans-108\"/>\r\n       <path d=\"M 30.609375 48.390625 \r\nQ 23.390625 48.390625 19.1875 42.75 \r\nQ 14.984375 37.109375 14.984375 27.296875 \r\nQ 14.984375 17.484375 19.15625 11.84375 \r\nQ 23.34375 6.203125 30.609375 6.203125 \r\nQ 37.796875 6.203125 41.984375 11.859375 \r\nQ 46.1875 17.53125 46.1875 27.296875 \r\nQ 46.1875 37.015625 41.984375 42.703125 \r\nQ 37.796875 48.390625 30.609375 48.390625 \r\nz\r\nM 30.609375 56 \r\nQ 42.328125 56 49.015625 48.375 \r\nQ 55.71875 40.765625 55.71875 27.296875 \r\nQ 55.71875 13.875 49.015625 6.21875 \r\nQ 42.328125 -1.421875 30.609375 -1.421875 \r\nQ 18.84375 -1.421875 12.171875 6.21875 \r\nQ 5.515625 13.875 5.515625 27.296875 \r\nQ 5.515625 40.765625 12.171875 48.375 \r\nQ 18.84375 56 30.609375 56 \r\nz\r\n\" id=\"DejaVuSans-111\"/>\r\n       <path d=\"M 45.40625 27.984375 \r\nQ 45.40625 37.75 41.375 43.109375 \r\nQ 37.359375 48.484375 30.078125 48.484375 \r\nQ 22.859375 48.484375 18.828125 43.109375 \r\nQ 14.796875 37.75 14.796875 27.984375 \r\nQ 14.796875 18.265625 18.828125 12.890625 \r\nQ 22.859375 7.515625 30.078125 7.515625 \r\nQ 37.359375 7.515625 41.375 12.890625 \r\nQ 45.40625 18.265625 45.40625 27.984375 \r\nz\r\nM 54.390625 6.78125 \r\nQ 54.390625 -7.171875 48.1875 -13.984375 \r\nQ 42 -20.796875 29.203125 -20.796875 \r\nQ 24.46875 -20.796875 20.265625 -20.09375 \r\nQ 16.0625 -19.390625 12.109375 -17.921875 \r\nL 12.109375 -9.1875 \r\nQ 16.0625 -11.328125 19.921875 -12.34375 \r\nQ 23.78125 -13.375 27.78125 -13.375 \r\nQ 36.625 -13.375 41.015625 -8.765625 \r\nQ 45.40625 -4.15625 45.40625 5.171875 \r\nL 45.40625 9.625 \r\nQ 42.625 4.78125 38.28125 2.390625 \r\nQ 33.9375 0 27.875 0 \r\nQ 17.828125 0 11.671875 7.65625 \r\nQ 5.515625 15.328125 5.515625 27.984375 \r\nQ 5.515625 40.671875 11.671875 48.328125 \r\nQ 17.828125 56 27.875 56 \r\nQ 33.9375 56 38.28125 53.609375 \r\nQ 42.625 51.21875 45.40625 46.390625 \r\nL 45.40625 54.6875 \r\nL 54.390625 54.6875 \r\nz\r\n\" id=\"DejaVuSans-103\"/>\r\n       <path d=\"M 41.109375 46.296875 \r\nQ 39.59375 47.171875 37.8125 47.578125 \r\nQ 36.03125 48 33.890625 48 \r\nQ 26.265625 48 22.1875 43.046875 \r\nQ 18.109375 38.09375 18.109375 28.8125 \r\nL 18.109375 0 \r\nL 9.078125 0 \r\nL 9.078125 54.6875 \r\nL 18.109375 54.6875 \r\nL 18.109375 46.1875 \r\nQ 20.953125 51.171875 25.484375 53.578125 \r\nQ 30.03125 56 36.53125 56 \r\nQ 37.453125 56 38.578125 55.875 \r\nQ 39.703125 55.765625 41.0625 55.515625 \r\nz\r\n\" id=\"DejaVuSans-114\"/>\r\n       <path d=\"M 34.28125 27.484375 \r\nQ 23.390625 27.484375 19.1875 25 \r\nQ 14.984375 22.515625 14.984375 16.5 \r\nQ 14.984375 11.71875 18.140625 8.90625 \r\nQ 21.296875 6.109375 26.703125 6.109375 \r\nQ 34.1875 6.109375 38.703125 11.40625 \r\nQ 43.21875 16.703125 43.21875 25.484375 \r\nL 43.21875 27.484375 \r\nz\r\nM 52.203125 31.203125 \r\nL 52.203125 0 \r\nL 43.21875 0 \r\nL 43.21875 8.296875 \r\nQ 40.140625 3.328125 35.546875 0.953125 \r\nQ 30.953125 -1.421875 24.3125 -1.421875 \r\nQ 15.921875 -1.421875 10.953125 3.296875 \r\nQ 6 8.015625 6 15.921875 \r\nQ 6 25.140625 12.171875 29.828125 \r\nQ 18.359375 34.515625 30.609375 34.515625 \r\nL 43.21875 34.515625 \r\nL 43.21875 35.40625 \r\nQ 43.21875 41.609375 39.140625 45 \r\nQ 35.0625 48.390625 27.6875 48.390625 \r\nQ 23 48.390625 18.546875 47.265625 \r\nQ 14.109375 46.140625 10.015625 43.890625 \r\nL 10.015625 52.203125 \r\nQ 14.9375 54.109375 19.578125 55.046875 \r\nQ 24.21875 56 28.609375 56 \r\nQ 40.484375 56 46.34375 49.84375 \r\nQ 52.203125 43.703125 52.203125 31.203125 \r\nz\r\n\" id=\"DejaVuSans-97\"/>\r\n       <path d=\"M 2.984375 54.6875 \r\nL 12.5 54.6875 \r\nL 29.59375 8.796875 \r\nL 46.6875 54.6875 \r\nL 56.203125 54.6875 \r\nL 35.6875 0 \r\nL 23.484375 0 \r\nz\r\n\" id=\"DejaVuSans-118\"/>\r\n       <path d=\"M 54.890625 54.6875 \r\nL 35.109375 28.078125 \r\nL 55.90625 0 \r\nL 45.3125 0 \r\nL 29.390625 21.484375 \r\nL 13.484375 0 \r\nL 2.875 0 \r\nL 24.125 28.609375 \r\nL 4.6875 54.6875 \r\nL 15.28125 54.6875 \r\nL 29.78125 35.203125 \r\nL 44.28125 54.6875 \r\nz\r\n\" id=\"DejaVuSans-120\"/>\r\n       <path d=\"M 18.109375 8.203125 \r\nL 18.109375 -20.796875 \r\nL 9.078125 -20.796875 \r\nL 9.078125 54.6875 \r\nL 18.109375 54.6875 \r\nL 18.109375 46.390625 \r\nQ 20.953125 51.265625 25.265625 53.625 \r\nQ 29.59375 56 35.59375 56 \r\nQ 45.5625 56 51.78125 48.09375 \r\nQ 58.015625 40.1875 58.015625 27.296875 \r\nQ 58.015625 14.40625 51.78125 6.484375 \r\nQ 45.5625 -1.421875 35.59375 -1.421875 \r\nQ 29.59375 -1.421875 25.265625 0.953125 \r\nQ 20.953125 3.328125 18.109375 8.203125 \r\nz\r\nM 48.6875 27.296875 \r\nQ 48.6875 37.203125 44.609375 42.84375 \r\nQ 40.53125 48.484375 33.40625 48.484375 \r\nQ 26.265625 48.484375 22.1875 42.84375 \r\nQ 18.109375 37.203125 18.109375 27.296875 \r\nQ 18.109375 17.390625 22.1875 11.75 \r\nQ 26.265625 6.109375 33.40625 6.109375 \r\nQ 40.53125 6.109375 44.609375 11.75 \r\nQ 48.6875 17.390625 48.6875 27.296875 \r\nz\r\n\" id=\"DejaVuSans-112\"/>\r\n       <path d=\"M 54.890625 33.015625 \r\nL 54.890625 0 \r\nL 45.90625 0 \r\nL 45.90625 32.71875 \r\nQ 45.90625 40.484375 42.875 44.328125 \r\nQ 39.84375 48.1875 33.796875 48.1875 \r\nQ 26.515625 48.1875 22.3125 43.546875 \r\nQ 18.109375 38.921875 18.109375 30.90625 \r\nL 18.109375 0 \r\nL 9.078125 0 \r\nL 9.078125 54.6875 \r\nL 18.109375 54.6875 \r\nL 18.109375 46.1875 \r\nQ 21.34375 51.125 25.703125 53.5625 \r\nQ 30.078125 56 35.796875 56 \r\nQ 45.21875 56 50.046875 50.171875 \r\nQ 54.890625 44.34375 54.890625 33.015625 \r\nz\r\n\" id=\"DejaVuSans-110\"/>\r\n      </defs>\r\n      <use xlink:href=\"#DejaVuSans-108\"/>\r\n      <use x=\"27.783203\" xlink:href=\"#DejaVuSans-111\"/>\r\n      <use x=\"88.964844\" xlink:href=\"#DejaVuSans-103\"/>\r\n      <use x=\"152.441406\" xlink:href=\"#DejaVuSans-32\"/>\r\n      <use x=\"184.228516\" xlink:href=\"#DejaVuSans-114\"/>\r\n      <use x=\"223.091797\" xlink:href=\"#DejaVuSans-101\"/>\r\n      <use x=\"284.615234\" xlink:href=\"#DejaVuSans-108\"/>\r\n      <use x=\"312.398438\" xlink:href=\"#DejaVuSans-97\"/>\r\n      <use x=\"373.677734\" xlink:href=\"#DejaVuSans-116\"/>\r\n      <use x=\"412.886719\" xlink:href=\"#DejaVuSans-105\"/>\r\n      <use x=\"440.669922\" xlink:href=\"#DejaVuSans-118\"/>\r\n      <use x=\"499.849609\" xlink:href=\"#DejaVuSans-101\"/>\r\n      <use x=\"561.373047\" xlink:href=\"#DejaVuSans-32\"/>\r\n      <use x=\"593.160156\" xlink:href=\"#DejaVuSans-101\"/>\r\n      <use x=\"652.933594\" xlink:href=\"#DejaVuSans-120\"/>\r\n      <use x=\"712.113281\" xlink:href=\"#DejaVuSans-112\"/>\r\n      <use x=\"775.589844\" xlink:href=\"#DejaVuSans-114\"/>\r\n      <use x=\"814.453125\" xlink:href=\"#DejaVuSans-101\"/>\r\n      <use x=\"875.976562\" xlink:href=\"#DejaVuSans-115\"/>\r\n      <use x=\"928.076172\" xlink:href=\"#DejaVuSans-115\"/>\r\n      <use x=\"980.175781\" xlink:href=\"#DejaVuSans-115\"/>\r\n      <use x=\"1032.275391\" xlink:href=\"#DejaVuSans-105\"/>\r\n      <use x=\"1060.058594\" xlink:href=\"#DejaVuSans-111\"/>\r\n      <use x=\"1121.240234\" xlink:href=\"#DejaVuSans-110\"/>\r\n      <use x=\"1184.619141\" xlink:href=\"#DejaVuSans-32\"/>\r\n      <use x=\"1216.40625\" xlink:href=\"#DejaVuSans-91\"/>\r\n      <use x=\"1255.419922\" xlink:href=\"#DejaVuSans-93\"/>\r\n     </g>\r\n    </g>\r\n   </g>\r\n   <g id=\"line2d_17\">\r\n    <path clip-path=\"url(#pe6960f2b6d)\" d=\"M 0 0 \r\n\" style=\"fill:none;stroke:#ff0000;stroke-linecap:square;stroke-width:1.5;\"/>\r\n   </g>\r\n   <g id=\"line2d_18\">\r\n    <path clip-path=\"url(#pe6960f2b6d)\" d=\"M 55.778125 26.577591 \r\nL 390.759098 26.577591 \r\nL 390.759098 26.577591 \r\n\" style=\"fill:none;stroke:#ff8200;stroke-linecap:square;stroke-width:1.5;\"/>\r\n   </g>\r\n   <g id=\"line2d_19\">\r\n    <path clip-path=\"url(#pe6960f2b6d)\" d=\"M 238.73979 263.19625 \r\nL 238.741801 102.881693 \r\nL 239.103747 93.64378 \r\nL 239.465693 90.207634 \r\nL 240.008611 87.362964 \r\nL 240.55153 85.682104 \r\nL 241.094449 84.645849 \r\nL 241.637368 84.080148 \r\nL 241.999314 83.939452 \r\nL 242.36126 83.996643 \r\nL 242.723206 84.281709 \r\nL 243.085152 84.856134 \r\nL 243.447098 85.842615 \r\nL 243.809044 87.514514 \r\nL 244.17099 90.674661 \r\nL 244.351963 93.744725 \r\nL 244.532936 101.260098 \r\nL 244.534967 263.19625 \r\nM 259.732619 263.19625 \r\nL 259.734666 99.966709 \r\nL 259.915639 81.734399 \r\nL 260.277584 74.921447 \r\nL 260.820503 70.43077 \r\nL 261.363422 67.722704 \r\nL 262.087314 65.188415 \r\nL 262.992179 62.814236 \r\nL 265.525801 56.779828 \r\nL 266.249693 54.27971 \r\nL 266.973584 50.922593 \r\nL 267.697476 46.350272 \r\nL 268.421368 40.144916 \r\nL 269.507206 28.135586 \r\nL 270.412071 16.77078 \r\nL 270.593044 13.787702 \r\nM 270.95499 4.72268 \r\n\" style=\"fill:none;stroke:#f4ff00;stroke-linecap:square;stroke-width:1.5;\"/>\r\n   </g>\r\n   <g id=\"line2d_20\">\r\n    <path clip-path=\"url(#pe6960f2b6d)\" d=\"M 185.71527 263.19625 \r\nL 185.71672 147.981191 \r\nL 186.078666 140.763419 \r\nL 186.621584 136.150228 \r\nL 187.164503 133.403978 \r\nL 187.888395 130.892138 \r\nL 188.79326 128.692728 \r\nL 189.698125 127.111357 \r\nL 190.60299 125.960392 \r\nL 191.507855 125.158819 \r\nL 192.41272 124.678308 \r\nL 193.136611 124.530169 \r\nL 193.860503 124.616315 \r\nL 194.584395 124.984832 \r\nL 195.127314 125.499482 \r\nL 195.670233 126.293922 \r\nL 196.213152 127.500006 \r\nL 196.756071 129.405605 \r\nL 197.118017 131.421298 \r\nL 197.479963 134.848694 \r\nL 197.660936 137.951852 \r\nL 197.841909 144.869494 \r\nL 197.843397 263.19625 \r\nM 212.318224 263.19625 \r\nL 212.319747 142.154247 \r\nL 212.50072 129.464144 \r\nL 212.862666 122.930097 \r\nL 213.405584 118.429889 \r\nL 213.948503 115.668343 \r\nL 214.672395 113.087741 \r\nL 215.57726 110.771987 \r\nL 216.482125 109.053661 \r\nL 217.38699 107.745625 \r\nL 218.291855 106.761467 \r\nL 219.19672 106.062015 \r\nL 220.101584 105.637387 \r\nL 220.825476 105.504973 \r\nL 221.549368 105.57939 \r\nL 222.27326 105.900916 \r\nL 222.816179 106.346201 \r\nL 223.359098 107.023235 \r\nL 223.902017 108.024558 \r\nL 224.444936 109.532486 \r\nL 224.987855 111.988997 \r\nL 225.349801 114.81065 \r\nL 225.530774 117.08105 \r\nL 225.711747 120.881058 \r\nL 225.89272 133.389898 \r\nL 225.894351 263.19625 \r\nM 239.825866 263.19625 \r\nL 239.827639 122.043196 \r\nL 240.008611 111.043783 \r\nL 240.370557 104.688476 \r\nL 240.913476 100.21697 \r\nL 241.456395 97.446523 \r\nL 242.180287 94.839399 \r\nL 243.085152 92.482144 \r\nL 243.990017 90.718826 \r\nL 244.894882 89.364828 \r\nL 245.799747 88.334967 \r\nL 246.704611 87.590335 \r\nL 247.609476 87.119881 \r\nL 248.333368 86.947942 \r\nL 249.05726 86.975951 \r\nL 249.781152 87.236107 \r\nL 250.505044 87.785122 \r\nL 251.047963 88.446239 \r\nL 251.590882 89.405999 \r\nL 252.133801 90.815046 \r\nL 252.67672 93.015206 \r\nL 253.038666 95.374335 \r\nL 253.400611 99.638961 \r\nL 253.581584 104.14185 \r\nL 253.58358 263.19625 \r\nM 267.152469 263.19625 \r\nL 267.154557 96.625204 \r\nL 267.516503 86.699423 \r\nL 268.059422 80.969675 \r\nL 268.783314 76.165533 \r\nL 269.688179 70.373701 \r\nL 269.869152 68.262019 \r\nL 270.050125 63.560299 \r\nL 270.231098 50.890535 \r\nL 270.231098 50.890535 \r\n\" style=\"fill:none;stroke:#6cff00;stroke-linecap:square;stroke-width:1.5;\"/>\r\n   </g>\r\n   <g id=\"line2d_21\">\r\n    <path clip-path=\"url(#pe6960f2b6d)\" d=\"M 0 0 \r\n\" style=\"fill:none;stroke:#00ff1b;stroke-linecap:square;stroke-width:1.5;\"/>\r\n   </g>\r\n   <g id=\"line2d_22\">\r\n    <path clip-path=\"url(#pe6960f2b6d)\" d=\"M 58.130773 263.19625 \r\nL 58.130774 263.106002 \r\nL 58.49272 256.189653 \r\nL 58.854666 250.855461 \r\nL 59.578557 242.841464 \r\nL 60.483422 235.841729 \r\nL 61.388287 230.040143 \r\nL 62.655098 223.462344 \r\nL 63.921909 218.068807 \r\nL 65.369693 212.941186 \r\nL 66.817476 208.616816 \r\nL 68.446233 204.490005 \r\nL 70.07499 200.979303 \r\nL 71.703747 197.974496 \r\nL 73.332503 195.400471 \r\nL 74.96126 193.207078 \r\nL 76.590017 191.361838 \r\nL 78.218774 189.845278 \r\nL 79.84753 188.64971 \r\nL 81.295314 187.858877 \r\nL 82.743098 187.334451 \r\nL 84.009909 187.109042 \r\nL 85.27672 187.122343 \r\nL 86.362557 187.345695 \r\nL 87.448395 187.791376 \r\nL 88.534233 188.493716 \r\nL 89.620071 189.498474 \r\nL 90.705909 190.862964 \r\nL 91.791747 192.646202 \r\nL 93.058557 195.245287 \r\nL 94.325368 197.796595 \r\nL 94.868287 198.363105 \r\nL 95.230233 198.38509 \r\nL 95.592179 198.077899 \r\nL 95.954125 197.458552 \r\nL 96.497044 196.080789 \r\nL 97.944828 191.437653 \r\nL 99.392611 187.13853 \r\nL 100.659422 184.017811 \r\nL 101.926233 181.431001 \r\nL 103.193044 179.29221 \r\nL 104.459855 177.537817 \r\nL 105.726666 176.127799 \r\nL 106.993476 175.04256 \r\nL 108.079314 174.370041 \r\nL 109.165152 173.947944 \r\nL 110.070017 173.807263 \r\nL 110.974882 173.888835 \r\nL 111.698774 174.146038 \r\nL 112.422666 174.617095 \r\nL 113.146557 175.369911 \r\nL 113.870449 176.528146 \r\nL 114.413368 177.809636 \r\nL 114.956287 179.701641 \r\nL 115.318233 181.582858 \r\nL 115.680179 184.528015 \r\nL 115.861152 186.889685 \r\nL 116.042125 190.871402 \r\nL 116.223098 205.809833 \r\nL 116.223823 263.19625 \r\nM 128.34735 263.19625 \r\nL 128.348287 188.952525 \r\nL 128.710233 178.118695 \r\nL 129.072179 174.124777 \r\nL 129.615098 170.543708 \r\nL 130.33899 167.436975 \r\nL 131.243855 164.737529 \r\nL 132.14872 162.744541 \r\nL 133.234557 160.939861 \r\nL 134.320395 159.603641 \r\nL 135.406233 158.655083 \r\nL 136.311098 158.141424 \r\nL 137.215963 157.886809 \r\nL 137.939855 157.889314 \r\nL 138.663747 158.107467 \r\nL 139.387639 158.59514 \r\nL 139.930557 159.194037 \r\nL 140.473476 160.071564 \r\nL 141.016395 161.364641 \r\nL 141.559314 163.37376 \r\nL 141.92126 165.488362 \r\nL 142.283206 169.112113 \r\nL 142.464179 172.480746 \r\nL 142.645152 180.862544 \r\nL 142.64619 263.19625 \r\nM 156.398124 263.19625 \r\nL 156.399098 185.980615 \r\nL 156.580071 164.971558 \r\nL 156.942017 157.984438 \r\nL 157.484936 153.349713 \r\nL 158.027855 150.532616 \r\nL 158.751747 147.90702 \r\nL 159.656611 145.550402 \r\nL 160.561476 143.797042 \r\nL 161.466341 142.455253 \r\nL 162.552179 141.26668 \r\nL 163.457044 140.582508 \r\nL 164.361909 140.167156 \r\nL 165.085801 140.038454 \r\nL 165.809693 140.113303 \r\nL 166.533584 140.431488 \r\nL 167.257476 141.064745 \r\nL 167.800395 141.825029 \r\nL 168.343314 142.947896 \r\nL 168.886233 144.661664 \r\nL 169.248179 146.392519 \r\nL 169.610125 149.10359 \r\nL 169.972071 154.703999 \r\nL 170.153044 163.763457 \r\nL 170.154296 263.19625 \r\nM 184.086667 263.19625 \r\nL 184.087963 160.264925 \r\nL 184.268936 146.242248 \r\nL 184.630882 139.582803 \r\nL 185.173801 135.038795 \r\nL 185.71672 132.255159 \r\nL 186.440611 129.653163 \r\nL 187.345476 127.31472 \r\nL 188.250341 125.574737 \r\nL 189.155206 124.244361 \r\nL 190.060071 123.235878 \r\nL 190.964936 122.508677 \r\nL 191.869801 122.0509 \r\nL 192.593693 121.886039 \r\nL 193.317584 121.919939 \r\nL 194.041476 122.188259 \r\nL 194.765368 122.755118 \r\nL 195.308287 123.445371 \r\nL 195.851206 124.464114 \r\nL 196.394125 125.999125 \r\nL 196.756071 127.510409 \r\nL 197.118017 129.766995 \r\nL 197.479963 133.806874 \r\nL 197.660936 137.920803 \r\nL 197.841909 158.176121 \r\nL 197.843231 263.19625 \r\nM 211.775205 263.19625 \r\nL 211.776828 134.06249 \r\nL 212.138774 123.041786 \r\nL 212.50072 119.058626 \r\nL 213.043639 115.515034 \r\nL 213.76753 112.465886 \r\nL 214.491422 110.297299 \r\nL 215.396287 108.267494 \r\nL 216.301152 106.729559 \r\nL 217.38699 105.354291 \r\nL 218.291855 104.531765 \r\nL 219.19672 103.979762 \r\nL 220.101584 103.702144 \r\nL 220.825476 103.6965 \r\nL 221.549368 103.91653 \r\nL 222.27326 104.41912 \r\nL 222.816179 105.041968 \r\nL 223.359098 105.961845 \r\nL 223.902017 107.33231 \r\nL 224.444936 109.503621 \r\nL 224.806882 111.864376 \r\nL 225.168828 116.214506 \r\nL 225.349801 120.97094 \r\nL 225.351587 263.19625 \r\nM 239.463787 263.19625 \r\nL 239.465693 111.340448 \r\nL 239.827639 103.699432 \r\nL 240.370557 98.891164 \r\nL 240.913476 96.003657 \r\nL 241.637368 93.320039 \r\nL 242.542233 90.909556 \r\nL 243.447098 89.110843 \r\nL 244.532936 87.493712 \r\nL 245.437801 86.498666 \r\nL 246.342666 85.785283 \r\nL 247.24753 85.345583 \r\nL 247.971422 85.19985 \r\nL 248.695314 85.257499 \r\nL 249.419206 85.553563 \r\nL 250.143098 86.149762 \r\nL 250.686017 86.859572 \r\nL 251.228936 87.88943 \r\nL 251.771855 89.412411 \r\nL 252.314774 91.84046 \r\nL 252.67672 94.554493 \r\nL 253.038666 100.041834 \r\nL 253.219639 108.333001 \r\nL 253.221582 263.19625 \r\nM 266.790464 263.19625 \r\nL 266.792611 91.869693 \r\nL 267.154557 84.192284 \r\nL 267.697476 78.92429 \r\nL 268.421368 74.35515 \r\nL 269.507206 67.92294 \r\nL 269.869152 63.59405 \r\nL 270.050125 57.808289 \r\nL 270.593044 18.927473 \r\nL 271.316936 -0.912679 \r\nL 271.316936 -0.912679 \r\n\" style=\"fill:none;stroke:#00ffa3;stroke-linecap:square;stroke-width:1.5;\"/>\r\n   </g>\r\n   <g id=\"line2d_23\">\r\n    <path clip-path=\"url(#pe6960f2b6d)\" d=\"M 0 0 \r\n\" style=\"fill:none;stroke:#00d9ff;stroke-linecap:square;stroke-width:1.5;\"/>\r\n   </g>\r\n   <g id=\"line2d_24\">\r\n    <path clip-path=\"url(#pe6960f2b6d)\" d=\"M 56.139053 263.19625 \r\nL 56.140071 182.489787 \r\nL 56.502017 168.225543 \r\nL 57.044936 157.720261 \r\nL 57.587855 151.249405 \r\nL 58.311747 145.293644 \r\nL 59.216611 140.029476 \r\nL 60.121476 136.108347 \r\nL 61.207314 132.461374 \r\nL 62.293152 129.560801 \r\nL 63.559963 126.808267 \r\nL 65.007747 124.237875 \r\nL 66.45553 122.101229 \r\nL 68.084287 120.071977 \r\nL 69.894017 118.160058 \r\nL 71.88472 116.366488 \r\nL 74.237368 114.557924 \r\nL 76.77099 112.892136 \r\nL 79.666557 111.256547 \r\nL 82.924071 109.674391 \r\nL 86.724503 108.088795 \r\nL 90.886882 106.595815 \r\nL 95.773152 105.089312 \r\nL 101.202341 103.651803 \r\nL 107.536395 102.212166 \r\nL 114.594341 100.840558 \r\nL 122.376179 99.557136 \r\nL 132.14872 98.18825 \r\nL 142.826125 96.903413 \r\nL 150.246017 96.238842 \r\nL 160.742449 95.334586 \r\nL 170.876936 94.270438 \r\nL 173.410557 94.30036 \r\nL 175.763206 94.54279 \r\nL 178.296828 95.032669 \r\nL 182.821152 95.992688 \r\nL 184.268936 96.030607 \r\nL 185.535747 95.835045 \r\nL 186.802557 95.400228 \r\nL 188.250341 94.640344 \r\nL 190.422017 93.182006 \r\nL 193.317584 91.255312 \r\nL 194.946341 90.444 \r\nL 196.213152 90.041331 \r\nL 197.29899 89.902578 \r\nL 198.384828 90.004771 \r\nL 199.289693 90.325392 \r\nL 200.013584 90.782794 \r\nL 200.737476 91.478633 \r\nL 201.461368 92.509896 \r\nL 202.004287 93.610697 \r\nL 202.547206 95.161865 \r\nL 203.090125 97.528919 \r\nL 203.452071 100.055872 \r\nL 203.814017 104.724264 \r\nL 203.99499 110.06347 \r\nL 203.996911 263.19625 \r\nM 216.661258 263.19625 \r\nL 216.663098 116.654611 \r\nL 216.844071 100.481735 \r\nL 217.206017 93.676898 \r\nL 217.748936 89.09141 \r\nL 218.291855 86.29405 \r\nL 219.015747 83.686894 \r\nL 219.920611 81.353626 \r\nL 220.825476 79.629323 \r\nL 221.730341 78.325592 \r\nL 222.635206 77.356733 \r\nL 223.540071 76.685741 \r\nL 224.444936 76.306842 \r\nL 225.168828 76.228368 \r\nL 225.89272 76.379541 \r\nL 226.616611 76.813702 \r\nL 227.15953 77.382333 \r\nL 227.702449 78.240929 \r\nL 228.245368 79.533696 \r\nL 228.788287 81.583707 \r\nL 229.150233 83.789422 \r\nL 229.512179 87.713906 \r\nL 229.693152 91.632869 \r\nL 229.874125 106.223391 \r\nL 229.876094 263.19625 \r\nM 244.892627 263.19625 \r\nL 244.894882 83.179756 \r\nL 245.256828 75.168058 \r\nL 245.799747 70.302368 \r\nL 246.342666 67.422722 \r\nL 247.066557 64.785519 \r\nL 247.790449 62.876093 \r\nL 248.695314 61.11716 \r\nL 249.600179 59.859298 \r\nL 250.505044 59.008943 \r\nL 251.228936 58.597297 \r\nL 251.952828 58.423317 \r\nL 252.67672 58.502021 \r\nL 253.400611 58.868786 \r\nL 253.94353 59.373024 \r\nL 254.486449 60.130523 \r\nL 255.029368 61.237003 \r\nL 255.572287 62.88667 \r\nL 255.934233 64.500918 \r\nL 256.296179 66.91282 \r\nL 256.658125 71.314578 \r\nL 256.839098 76.095418 \r\nL 256.84144 263.19625 \r\nM 270.95499 4.282915 \r\n\" style=\"fill:none;stroke:#0051ff;stroke-linecap:square;stroke-width:1.5;\"/>\r\n   </g>\r\n   <g id=\"line2d_25\">\r\n    <path clip-path=\"url(#pe6960f2b6d)\" d=\"M 0 0 \r\n\" style=\"fill:none;stroke:#3700ff;stroke-linecap:square;stroke-width:1.5;\"/>\r\n   </g>\r\n   <g id=\"line2d_26\">\r\n    <path clip-path=\"url(#pe6960f2b6d)\" d=\"M 56.320987 263.19625 \r\nL 56.321044 258.742272 \r\nL 56.68299 241.093624 \r\nL 57.225909 227.520571 \r\nL 57.949801 216.476812 \r\nL 58.673693 208.834406 \r\nL 59.578557 201.705586 \r\nL 60.483422 196.168393 \r\nL 61.56926 190.846186 \r\nL 62.836071 185.852525 \r\nL 64.102882 181.770279 \r\nL 65.550666 177.916702 \r\nL 66.998449 174.728172 \r\nL 68.446233 172.075931 \r\nL 69.894017 169.881161 \r\nL 71.341801 168.098454 \r\nL 72.608611 166.860913 \r\nL 73.875422 165.926886 \r\nL 74.96126 165.383337 \r\nL 76.047098 165.106574 \r\nL 76.951963 165.116381 \r\nL 77.675855 165.317411 \r\nL 78.399747 165.736636 \r\nL 79.123639 166.447928 \r\nL 79.666557 167.251279 \r\nL 80.209476 168.401155 \r\nL 80.752395 170.116968 \r\nL 81.114341 171.82107 \r\nL 81.476287 174.442719 \r\nL 81.838233 179.630939 \r\nL 82.019206 186.761969 \r\nL 82.02017 263.19625 \r\nM 97.400813 263.19625 \r\nL 97.401909 176.250493 \r\nL 97.763855 166.939483 \r\nL 98.125801 163.213272 \r\nL 98.66872 159.869545 \r\nL 99.392611 157.015742 \r\nL 100.116503 155.025532 \r\nL 101.021368 153.222112 \r\nL 101.926233 151.929635 \r\nL 102.831098 151.03164 \r\nL 103.735963 150.484718 \r\nL 104.459855 150.300914 \r\nL 105.183747 150.366769 \r\nL 105.726666 150.609371 \r\nL 106.269584 151.058816 \r\nL 106.812503 151.780995 \r\nL 107.355422 152.898047 \r\nL 107.898341 154.671586 \r\nL 108.260287 156.532155 \r\nL 108.622233 159.606378 \r\nL 108.803206 162.230569 \r\nL 108.984179 167.167592 \r\nL 108.985389 263.19625 \r\nM 124.003642 263.19625 \r\nL 124.004936 160.463792 \r\nL 124.366882 149.542689 \r\nL 124.728828 145.582424 \r\nL 125.271747 142.064353 \r\nL 125.995639 139.045518 \r\nL 126.71953 136.906087 \r\nL 127.624395 134.912651 \r\nL 128.52926 133.412106 \r\nL 129.434125 132.274709 \r\nL 130.33899 131.4397 \r\nL 131.243855 130.883124 \r\nL 132.14872 130.607657 \r\nL 132.872611 130.608887 \r\nL 133.596503 130.841749 \r\nL 134.320395 131.366231 \r\nL 134.863314 132.015483 \r\nL 135.406233 132.97742 \r\nL 135.949152 134.421723 \r\nL 136.492071 136.749201 \r\nL 136.854017 139.360311 \r\nL 137.215963 144.579782 \r\nL 137.396936 151.903577 \r\nL 137.398336 263.19625 \r\nM 151.330569 263.19625 \r\nL 151.331855 161.07336 \r\nL 151.512828 137.278294 \r\nL 151.874774 130.236416 \r\nL 152.417693 125.588357 \r\nL 152.960611 122.767195 \r\nL 153.684503 120.139337 \r\nL 154.589368 117.781322 \r\nL 155.494233 116.026905 \r\nL 156.399098 114.68393 \r\nL 157.484936 113.493404 \r\nL 158.389801 112.806886 \r\nL 159.294666 112.388185 \r\nL 160.018557 112.255724 \r\nL 160.742449 112.325345 \r\nL 161.466341 112.635974 \r\nL 162.190233 113.257646 \r\nL 162.733152 114.004422 \r\nL 163.276071 115.105672 \r\nL 163.81899 116.77982 \r\nL 164.180936 118.459387 \r\nL 164.542882 121.058084 \r\nL 164.904828 126.219731 \r\nL 165.085801 133.310577 \r\nL 165.087433 263.19625 \r\nM 179.019012 263.19625 \r\nL 179.02072 127.292527 \r\nL 179.382666 113.922726 \r\nL 179.744611 109.746932 \r\nL 180.28753 106.108996 \r\nL 181.011422 103.009475 \r\nL 181.735314 100.814871 \r\nL 182.640179 98.764654 \r\nL 183.545044 97.211896 \r\nL 184.630882 95.821609 \r\nL 185.535747 94.986924 \r\nL 186.440611 94.421819 \r\nL 187.345476 94.128939 \r\nL 188.069368 94.108441 \r\nL 188.79326 94.309821 \r\nL 189.517152 94.787522 \r\nL 190.060071 95.384736 \r\nL 190.60299 96.268202 \r\nL 191.145909 97.580945 \r\nL 191.688828 99.641651 \r\nL 192.050774 101.840827 \r\nL 192.41272 105.713185 \r\nL 192.593693 109.513753 \r\nL 192.774666 122.02061 \r\nL 192.776439 263.19625 \r\nM 206.707604 263.19625 \r\nL 206.709584 105.295411 \r\nL 207.07153 95.108876 \r\nL 207.433476 91.214932 \r\nL 207.976395 87.716042 \r\nL 208.700287 84.690498 \r\nL 209.424179 82.533477 \r\nL 210.329044 80.511696 \r\nL 211.233909 78.978232 \r\nL 212.319747 77.605495 \r\nL 213.224611 76.783286 \r\nL 214.129476 76.230166 \r\nL 215.034341 75.950049 \r\nL 215.758233 75.941406 \r\nL 216.482125 76.157503 \r\nL 217.206017 76.655123 \r\nL 217.748936 77.273411 \r\nL 218.291855 78.187727 \r\nL 218.834774 79.55094 \r\nL 219.377693 81.711126 \r\nL 219.739639 84.058092 \r\nL 220.101584 88.370416 \r\nL 220.282557 93.046908 \r\nL 220.28469 263.19625 \r\nM 234.396212 263.19625 \r\nL 234.398449 84.612567 \r\nL 234.760395 76.367621 \r\nL 235.303314 71.44557 \r\nL 235.846233 68.533211 \r\nL 236.570125 65.845523 \r\nL 237.47499 63.441987 \r\nL 238.379855 61.650665 \r\nL 239.465693 60.035009 \r\nL 240.55153 58.86357 \r\nL 241.456395 58.182573 \r\nL 242.36126 57.764499 \r\nL 243.085152 57.632393 \r\nL 243.809044 57.706194 \r\nL 244.532936 58.03066 \r\nL 245.075855 58.484727 \r\nL 245.618774 59.182038 \r\nL 246.161693 60.2258 \r\nL 246.704611 61.823972 \r\nL 247.066557 63.426533 \r\nL 247.428503 65.883538 \r\nL 247.790449 70.584516 \r\nL 247.971422 76.242895 \r\nL 247.973763 263.19625 \r\nM 262.084892 263.19625 \r\nL 262.087314 69.610446 \r\nL 262.44926 59.854353 \r\nL 262.811206 56.02486 \r\nL 263.354125 52.5554 \r\nL 264.078017 49.506231 \r\nL 264.982882 46.768757 \r\nL 266.06872 44.201056 \r\nL 268.602341 38.625918 \r\nL 269.14526 36.836629 \r\nL 269.507206 35.079329 \r\nL 269.869152 32.013828 \r\nL 270.231098 25.281408 \r\nL 271.314154 -1 \r\nL 271.314154 -1 \r\n\" style=\"fill:none;stroke:#bf00ff;stroke-linecap:square;stroke-width:1.5;\"/>\r\n   </g>\r\n   <g id=\"line2d_27\">\r\n    <path clip-path=\"url(#pe6960f2b6d)\" d=\"M 56.320786 263.19625 \r\nL 56.321044 242.841464 \r\nL 56.68299 225.843412 \r\nL 57.225909 212.540061 \r\nL 57.949801 201.723541 \r\nL 58.673693 194.257074 \r\nL 59.578557 187.309978 \r\nL 60.483422 181.914552 \r\nL 61.56926 176.714054 \r\nL 62.836071 171.798436 \r\nL 64.102882 167.725971 \r\nL 65.550666 163.797728 \r\nL 67.179422 160.049429 \r\nL 68.808179 156.828102 \r\nL 70.617909 153.717217 \r\nL 72.608611 150.735228 \r\nL 74.780287 147.891821 \r\nL 77.132936 145.190499 \r\nL 79.666557 142.630059 \r\nL 82.381152 140.205252 \r\nL 85.457693 137.771831 \r\nL 88.715206 135.481013 \r\nL 92.334666 133.203449 \r\nL 96.497044 130.856882 \r\nL 100.840395 128.664017 \r\nL 105.36472 126.628012 \r\nL 110.070017 124.756943 \r\nL 115.680179 122.780657 \r\nL 133.958449 116.754132 \r\nL 138.482774 115.527287 \r\nL 148.255314 113.013233 \r\nL 151.150882 111.935043 \r\nL 154.770341 110.323101 \r\nL 160.018557 107.992733 \r\nL 162.552179 107.114453 \r\nL 164.904828 106.522868 \r\nL 167.438449 106.124552 \r\nL 173.410557 105.343939 \r\nL 174.858341 104.858468 \r\nL 176.306125 104.145147 \r\nL 177.934882 103.074125 \r\nL 180.106557 101.328312 \r\nL 184.992828 97.287387 \r\nL 186.98353 95.979189 \r\nL 188.79326 95.068676 \r\nL 190.422017 94.511013 \r\nL 191.869801 94.244989 \r\nL 193.317584 94.211963 \r\nL 194.765368 94.423861 \r\nL 196.213152 94.879783 \r\nL 197.841909 95.63705 \r\nL 200.194557 96.762342 \r\nL 201.099422 96.938569 \r\nL 201.823314 96.855282 \r\nL 202.547206 96.523107 \r\nL 203.271098 95.929915 \r\nL 204.175963 94.86271 \r\nL 205.442774 92.957422 \r\nL 209.786125 86.099592 \r\nL 211.414882 84.039375 \r\nL 213.043639 82.345998 \r\nL 214.491422 81.155132 \r\nL 215.939206 80.268766 \r\nL 217.206017 79.756822 \r\nL 218.291855 79.530584 \r\nL 219.377693 79.523246 \r\nL 220.282557 79.708032 \r\nL 221.187422 80.096873 \r\nL 222.092287 80.733709 \r\nL 222.997152 81.688869 \r\nL 223.721044 82.761749 \r\nL 224.444936 84.228426 \r\nL 225.168828 86.314896 \r\nL 225.711747 88.599338 \r\nL 226.073693 90.779094 \r\nL 226.435639 94.094598 \r\nL 226.616611 96.721908 \r\nL 226.797584 101.214532 \r\nL 226.799616 263.19625 \r\nM 232.586668 263.19625 \r\nL 232.58872 99.558877 \r\nL 232.950666 90.746771 \r\nL 233.493584 85.316843 \r\nL 234.217476 81.051464 \r\nL 235.122341 77.402788 \r\nL 236.027206 74.64975 \r\nL 237.113044 72.030056 \r\nL 238.379855 69.596092 \r\nL 239.646666 67.649066 \r\nL 240.913476 66.092925 \r\nL 242.180287 64.882171 \r\nL 243.447098 64.003068 \r\nL 244.532936 63.522119 \r\nL 245.437801 63.330776 \r\nL 246.342666 63.355191 \r\nL 247.24753 63.634027 \r\nL 247.971422 64.081414 \r\nL 248.695314 64.783631 \r\nL 249.419206 65.829419 \r\nL 250.143098 67.388219 \r\nL 250.686017 69.11201 \r\nL 251.228936 71.749631 \r\nL 251.590882 74.615946 \r\nL 251.952828 80.306875 \r\nL 252.133801 88.981859 \r\nL 252.135984 263.19625 \r\nM 262.085109 263.19625 \r\nL 262.087314 87.185539 \r\nL 262.268287 75.604102 \r\nL 262.630233 69.047049 \r\nL 263.173152 64.337635 \r\nL 263.897044 60.492895 \r\nL 264.801909 57.099216 \r\nL 265.887747 53.912552 \r\nL 268.783314 46.065085 \r\nL 269.326233 43.616337 \r\nL 269.688179 40.757597 \r\nL 269.869152 38.202227 \r\nL 270.231098 27.701306 \r\nL 270.95499 7.791321 \r\nL 271.135963 3.361804 \r\nL 271.135963 3.361804 \r\n\" style=\"fill:none;stroke:#ff00b7;stroke-linecap:square;stroke-width:1.5;\"/>\r\n   </g>\r\n   <g id=\"line2d_28\">\r\n    <path clip-path=\"url(#pe6960f2b6d)\" d=\"M 0 0 \r\n\" style=\"fill:none;stroke:#ff0035;stroke-linecap:square;stroke-width:1.5;\"/>\r\n   </g>\r\n   <g id=\"patch_3\">\r\n    <path d=\"M 55.778125 224.64 \r\nL 55.778125 7.2 \r\n\" style=\"fill:none;stroke:#000000;stroke-linecap:square;stroke-linejoin:miter;stroke-width:0.8;\"/>\r\n   </g>\r\n   <g id=\"patch_4\">\r\n    <path d=\"M 390.578125 224.64 \r\nL 390.578125 7.2 \r\n\" style=\"fill:none;stroke:#000000;stroke-linecap:square;stroke-linejoin:miter;stroke-width:0.8;\"/>\r\n   </g>\r\n   <g id=\"patch_5\">\r\n    <path d=\"M 55.778125 224.64 \r\nL 390.578125 224.64 \r\n\" style=\"fill:none;stroke:#000000;stroke-linecap:square;stroke-linejoin:miter;stroke-width:0.8;\"/>\r\n   </g>\r\n   <g id=\"patch_6\">\r\n    <path d=\"M 55.778125 7.2 \r\nL 390.578125 7.2 \r\n\" style=\"fill:none;stroke:#000000;stroke-linecap:square;stroke-linejoin:miter;stroke-width:0.8;\"/>\r\n   </g>\r\n   <g id=\"legend_1\">\r\n    <g id=\"patch_7\">\r\n     <path d=\"M 317.1875 219.64 \r\nL 383.578125 219.64 \r\nQ 385.578125 219.64 385.578125 217.64 \r\nL 385.578125 42.5025 \r\nQ 385.578125 40.5025 383.578125 40.5025 \r\nL 317.1875 40.5025 \r\nQ 315.1875 40.5025 315.1875 42.5025 \r\nL 315.1875 217.64 \r\nQ 315.1875 219.64 317.1875 219.64 \r\nz\r\n\" style=\"fill:#ffffff;opacity:0.8;stroke:#cccccc;stroke-linejoin:miter;\"/>\r\n    </g>\r\n    <g id=\"line2d_29\">\r\n     <path d=\"M 319.1875 48.600937 \r\nL 339.1875 48.600937 \r\n\" style=\"fill:none;stroke:#ff0000;stroke-linecap:square;stroke-width:1.5;\"/>\r\n    </g>\r\n    <g id=\"line2d_30\"/>\r\n    <g id=\"text_19\">\r\n     <!-- CLN3 -->\r\n     <g transform=\"translate(347.1875 52.100937)scale(0.1 -0.1)\">\r\n      <defs>\r\n       <path d=\"M 64.40625 67.28125 \r\nL 64.40625 56.890625 \r\nQ 59.421875 61.53125 53.78125 63.8125 \r\nQ 48.140625 66.109375 41.796875 66.109375 \r\nQ 29.296875 66.109375 22.65625 58.46875 \r\nQ 16.015625 50.828125 16.015625 36.375 \r\nQ 16.015625 21.96875 22.65625 14.328125 \r\nQ 29.296875 6.6875 41.796875 6.6875 \r\nQ 48.140625 6.6875 53.78125 8.984375 \r\nQ 59.421875 11.28125 64.40625 15.921875 \r\nL 64.40625 5.609375 \r\nQ 59.234375 2.09375 53.4375 0.328125 \r\nQ 47.65625 -1.421875 41.21875 -1.421875 \r\nQ 24.65625 -1.421875 15.125 8.703125 \r\nQ 5.609375 18.84375 5.609375 36.375 \r\nQ 5.609375 53.953125 15.125 64.078125 \r\nQ 24.65625 74.21875 41.21875 74.21875 \r\nQ 47.75 74.21875 53.53125 72.484375 \r\nQ 59.328125 70.75 64.40625 67.28125 \r\nz\r\n\" id=\"DejaVuSans-67\"/>\r\n       <path d=\"M 9.8125 72.90625 \r\nL 19.671875 72.90625 \r\nL 19.671875 8.296875 \r\nL 55.171875 8.296875 \r\nL 55.171875 0 \r\nL 9.8125 0 \r\nz\r\n\" id=\"DejaVuSans-76\"/>\r\n       <path d=\"M 9.8125 72.90625 \r\nL 23.09375 72.90625 \r\nL 55.421875 11.921875 \r\nL 55.421875 72.90625 \r\nL 64.984375 72.90625 \r\nL 64.984375 0 \r\nL 51.703125 0 \r\nL 19.390625 60.984375 \r\nL 19.390625 0 \r\nL 9.8125 0 \r\nz\r\n\" id=\"DejaVuSans-78\"/>\r\n      </defs>\r\n      <use xlink:href=\"#DejaVuSans-67\"/>\r\n      <use x=\"69.824219\" xlink:href=\"#DejaVuSans-76\"/>\r\n      <use x=\"125.537109\" xlink:href=\"#DejaVuSans-78\"/>\r\n      <use x=\"200.341797\" xlink:href=\"#DejaVuSans-51\"/>\r\n     </g>\r\n    </g>\r\n    <g id=\"line2d_31\">\r\n     <path d=\"M 319.1875 63.279063 \r\nL 339.1875 63.279063 \r\n\" style=\"fill:none;stroke:#ff8200;stroke-linecap:square;stroke-width:1.5;\"/>\r\n    </g>\r\n    <g id=\"line2d_32\"/>\r\n    <g id=\"text_20\">\r\n     <!-- SWI5 -->\r\n     <g transform=\"translate(347.1875 66.779063)scale(0.1 -0.1)\">\r\n      <defs>\r\n       <path d=\"M 53.515625 70.515625 \r\nL 53.515625 60.890625 \r\nQ 47.90625 63.578125 42.921875 64.890625 \r\nQ 37.9375 66.21875 33.296875 66.21875 \r\nQ 25.25 66.21875 20.875 63.09375 \r\nQ 16.5 59.96875 16.5 54.203125 \r\nQ 16.5 49.359375 19.40625 46.890625 \r\nQ 22.3125 44.4375 30.421875 42.921875 \r\nL 36.375 41.703125 \r\nQ 47.40625 39.59375 52.65625 34.296875 \r\nQ 57.90625 29 57.90625 20.125 \r\nQ 57.90625 9.515625 50.796875 4.046875 \r\nQ 43.703125 -1.421875 29.984375 -1.421875 \r\nQ 24.8125 -1.421875 18.96875 -0.25 \r\nQ 13.140625 0.921875 6.890625 3.21875 \r\nL 6.890625 13.375 \r\nQ 12.890625 10.015625 18.65625 8.296875 \r\nQ 24.421875 6.59375 29.984375 6.59375 \r\nQ 38.421875 6.59375 43.015625 9.90625 \r\nQ 47.609375 13.234375 47.609375 19.390625 \r\nQ 47.609375 24.75 44.3125 27.78125 \r\nQ 41.015625 30.8125 33.5 32.328125 \r\nL 27.484375 33.5 \r\nQ 16.453125 35.6875 11.515625 40.375 \r\nQ 6.59375 45.0625 6.59375 53.421875 \r\nQ 6.59375 63.09375 13.40625 68.65625 \r\nQ 20.21875 74.21875 32.171875 74.21875 \r\nQ 37.3125 74.21875 42.625 73.28125 \r\nQ 47.953125 72.359375 53.515625 70.515625 \r\nz\r\n\" id=\"DejaVuSans-83\"/>\r\n       <path d=\"M 3.328125 72.90625 \r\nL 13.28125 72.90625 \r\nL 28.609375 11.28125 \r\nL 43.890625 72.90625 \r\nL 54.984375 72.90625 \r\nL 70.3125 11.28125 \r\nL 85.59375 72.90625 \r\nL 95.609375 72.90625 \r\nL 77.296875 0 \r\nL 64.890625 0 \r\nL 49.515625 63.28125 \r\nL 33.984375 0 \r\nL 21.578125 0 \r\nz\r\n\" id=\"DejaVuSans-87\"/>\r\n       <path d=\"M 9.8125 72.90625 \r\nL 19.671875 72.90625 \r\nL 19.671875 0 \r\nL 9.8125 0 \r\nz\r\n\" id=\"DejaVuSans-73\"/>\r\n      </defs>\r\n      <use xlink:href=\"#DejaVuSans-83\"/>\r\n      <use x=\"63.476562\" xlink:href=\"#DejaVuSans-87\"/>\r\n      <use x=\"162.353516\" xlink:href=\"#DejaVuSans-73\"/>\r\n      <use x=\"191.845703\" xlink:href=\"#DejaVuSans-53\"/>\r\n     </g>\r\n    </g>\r\n    <g id=\"line2d_33\">\r\n     <path d=\"M 319.1875 77.957188 \r\nL 339.1875 77.957188 \r\n\" style=\"fill:none;stroke:#f4ff00;stroke-linecap:square;stroke-width:1.5;\"/>\r\n    </g>\r\n    <g id=\"line2d_34\"/>\r\n    <g id=\"text_21\">\r\n     <!-- CLN1 -->\r\n     <g transform=\"translate(347.1875 81.457188)scale(0.1 -0.1)\">\r\n      <use xlink:href=\"#DejaVuSans-67\"/>\r\n      <use x=\"69.824219\" xlink:href=\"#DejaVuSans-76\"/>\r\n      <use x=\"125.537109\" xlink:href=\"#DejaVuSans-78\"/>\r\n      <use x=\"200.341797\" xlink:href=\"#DejaVuSans-49\"/>\r\n     </g>\r\n    </g>\r\n    <g id=\"line2d_35\">\r\n     <path d=\"M 319.1875 92.635312 \r\nL 339.1875 92.635312 \r\n\" style=\"fill:none;stroke:#6cff00;stroke-linecap:square;stroke-width:1.5;\"/>\r\n    </g>\r\n    <g id=\"line2d_36\"/>\r\n    <g id=\"text_22\">\r\n     <!-- CLN2 -->\r\n     <g transform=\"translate(347.1875 96.135312)scale(0.1 -0.1)\">\r\n      <use xlink:href=\"#DejaVuSans-67\"/>\r\n      <use x=\"69.824219\" xlink:href=\"#DejaVuSans-76\"/>\r\n      <use x=\"125.537109\" xlink:href=\"#DejaVuSans-78\"/>\r\n      <use x=\"200.341797\" xlink:href=\"#DejaVuSans-50\"/>\r\n     </g>\r\n    </g>\r\n    <g id=\"line2d_37\">\r\n     <path d=\"M 319.1875 107.313438 \r\nL 339.1875 107.313438 \r\n\" style=\"fill:none;stroke:#00ff1b;stroke-linecap:square;stroke-width:1.5;\"/>\r\n    </g>\r\n    <g id=\"line2d_38\"/>\r\n    <g id=\"text_23\">\r\n     <!-- CDH1 -->\r\n     <g transform=\"translate(347.1875 110.813438)scale(0.1 -0.1)\">\r\n      <defs>\r\n       <path d=\"M 19.671875 64.796875 \r\nL 19.671875 8.109375 \r\nL 31.59375 8.109375 \r\nQ 46.6875 8.109375 53.6875 14.9375 \r\nQ 60.6875 21.78125 60.6875 36.53125 \r\nQ 60.6875 51.171875 53.6875 57.984375 \r\nQ 46.6875 64.796875 31.59375 64.796875 \r\nz\r\nM 9.8125 72.90625 \r\nL 30.078125 72.90625 \r\nQ 51.265625 72.90625 61.171875 64.09375 \r\nQ 71.09375 55.28125 71.09375 36.53125 \r\nQ 71.09375 17.671875 61.125 8.828125 \r\nQ 51.171875 0 30.078125 0 \r\nL 9.8125 0 \r\nz\r\n\" id=\"DejaVuSans-68\"/>\r\n       <path d=\"M 9.8125 72.90625 \r\nL 19.671875 72.90625 \r\nL 19.671875 43.015625 \r\nL 55.515625 43.015625 \r\nL 55.515625 72.90625 \r\nL 65.375 72.90625 \r\nL 65.375 0 \r\nL 55.515625 0 \r\nL 55.515625 34.71875 \r\nL 19.671875 34.71875 \r\nL 19.671875 0 \r\nL 9.8125 0 \r\nz\r\n\" id=\"DejaVuSans-72\"/>\r\n      </defs>\r\n      <use xlink:href=\"#DejaVuSans-67\"/>\r\n      <use x=\"69.824219\" xlink:href=\"#DejaVuSans-68\"/>\r\n      <use x=\"146.826172\" xlink:href=\"#DejaVuSans-72\"/>\r\n      <use x=\"222.021484\" xlink:href=\"#DejaVuSans-49\"/>\r\n     </g>\r\n    </g>\r\n    <g id=\"line2d_39\">\r\n     <path d=\"M 319.1875 121.991562 \r\nL 339.1875 121.991562 \r\n\" style=\"fill:none;stroke:#00ffa3;stroke-linecap:square;stroke-width:1.5;\"/>\r\n    </g>\r\n    <g id=\"line2d_40\"/>\r\n    <g id=\"text_24\">\r\n     <!-- CDC20 -->\r\n     <g transform=\"translate(347.1875 125.491562)scale(0.1 -0.1)\">\r\n      <use xlink:href=\"#DejaVuSans-67\"/>\r\n      <use x=\"69.824219\" xlink:href=\"#DejaVuSans-68\"/>\r\n      <use x=\"146.826172\" xlink:href=\"#DejaVuSans-67\"/>\r\n      <use x=\"216.650391\" xlink:href=\"#DejaVuSans-50\"/>\r\n      <use x=\"280.273438\" xlink:href=\"#DejaVuSans-48\"/>\r\n     </g>\r\n    </g>\r\n    <g id=\"line2d_41\">\r\n     <path d=\"M 319.1875 136.669688 \r\nL 339.1875 136.669688 \r\n\" style=\"fill:none;stroke:#00d9ff;stroke-linecap:square;stroke-width:1.5;\"/>\r\n    </g>\r\n    <g id=\"line2d_42\"/>\r\n    <g id=\"text_25\">\r\n     <!-- CLB5 -->\r\n     <g transform=\"translate(347.1875 140.169688)scale(0.1 -0.1)\">\r\n      <defs>\r\n       <path d=\"M 19.671875 34.8125 \r\nL 19.671875 8.109375 \r\nL 35.5 8.109375 \r\nQ 43.453125 8.109375 47.28125 11.40625 \r\nQ 51.125 14.703125 51.125 21.484375 \r\nQ 51.125 28.328125 47.28125 31.5625 \r\nQ 43.453125 34.8125 35.5 34.8125 \r\nz\r\nM 19.671875 64.796875 \r\nL 19.671875 42.828125 \r\nL 34.28125 42.828125 \r\nQ 41.5 42.828125 45.03125 45.53125 \r\nQ 48.578125 48.25 48.578125 53.8125 \r\nQ 48.578125 59.328125 45.03125 62.0625 \r\nQ 41.5 64.796875 34.28125 64.796875 \r\nz\r\nM 9.8125 72.90625 \r\nL 35.015625 72.90625 \r\nQ 46.296875 72.90625 52.390625 68.21875 \r\nQ 58.5 63.53125 58.5 54.890625 \r\nQ 58.5 48.1875 55.375 44.234375 \r\nQ 52.25 40.28125 46.1875 39.3125 \r\nQ 53.46875 37.75 57.5 32.78125 \r\nQ 61.53125 27.828125 61.53125 20.40625 \r\nQ 61.53125 10.640625 54.890625 5.3125 \r\nQ 48.25 0 35.984375 0 \r\nL 9.8125 0 \r\nz\r\n\" id=\"DejaVuSans-66\"/>\r\n      </defs>\r\n      <use xlink:href=\"#DejaVuSans-67\"/>\r\n      <use x=\"69.824219\" xlink:href=\"#DejaVuSans-76\"/>\r\n      <use x=\"125.537109\" xlink:href=\"#DejaVuSans-66\"/>\r\n      <use x=\"194.140625\" xlink:href=\"#DejaVuSans-53\"/>\r\n     </g>\r\n    </g>\r\n    <g id=\"line2d_43\">\r\n     <path d=\"M 319.1875 151.347812 \r\nL 339.1875 151.347812 \r\n\" style=\"fill:none;stroke:#0051ff;stroke-linecap:square;stroke-width:1.5;\"/>\r\n    </g>\r\n    <g id=\"line2d_44\"/>\r\n    <g id=\"text_26\">\r\n     <!-- CLB6 -->\r\n     <g transform=\"translate(347.1875 154.847812)scale(0.1 -0.1)\">\r\n      <defs>\r\n       <path d=\"M 33.015625 40.375 \r\nQ 26.375 40.375 22.484375 35.828125 \r\nQ 18.609375 31.296875 18.609375 23.390625 \r\nQ 18.609375 15.53125 22.484375 10.953125 \r\nQ 26.375 6.390625 33.015625 6.390625 \r\nQ 39.65625 6.390625 43.53125 10.953125 \r\nQ 47.40625 15.53125 47.40625 23.390625 \r\nQ 47.40625 31.296875 43.53125 35.828125 \r\nQ 39.65625 40.375 33.015625 40.375 \r\nz\r\nM 52.59375 71.296875 \r\nL 52.59375 62.3125 \r\nQ 48.875 64.0625 45.09375 64.984375 \r\nQ 41.3125 65.921875 37.59375 65.921875 \r\nQ 27.828125 65.921875 22.671875 59.328125 \r\nQ 17.53125 52.734375 16.796875 39.40625 \r\nQ 19.671875 43.65625 24.015625 45.921875 \r\nQ 28.375 48.1875 33.59375 48.1875 \r\nQ 44.578125 48.1875 50.953125 41.515625 \r\nQ 57.328125 34.859375 57.328125 23.390625 \r\nQ 57.328125 12.15625 50.6875 5.359375 \r\nQ 44.046875 -1.421875 33.015625 -1.421875 \r\nQ 20.359375 -1.421875 13.671875 8.265625 \r\nQ 6.984375 17.96875 6.984375 36.375 \r\nQ 6.984375 53.65625 15.1875 63.9375 \r\nQ 23.390625 74.21875 37.203125 74.21875 \r\nQ 40.921875 74.21875 44.703125 73.484375 \r\nQ 48.484375 72.75 52.59375 71.296875 \r\nz\r\n\" id=\"DejaVuSans-54\"/>\r\n      </defs>\r\n      <use xlink:href=\"#DejaVuSans-67\"/>\r\n      <use x=\"69.824219\" xlink:href=\"#DejaVuSans-76\"/>\r\n      <use x=\"125.537109\" xlink:href=\"#DejaVuSans-66\"/>\r\n      <use x=\"194.140625\" xlink:href=\"#DejaVuSans-54\"/>\r\n     </g>\r\n    </g>\r\n    <g id=\"line2d_45\">\r\n     <path d=\"M 319.1875 166.025937 \r\nL 339.1875 166.025937 \r\n\" style=\"fill:none;stroke:#3700ff;stroke-linecap:square;stroke-width:1.5;\"/>\r\n    </g>\r\n    <g id=\"line2d_46\"/>\r\n    <g id=\"text_27\">\r\n     <!-- SIC1 -->\r\n     <g transform=\"translate(347.1875 169.525937)scale(0.1 -0.1)\">\r\n      <use xlink:href=\"#DejaVuSans-83\"/>\r\n      <use x=\"63.476562\" xlink:href=\"#DejaVuSans-73\"/>\r\n      <use x=\"92.96875\" xlink:href=\"#DejaVuSans-67\"/>\r\n      <use x=\"162.792969\" xlink:href=\"#DejaVuSans-49\"/>\r\n     </g>\r\n    </g>\r\n    <g id=\"line2d_47\">\r\n     <path d=\"M 319.1875 180.704062 \r\nL 339.1875 180.704062 \r\n\" style=\"fill:none;stroke:#bf00ff;stroke-linecap:square;stroke-width:1.5;\"/>\r\n    </g>\r\n    <g id=\"line2d_48\"/>\r\n    <g id=\"text_28\">\r\n     <!-- CLB1 -->\r\n     <g transform=\"translate(347.1875 184.204062)scale(0.1 -0.1)\">\r\n      <use xlink:href=\"#DejaVuSans-67\"/>\r\n      <use x=\"69.824219\" xlink:href=\"#DejaVuSans-76\"/>\r\n      <use x=\"125.537109\" xlink:href=\"#DejaVuSans-66\"/>\r\n      <use x=\"194.140625\" xlink:href=\"#DejaVuSans-49\"/>\r\n     </g>\r\n    </g>\r\n    <g id=\"line2d_49\">\r\n     <path d=\"M 319.1875 195.382187 \r\nL 339.1875 195.382187 \r\n\" style=\"fill:none;stroke:#ff00b7;stroke-linecap:square;stroke-width:1.5;\"/>\r\n    </g>\r\n    <g id=\"line2d_50\"/>\r\n    <g id=\"text_29\">\r\n     <!-- CLB2 -->\r\n     <g transform=\"translate(347.1875 198.882187)scale(0.1 -0.1)\">\r\n      <use xlink:href=\"#DejaVuSans-67\"/>\r\n      <use x=\"69.824219\" xlink:href=\"#DejaVuSans-76\"/>\r\n      <use x=\"125.537109\" xlink:href=\"#DejaVuSans-66\"/>\r\n      <use x=\"194.140625\" xlink:href=\"#DejaVuSans-50\"/>\r\n     </g>\r\n    </g>\r\n    <g id=\"line2d_51\">\r\n     <path d=\"M 319.1875 210.060312 \r\nL 339.1875 210.060312 \r\n\" style=\"fill:none;stroke:#ff0035;stroke-linecap:square;stroke-width:1.5;\"/>\r\n    </g>\r\n    <g id=\"line2d_52\"/>\r\n    <g id=\"text_30\">\r\n     <!-- MCM1 -->\r\n     <g transform=\"translate(347.1875 213.560312)scale(0.1 -0.1)\">\r\n      <defs>\r\n       <path d=\"M 9.8125 72.90625 \r\nL 24.515625 72.90625 \r\nL 43.109375 23.296875 \r\nL 61.8125 72.90625 \r\nL 76.515625 72.90625 \r\nL 76.515625 0 \r\nL 66.890625 0 \r\nL 66.890625 64.015625 \r\nL 48.09375 14.015625 \r\nL 38.1875 14.015625 \r\nL 19.390625 64.015625 \r\nL 19.390625 0 \r\nL 9.8125 0 \r\nz\r\n\" id=\"DejaVuSans-77\"/>\r\n      </defs>\r\n      <use xlink:href=\"#DejaVuSans-77\"/>\r\n      <use x=\"86.279297\" xlink:href=\"#DejaVuSans-67\"/>\r\n      <use x=\"156.103516\" xlink:href=\"#DejaVuSans-77\"/>\r\n      <use x=\"242.382812\" xlink:href=\"#DejaVuSans-49\"/>\r\n     </g>\r\n    </g>\r\n   </g>\r\n  </g>\r\n </g>\r\n <defs>\r\n  <clipPath id=\"pe6960f2b6d\">\r\n   <rect height=\"217.44\" width=\"334.8\" x=\"55.778125\" y=\"7.2\"/>\r\n  </clipPath>\r\n </defs>\r\n</svg>\r\n",
      "image/png": "[encoded data removed]"
     },
     "metadata": {
      "needs_background": "light"
     }
    }
   ],
   "source": [
    "m.visualize(lst)"
   ]
  },
  {
   "cell_type": "code",
   "execution_count": 3,
   "metadata": {},
   "outputs": [
    {
     "output_type": "execute_result",
     "data": {
      "text/plain": [
       "[698, 4362, 696, 697, 632, 600, 690, 691, 3979, 686, 687, 2162]"
      ]
     },
     "metadata": {},
     "execution_count": 3
    }
   ],
   "source": [
    "lst = ['CLN3', 'SWI5', 'CLN1', 'CLN2', 'CDH1', 'CDC20', 'CLB5', 'CLB6', 'SIC1', 'CLB1', 'CLB2', 'MCM1']\n",
    "# lst = ['CLN3', 'CLN1', 'CLN2', 'CDH1', 'CDC20', 'CLB5', 'CLB6', 'SIC1', 'CLB1', 'CLB2', 'MCM1']\n",
    "lst_index = [m.graph.node[element]['index'] for element in lst]\n",
    "lst_index"
   ]
  },
  {
   "cell_type": "code",
   "execution_count": 3,
   "metadata": {},
   "outputs": [
    {
     "output_type": "execute_result",
     "data": {
      "text/plain": [
       "1.5271796258079011"
      ]
     },
     "metadata": {},
     "execution_count": 3
    }
   ],
   "source": [
    "import numpy as np\n",
    "np.log(np.log(100))"
   ]
  },
  {
   "cell_type": "code",
   "execution_count": 4,
   "metadata": {},
   "outputs": [
    {
     "name": "stdout",
     "output_type": "stream",
     "text": [
      "['SWI5', 'PRP9', 'CTR1', 'REE1', 'FRE1', 'PCL5']\n",
      "['SWI5', 'FRE1', 'PRP9', 'CTR1', 'REE1', 'PCL5']\n",
      "['SWI5', 'PIR1', 'FRE1', 'CTR1', 'REE1', 'PCL5']\n",
      "['SWI5', 'ASH1', 'GND1', 'YEF1', 'YJR061W', 'PCL5']\n",
      "['SWI5', 'PRP9', 'CTR1', 'REE1', 'CUP9', 'PCL5']\n",
      "['SWI5', 'PRP9', 'CTR1', 'HMX1', 'CPA2', 'PCL5']\n",
      "['SWI5', 'HXT2', 'FRE1', 'CTR1', 'REE1', 'PCL5']\n",
      "['SWI5', 'FUS1', 'FIG2', 'SAG1', 'CPA2', 'PCL5']\n",
      "['SWI5', 'PRP9', 'CTR1', 'REE1', 'LPX1', 'FKH1']\n",
      "['SWI5', 'PIR1', 'SUR2', 'IDH1', 'CPA2', 'PCL5']\n",
      "['SWI5', 'ASH1', 'HXT2', 'YGL117W', 'CPA2', 'PCL5']\n",
      "['SWI5', 'YNL046W', 'CTR1', 'REE1', 'FRE1', 'PCL5']\n",
      "['SWI5', 'PRP9', 'CTR1', 'HXT6', 'CPA2', 'PCL5']\n",
      "['SWI5', 'PIR1', 'SUR2', 'RNR3', 'CPA2', 'PCL5']\n",
      "['SWI5', 'REE1', 'PRP9', 'CTR1', 'LPX1', 'FKH1']\n",
      "['SWI5', 'PIR1', 'SUR2', 'CTR1', 'REE1', 'PCL5']\n",
      "['SWI5', 'ASH1', 'DUR3', 'DUR1,2', 'CPA2', 'PCL5']\n",
      "['SWI5', 'PIR1', 'REE1', 'CUP9', 'CPA2', 'PCL5']\n",
      "['SWI5', 'PRP9', 'CTR1', 'REE1', 'PCL5']\n",
      "['SWI5', 'PRP9', 'CTR1', 'REE1', 'CUP9', 'DSE1']\n",
      "['SWI5', 'REE1', 'PRP9', 'CTR1', 'HMX1', 'PCL5']\n",
      "['SWI5', 'PRP9', 'CTR1', 'REE1', 'LPX1', 'SWI6']\n",
      "['SWI5', 'PRP9', 'CTR1', 'REE1', 'CIN5', 'PCL5']\n",
      "['SWI5', 'REE1', 'PRP9', 'CTR1', 'PBI1', 'ECM22']\n",
      "['SWI5', 'REE1', 'PRP9', 'CTR1', 'CPA2', 'PCL5']\n",
      "['SWI5', 'PRP9', 'CTR1', 'PTR2', 'CPA2', 'PCL5']\n",
      "['SWI5', 'REE1', 'PRP9', 'CTR1', 'CIT1', 'PCL5']\n",
      "['SWI5', 'ASH1', 'UGA1', 'NRK1', 'CPA2', 'PCL5']\n",
      "['SWI5', 'YJL218W', 'CTR1', 'REE1', 'FRE1', 'PCL5']\n",
      "['SWI5', 'PRP9', 'CTR1', 'FET3', 'CPA2', 'PCL5']\n"
     ]
    }
   ],
   "source": [
    "for i in rank5[0:30]:\n",
    "    print(flat_list_5[i[1]])"
   ]
  },
  {
   "cell_type": "code",
   "execution_count": 109,
   "metadata": {},
   "outputs": [
    {
     "data": {
      "image/png": "[encoded data removed]",
      "text/plain": [
       "<Figure size 1080x360 with 1 Axes>"
      ]
     },
     "metadata": {
      "needs_background": "light"
     },
     "output_type": "display_data"
    }
   ],
   "source": [
    "import math\n",
    "import matplotlib.pyplot as plt\n",
    "\n",
    "data = [item[0] for item in rank5]\n",
    "data_neg = []\n",
    "data_pos = []\n",
    "for score in data:\n",
    "    if score > 0:\n",
    "        data_pos.append(score)\n",
    "    if score < 0:\n",
    "        data_neg.append(abs(score))\n",
    "\n",
    "plt.figure(figsize=(15,5))\n",
    "hist, bins = np.histogram(data_pos+data_neg, bins=100)\n",
    "logbins = np.logspace(np.log10(bins[0]),np.log10(bins[-1]),len(bins))\n",
    "plt.hist(data_pos, bins=logbins, alpha=0.8)\n",
    "plt.hist(data_neg, bins=logbins, alpha=0.6)\n",
    "plt.legend([\"positive feedback\", \"negative feedback\"])\n",
    "plt.yscale('log')\n",
    "plt.xscale('log')\n",
    "plt.title(\"Histogram of the scores of feedback loops affecting node SWI5 \\n(with cutoff length of 6)\")\n",
    "plt.savefig(\"histogram.png\", dpi=300)\n",
    "plt.show()"
   ]
  },
  {
   "cell_type": "code",
   "execution_count": 108,
   "metadata": {},
   "outputs": [
    {
     "data": {
      "image/png": "[encoded data removed]",
      "text/plain": [
       "<Figure size 1080x360 with 1 Axes>"
      ]
     },
     "metadata": {
      "needs_background": "light"
     },
     "output_type": "display_data"
    }
   ],
   "source": [
    "import math\n",
    "import matplotlib.pyplot as plt\n",
    "\n",
    "data = [item[0] for item in rank5]\n",
    "data_neg = []\n",
    "data_pos = []\n",
    "for score in data:\n",
    "    if score > 0:\n",
    "        data_pos.append(score)\n",
    "    if score < 0:\n",
    "        data_neg.append(abs(score))\n",
    "\n",
    "plt.figure(figsize=(15,5))\n",
    "hist, bins = np.histogram(data_pos+data_neg, bins=100)\n",
    "logbins = np.logspace(np.log10(bins[0]),np.log10(bins[-1]),len(bins))\n",
    "plt.hist(data_pos, bins=logbins, alpha=0.8)\n",
    "plt.hist(data_neg, bins=logbins, alpha=0.6)\n",
    "plt.legend([\"positive feedback\", \"negative feedback\"])\n",
    "plt.yscale('log')\n",
    "plt.xscale('log')\n",
    "plt.title(\"Histogram of the scores of feedback loops affecting node SWI5 \\n(with cutoff length of 6)\")\n",
    "plt.savefig(\"histogram.png\", dpi=300)\n",
    "plt.show()"
   ]
  },
  {
   "cell_type": "code",
   "execution_count": 12,
   "metadata": {},
   "outputs": [
    {
     "name": "stdout",
     "output_type": "stream",
     "text": [
      "10.0% are done\n",
      "20.0% are done\n",
      "30.0% are done\n",
      "40.0% are done\n",
      "50.0% are done\n",
      "60.0% are done\n",
      "70.0% are done\n",
      "80.0% are done\n",
      "90.0% are done\n",
      "100.0% are done\n"
     ]
    }
   ],
   "source": [
    "m.cycle(dt= 1, track = lst_index, num_step = int(1e4))"
   ]
  },
  {
   "cell_type": "code",
   "execution_count": 2,
   "metadata": {},
   "outputs": [
    {
     "output_type": "display_data",
     "data": {
      "text/plain": "<Figure size 432x288 with 1 Axes>",
      "image/svg+xml": "<?xml version=\"1.0\" encoding=\"utf-8\" standalone=\"no\"?>\r\n<!DOCTYPE svg PUBLIC \"-//W3C//DTD SVG 1.1//EN\"\r\n  \"http://www.w3.org/Graphics/SVG/1.1/DTD/svg11.dtd\">\r\n<!-- Created with matplotlib (https://matplotlib.org/) -->\r\n<svg height=\"265.995469pt\" version=\"1.1\" viewBox=\"0 0 410.378125 265.995469\" width=\"410.378125pt\" xmlns=\"http://www.w3.org/2000/svg\" xmlns:xlink=\"http://www.w3.org/1999/xlink\">\r\n <metadata>\r\n  <rdf:RDF xmlns:cc=\"http://creativecommons.org/ns#\" xmlns:dc=\"http://purl.org/dc/elements/1.1/\" xmlns:rdf=\"http://www.w3.org/1999/02/22-rdf-syntax-ns#\">\r\n   <cc:Work>\r\n    <dc:type rdf:resource=\"http://purl.org/dc/dcmitype/StillImage\"/>\r\n    <dc:date>2021-01-12T20:11:23.823269</dc:date>\r\n    <dc:format>image/svg+xml</dc:format>\r\n    <dc:creator>\r\n     <cc:Agent>\r\n      <dc:title>Matplotlib v3.3.2, https://matplotlib.org/</dc:title>\r\n     </cc:Agent>\r\n    </dc:creator>\r\n   </cc:Work>\r\n  </rdf:RDF>\r\n </metadata>\r\n <defs>\r\n  <style type=\"text/css\">*{stroke-linecap:butt;stroke-linejoin:round;}</style>\r\n </defs>\r\n <g id=\"figure_1\">\r\n  <g id=\"patch_1\">\r\n   <path d=\"M 0 265.995469 \r\nL 410.378125 265.995469 \r\nL 410.378125 0 \r\nL 0 0 \r\nz\r\n\" style=\"fill:none;\"/>\r\n  </g>\r\n  <g id=\"axes_1\">\r\n   <g id=\"patch_2\">\r\n    <path d=\"M 68.378125 228.439219 \r\nL 403.178125 228.439219 \r\nL 403.178125 10.999219 \r\nL 68.378125 10.999219 \r\nz\r\n\" style=\"fill:#ffffff;\"/>\r\n   </g>\r\n   <g id=\"matplotlib.axis_1\">\r\n    <g id=\"xtick_1\">\r\n     <g id=\"line2d_1\">\r\n      <defs>\r\n       <path d=\"M 0 0 \r\nL 0 3.5 \r\n\" id=\"m0442a27ccc\" style=\"stroke:#000000;stroke-width:0.8;\"/>\r\n      </defs>\r\n      <g>\r\n       <use style=\"stroke:#000000;stroke-width:0.8;\" x=\"68.378125\" xlink:href=\"#m0442a27ccc\" y=\"228.439219\"/>\r\n      </g>\r\n     </g>\r\n     <g id=\"text_1\">\r\n      <!-- 0 -->\r\n      <g transform=\"translate(65.196875 243.037656)scale(0.1 -0.1)\">\r\n       <defs>\r\n        <path d=\"M 31.78125 66.40625 \r\nQ 24.171875 66.40625 20.328125 58.90625 \r\nQ 16.5 51.421875 16.5 36.375 \r\nQ 16.5 21.390625 20.328125 13.890625 \r\nQ 24.171875 6.390625 31.78125 6.390625 \r\nQ 39.453125 6.390625 43.28125 13.890625 \r\nQ 47.125 21.390625 47.125 36.375 \r\nQ 47.125 51.421875 43.28125 58.90625 \r\nQ 39.453125 66.40625 31.78125 66.40625 \r\nz\r\nM 31.78125 74.21875 \r\nQ 44.046875 74.21875 50.515625 64.515625 \r\nQ 56.984375 54.828125 56.984375 36.375 \r\nQ 56.984375 17.96875 50.515625 8.265625 \r\nQ 44.046875 -1.421875 31.78125 -1.421875 \r\nQ 19.53125 -1.421875 13.0625 8.265625 \r\nQ 6.59375 17.96875 6.59375 36.375 \r\nQ 6.59375 54.828125 13.0625 64.515625 \r\nQ 19.53125 74.21875 31.78125 74.21875 \r\nz\r\n\" id=\"DejaVuSans-48\"/>\r\n       </defs>\r\n       <use xlink:href=\"#DejaVuSans-48\"/>\r\n      </g>\r\n     </g>\r\n    </g>\r\n    <g id=\"xtick_2\">\r\n     <g id=\"line2d_2\">\r\n      <g>\r\n       <use style=\"stroke:#000000;stroke-width:0.8;\" x=\"113.621368\" xlink:href=\"#m0442a27ccc\" y=\"228.439219\"/>\r\n      </g>\r\n     </g>\r\n     <g id=\"text_2\">\r\n      <!-- 250 -->\r\n      <g transform=\"translate(104.077618 243.037656)scale(0.1 -0.1)\">\r\n       <defs>\r\n        <path d=\"M 19.1875 8.296875 \r\nL 53.609375 8.296875 \r\nL 53.609375 0 \r\nL 7.328125 0 \r\nL 7.328125 8.296875 \r\nQ 12.9375 14.109375 22.625 23.890625 \r\nQ 32.328125 33.6875 34.8125 36.53125 \r\nQ 39.546875 41.84375 41.421875 45.53125 \r\nQ 43.3125 49.21875 43.3125 52.78125 \r\nQ 43.3125 58.59375 39.234375 62.25 \r\nQ 35.15625 65.921875 28.609375 65.921875 \r\nQ 23.96875 65.921875 18.8125 64.3125 \r\nQ 13.671875 62.703125 7.8125 59.421875 \r\nL 7.8125 69.390625 \r\nQ 13.765625 71.78125 18.9375 73 \r\nQ 24.125 74.21875 28.421875 74.21875 \r\nQ 39.75 74.21875 46.484375 68.546875 \r\nQ 53.21875 62.890625 53.21875 53.421875 \r\nQ 53.21875 48.921875 51.53125 44.890625 \r\nQ 49.859375 40.875 45.40625 35.40625 \r\nQ 44.1875 33.984375 37.640625 27.21875 \r\nQ 31.109375 20.453125 19.1875 8.296875 \r\nz\r\n\" id=\"DejaVuSans-50\"/>\r\n        <path d=\"M 10.796875 72.90625 \r\nL 49.515625 72.90625 \r\nL 49.515625 64.59375 \r\nL 19.828125 64.59375 \r\nL 19.828125 46.734375 \r\nQ 21.96875 47.46875 24.109375 47.828125 \r\nQ 26.265625 48.1875 28.421875 48.1875 \r\nQ 40.625 48.1875 47.75 41.5 \r\nQ 54.890625 34.8125 54.890625 23.390625 \r\nQ 54.890625 11.625 47.5625 5.09375 \r\nQ 40.234375 -1.421875 26.90625 -1.421875 \r\nQ 22.3125 -1.421875 17.546875 -0.640625 \r\nQ 12.796875 0.140625 7.71875 1.703125 \r\nL 7.71875 11.625 \r\nQ 12.109375 9.234375 16.796875 8.0625 \r\nQ 21.484375 6.890625 26.703125 6.890625 \r\nQ 35.15625 6.890625 40.078125 11.328125 \r\nQ 45.015625 15.765625 45.015625 23.390625 \r\nQ 45.015625 31 40.078125 35.4375 \r\nQ 35.15625 39.890625 26.703125 39.890625 \r\nQ 22.75 39.890625 18.8125 39.015625 \r\nQ 14.890625 38.140625 10.796875 36.28125 \r\nz\r\n\" id=\"DejaVuSans-53\"/>\r\n       </defs>\r\n       <use xlink:href=\"#DejaVuSans-50\"/>\r\n       <use x=\"63.623047\" xlink:href=\"#DejaVuSans-53\"/>\r\n       <use x=\"127.246094\" xlink:href=\"#DejaVuSans-48\"/>\r\n      </g>\r\n     </g>\r\n    </g>\r\n    <g id=\"xtick_3\">\r\n     <g id=\"line2d_3\">\r\n      <g>\r\n       <use style=\"stroke:#000000;stroke-width:0.8;\" x=\"158.864611\" xlink:href=\"#m0442a27ccc\" y=\"228.439219\"/>\r\n      </g>\r\n     </g>\r\n     <g id=\"text_3\">\r\n      <!-- 500 -->\r\n      <g transform=\"translate(149.320861 243.037656)scale(0.1 -0.1)\">\r\n       <use xlink:href=\"#DejaVuSans-53\"/>\r\n       <use x=\"63.623047\" xlink:href=\"#DejaVuSans-48\"/>\r\n       <use x=\"127.246094\" xlink:href=\"#DejaVuSans-48\"/>\r\n      </g>\r\n     </g>\r\n    </g>\r\n    <g id=\"xtick_4\">\r\n     <g id=\"line2d_4\">\r\n      <g>\r\n       <use style=\"stroke:#000000;stroke-width:0.8;\" x=\"204.107855\" xlink:href=\"#m0442a27ccc\" y=\"228.439219\"/>\r\n      </g>\r\n     </g>\r\n     <g id=\"text_4\">\r\n      <!-- 750 -->\r\n      <g transform=\"translate(194.564105 243.037656)scale(0.1 -0.1)\">\r\n       <defs>\r\n        <path d=\"M 8.203125 72.90625 \r\nL 55.078125 72.90625 \r\nL 55.078125 68.703125 \r\nL 28.609375 0 \r\nL 18.3125 0 \r\nL 43.21875 64.59375 \r\nL 8.203125 64.59375 \r\nz\r\n\" id=\"DejaVuSans-55\"/>\r\n       </defs>\r\n       <use xlink:href=\"#DejaVuSans-55\"/>\r\n       <use x=\"63.623047\" xlink:href=\"#DejaVuSans-53\"/>\r\n       <use x=\"127.246094\" xlink:href=\"#DejaVuSans-48\"/>\r\n      </g>\r\n     </g>\r\n    </g>\r\n    <g id=\"xtick_5\">\r\n     <g id=\"line2d_5\">\r\n      <g>\r\n       <use style=\"stroke:#000000;stroke-width:0.8;\" x=\"249.351098\" xlink:href=\"#m0442a27ccc\" y=\"228.439219\"/>\r\n      </g>\r\n     </g>\r\n     <g id=\"text_5\">\r\n      <!-- 1000 -->\r\n      <g transform=\"translate(236.626098 243.037656)scale(0.1 -0.1)\">\r\n       <defs>\r\n        <path d=\"M 12.40625 8.296875 \r\nL 28.515625 8.296875 \r\nL 28.515625 63.921875 \r\nL 10.984375 60.40625 \r\nL 10.984375 69.390625 \r\nL 28.421875 72.90625 \r\nL 38.28125 72.90625 \r\nL 38.28125 8.296875 \r\nL 54.390625 8.296875 \r\nL 54.390625 0 \r\nL 12.40625 0 \r\nz\r\n\" id=\"DejaVuSans-49\"/>\r\n       </defs>\r\n       <use xlink:href=\"#DejaVuSans-49\"/>\r\n       <use x=\"63.623047\" xlink:href=\"#DejaVuSans-48\"/>\r\n       <use x=\"127.246094\" xlink:href=\"#DejaVuSans-48\"/>\r\n       <use x=\"190.869141\" xlink:href=\"#DejaVuSans-48\"/>\r\n      </g>\r\n     </g>\r\n    </g>\r\n    <g id=\"xtick_6\">\r\n     <g id=\"line2d_6\">\r\n      <g>\r\n       <use style=\"stroke:#000000;stroke-width:0.8;\" x=\"294.594341\" xlink:href=\"#m0442a27ccc\" y=\"228.439219\"/>\r\n      </g>\r\n     </g>\r\n     <g id=\"text_6\">\r\n      <!-- 1250 -->\r\n      <g transform=\"translate(281.869341 243.037656)scale(0.1 -0.1)\">\r\n       <use xlink:href=\"#DejaVuSans-49\"/>\r\n       <use x=\"63.623047\" xlink:href=\"#DejaVuSans-50\"/>\r\n       <use x=\"127.246094\" xlink:href=\"#DejaVuSans-53\"/>\r\n       <use x=\"190.869141\" xlink:href=\"#DejaVuSans-48\"/>\r\n      </g>\r\n     </g>\r\n    </g>\r\n    <g id=\"xtick_7\">\r\n     <g id=\"line2d_7\">\r\n      <g>\r\n       <use style=\"stroke:#000000;stroke-width:0.8;\" x=\"339.837584\" xlink:href=\"#m0442a27ccc\" y=\"228.439219\"/>\r\n      </g>\r\n     </g>\r\n     <g id=\"text_7\">\r\n      <!-- 1500 -->\r\n      <g transform=\"translate(327.112584 243.037656)scale(0.1 -0.1)\">\r\n       <use xlink:href=\"#DejaVuSans-49\"/>\r\n       <use x=\"63.623047\" xlink:href=\"#DejaVuSans-53\"/>\r\n       <use x=\"127.246094\" xlink:href=\"#DejaVuSans-48\"/>\r\n       <use x=\"190.869141\" xlink:href=\"#DejaVuSans-48\"/>\r\n      </g>\r\n     </g>\r\n    </g>\r\n    <g id=\"xtick_8\">\r\n     <g id=\"line2d_8\">\r\n      <g>\r\n       <use style=\"stroke:#000000;stroke-width:0.8;\" x=\"385.080828\" xlink:href=\"#m0442a27ccc\" y=\"228.439219\"/>\r\n      </g>\r\n     </g>\r\n     <g id=\"text_8\">\r\n      <!-- 1750 -->\r\n      <g transform=\"translate(372.355828 243.037656)scale(0.1 -0.1)\">\r\n       <use xlink:href=\"#DejaVuSans-49\"/>\r\n       <use x=\"63.623047\" xlink:href=\"#DejaVuSans-55\"/>\r\n       <use x=\"127.246094\" xlink:href=\"#DejaVuSans-53\"/>\r\n       <use x=\"190.869141\" xlink:href=\"#DejaVuSans-48\"/>\r\n      </g>\r\n     </g>\r\n    </g>\r\n    <g id=\"text_9\">\r\n     <!-- time [s] -->\r\n     <g transform=\"translate(216.386719 256.715781)scale(0.1 -0.1)\">\r\n      <defs>\r\n       <path d=\"M 18.3125 70.21875 \r\nL 18.3125 54.6875 \r\nL 36.8125 54.6875 \r\nL 36.8125 47.703125 \r\nL 18.3125 47.703125 \r\nL 18.3125 18.015625 \r\nQ 18.3125 11.328125 20.140625 9.421875 \r\nQ 21.96875 7.515625 27.59375 7.515625 \r\nL 36.8125 7.515625 \r\nL 36.8125 0 \r\nL 27.59375 0 \r\nQ 17.1875 0 13.234375 3.875 \r\nQ 9.28125 7.765625 9.28125 18.015625 \r\nL 9.28125 47.703125 \r\nL 2.6875 47.703125 \r\nL 2.6875 54.6875 \r\nL 9.28125 54.6875 \r\nL 9.28125 70.21875 \r\nz\r\n\" id=\"DejaVuSans-116\"/>\r\n       <path d=\"M 9.421875 54.6875 \r\nL 18.40625 54.6875 \r\nL 18.40625 0 \r\nL 9.421875 0 \r\nz\r\nM 9.421875 75.984375 \r\nL 18.40625 75.984375 \r\nL 18.40625 64.59375 \r\nL 9.421875 64.59375 \r\nz\r\n\" id=\"DejaVuSans-105\"/>\r\n       <path d=\"M 52 44.1875 \r\nQ 55.375 50.25 60.0625 53.125 \r\nQ 64.75 56 71.09375 56 \r\nQ 79.640625 56 84.28125 50.015625 \r\nQ 88.921875 44.046875 88.921875 33.015625 \r\nL 88.921875 0 \r\nL 79.890625 0 \r\nL 79.890625 32.71875 \r\nQ 79.890625 40.578125 77.09375 44.375 \r\nQ 74.3125 48.1875 68.609375 48.1875 \r\nQ 61.625 48.1875 57.5625 43.546875 \r\nQ 53.515625 38.921875 53.515625 30.90625 \r\nL 53.515625 0 \r\nL 44.484375 0 \r\nL 44.484375 32.71875 \r\nQ 44.484375 40.625 41.703125 44.40625 \r\nQ 38.921875 48.1875 33.109375 48.1875 \r\nQ 26.21875 48.1875 22.15625 43.53125 \r\nQ 18.109375 38.875 18.109375 30.90625 \r\nL 18.109375 0 \r\nL 9.078125 0 \r\nL 9.078125 54.6875 \r\nL 18.109375 54.6875 \r\nL 18.109375 46.1875 \r\nQ 21.1875 51.21875 25.484375 53.609375 \r\nQ 29.78125 56 35.6875 56 \r\nQ 41.65625 56 45.828125 52.96875 \r\nQ 50 49.953125 52 44.1875 \r\nz\r\n\" id=\"DejaVuSans-109\"/>\r\n       <path d=\"M 56.203125 29.59375 \r\nL 56.203125 25.203125 \r\nL 14.890625 25.203125 \r\nQ 15.484375 15.921875 20.484375 11.0625 \r\nQ 25.484375 6.203125 34.421875 6.203125 \r\nQ 39.59375 6.203125 44.453125 7.46875 \r\nQ 49.3125 8.734375 54.109375 11.28125 \r\nL 54.109375 2.78125 \r\nQ 49.265625 0.734375 44.1875 -0.34375 \r\nQ 39.109375 -1.421875 33.890625 -1.421875 \r\nQ 20.796875 -1.421875 13.15625 6.1875 \r\nQ 5.515625 13.8125 5.515625 26.8125 \r\nQ 5.515625 40.234375 12.765625 48.109375 \r\nQ 20.015625 56 32.328125 56 \r\nQ 43.359375 56 49.78125 48.890625 \r\nQ 56.203125 41.796875 56.203125 29.59375 \r\nz\r\nM 47.21875 32.234375 \r\nQ 47.125 39.59375 43.09375 43.984375 \r\nQ 39.0625 48.390625 32.421875 48.390625 \r\nQ 24.90625 48.390625 20.390625 44.140625 \r\nQ 15.875 39.890625 15.1875 32.171875 \r\nz\r\n\" id=\"DejaVuSans-101\"/>\r\n       <path id=\"DejaVuSans-32\"/>\r\n       <path d=\"M 8.59375 75.984375 \r\nL 29.296875 75.984375 \r\nL 29.296875 69 \r\nL 17.578125 69 \r\nL 17.578125 -6.203125 \r\nL 29.296875 -6.203125 \r\nL 29.296875 -13.1875 \r\nL 8.59375 -13.1875 \r\nz\r\n\" id=\"DejaVuSans-91\"/>\r\n       <path d=\"M 44.28125 53.078125 \r\nL 44.28125 44.578125 \r\nQ 40.484375 46.53125 36.375 47.5 \r\nQ 32.28125 48.484375 27.875 48.484375 \r\nQ 21.1875 48.484375 17.84375 46.4375 \r\nQ 14.5 44.390625 14.5 40.28125 \r\nQ 14.5 37.15625 16.890625 35.375 \r\nQ 19.28125 33.59375 26.515625 31.984375 \r\nL 29.59375 31.296875 \r\nQ 39.15625 29.25 43.1875 25.515625 \r\nQ 47.21875 21.78125 47.21875 15.09375 \r\nQ 47.21875 7.46875 41.1875 3.015625 \r\nQ 35.15625 -1.421875 24.609375 -1.421875 \r\nQ 20.21875 -1.421875 15.453125 -0.5625 \r\nQ 10.6875 0.296875 5.421875 2 \r\nL 5.421875 11.28125 \r\nQ 10.40625 8.6875 15.234375 7.390625 \r\nQ 20.0625 6.109375 24.8125 6.109375 \r\nQ 31.15625 6.109375 34.5625 8.28125 \r\nQ 37.984375 10.453125 37.984375 14.40625 \r\nQ 37.984375 18.0625 35.515625 20.015625 \r\nQ 33.0625 21.96875 24.703125 23.78125 \r\nL 21.578125 24.515625 \r\nQ 13.234375 26.265625 9.515625 29.90625 \r\nQ 5.8125 33.546875 5.8125 39.890625 \r\nQ 5.8125 47.609375 11.28125 51.796875 \r\nQ 16.75 56 26.8125 56 \r\nQ 31.78125 56 36.171875 55.265625 \r\nQ 40.578125 54.546875 44.28125 53.078125 \r\nz\r\n\" id=\"DejaVuSans-115\"/>\r\n       <path d=\"M 30.421875 75.984375 \r\nL 30.421875 -13.1875 \r\nL 9.71875 -13.1875 \r\nL 9.71875 -6.203125 \r\nL 21.390625 -6.203125 \r\nL 21.390625 69 \r\nL 9.71875 69 \r\nL 9.71875 75.984375 \r\nz\r\n\" id=\"DejaVuSans-93\"/>\r\n      </defs>\r\n      <use xlink:href=\"#DejaVuSans-116\"/>\r\n      <use x=\"39.208984\" xlink:href=\"#DejaVuSans-105\"/>\r\n      <use x=\"66.992188\" xlink:href=\"#DejaVuSans-109\"/>\r\n      <use x=\"164.404297\" xlink:href=\"#DejaVuSans-101\"/>\r\n      <use x=\"225.927734\" xlink:href=\"#DejaVuSans-32\"/>\r\n      <use x=\"257.714844\" xlink:href=\"#DejaVuSans-91\"/>\r\n      <use x=\"296.728516\" xlink:href=\"#DejaVuSans-115\"/>\r\n      <use x=\"348.828125\" xlink:href=\"#DejaVuSans-93\"/>\r\n     </g>\r\n    </g>\r\n   </g>\r\n   <g id=\"matplotlib.axis_2\">\r\n    <g id=\"ytick_1\">\r\n     <g id=\"line2d_9\">\r\n      <defs>\r\n       <path d=\"M 0 0 \r\nL -3.5 0 \r\n\" id=\"m0ba72bcf55\" style=\"stroke:#000000;stroke-width:0.8;\"/>\r\n      </defs>\r\n      <g>\r\n       <use style=\"stroke:#000000;stroke-width:0.8;\" x=\"68.378125\" xlink:href=\"#m0ba72bcf55\" y=\"119.719219\"/>\r\n      </g>\r\n     </g>\r\n     <g id=\"text_10\">\r\n      <!-- $\\mathdefault{10^{0}}$ -->\r\n      <g transform=\"translate(43.778125 123.518437)scale(0.1 -0.1)\">\r\n       <use transform=\"translate(0 0.765625)\" xlink:href=\"#DejaVuSans-49\"/>\r\n       <use transform=\"translate(63.623047 0.765625)\" xlink:href=\"#DejaVuSans-48\"/>\r\n       <use transform=\"translate(128.203125 39.046875)scale(0.7)\" xlink:href=\"#DejaVuSans-48\"/>\r\n      </g>\r\n     </g>\r\n    </g>\r\n    <g id=\"ytick_2\">\r\n     <g id=\"line2d_10\">\r\n      <defs>\r\n       <path d=\"M 0 0 \r\nL -2 0 \r\n\" id=\"mee7841e90a\" style=\"stroke:#000000;stroke-width:0.6;\"/>\r\n      </defs>\r\n      <g>\r\n       <use style=\"stroke:#000000;stroke-width:0.6;\" x=\"68.378125\" xlink:href=\"#mee7841e90a\" y=\"228.439219\"/>\r\n      </g>\r\n     </g>\r\n    </g>\r\n    <g id=\"ytick_3\">\r\n     <g id=\"line2d_11\">\r\n      <g>\r\n       <use style=\"stroke:#000000;stroke-width:0.6;\" x=\"68.378125\" xlink:href=\"#mee7841e90a\" y=\"199.842118\"/>\r\n      </g>\r\n     </g>\r\n     <g id=\"text_11\">\r\n      <!-- $\\mathdefault{6\\times10^{-1}}$ -->\r\n      <g transform=\"translate(20.878125 203.641337)scale(0.1 -0.1)\">\r\n       <defs>\r\n        <path d=\"M 33.015625 40.375 \r\nQ 26.375 40.375 22.484375 35.828125 \r\nQ 18.609375 31.296875 18.609375 23.390625 \r\nQ 18.609375 15.53125 22.484375 10.953125 \r\nQ 26.375 6.390625 33.015625 6.390625 \r\nQ 39.65625 6.390625 43.53125 10.953125 \r\nQ 47.40625 15.53125 47.40625 23.390625 \r\nQ 47.40625 31.296875 43.53125 35.828125 \r\nQ 39.65625 40.375 33.015625 40.375 \r\nz\r\nM 52.59375 71.296875 \r\nL 52.59375 62.3125 \r\nQ 48.875 64.0625 45.09375 64.984375 \r\nQ 41.3125 65.921875 37.59375 65.921875 \r\nQ 27.828125 65.921875 22.671875 59.328125 \r\nQ 17.53125 52.734375 16.796875 39.40625 \r\nQ 19.671875 43.65625 24.015625 45.921875 \r\nQ 28.375 48.1875 33.59375 48.1875 \r\nQ 44.578125 48.1875 50.953125 41.515625 \r\nQ 57.328125 34.859375 57.328125 23.390625 \r\nQ 57.328125 12.15625 50.6875 5.359375 \r\nQ 44.046875 -1.421875 33.015625 -1.421875 \r\nQ 20.359375 -1.421875 13.671875 8.265625 \r\nQ 6.984375 17.96875 6.984375 36.375 \r\nQ 6.984375 53.65625 15.1875 63.9375 \r\nQ 23.390625 74.21875 37.203125 74.21875 \r\nQ 40.921875 74.21875 44.703125 73.484375 \r\nQ 48.484375 72.75 52.59375 71.296875 \r\nz\r\n\" id=\"DejaVuSans-54\"/>\r\n        <path d=\"M 70.125 53.71875 \r\nL 47.796875 31.296875 \r\nL 70.125 8.984375 \r\nL 64.3125 3.078125 \r\nL 41.890625 25.484375 \r\nL 19.484375 3.078125 \r\nL 13.71875 8.984375 \r\nL 35.984375 31.296875 \r\nL 13.71875 53.71875 \r\nL 19.484375 59.625 \r\nL 41.890625 37.203125 \r\nL 64.3125 59.625 \r\nz\r\n\" id=\"DejaVuSans-215\"/>\r\n        <path d=\"M 10.59375 35.5 \r\nL 73.1875 35.5 \r\nL 73.1875 27.203125 \r\nL 10.59375 27.203125 \r\nz\r\n\" id=\"DejaVuSans-8722\"/>\r\n       </defs>\r\n       <use transform=\"translate(0 0.684375)\" xlink:href=\"#DejaVuSans-54\"/>\r\n       <use transform=\"translate(83.105469 0.684375)\" xlink:href=\"#DejaVuSans-215\"/>\r\n       <use transform=\"translate(186.376953 0.684375)\" xlink:href=\"#DejaVuSans-49\"/>\r\n       <use transform=\"translate(250 0.684375)\" xlink:href=\"#DejaVuSans-48\"/>\r\n       <use transform=\"translate(314.580078 38.965625)scale(0.7)\" xlink:href=\"#DejaVuSans-8722\"/>\r\n       <use transform=\"translate(373.232422 38.965625)scale(0.7)\" xlink:href=\"#DejaVuSans-49\"/>\r\n      </g>\r\n     </g>\r\n    </g>\r\n    <g id=\"ytick_4\">\r\n     <g id=\"line2d_12\">\r\n      <g>\r\n       <use style=\"stroke:#000000;stroke-width:0.6;\" x=\"68.378125\" xlink:href=\"#mee7841e90a\" y=\"175.663614\"/>\r\n      </g>\r\n     </g>\r\n    </g>\r\n    <g id=\"ytick_5\">\r\n     <g id=\"line2d_13\">\r\n      <g>\r\n       <use style=\"stroke:#000000;stroke-width:0.6;\" x=\"68.378125\" xlink:href=\"#mee7841e90a\" y=\"154.719241\"/>\r\n      </g>\r\n     </g>\r\n    </g>\r\n    <g id=\"ytick_6\">\r\n     <g id=\"line2d_14\">\r\n      <g>\r\n       <use style=\"stroke:#000000;stroke-width:0.6;\" x=\"68.378125\" xlink:href=\"#mee7841e90a\" y=\"136.244995\"/>\r\n      </g>\r\n     </g>\r\n    </g>\r\n    <g id=\"ytick_7\">\r\n     <g id=\"line2d_15\">\r\n      <g>\r\n       <use style=\"stroke:#000000;stroke-width:0.6;\" x=\"68.378125\" xlink:href=\"#mee7841e90a\" y=\"10.999219\"/>\r\n      </g>\r\n     </g>\r\n     <g id=\"text_12\">\r\n      <!-- $\\mathdefault{2\\times10^{0}}$ -->\r\n      <g transform=\"translate(26.778125 14.798437)scale(0.1 -0.1)\">\r\n       <use transform=\"translate(0 0.765625)\" xlink:href=\"#DejaVuSans-50\"/>\r\n       <use transform=\"translate(83.105469 0.765625)\" xlink:href=\"#DejaVuSans-215\"/>\r\n       <use transform=\"translate(186.376953 0.765625)\" xlink:href=\"#DejaVuSans-49\"/>\r\n       <use transform=\"translate(250 0.765625)\" xlink:href=\"#DejaVuSans-48\"/>\r\n       <use transform=\"translate(314.580078 39.046875)scale(0.7)\" xlink:href=\"#DejaVuSans-48\"/>\r\n      </g>\r\n     </g>\r\n    </g>\r\n    <g id=\"text_13\">\r\n     <!-- log relative expresssion [] -->\r\n     <g transform=\"translate(14.798438 184.441875)rotate(-90)scale(0.1 -0.1)\">\r\n      <defs>\r\n       <path d=\"M 9.421875 75.984375 \r\nL 18.40625 75.984375 \r\nL 18.40625 0 \r\nL 9.421875 0 \r\nz\r\n\" id=\"DejaVuSans-108\"/>\r\n       <path d=\"M 30.609375 48.390625 \r\nQ 23.390625 48.390625 19.1875 42.75 \r\nQ 14.984375 37.109375 14.984375 27.296875 \r\nQ 14.984375 17.484375 19.15625 11.84375 \r\nQ 23.34375 6.203125 30.609375 6.203125 \r\nQ 37.796875 6.203125 41.984375 11.859375 \r\nQ 46.1875 17.53125 46.1875 27.296875 \r\nQ 46.1875 37.015625 41.984375 42.703125 \r\nQ 37.796875 48.390625 30.609375 48.390625 \r\nz\r\nM 30.609375 56 \r\nQ 42.328125 56 49.015625 48.375 \r\nQ 55.71875 40.765625 55.71875 27.296875 \r\nQ 55.71875 13.875 49.015625 6.21875 \r\nQ 42.328125 -1.421875 30.609375 -1.421875 \r\nQ 18.84375 -1.421875 12.171875 6.21875 \r\nQ 5.515625 13.875 5.515625 27.296875 \r\nQ 5.515625 40.765625 12.171875 48.375 \r\nQ 18.84375 56 30.609375 56 \r\nz\r\n\" id=\"DejaVuSans-111\"/>\r\n       <path d=\"M 45.40625 27.984375 \r\nQ 45.40625 37.75 41.375 43.109375 \r\nQ 37.359375 48.484375 30.078125 48.484375 \r\nQ 22.859375 48.484375 18.828125 43.109375 \r\nQ 14.796875 37.75 14.796875 27.984375 \r\nQ 14.796875 18.265625 18.828125 12.890625 \r\nQ 22.859375 7.515625 30.078125 7.515625 \r\nQ 37.359375 7.515625 41.375 12.890625 \r\nQ 45.40625 18.265625 45.40625 27.984375 \r\nz\r\nM 54.390625 6.78125 \r\nQ 54.390625 -7.171875 48.1875 -13.984375 \r\nQ 42 -20.796875 29.203125 -20.796875 \r\nQ 24.46875 -20.796875 20.265625 -20.09375 \r\nQ 16.0625 -19.390625 12.109375 -17.921875 \r\nL 12.109375 -9.1875 \r\nQ 16.0625 -11.328125 19.921875 -12.34375 \r\nQ 23.78125 -13.375 27.78125 -13.375 \r\nQ 36.625 -13.375 41.015625 -8.765625 \r\nQ 45.40625 -4.15625 45.40625 5.171875 \r\nL 45.40625 9.625 \r\nQ 42.625 4.78125 38.28125 2.390625 \r\nQ 33.9375 0 27.875 0 \r\nQ 17.828125 0 11.671875 7.65625 \r\nQ 5.515625 15.328125 5.515625 27.984375 \r\nQ 5.515625 40.671875 11.671875 48.328125 \r\nQ 17.828125 56 27.875 56 \r\nQ 33.9375 56 38.28125 53.609375 \r\nQ 42.625 51.21875 45.40625 46.390625 \r\nL 45.40625 54.6875 \r\nL 54.390625 54.6875 \r\nz\r\n\" id=\"DejaVuSans-103\"/>\r\n       <path d=\"M 41.109375 46.296875 \r\nQ 39.59375 47.171875 37.8125 47.578125 \r\nQ 36.03125 48 33.890625 48 \r\nQ 26.265625 48 22.1875 43.046875 \r\nQ 18.109375 38.09375 18.109375 28.8125 \r\nL 18.109375 0 \r\nL 9.078125 0 \r\nL 9.078125 54.6875 \r\nL 18.109375 54.6875 \r\nL 18.109375 46.1875 \r\nQ 20.953125 51.171875 25.484375 53.578125 \r\nQ 30.03125 56 36.53125 56 \r\nQ 37.453125 56 38.578125 55.875 \r\nQ 39.703125 55.765625 41.0625 55.515625 \r\nz\r\n\" id=\"DejaVuSans-114\"/>\r\n       <path d=\"M 34.28125 27.484375 \r\nQ 23.390625 27.484375 19.1875 25 \r\nQ 14.984375 22.515625 14.984375 16.5 \r\nQ 14.984375 11.71875 18.140625 8.90625 \r\nQ 21.296875 6.109375 26.703125 6.109375 \r\nQ 34.1875 6.109375 38.703125 11.40625 \r\nQ 43.21875 16.703125 43.21875 25.484375 \r\nL 43.21875 27.484375 \r\nz\r\nM 52.203125 31.203125 \r\nL 52.203125 0 \r\nL 43.21875 0 \r\nL 43.21875 8.296875 \r\nQ 40.140625 3.328125 35.546875 0.953125 \r\nQ 30.953125 -1.421875 24.3125 -1.421875 \r\nQ 15.921875 -1.421875 10.953125 3.296875 \r\nQ 6 8.015625 6 15.921875 \r\nQ 6 25.140625 12.171875 29.828125 \r\nQ 18.359375 34.515625 30.609375 34.515625 \r\nL 43.21875 34.515625 \r\nL 43.21875 35.40625 \r\nQ 43.21875 41.609375 39.140625 45 \r\nQ 35.0625 48.390625 27.6875 48.390625 \r\nQ 23 48.390625 18.546875 47.265625 \r\nQ 14.109375 46.140625 10.015625 43.890625 \r\nL 10.015625 52.203125 \r\nQ 14.9375 54.109375 19.578125 55.046875 \r\nQ 24.21875 56 28.609375 56 \r\nQ 40.484375 56 46.34375 49.84375 \r\nQ 52.203125 43.703125 52.203125 31.203125 \r\nz\r\n\" id=\"DejaVuSans-97\"/>\r\n       <path d=\"M 2.984375 54.6875 \r\nL 12.5 54.6875 \r\nL 29.59375 8.796875 \r\nL 46.6875 54.6875 \r\nL 56.203125 54.6875 \r\nL 35.6875 0 \r\nL 23.484375 0 \r\nz\r\n\" id=\"DejaVuSans-118\"/>\r\n       <path d=\"M 54.890625 54.6875 \r\nL 35.109375 28.078125 \r\nL 55.90625 0 \r\nL 45.3125 0 \r\nL 29.390625 21.484375 \r\nL 13.484375 0 \r\nL 2.875 0 \r\nL 24.125 28.609375 \r\nL 4.6875 54.6875 \r\nL 15.28125 54.6875 \r\nL 29.78125 35.203125 \r\nL 44.28125 54.6875 \r\nz\r\n\" id=\"DejaVuSans-120\"/>\r\n       <path d=\"M 18.109375 8.203125 \r\nL 18.109375 -20.796875 \r\nL 9.078125 -20.796875 \r\nL 9.078125 54.6875 \r\nL 18.109375 54.6875 \r\nL 18.109375 46.390625 \r\nQ 20.953125 51.265625 25.265625 53.625 \r\nQ 29.59375 56 35.59375 56 \r\nQ 45.5625 56 51.78125 48.09375 \r\nQ 58.015625 40.1875 58.015625 27.296875 \r\nQ 58.015625 14.40625 51.78125 6.484375 \r\nQ 45.5625 -1.421875 35.59375 -1.421875 \r\nQ 29.59375 -1.421875 25.265625 0.953125 \r\nQ 20.953125 3.328125 18.109375 8.203125 \r\nz\r\nM 48.6875 27.296875 \r\nQ 48.6875 37.203125 44.609375 42.84375 \r\nQ 40.53125 48.484375 33.40625 48.484375 \r\nQ 26.265625 48.484375 22.1875 42.84375 \r\nQ 18.109375 37.203125 18.109375 27.296875 \r\nQ 18.109375 17.390625 22.1875 11.75 \r\nQ 26.265625 6.109375 33.40625 6.109375 \r\nQ 40.53125 6.109375 44.609375 11.75 \r\nQ 48.6875 17.390625 48.6875 27.296875 \r\nz\r\n\" id=\"DejaVuSans-112\"/>\r\n       <path d=\"M 54.890625 33.015625 \r\nL 54.890625 0 \r\nL 45.90625 0 \r\nL 45.90625 32.71875 \r\nQ 45.90625 40.484375 42.875 44.328125 \r\nQ 39.84375 48.1875 33.796875 48.1875 \r\nQ 26.515625 48.1875 22.3125 43.546875 \r\nQ 18.109375 38.921875 18.109375 30.90625 \r\nL 18.109375 0 \r\nL 9.078125 0 \r\nL 9.078125 54.6875 \r\nL 18.109375 54.6875 \r\nL 18.109375 46.1875 \r\nQ 21.34375 51.125 25.703125 53.5625 \r\nQ 30.078125 56 35.796875 56 \r\nQ 45.21875 56 50.046875 50.171875 \r\nQ 54.890625 44.34375 54.890625 33.015625 \r\nz\r\n\" id=\"DejaVuSans-110\"/>\r\n      </defs>\r\n      <use xlink:href=\"#DejaVuSans-108\"/>\r\n      <use x=\"27.783203\" xlink:href=\"#DejaVuSans-111\"/>\r\n      <use x=\"88.964844\" xlink:href=\"#DejaVuSans-103\"/>\r\n      <use x=\"152.441406\" xlink:href=\"#DejaVuSans-32\"/>\r\n      <use x=\"184.228516\" xlink:href=\"#DejaVuSans-114\"/>\r\n      <use x=\"223.091797\" xlink:href=\"#DejaVuSans-101\"/>\r\n      <use x=\"284.615234\" xlink:href=\"#DejaVuSans-108\"/>\r\n      <use x=\"312.398438\" xlink:href=\"#DejaVuSans-97\"/>\r\n      <use x=\"373.677734\" xlink:href=\"#DejaVuSans-116\"/>\r\n      <use x=\"412.886719\" xlink:href=\"#DejaVuSans-105\"/>\r\n      <use x=\"440.669922\" xlink:href=\"#DejaVuSans-118\"/>\r\n      <use x=\"499.849609\" xlink:href=\"#DejaVuSans-101\"/>\r\n      <use x=\"561.373047\" xlink:href=\"#DejaVuSans-32\"/>\r\n      <use x=\"593.160156\" xlink:href=\"#DejaVuSans-101\"/>\r\n      <use x=\"652.933594\" xlink:href=\"#DejaVuSans-120\"/>\r\n      <use x=\"712.113281\" xlink:href=\"#DejaVuSans-112\"/>\r\n      <use x=\"775.589844\" xlink:href=\"#DejaVuSans-114\"/>\r\n      <use x=\"814.453125\" xlink:href=\"#DejaVuSans-101\"/>\r\n      <use x=\"875.976562\" xlink:href=\"#DejaVuSans-115\"/>\r\n      <use x=\"928.076172\" xlink:href=\"#DejaVuSans-115\"/>\r\n      <use x=\"980.175781\" xlink:href=\"#DejaVuSans-115\"/>\r\n      <use x=\"1032.275391\" xlink:href=\"#DejaVuSans-105\"/>\r\n      <use x=\"1060.058594\" xlink:href=\"#DejaVuSans-111\"/>\r\n      <use x=\"1121.240234\" xlink:href=\"#DejaVuSans-110\"/>\r\n      <use x=\"1184.619141\" xlink:href=\"#DejaVuSans-32\"/>\r\n      <use x=\"1216.40625\" xlink:href=\"#DejaVuSans-91\"/>\r\n      <use x=\"1255.419922\" xlink:href=\"#DejaVuSans-93\"/>\r\n     </g>\r\n    </g>\r\n   </g>\r\n   <g id=\"line2d_16\">\r\n    <path clip-path=\"url(#pb6165cfcca)\" d=\"M 0 0 \r\n\" style=\"fill:none;stroke:#ff0000;stroke-linecap:square;stroke-width:1.5;\"/>\r\n   </g>\r\n   <g id=\"line2d_17\">\r\n    <path clip-path=\"url(#pb6165cfcca)\" d=\"M 0 0 \r\n\" style=\"fill:none;stroke:#ff8200;stroke-linecap:square;stroke-width:1.5;\"/>\r\n   </g>\r\n   <g id=\"line2d_18\">\r\n    <path clip-path=\"url(#pb6165cfcca)\" d=\"M 280.814106 266.995469 \r\nL 281.383314 123.968004 \r\nL 281.826316 -1 \r\nL 281.826316 -1 \r\n\" style=\"fill:none;stroke:#f4ff00;stroke-linecap:square;stroke-width:1.5;\"/>\r\n   </g>\r\n   <g id=\"line2d_19\">\r\n    <path clip-path=\"url(#pb6165cfcca)\" d=\"M 0 0 \r\n\" style=\"fill:none;stroke:#6cff00;stroke-linecap:square;stroke-width:1.5;\"/>\r\n   </g>\r\n   <g id=\"line2d_20\">\r\n    <path clip-path=\"url(#pb6165cfcca)\" d=\"M 0 0 \r\n\" style=\"fill:none;stroke:#00ff1b;stroke-linecap:square;stroke-width:1.5;\"/>\r\n   </g>\r\n   <g id=\"line2d_21\">\r\n    <path clip-path=\"url(#pb6165cfcca)\" d=\"M 282.846801 266.995469 \r\nL 282.96401 -1 \r\nL 282.96401 -1 \r\n\" style=\"fill:none;stroke:#00ffa3;stroke-linecap:square;stroke-width:1.5;\"/>\r\n   </g>\r\n   <g id=\"line2d_22\">\r\n    <path clip-path=\"url(#pb6165cfcca)\" d=\"M 0 0 \r\n\" style=\"fill:none;stroke:#00d9ff;stroke-linecap:square;stroke-width:1.5;\"/>\r\n   </g>\r\n   <g id=\"line2d_23\">\r\n    <path clip-path=\"url(#pb6165cfcca)\" d=\"M 0 0 \r\n\" style=\"fill:none;stroke:#0051ff;stroke-linecap:square;stroke-width:1.5;\"/>\r\n   </g>\r\n   <g id=\"line2d_24\">\r\n    <path clip-path=\"url(#pb6165cfcca)\" d=\"M 0 0 \r\n\" style=\"fill:none;stroke:#3700ff;stroke-linecap:square;stroke-width:1.5;\"/>\r\n   </g>\r\n   <g id=\"line2d_25\">\r\n    <path clip-path=\"url(#pb6165cfcca)\" d=\"M 279.675567 266.995469 \r\nL 281.021368 192.485735 \r\nL 281.564287 152.481677 \r\nL 281.926233 116.137729 \r\nL 282.288179 60.444424 \r\nL 282.512894 -1 \r\nL 282.512894 -1 \r\n\" style=\"fill:none;stroke:#bf00ff;stroke-linecap:square;stroke-width:1.5;\"/>\r\n   </g>\r\n   <g id=\"line2d_26\">\r\n    <path clip-path=\"url(#pb6165cfcca)\" d=\"M 282.141008 266.995469 \r\nL 282.469152 169.802938 \r\nL 282.723985 -1 \r\nL 282.723985 -1 \r\n\" style=\"fill:none;stroke:#ff00b7;stroke-linecap:square;stroke-width:1.5;\"/>\r\n   </g>\r\n   <g id=\"line2d_27\">\r\n    <path clip-path=\"url(#pb6165cfcca)\" d=\"M 0 0 \r\n\" style=\"fill:none;stroke:#ff0035;stroke-linecap:square;stroke-width:1.5;\"/>\r\n   </g>\r\n   <g id=\"patch_3\">\r\n    <path d=\"M 68.378125 228.439219 \r\nL 68.378125 10.999219 \r\n\" style=\"fill:none;stroke:#000000;stroke-linecap:square;stroke-linejoin:miter;stroke-width:0.8;\"/>\r\n   </g>\r\n   <g id=\"patch_4\">\r\n    <path d=\"M 403.178125 228.439219 \r\nL 403.178125 10.999219 \r\n\" style=\"fill:none;stroke:#000000;stroke-linecap:square;stroke-linejoin:miter;stroke-width:0.8;\"/>\r\n   </g>\r\n   <g id=\"patch_5\">\r\n    <path d=\"M 68.378125 228.439219 \r\nL 403.178125 228.439219 \r\n\" style=\"fill:none;stroke:#000000;stroke-linecap:square;stroke-linejoin:miter;stroke-width:0.8;\"/>\r\n   </g>\r\n   <g id=\"patch_6\">\r\n    <path d=\"M 68.378125 10.999219 \r\nL 403.178125 10.999219 \r\n\" style=\"fill:none;stroke:#000000;stroke-linecap:square;stroke-linejoin:miter;stroke-width:0.8;\"/>\r\n   </g>\r\n   <g id=\"legend_1\">\r\n    <g id=\"patch_7\">\r\n     <path d=\"M 329.7875 195.136719 \r\nL 396.178125 195.136719 \r\nQ 398.178125 195.136719 398.178125 193.136719 \r\nL 398.178125 17.999219 \r\nQ 398.178125 15.999219 396.178125 15.999219 \r\nL 329.7875 15.999219 \r\nQ 327.7875 15.999219 327.7875 17.999219 \r\nL 327.7875 193.136719 \r\nQ 327.7875 195.136719 329.7875 195.136719 \r\nz\r\n\" style=\"fill:#ffffff;opacity:0.8;stroke:#cccccc;stroke-linejoin:miter;\"/>\r\n    </g>\r\n    <g id=\"line2d_28\">\r\n     <path d=\"M 331.7875 24.097656 \r\nL 351.7875 24.097656 \r\n\" style=\"fill:none;stroke:#ff0000;stroke-linecap:square;stroke-width:1.5;\"/>\r\n    </g>\r\n    <g id=\"line2d_29\"/>\r\n    <g id=\"text_14\">\r\n     <!-- CLN3 -->\r\n     <g transform=\"translate(359.7875 27.597656)scale(0.1 -0.1)\">\r\n      <defs>\r\n       <path d=\"M 64.40625 67.28125 \r\nL 64.40625 56.890625 \r\nQ 59.421875 61.53125 53.78125 63.8125 \r\nQ 48.140625 66.109375 41.796875 66.109375 \r\nQ 29.296875 66.109375 22.65625 58.46875 \r\nQ 16.015625 50.828125 16.015625 36.375 \r\nQ 16.015625 21.96875 22.65625 14.328125 \r\nQ 29.296875 6.6875 41.796875 6.6875 \r\nQ 48.140625 6.6875 53.78125 8.984375 \r\nQ 59.421875 11.28125 64.40625 15.921875 \r\nL 64.40625 5.609375 \r\nQ 59.234375 2.09375 53.4375 0.328125 \r\nQ 47.65625 -1.421875 41.21875 -1.421875 \r\nQ 24.65625 -1.421875 15.125 8.703125 \r\nQ 5.609375 18.84375 5.609375 36.375 \r\nQ 5.609375 53.953125 15.125 64.078125 \r\nQ 24.65625 74.21875 41.21875 74.21875 \r\nQ 47.75 74.21875 53.53125 72.484375 \r\nQ 59.328125 70.75 64.40625 67.28125 \r\nz\r\n\" id=\"DejaVuSans-67\"/>\r\n       <path d=\"M 9.8125 72.90625 \r\nL 19.671875 72.90625 \r\nL 19.671875 8.296875 \r\nL 55.171875 8.296875 \r\nL 55.171875 0 \r\nL 9.8125 0 \r\nz\r\n\" id=\"DejaVuSans-76\"/>\r\n       <path d=\"M 9.8125 72.90625 \r\nL 23.09375 72.90625 \r\nL 55.421875 11.921875 \r\nL 55.421875 72.90625 \r\nL 64.984375 72.90625 \r\nL 64.984375 0 \r\nL 51.703125 0 \r\nL 19.390625 60.984375 \r\nL 19.390625 0 \r\nL 9.8125 0 \r\nz\r\n\" id=\"DejaVuSans-78\"/>\r\n       <path d=\"M 40.578125 39.3125 \r\nQ 47.65625 37.796875 51.625 33 \r\nQ 55.609375 28.21875 55.609375 21.1875 \r\nQ 55.609375 10.40625 48.1875 4.484375 \r\nQ 40.765625 -1.421875 27.09375 -1.421875 \r\nQ 22.515625 -1.421875 17.65625 -0.515625 \r\nQ 12.796875 0.390625 7.625 2.203125 \r\nL 7.625 11.71875 \r\nQ 11.71875 9.328125 16.59375 8.109375 \r\nQ 21.484375 6.890625 26.8125 6.890625 \r\nQ 36.078125 6.890625 40.9375 10.546875 \r\nQ 45.796875 14.203125 45.796875 21.1875 \r\nQ 45.796875 27.640625 41.28125 31.265625 \r\nQ 36.765625 34.90625 28.71875 34.90625 \r\nL 20.21875 34.90625 \r\nL 20.21875 43.015625 \r\nL 29.109375 43.015625 \r\nQ 36.375 43.015625 40.234375 45.921875 \r\nQ 44.09375 48.828125 44.09375 54.296875 \r\nQ 44.09375 59.90625 40.109375 62.90625 \r\nQ 36.140625 65.921875 28.71875 65.921875 \r\nQ 24.65625 65.921875 20.015625 65.03125 \r\nQ 15.375 64.15625 9.8125 62.3125 \r\nL 9.8125 71.09375 \r\nQ 15.4375 72.65625 20.34375 73.4375 \r\nQ 25.25 74.21875 29.59375 74.21875 \r\nQ 40.828125 74.21875 47.359375 69.109375 \r\nQ 53.90625 64.015625 53.90625 55.328125 \r\nQ 53.90625 49.265625 50.4375 45.09375 \r\nQ 46.96875 40.921875 40.578125 39.3125 \r\nz\r\n\" id=\"DejaVuSans-51\"/>\r\n      </defs>\r\n      <use xlink:href=\"#DejaVuSans-67\"/>\r\n      <use x=\"69.824219\" xlink:href=\"#DejaVuSans-76\"/>\r\n      <use x=\"125.537109\" xlink:href=\"#DejaVuSans-78\"/>\r\n      <use x=\"200.341797\" xlink:href=\"#DejaVuSans-51\"/>\r\n     </g>\r\n    </g>\r\n    <g id=\"line2d_30\">\r\n     <path d=\"M 331.7875 38.775781 \r\nL 351.7875 38.775781 \r\n\" style=\"fill:none;stroke:#ff8200;stroke-linecap:square;stroke-width:1.5;\"/>\r\n    </g>\r\n    <g id=\"line2d_31\"/>\r\n    <g id=\"text_15\">\r\n     <!-- SWI5 -->\r\n     <g transform=\"translate(359.7875 42.275781)scale(0.1 -0.1)\">\r\n      <defs>\r\n       <path d=\"M 53.515625 70.515625 \r\nL 53.515625 60.890625 \r\nQ 47.90625 63.578125 42.921875 64.890625 \r\nQ 37.9375 66.21875 33.296875 66.21875 \r\nQ 25.25 66.21875 20.875 63.09375 \r\nQ 16.5 59.96875 16.5 54.203125 \r\nQ 16.5 49.359375 19.40625 46.890625 \r\nQ 22.3125 44.4375 30.421875 42.921875 \r\nL 36.375 41.703125 \r\nQ 47.40625 39.59375 52.65625 34.296875 \r\nQ 57.90625 29 57.90625 20.125 \r\nQ 57.90625 9.515625 50.796875 4.046875 \r\nQ 43.703125 -1.421875 29.984375 -1.421875 \r\nQ 24.8125 -1.421875 18.96875 -0.25 \r\nQ 13.140625 0.921875 6.890625 3.21875 \r\nL 6.890625 13.375 \r\nQ 12.890625 10.015625 18.65625 8.296875 \r\nQ 24.421875 6.59375 29.984375 6.59375 \r\nQ 38.421875 6.59375 43.015625 9.90625 \r\nQ 47.609375 13.234375 47.609375 19.390625 \r\nQ 47.609375 24.75 44.3125 27.78125 \r\nQ 41.015625 30.8125 33.5 32.328125 \r\nL 27.484375 33.5 \r\nQ 16.453125 35.6875 11.515625 40.375 \r\nQ 6.59375 45.0625 6.59375 53.421875 \r\nQ 6.59375 63.09375 13.40625 68.65625 \r\nQ 20.21875 74.21875 32.171875 74.21875 \r\nQ 37.3125 74.21875 42.625 73.28125 \r\nQ 47.953125 72.359375 53.515625 70.515625 \r\nz\r\n\" id=\"DejaVuSans-83\"/>\r\n       <path d=\"M 3.328125 72.90625 \r\nL 13.28125 72.90625 \r\nL 28.609375 11.28125 \r\nL 43.890625 72.90625 \r\nL 54.984375 72.90625 \r\nL 70.3125 11.28125 \r\nL 85.59375 72.90625 \r\nL 95.609375 72.90625 \r\nL 77.296875 0 \r\nL 64.890625 0 \r\nL 49.515625 63.28125 \r\nL 33.984375 0 \r\nL 21.578125 0 \r\nz\r\n\" id=\"DejaVuSans-87\"/>\r\n       <path d=\"M 9.8125 72.90625 \r\nL 19.671875 72.90625 \r\nL 19.671875 0 \r\nL 9.8125 0 \r\nz\r\n\" id=\"DejaVuSans-73\"/>\r\n      </defs>\r\n      <use xlink:href=\"#DejaVuSans-83\"/>\r\n      <use x=\"63.476562\" xlink:href=\"#DejaVuSans-87\"/>\r\n      <use x=\"162.353516\" xlink:href=\"#DejaVuSans-73\"/>\r\n      <use x=\"191.845703\" xlink:href=\"#DejaVuSans-53\"/>\r\n     </g>\r\n    </g>\r\n    <g id=\"line2d_32\">\r\n     <path d=\"M 331.7875 53.453906 \r\nL 351.7875 53.453906 \r\n\" style=\"fill:none;stroke:#f4ff00;stroke-linecap:square;stroke-width:1.5;\"/>\r\n    </g>\r\n    <g id=\"line2d_33\"/>\r\n    <g id=\"text_16\">\r\n     <!-- CLN1 -->\r\n     <g transform=\"translate(359.7875 56.953906)scale(0.1 -0.1)\">\r\n      <use xlink:href=\"#DejaVuSans-67\"/>\r\n      <use x=\"69.824219\" xlink:href=\"#DejaVuSans-76\"/>\r\n      <use x=\"125.537109\" xlink:href=\"#DejaVuSans-78\"/>\r\n      <use x=\"200.341797\" xlink:href=\"#DejaVuSans-49\"/>\r\n     </g>\r\n    </g>\r\n    <g id=\"line2d_34\">\r\n     <path d=\"M 331.7875 68.132031 \r\nL 351.7875 68.132031 \r\n\" style=\"fill:none;stroke:#6cff00;stroke-linecap:square;stroke-width:1.5;\"/>\r\n    </g>\r\n    <g id=\"line2d_35\"/>\r\n    <g id=\"text_17\">\r\n     <!-- CLN2 -->\r\n     <g transform=\"translate(359.7875 71.632031)scale(0.1 -0.1)\">\r\n      <use xlink:href=\"#DejaVuSans-67\"/>\r\n      <use x=\"69.824219\" xlink:href=\"#DejaVuSans-76\"/>\r\n      <use x=\"125.537109\" xlink:href=\"#DejaVuSans-78\"/>\r\n      <use x=\"200.341797\" xlink:href=\"#DejaVuSans-50\"/>\r\n     </g>\r\n    </g>\r\n    <g id=\"line2d_36\">\r\n     <path d=\"M 331.7875 82.810156 \r\nL 351.7875 82.810156 \r\n\" style=\"fill:none;stroke:#00ff1b;stroke-linecap:square;stroke-width:1.5;\"/>\r\n    </g>\r\n    <g id=\"line2d_37\"/>\r\n    <g id=\"text_18\">\r\n     <!-- CDH1 -->\r\n     <g transform=\"translate(359.7875 86.310156)scale(0.1 -0.1)\">\r\n      <defs>\r\n       <path d=\"M 19.671875 64.796875 \r\nL 19.671875 8.109375 \r\nL 31.59375 8.109375 \r\nQ 46.6875 8.109375 53.6875 14.9375 \r\nQ 60.6875 21.78125 60.6875 36.53125 \r\nQ 60.6875 51.171875 53.6875 57.984375 \r\nQ 46.6875 64.796875 31.59375 64.796875 \r\nz\r\nM 9.8125 72.90625 \r\nL 30.078125 72.90625 \r\nQ 51.265625 72.90625 61.171875 64.09375 \r\nQ 71.09375 55.28125 71.09375 36.53125 \r\nQ 71.09375 17.671875 61.125 8.828125 \r\nQ 51.171875 0 30.078125 0 \r\nL 9.8125 0 \r\nz\r\n\" id=\"DejaVuSans-68\"/>\r\n       <path d=\"M 9.8125 72.90625 \r\nL 19.671875 72.90625 \r\nL 19.671875 43.015625 \r\nL 55.515625 43.015625 \r\nL 55.515625 72.90625 \r\nL 65.375 72.90625 \r\nL 65.375 0 \r\nL 55.515625 0 \r\nL 55.515625 34.71875 \r\nL 19.671875 34.71875 \r\nL 19.671875 0 \r\nL 9.8125 0 \r\nz\r\n\" id=\"DejaVuSans-72\"/>\r\n      </defs>\r\n      <use xlink:href=\"#DejaVuSans-67\"/>\r\n      <use x=\"69.824219\" xlink:href=\"#DejaVuSans-68\"/>\r\n      <use x=\"146.826172\" xlink:href=\"#DejaVuSans-72\"/>\r\n      <use x=\"222.021484\" xlink:href=\"#DejaVuSans-49\"/>\r\n     </g>\r\n    </g>\r\n    <g id=\"line2d_38\">\r\n     <path d=\"M 331.7875 97.488281 \r\nL 351.7875 97.488281 \r\n\" style=\"fill:none;stroke:#00ffa3;stroke-linecap:square;stroke-width:1.5;\"/>\r\n    </g>\r\n    <g id=\"line2d_39\"/>\r\n    <g id=\"text_19\">\r\n     <!-- CDC20 -->\r\n     <g transform=\"translate(359.7875 100.988281)scale(0.1 -0.1)\">\r\n      <use xlink:href=\"#DejaVuSans-67\"/>\r\n      <use x=\"69.824219\" xlink:href=\"#DejaVuSans-68\"/>\r\n      <use x=\"146.826172\" xlink:href=\"#DejaVuSans-67\"/>\r\n      <use x=\"216.650391\" xlink:href=\"#DejaVuSans-50\"/>\r\n      <use x=\"280.273438\" xlink:href=\"#DejaVuSans-48\"/>\r\n     </g>\r\n    </g>\r\n    <g id=\"line2d_40\">\r\n     <path d=\"M 331.7875 112.166406 \r\nL 351.7875 112.166406 \r\n\" style=\"fill:none;stroke:#00d9ff;stroke-linecap:square;stroke-width:1.5;\"/>\r\n    </g>\r\n    <g id=\"line2d_41\"/>\r\n    <g id=\"text_20\">\r\n     <!-- CLB5 -->\r\n     <g transform=\"translate(359.7875 115.666406)scale(0.1 -0.1)\">\r\n      <defs>\r\n       <path d=\"M 19.671875 34.8125 \r\nL 19.671875 8.109375 \r\nL 35.5 8.109375 \r\nQ 43.453125 8.109375 47.28125 11.40625 \r\nQ 51.125 14.703125 51.125 21.484375 \r\nQ 51.125 28.328125 47.28125 31.5625 \r\nQ 43.453125 34.8125 35.5 34.8125 \r\nz\r\nM 19.671875 64.796875 \r\nL 19.671875 42.828125 \r\nL 34.28125 42.828125 \r\nQ 41.5 42.828125 45.03125 45.53125 \r\nQ 48.578125 48.25 48.578125 53.8125 \r\nQ 48.578125 59.328125 45.03125 62.0625 \r\nQ 41.5 64.796875 34.28125 64.796875 \r\nz\r\nM 9.8125 72.90625 \r\nL 35.015625 72.90625 \r\nQ 46.296875 72.90625 52.390625 68.21875 \r\nQ 58.5 63.53125 58.5 54.890625 \r\nQ 58.5 48.1875 55.375 44.234375 \r\nQ 52.25 40.28125 46.1875 39.3125 \r\nQ 53.46875 37.75 57.5 32.78125 \r\nQ 61.53125 27.828125 61.53125 20.40625 \r\nQ 61.53125 10.640625 54.890625 5.3125 \r\nQ 48.25 0 35.984375 0 \r\nL 9.8125 0 \r\nz\r\n\" id=\"DejaVuSans-66\"/>\r\n      </defs>\r\n      <use xlink:href=\"#DejaVuSans-67\"/>\r\n      <use x=\"69.824219\" xlink:href=\"#DejaVuSans-76\"/>\r\n      <use x=\"125.537109\" xlink:href=\"#DejaVuSans-66\"/>\r\n      <use x=\"194.140625\" xlink:href=\"#DejaVuSans-53\"/>\r\n     </g>\r\n    </g>\r\n    <g id=\"line2d_42\">\r\n     <path d=\"M 331.7875 126.844531 \r\nL 351.7875 126.844531 \r\n\" style=\"fill:none;stroke:#0051ff;stroke-linecap:square;stroke-width:1.5;\"/>\r\n    </g>\r\n    <g id=\"line2d_43\"/>\r\n    <g id=\"text_21\">\r\n     <!-- CLB6 -->\r\n     <g transform=\"translate(359.7875 130.344531)scale(0.1 -0.1)\">\r\n      <use xlink:href=\"#DejaVuSans-67\"/>\r\n      <use x=\"69.824219\" xlink:href=\"#DejaVuSans-76\"/>\r\n      <use x=\"125.537109\" xlink:href=\"#DejaVuSans-66\"/>\r\n      <use x=\"194.140625\" xlink:href=\"#DejaVuSans-54\"/>\r\n     </g>\r\n    </g>\r\n    <g id=\"line2d_44\">\r\n     <path d=\"M 331.7875 141.522656 \r\nL 351.7875 141.522656 \r\n\" style=\"fill:none;stroke:#3700ff;stroke-linecap:square;stroke-width:1.5;\"/>\r\n    </g>\r\n    <g id=\"line2d_45\"/>\r\n    <g id=\"text_22\">\r\n     <!-- SIC1 -->\r\n     <g transform=\"translate(359.7875 145.022656)scale(0.1 -0.1)\">\r\n      <use xlink:href=\"#DejaVuSans-83\"/>\r\n      <use x=\"63.476562\" xlink:href=\"#DejaVuSans-73\"/>\r\n      <use x=\"92.96875\" xlink:href=\"#DejaVuSans-67\"/>\r\n      <use x=\"162.792969\" xlink:href=\"#DejaVuSans-49\"/>\r\n     </g>\r\n    </g>\r\n    <g id=\"line2d_46\">\r\n     <path d=\"M 331.7875 156.200781 \r\nL 351.7875 156.200781 \r\n\" style=\"fill:none;stroke:#bf00ff;stroke-linecap:square;stroke-width:1.5;\"/>\r\n    </g>\r\n    <g id=\"line2d_47\"/>\r\n    <g id=\"text_23\">\r\n     <!-- CLB1 -->\r\n     <g transform=\"translate(359.7875 159.700781)scale(0.1 -0.1)\">\r\n      <use xlink:href=\"#DejaVuSans-67\"/>\r\n      <use x=\"69.824219\" xlink:href=\"#DejaVuSans-76\"/>\r\n      <use x=\"125.537109\" xlink:href=\"#DejaVuSans-66\"/>\r\n      <use x=\"194.140625\" xlink:href=\"#DejaVuSans-49\"/>\r\n     </g>\r\n    </g>\r\n    <g id=\"line2d_48\">\r\n     <path d=\"M 331.7875 170.878906 \r\nL 351.7875 170.878906 \r\n\" style=\"fill:none;stroke:#ff00b7;stroke-linecap:square;stroke-width:1.5;\"/>\r\n    </g>\r\n    <g id=\"line2d_49\"/>\r\n    <g id=\"text_24\">\r\n     <!-- CLB2 -->\r\n     <g transform=\"translate(359.7875 174.378906)scale(0.1 -0.1)\">\r\n      <use xlink:href=\"#DejaVuSans-67\"/>\r\n      <use x=\"69.824219\" xlink:href=\"#DejaVuSans-76\"/>\r\n      <use x=\"125.537109\" xlink:href=\"#DejaVuSans-66\"/>\r\n      <use x=\"194.140625\" xlink:href=\"#DejaVuSans-50\"/>\r\n     </g>\r\n    </g>\r\n    <g id=\"line2d_50\">\r\n     <path d=\"M 331.7875 185.557031 \r\nL 351.7875 185.557031 \r\n\" style=\"fill:none;stroke:#ff0035;stroke-linecap:square;stroke-width:1.5;\"/>\r\n    </g>\r\n    <g id=\"line2d_51\"/>\r\n    <g id=\"text_25\">\r\n     <!-- MCM1 -->\r\n     <g transform=\"translate(359.7875 189.057031)scale(0.1 -0.1)\">\r\n      <defs>\r\n       <path d=\"M 9.8125 72.90625 \r\nL 24.515625 72.90625 \r\nL 43.109375 23.296875 \r\nL 61.8125 72.90625 \r\nL 76.515625 72.90625 \r\nL 76.515625 0 \r\nL 66.890625 0 \r\nL 66.890625 64.015625 \r\nL 48.09375 14.015625 \r\nL 38.1875 14.015625 \r\nL 19.390625 64.015625 \r\nL 19.390625 0 \r\nL 9.8125 0 \r\nz\r\n\" id=\"DejaVuSans-77\"/>\r\n      </defs>\r\n      <use xlink:href=\"#DejaVuSans-77\"/>\r\n      <use x=\"86.279297\" xlink:href=\"#DejaVuSans-67\"/>\r\n      <use x=\"156.103516\" xlink:href=\"#DejaVuSans-77\"/>\r\n      <use x=\"242.382812\" xlink:href=\"#DejaVuSans-49\"/>\r\n     </g>\r\n    </g>\r\n   </g>\r\n  </g>\r\n </g>\r\n <defs>\r\n  <clipPath id=\"pb6165cfcca\">\r\n   <rect height=\"217.44\" width=\"334.8\" x=\"68.378125\" y=\"10.999219\"/>\r\n  </clipPath>\r\n </defs>\r\n</svg>\r\n",
      "image/png": "[encoded data removed]"
     },
     "metadata": {
      "needs_background": "light"
     }
    }
   ],
   "source": [
    "m.visualize(lst)"
   ]
  },
  {
   "cell_type": "code",
   "execution_count": 48,
   "metadata": {},
   "outputs": [
    {
     "data": {
      "image/png": "[encoded data removed]",
      "text/plain": [
       "<Figure size 1080x360 with 1 Axes>"
      ]
     },
     "metadata": {
      "needs_background": "light"
     },
     "output_type": "display_data"
    }
   ],
   "source": [
    "import math\n",
    "import matplotlib.pyplot as plt\n",
    "\n",
    "data = [item[0] for item in rank5]\n",
    "data_neg = []\n",
    "data_pos = []\n",
    "for score in data:\n",
    "    if score > 0:\n",
    "        data_pos.append(score)\n",
    "    if score < 0:\n",
    "        data_neg.append(abs(score))\n",
    "\n",
    "plt.figure(figsize=(15,5))\n",
    "hist, bins = np.histogram(data_pos+data_neg, bins=100)\n",
    "logbins = np.logspace(np.log10(bins[0]),np.log10(bins[-1]),len(bins))\n",
    "plt.hist(data_pos, bins=logbins, alpha=0.8)\n",
    "plt.hist(data_neg, bins=logbins, alpha=0.6)\n",
    "plt.legend([\"positive feedback\", \"negative feedback\"])\n",
    "plt.yscale('log')\n",
    "plt.xscale('log')\n",
    "plt.title(\"Histogram of the scores of feedback loops affecting node SWI5 \\n(with cutoff length of 5)\")\n",
    "plt.savefig(\"hitogram.png\", dpi=300)\n",
    "plt.show()"
   ]
  },
  {
   "cell_type": "code",
   "execution_count": null,
   "metadata": {},
   "outputs": [],
   "source": []
  }
 ],
 "metadata": {
  "kernelspec": {
   "display_name": "Python 3",
   "language": "python",
   "name": "python3"
  },
  "language_info": {
   "codemirror_mode": {
    "name": "ipython",
    "version": 3
   },
   "file_extension": ".py",
   "mimetype": "text/x-python",
   "name": "python",
   "nbconvert_exporter": "python",
   "pygments_lexer": "ipython3",
   "version": "3.7.6"
  }
 },
 "nbformat": 4,
 "nbformat_minor": 2
}
