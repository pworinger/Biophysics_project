{
 "cells": [
  {
   "cell_type": "code",
   "execution_count": null,
   "metadata": {},
   "outputs": [],
   "source": [
    "import math\n",
    "import numpy as np\n",
    "import matplotlib.pyplot as plt\n",
    "import pickle"
   ]
  },
  {
   "cell_type": "code",
   "execution_count": null,
   "metadata": {},
   "outputs": [],
   "source": [
    "from Model import model"
   ]
  },
  {
   "cell_type": "code",
   "execution_count": null,
   "metadata": {},
   "outputs": [],
   "source": [
    "m = Model()\n",
    "genes_12 = ['CLN3', 'SWI5', 'CLN1', 'CLN2', 'CDH1',  'CDC20', 'CLB5', 'CLB6', 'SIC1', 'CLB1', 'CLB2', 'MCM1']"
   ]
  },
  {
   "cell_type": "markdown",
   "metadata": {},
   "source": [
    "## Extracting subnetwork based on modularity"
   ]
  },
  {
   "cell_type": "code",
   "execution_count": null,
   "metadata": {},
   "outputs": [],
   "source": [
    "from subnetwork_modularity import grow_subnetwork\n",
    "\n",
    "subnetwork_nodes, modularity = grow_subnetwork(m.graph, genes_12)\n",
    "print(\"number of nodes in subnetwork: \", len(list(subnetwork_nodes)))\n",
    "print(\"modularity: \", modularity)\n",
    "\n",
    "with open('subnetwork_nodes.pkl', 'wb') as f:\n",
    "    pickle.dump(subnetwork_nodes, f)"
   ]
  },
  {
   "cell_type": "markdown",
   "metadata": {},
   "source": [
    "## Studying feedback loop"
   ]
  },
  {
   "cell_type": "code",
   "execution_count": null,
   "metadata": {},
   "outputs": [],
   "source": [
    "cycles = []\n",
    "for gene in (m.graph).predecessors(\"SWI5\"):\n",
    "    cycles.append(list(nx.all_simple_paths(m.graph, source=\"SWI5\", target=gene, cutoff=5)))\n",
    "\n",
    "with open('cycles.pkl', 'wb') as f:\n",
    "    pickle.dump(cycles, f)"
   ]
  },
  {
   "cell_type": "code",
   "execution_count": null,
   "metadata": {},
   "outputs": [],
   "source": [
    "def rank_cycles(loops):\n",
    "    flat_list = [item for sublist in loops for item in sublist]\n",
    "    scores = []\n",
    "    normalization = np.mean(list(nx.get_edge_attributes(m.graph, \"alpha\").values()))\n",
    "    for idx, sublist in enumerate(flat_list):\n",
    "        # score measures the strength of the loop\n",
    "        score = 1\n",
    "        previous = sublist[-1]\n",
    "        for node in sublist:\n",
    "            score = score * m.graph.get_edge_data(previous, node, default = 0)['alpha'] / normalization\n",
    "            previous = node\n",
    "        scores.append([score, idx])\n",
    "    scores.sort(reverse=True, key= lambda x: abs(x[0]))\n",
    "    return scores"
   ]
  },
  {
   "cell_type": "code",
   "execution_count": null,
   "metadata": {},
   "outputs": [],
   "source": [
    "rank = rank_cycles(cycles)\n",
    "flat_list = [item for sublist in cycles for item in sublist]\n",
    "for i in rank[0:30]:\n",
    "    print(flat_list[i[1]])"
   ]
  },
  {
   "cell_type": "code",
   "execution_count": null,
   "metadata": {},
   "outputs": [],
   "source": [
    "data = [item[0] for item in rank5]\n",
    "data_neg = []\n",
    "data_pos = []\n",
    "for score in data:\n",
    "    if score > 0:\n",
    "        data_pos.append(score)\n",
    "    if score < 0:\n",
    "        data_neg.append(abs(score))\n",
    "\n",
    "plt.figure(figsize=(15,5))\n",
    "hist, bins = np.histogram(data_pos+data_neg, bins=100)\n",
    "logbins = np.logspace(np.log10(bins[0]),np.log10(bins[-1]),len(bins))\n",
    "plt.hist(data_pos, bins=logbins, alpha=0.8)\n",
    "plt.hist(data_neg, bins=logbins, alpha=0.6)\n",
    "plt.legend([\"positive feedback\", \"negative feedback\"])\n",
    "plt.yscale('log')\n",
    "plt.xscale('log')\n",
    "plt.xlabel(\"|gamma| [$minute^{-1}$]\")\n",
    "plt.ylabel(\"number of occurences\")\n",
    "plt.title(\"Histogram of the scores of feedback loops affecting node SWI5 \\n(with cutoff length of 6)\")\n",
    "plt.savefig(\"histogram.png\", dpi=300)\n",
    "plt.show()"
   ]
  },
  {
   "cell_type": "markdown",
   "metadata": {},
   "source": [
    "## Create image of the network"
   ]
  },
  {
   "cell_type": "code",
   "execution_count": null,
   "metadata": {},
   "outputs": [],
   "source": [
    "nodes = [\"SWI5\", \"PRP9\", \"CTR1\", \"REE1\", \"PCL5\", \"FRE1\"]\n",
    "m = Model(nodes_subgraph=nodes)\n",
    "\n",
    "m.draw(\"network\")"
   ]
  },
  {
   "cell_type": "markdown",
   "metadata": {},
   "source": [
    "## Visualize evolution of the system"
   ]
  },
  {
   "cell_type": "code",
   "execution_count": null,
   "metadata": {},
   "outputs": [],
   "source": [
    "m = Model()\n",
    "\n",
    "lst_index_12_genes = [m.graph.node[element]['index'] for element in genes_12]\n",
    "lst_index_12_genes\n",
    "\n",
    "m.cycle(dt= 1, perturbed_gene=\"SWI5\", track = lst_index, num_step = int(1e4))"
   ]
  },
  {
   "cell_type": "code",
   "execution_count": null,
   "metadata": {},
   "outputs": [],
   "source": [
    "m.visualize(legends=genes_12)"
   ]
  },
  {
   "cell_type": "code",
   "execution_count": null,
   "metadata": {},
   "outputs": [],
   "source": [
    "m.visualize_double_log(legends=genes_12)"
   ]
  }
 ],
 "metadata": {
  "kernelspec": {
   "display_name": "Python 3",
   "language": "python",
   "name": "python3"
  },
  "language_info": {
   "codemirror_mode": {
    "name": "ipython",
    "version": 3
   },
   "file_extension": ".py",
   "mimetype": "text/x-python",
   "name": "python",
   "nbconvert_exporter": "python",
   "pygments_lexer": "ipython3",
   "version": "3.7.6"
  }
 },
 "nbformat": 4,
 "nbformat_minor": 2
}
